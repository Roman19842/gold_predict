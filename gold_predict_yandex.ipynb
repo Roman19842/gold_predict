{
 "cells": [
  {
   "cell_type": "markdown",
   "id": "eae7fccb",
   "metadata": {
    "toc": true
   },
   "source": [
    "<h1>Table of Contents<span class=\"tocSkip\"></span></h1>\n",
    "<div class=\"toc\"><ul class=\"toc-item\"><li><span><a href=\"#Подготовим-данные\" data-toc-modified-id=\"Подготовим-данные-1\"><span class=\"toc-item-num\">1&nbsp;&nbsp;</span>Подготовим данные</a></span><ul class=\"toc-item\"><li><span><a href=\"#Откройте-файлы-и-изучим-их\" data-toc-modified-id=\"Откройте-файлы-и-изучим-их-1.1\"><span class=\"toc-item-num\">1.1&nbsp;&nbsp;</span>Откройте файлы и изучим их</a></span></li><li><span><a href=\"#Проверим,-что-эффективность-обогащения-рассчитана-правильно.-Вычислите-её-на-обучающей-выборке-для-признака-rougher.output.recovery.-Найдём-MAE-между-вашими-расчётами-и-значением-признака.-Опишим-выводы.\" data-toc-modified-id=\"Проверим,-что-эффективность-обогащения-рассчитана-правильно.-Вычислите-её-на-обучающей-выборке-для-признака-rougher.output.recovery.-Найдём-MAE-между-вашими-расчётами-и-значением-признака.-Опишим-выводы.-1.2\"><span class=\"toc-item-num\">1.2&nbsp;&nbsp;</span>Проверим, что эффективность обогащения рассчитана правильно. Вычислите её на обучающей выборке для признака rougher.output.recovery. Найдём MAE между вашими расчётами и значением признака. Опишим выводы.</a></span></li><li><span><a href=\"#Проанализируем-признаки,-недоступные-в-тестовой-выборке.-Что-это-за-параметры?-К-какому-типу-относятся?\" data-toc-modified-id=\"Проанализируем-признаки,-недоступные-в-тестовой-выборке.-Что-это-за-параметры?-К-какому-типу-относятся?-1.3\"><span class=\"toc-item-num\">1.3&nbsp;&nbsp;</span>Проанализируем признаки, недоступные в тестовой выборке. Что это за параметры? К какому типу относятся?</a></span></li><li><span><a href=\"#Проведём-предобработку-данных.\" data-toc-modified-id=\"Проведём-предобработку-данных.-1.4\"><span class=\"toc-item-num\">1.4&nbsp;&nbsp;</span>Проведём предобработку данных.</a></span></li></ul></li><li><span><a href=\"#Проанализируем-данные\" data-toc-modified-id=\"Проанализируем-данные-2\"><span class=\"toc-item-num\">2&nbsp;&nbsp;</span>Проанализируем данные</a></span><ul class=\"toc-item\"><li><span><a href=\"#Посмотрим,-как-меняется-концентрация-металлов-(Au,-Ag,-Pb)-на-различных-этапах-очистки.-Опишим-выводы.\" data-toc-modified-id=\"Посмотрим,-как-меняется-концентрация-металлов-(Au,-Ag,-Pb)-на-различных-этапах-очистки.-Опишим-выводы.-2.1\"><span class=\"toc-item-num\">2.1&nbsp;&nbsp;</span>Посмотрим, как меняется концентрация металлов (Au, Ag, Pb) на различных этапах очистки. Опишим выводы.</a></span><ul class=\"toc-item\"><li><span><a href=\"#Вывод.\" data-toc-modified-id=\"Вывод.-2.1.1\"><span class=\"toc-item-num\">2.1.1&nbsp;&nbsp;</span>Вывод.</a></span></li></ul></li><li><span><a href=\"#Сравните-распределения-размеров-гранул-сырья-на-обучающей-и-тестовой-выборках.-Если-распределения-сильно-отличаются-друг-от-друга,-оценка-модели-будет-неправильной.\" data-toc-modified-id=\"Сравните-распределения-размеров-гранул-сырья-на-обучающей-и-тестовой-выборках.-Если-распределения-сильно-отличаются-друг-от-друга,-оценка-модели-будет-неправильной.-2.2\"><span class=\"toc-item-num\">2.2&nbsp;&nbsp;</span>Сравните распределения размеров гранул сырья на обучающей и тестовой выборках. Если распределения сильно отличаются друг от друга, оценка модели будет неправильной.</a></span></li><li><span><a href=\"#Исследуйте-суммарную-концентрацию-всех-веществ-на-разных-стадиях:-в-сырье,-в-черновом-и-финальном-концентратах.\" data-toc-modified-id=\"Исследуйте-суммарную-концентрацию-всех-веществ-на-разных-стадиях:-в-сырье,-в-черновом-и-финальном-концентратах.-2.3\"><span class=\"toc-item-num\">2.3&nbsp;&nbsp;</span>Исследуйте суммарную концентрацию всех веществ на разных стадиях: в сырье, в черновом и финальном концентратах.</a></span><ul class=\"toc-item\"><li><span><a href=\"#Строим-гистограммы-сумарных-концетраций-веществ\" data-toc-modified-id=\"Строим-гистограммы-сумарных-концетраций-веществ-2.3.1\"><span class=\"toc-item-num\">2.3.1&nbsp;&nbsp;</span>Строим гистограммы сумарных концетраций веществ</a></span></li><li><span><a href=\"#Вывод\" data-toc-modified-id=\"Вывод-2.3.2\"><span class=\"toc-item-num\">2.3.2&nbsp;&nbsp;</span>Вывод</a></span></li><li><span><a href=\"#Изабився-от-нулей\" data-toc-modified-id=\"Изабився-от-нулей-2.3.3\"><span class=\"toc-item-num\">2.3.3&nbsp;&nbsp;</span>Изабився от нулей</a></span></li></ul></li></ul></li><li><span><a href=\"#Построим-модель\" data-toc-modified-id=\"Построим-модель-3\"><span class=\"toc-item-num\">3&nbsp;&nbsp;</span>Построим модель</a></span><ul class=\"toc-item\"><li><span><a href=\"#Обучим-разные-модели-и-оцените-их-качество-кросс-валидацией.-Выберим-лучшую-модель-и-проверим-её-на-тестовой-выборке.-Опишите-выводы\" data-toc-modified-id=\"Обучим-разные-модели-и-оцените-их-качество-кросс-валидацией.-Выберим-лучшую-модель-и-проверим-её-на-тестовой-выборке.-Опишите-выводы-3.1\"><span class=\"toc-item-num\">3.1&nbsp;&nbsp;</span>Обучим разные модели и оцените их качество кросс-валидацией. Выберим лучшую модель и проверим её на тестовой выборке. Опишите выводы</a></span><ul class=\"toc-item\"><li><span><a href=\"#Модель-регрессия.\" data-toc-modified-id=\"Модель-регрессия.-3.1.1\"><span class=\"toc-item-num\">3.1.1&nbsp;&nbsp;</span>Модель регрессия.</a></span></li><li><span><a href=\"#Посмотри-какое-качество-модели-будет-для--RandomForestRegressor.-В-ней-будем-в-цикле-перебирать-гиперпараметры-max_dept-и-n_estimator.\" data-toc-modified-id=\"Посмотри-какое-качество-модели-будет-для--RandomForestRegressor.-В-ней-будем-в-цикле-перебирать-гиперпараметры-max_dept-и-n_estimator.-3.1.2\"><span class=\"toc-item-num\">3.1.2&nbsp;&nbsp;</span>Посмотри какое качество модели будет для  <code>RandomForestRegressor</code>. В ней будем в цикле перебирать гиперпараметры <code>max_dept</code> и <code>n_estimator</code>.</a></span></li><li><span><a href=\"#CatBoostRegressor\" data-toc-modified-id=\"CatBoostRegressor-3.1.3\"><span class=\"toc-item-num\">3.1.3&nbsp;&nbsp;</span>CatBoostRegressor</a></span></li></ul></li></ul></li><li><span><a href=\"#Итоговый-вывод\" data-toc-modified-id=\"Итоговый-вывод-4\"><span class=\"toc-item-num\">4&nbsp;&nbsp;</span>Итоговый вывод</a></span></li></ul></div>"
   ]
  },
  {
   "cell_type": "code",
   "execution_count": null,
   "id": "d585f1cf",
   "metadata": {},
   "outputs": [],
   "source": []
  },
  {
   "cell_type": "markdown",
   "id": "d0d16ed7",
   "metadata": {},
   "source": [
    "# Задача"
   ]
  },
  {
   "cell_type": "markdown",
   "id": "1ca872dd",
   "metadata": {},
   "source": [
    "**Подготовить прототип модели машинного обучения для «Цифры». Компания разрабатывает решения для эффективной работы промышленных предприятий.\n",
    "Модель должна предсказать коэффициент восстановления золота из золотосодержащей руды. В нашем распоряжении данные с параметрами добычи и очистки.\n",
    "Модель поможет оптимизировать производство, чтобы не запускать предприятие с убыточными характеристиками.**"
   ]
  },
  {
   "cell_type": "markdown",
   "id": "fbf0ff93",
   "metadata": {},
   "source": [
    "## Подготовим данные"
   ]
  },
  {
   "cell_type": "markdown",
   "id": "513adbdf",
   "metadata": {},
   "source": [
    "### Откройте файлы и изучим их"
   ]
  },
  {
   "cell_type": "code",
   "execution_count": 1,
   "id": "0225d78a",
   "metadata": {},
   "outputs": [],
   "source": [
    "import pandas as pd\n",
    "import matplotlib.pyplot as plt\n",
    "import seaborn as sns\n",
    "from sklearn.linear_model import LinearRegression\n",
    "from sklearn.ensemble import RandomForestRegressor\n",
    "from sklearn.model_selection import cross_val_score\n",
    "from sklearn.preprocessing import StandardScaler\n",
    "from sklearn.dummy import DummyRegressor\n",
    "from sklearn.metrics import make_scorer\n",
    "import catboost as cb\n",
    "from IPython.display import Image\n",
    "from IPython.core.display import HTML"
   ]
  },
  {
   "cell_type": "code",
   "execution_count": 15,
   "id": "2f607d18",
   "metadata": {},
   "outputs": [
    {
     "data": {
      "text/html": [
       "<img src=\"https://чукотка.рф/ekonomika/otrasli/zolotodobicha/zolotodobicha.jpg\" width=\"700\"/>"
      ],
      "text/plain": [
       "<IPython.core.display.Image object>"
      ]
     },
     "execution_count": 15,
     "metadata": {},
     "output_type": "execute_result"
    }
   ],
   "source": [
    "Image(url='https://чукотка.рф/ekonomika/otrasli/zolotodobicha/zolotodobicha.jpg',width=700)"
   ]
  },
  {
   "cell_type": "code",
   "execution_count": 2,
   "id": "457ea8a9",
   "metadata": {},
   "outputs": [],
   "source": [
    "train_df = pd.read_csv('gold_recovery_train_new.csv')#/datasets/gold_recovery_train_new.csv."
   ]
  },
  {
   "cell_type": "code",
   "execution_count": 3,
   "id": "501aa55b",
   "metadata": {},
   "outputs": [
    {
     "data": {
      "text/plain": [
       "(14149, 87)"
      ]
     },
     "execution_count": 3,
     "metadata": {},
     "output_type": "execute_result"
    }
   ],
   "source": [
    "train_df.shape"
   ]
  },
  {
   "cell_type": "code",
   "execution_count": 4,
   "id": "0365bf9b",
   "metadata": {},
   "outputs": [
    {
     "name": "stdout",
     "output_type": "stream",
     "text": [
      "<class 'pandas.core.frame.DataFrame'>\n",
      "RangeIndex: 14149 entries, 0 to 14148\n",
      "Data columns (total 87 columns):\n",
      " #   Column                                              Non-Null Count  Dtype  \n",
      "---  ------                                              --------------  -----  \n",
      " 0   date                                                14149 non-null  object \n",
      " 1   final.output.concentrate_ag                         14148 non-null  float64\n",
      " 2   final.output.concentrate_pb                         14148 non-null  float64\n",
      " 3   final.output.concentrate_sol                        13938 non-null  float64\n",
      " 4   final.output.concentrate_au                         14149 non-null  float64\n",
      " 5   final.output.recovery                               14149 non-null  float64\n",
      " 6   final.output.tail_ag                                14149 non-null  float64\n",
      " 7   final.output.tail_pb                                14049 non-null  float64\n",
      " 8   final.output.tail_sol                               14144 non-null  float64\n",
      " 9   final.output.tail_au                                14149 non-null  float64\n",
      " 10  primary_cleaner.input.sulfate                       14129 non-null  float64\n",
      " 11  primary_cleaner.input.depressant                    14117 non-null  float64\n",
      " 12  primary_cleaner.input.feed_size                     14149 non-null  float64\n",
      " 13  primary_cleaner.input.xanthate                      14049 non-null  float64\n",
      " 14  primary_cleaner.output.concentrate_ag               14149 non-null  float64\n",
      " 15  primary_cleaner.output.concentrate_pb               14063 non-null  float64\n",
      " 16  primary_cleaner.output.concentrate_sol              13863 non-null  float64\n",
      " 17  primary_cleaner.output.concentrate_au               14149 non-null  float64\n",
      " 18  primary_cleaner.output.tail_ag                      14148 non-null  float64\n",
      " 19  primary_cleaner.output.tail_pb                      14134 non-null  float64\n",
      " 20  primary_cleaner.output.tail_sol                     14103 non-null  float64\n",
      " 21  primary_cleaner.output.tail_au                      14149 non-null  float64\n",
      " 22  primary_cleaner.state.floatbank8_a_air              14145 non-null  float64\n",
      " 23  primary_cleaner.state.floatbank8_a_level            14148 non-null  float64\n",
      " 24  primary_cleaner.state.floatbank8_b_air              14145 non-null  float64\n",
      " 25  primary_cleaner.state.floatbank8_b_level            14148 non-null  float64\n",
      " 26  primary_cleaner.state.floatbank8_c_air              14147 non-null  float64\n",
      " 27  primary_cleaner.state.floatbank8_c_level            14148 non-null  float64\n",
      " 28  primary_cleaner.state.floatbank8_d_air              14146 non-null  float64\n",
      " 29  primary_cleaner.state.floatbank8_d_level            14148 non-null  float64\n",
      " 30  rougher.calculation.sulfate_to_au_concentrate       14148 non-null  float64\n",
      " 31  rougher.calculation.floatbank10_sulfate_to_au_feed  14148 non-null  float64\n",
      " 32  rougher.calculation.floatbank11_sulfate_to_au_feed  14148 non-null  float64\n",
      " 33  rougher.calculation.au_pb_ratio                     14149 non-null  float64\n",
      " 34  rougher.input.feed_ag                               14149 non-null  float64\n",
      " 35  rougher.input.feed_pb                               14049 non-null  float64\n",
      " 36  rougher.input.feed_rate                             14141 non-null  float64\n",
      " 37  rougher.input.feed_size                             14005 non-null  float64\n",
      " 38  rougher.input.feed_sol                              14071 non-null  float64\n",
      " 39  rougher.input.feed_au                               14149 non-null  float64\n",
      " 40  rougher.input.floatbank10_sulfate                   14120 non-null  float64\n",
      " 41  rougher.input.floatbank10_xanthate                  14141 non-null  float64\n",
      " 42  rougher.input.floatbank11_sulfate                   14113 non-null  float64\n",
      " 43  rougher.input.floatbank11_xanthate                  13721 non-null  float64\n",
      " 44  rougher.output.concentrate_ag                       14149 non-null  float64\n",
      " 45  rougher.output.concentrate_pb                       14149 non-null  float64\n",
      " 46  rougher.output.concentrate_sol                      14127 non-null  float64\n",
      " 47  rougher.output.concentrate_au                       14149 non-null  float64\n",
      " 48  rougher.output.recovery                             14149 non-null  float64\n",
      " 49  rougher.output.tail_ag                              14148 non-null  float64\n",
      " 50  rougher.output.tail_pb                              14149 non-null  float64\n",
      " 51  rougher.output.tail_sol                             14149 non-null  float64\n",
      " 52  rougher.output.tail_au                              14149 non-null  float64\n",
      " 53  rougher.state.floatbank10_a_air                     14148 non-null  float64\n",
      " 54  rougher.state.floatbank10_a_level                   14148 non-null  float64\n",
      " 55  rougher.state.floatbank10_b_air                     14148 non-null  float64\n",
      " 56  rougher.state.floatbank10_b_level                   14148 non-null  float64\n",
      " 57  rougher.state.floatbank10_c_air                     14148 non-null  float64\n",
      " 58  rougher.state.floatbank10_c_level                   14148 non-null  float64\n",
      " 59  rougher.state.floatbank10_d_air                     14149 non-null  float64\n",
      " 60  rougher.state.floatbank10_d_level                   14149 non-null  float64\n",
      " 61  rougher.state.floatbank10_e_air                     13713 non-null  float64\n",
      " 62  rougher.state.floatbank10_e_level                   14149 non-null  float64\n",
      " 63  rougher.state.floatbank10_f_air                     14149 non-null  float64\n",
      " 64  rougher.state.floatbank10_f_level                   14149 non-null  float64\n",
      " 65  secondary_cleaner.output.tail_ag                    14147 non-null  float64\n",
      " 66  secondary_cleaner.output.tail_pb                    14139 non-null  float64\n",
      " 67  secondary_cleaner.output.tail_sol                   12544 non-null  float64\n",
      " 68  secondary_cleaner.output.tail_au                    14149 non-null  float64\n",
      " 69  secondary_cleaner.state.floatbank2_a_air            13932 non-null  float64\n",
      " 70  secondary_cleaner.state.floatbank2_a_level          14148 non-null  float64\n",
      " 71  secondary_cleaner.state.floatbank2_b_air            14128 non-null  float64\n",
      " 72  secondary_cleaner.state.floatbank2_b_level          14148 non-null  float64\n",
      " 73  secondary_cleaner.state.floatbank3_a_air            14145 non-null  float64\n",
      " 74  secondary_cleaner.state.floatbank3_a_level          14148 non-null  float64\n",
      " 75  secondary_cleaner.state.floatbank3_b_air            14148 non-null  float64\n",
      " 76  secondary_cleaner.state.floatbank3_b_level          14148 non-null  float64\n",
      " 77  secondary_cleaner.state.floatbank4_a_air            14143 non-null  float64\n",
      " 78  secondary_cleaner.state.floatbank4_a_level          14148 non-null  float64\n",
      " 79  secondary_cleaner.state.floatbank4_b_air            14148 non-null  float64\n",
      " 80  secondary_cleaner.state.floatbank4_b_level          14148 non-null  float64\n",
      " 81  secondary_cleaner.state.floatbank5_a_air            14148 non-null  float64\n",
      " 82  secondary_cleaner.state.floatbank5_a_level          14148 non-null  float64\n",
      " 83  secondary_cleaner.state.floatbank5_b_air            14148 non-null  float64\n",
      " 84  secondary_cleaner.state.floatbank5_b_level          14148 non-null  float64\n",
      " 85  secondary_cleaner.state.floatbank6_a_air            14147 non-null  float64\n",
      " 86  secondary_cleaner.state.floatbank6_a_level          14148 non-null  float64\n",
      "dtypes: float64(86), object(1)\n",
      "memory usage: 9.4+ MB\n"
     ]
    }
   ],
   "source": [
    "train_df.info()"
   ]
  },
  {
   "cell_type": "code",
   "execution_count": 5,
   "id": "205ec9c3",
   "metadata": {},
   "outputs": [],
   "source": [
    "test_df = pd.read_csv('gold_recovery_test_new.csv')#/datasets/gold_recovery_test_new.csv"
   ]
  },
  {
   "cell_type": "code",
   "execution_count": 6,
   "id": "b178f0fc",
   "metadata": {},
   "outputs": [
    {
     "name": "stdout",
     "output_type": "stream",
     "text": [
      "<class 'pandas.core.frame.DataFrame'>\n",
      "RangeIndex: 5290 entries, 0 to 5289\n",
      "Data columns (total 53 columns):\n",
      " #   Column                                      Non-Null Count  Dtype  \n",
      "---  ------                                      --------------  -----  \n",
      " 0   date                                        5290 non-null   object \n",
      " 1   primary_cleaner.input.sulfate               5286 non-null   float64\n",
      " 2   primary_cleaner.input.depressant            5285 non-null   float64\n",
      " 3   primary_cleaner.input.feed_size             5290 non-null   float64\n",
      " 4   primary_cleaner.input.xanthate              5286 non-null   float64\n",
      " 5   primary_cleaner.state.floatbank8_a_air      5290 non-null   float64\n",
      " 6   primary_cleaner.state.floatbank8_a_level    5290 non-null   float64\n",
      " 7   primary_cleaner.state.floatbank8_b_air      5290 non-null   float64\n",
      " 8   primary_cleaner.state.floatbank8_b_level    5290 non-null   float64\n",
      " 9   primary_cleaner.state.floatbank8_c_air      5290 non-null   float64\n",
      " 10  primary_cleaner.state.floatbank8_c_level    5290 non-null   float64\n",
      " 11  primary_cleaner.state.floatbank8_d_air      5290 non-null   float64\n",
      " 12  primary_cleaner.state.floatbank8_d_level    5290 non-null   float64\n",
      " 13  rougher.input.feed_ag                       5290 non-null   float64\n",
      " 14  rougher.input.feed_pb                       5290 non-null   float64\n",
      " 15  rougher.input.feed_rate                     5287 non-null   float64\n",
      " 16  rougher.input.feed_size                     5289 non-null   float64\n",
      " 17  rougher.input.feed_sol                      5269 non-null   float64\n",
      " 18  rougher.input.feed_au                       5290 non-null   float64\n",
      " 19  rougher.input.floatbank10_sulfate           5285 non-null   float64\n",
      " 20  rougher.input.floatbank10_xanthate          5290 non-null   float64\n",
      " 21  rougher.input.floatbank11_sulfate           5282 non-null   float64\n",
      " 22  rougher.input.floatbank11_xanthate          5265 non-null   float64\n",
      " 23  rougher.state.floatbank10_a_air             5290 non-null   float64\n",
      " 24  rougher.state.floatbank10_a_level           5290 non-null   float64\n",
      " 25  rougher.state.floatbank10_b_air             5290 non-null   float64\n",
      " 26  rougher.state.floatbank10_b_level           5290 non-null   float64\n",
      " 27  rougher.state.floatbank10_c_air             5290 non-null   float64\n",
      " 28  rougher.state.floatbank10_c_level           5290 non-null   float64\n",
      " 29  rougher.state.floatbank10_d_air             5290 non-null   float64\n",
      " 30  rougher.state.floatbank10_d_level           5290 non-null   float64\n",
      " 31  rougher.state.floatbank10_e_air             5290 non-null   float64\n",
      " 32  rougher.state.floatbank10_e_level           5290 non-null   float64\n",
      " 33  rougher.state.floatbank10_f_air             5290 non-null   float64\n",
      " 34  rougher.state.floatbank10_f_level           5290 non-null   float64\n",
      " 35  secondary_cleaner.state.floatbank2_a_air    5287 non-null   float64\n",
      " 36  secondary_cleaner.state.floatbank2_a_level  5290 non-null   float64\n",
      " 37  secondary_cleaner.state.floatbank2_b_air    5288 non-null   float64\n",
      " 38  secondary_cleaner.state.floatbank2_b_level  5290 non-null   float64\n",
      " 39  secondary_cleaner.state.floatbank3_a_air    5281 non-null   float64\n",
      " 40  secondary_cleaner.state.floatbank3_a_level  5290 non-null   float64\n",
      " 41  secondary_cleaner.state.floatbank3_b_air    5290 non-null   float64\n",
      " 42  secondary_cleaner.state.floatbank3_b_level  5290 non-null   float64\n",
      " 43  secondary_cleaner.state.floatbank4_a_air    5290 non-null   float64\n",
      " 44  secondary_cleaner.state.floatbank4_a_level  5290 non-null   float64\n",
      " 45  secondary_cleaner.state.floatbank4_b_air    5290 non-null   float64\n",
      " 46  secondary_cleaner.state.floatbank4_b_level  5290 non-null   float64\n",
      " 47  secondary_cleaner.state.floatbank5_a_air    5290 non-null   float64\n",
      " 48  secondary_cleaner.state.floatbank5_a_level  5290 non-null   float64\n",
      " 49  secondary_cleaner.state.floatbank5_b_air    5290 non-null   float64\n",
      " 50  secondary_cleaner.state.floatbank5_b_level  5290 non-null   float64\n",
      " 51  secondary_cleaner.state.floatbank6_a_air    5290 non-null   float64\n",
      " 52  secondary_cleaner.state.floatbank6_a_level  5290 non-null   float64\n",
      "dtypes: float64(52), object(1)\n",
      "memory usage: 2.1+ MB\n"
     ]
    }
   ],
   "source": [
    "test_df.info()"
   ]
  },
  {
   "cell_type": "code",
   "execution_count": 7,
   "id": "c2b349a5",
   "metadata": {},
   "outputs": [],
   "source": [
    "full_df=pd.read_csv('gold_recovery_full_new.csv')#/datasets/gold_recovery_full_new.csv"
   ]
  },
  {
   "cell_type": "markdown",
   "id": "a4de4241",
   "metadata": {},
   "source": [
    "**Описание данных\n",
    "Технологический процесс**\n",
    "`Rougher feed` — исходное сырье\n",
    "`Rougher additions (или reagent additions)` — флотационные реагенты: Xanthate, Sulphate, Depressant\n",
    "`Xanthate` **— ксантогенат (промотер, или активатор флотации);\n",
    "`Sulphate` — сульфат (на данном производстве сульфид натрия);\n",
    "`Depressant` — депрессант (силикат натрия).\n",
    "`Rougher process` (англ. «грубый процесс») — флотация\n",
    "`Rougher tails` — отвальные хвосты\n",
    "`Float banks` — флотационная установка\n",
    "`Cleaner process` — очистка\n",
    "`Rougher Au` — черновой концентрат золота\n",
    "`Final Au` — финальный концентрат золота\n",
    "**Параметры этапов**\n",
    "`air amount` — объём воздуха\n",
    "`fluid levels` — уровень жидкости\n",
    "`feed size` — размер гранул сырья\n",
    "`feed rate` — скорость подачи\n",
    "**Наименование признаков\n",
    "Наименование признаков должно быть такое:**\n",
    "[этап].[тип_параметра].[название_параметра]\n",
    "Пример: `rougher.input.feed_ag`\n",
    "Возможные значения для блока [этап]:\n",
    "`rougher` — флотация\n",
    "`primary_cleaner` — первичная очистка\n",
    "`secondary_cleaner` — вторичная очистка\n",
    "`final` — финальные характеристики\n",
    "Возможные значения для блока [тип_параметра]:\n",
    "`input` — параметры сырья\n",
    "`output` — параметры продукта\n",
    "`state` — параметры, характеризующие текущее состояние этапа\n",
    "`calculation` — расчётные характеристики"
   ]
  },
  {
   "cell_type": "markdown",
   "id": "a99b846c",
   "metadata": {},
   "source": [
    "Видим что данных слишком много, есть пропушенные значения."
   ]
  },
  {
   "cell_type": "markdown",
   "id": "6990e305",
   "metadata": {},
   "source": [
    "### Проверим, что эффективность обогащения рассчитана правильно. Вычислите её на обучающей выборке для признака rougher.output.recovery. Найдём MAE между вашими расчётами и значением признака. Опишим выводы."
   ]
  },
  {
   "cell_type": "code",
   "execution_count": 8,
   "id": "6675eb1e",
   "metadata": {},
   "outputs": [
    {
     "data": {
      "text/plain": [
       "0        87.107763\n",
       "1        86.843261\n",
       "2        86.842308\n",
       "3        87.226430\n",
       "4        86.688794\n",
       "           ...    \n",
       "14144    89.574376\n",
       "14145    87.724007\n",
       "14146    88.890579\n",
       "14147    89.858126\n",
       "14148    89.514960\n",
       "Name: rougher.output.recovery, Length: 14149, dtype: float64"
      ]
     },
     "execution_count": 8,
     "metadata": {},
     "output_type": "execute_result"
    }
   ],
   "source": [
    "train_df['rougher.output.recovery']"
   ]
  },
  {
   "cell_type": "markdown",
   "id": "a8d5b8b3",
   "metadata": {},
   "source": [
    "Эффективность обагащения будем расчитывать по формуле: **(C*(F-T)/F*(C-T))*100**, где C-доля золота в концентрате после флотации/очистки, F-доля золота в сырье/концентрате до флотации/очистки;T-доля золота в отвальных хвостах после флотации/очистки."
   ]
  },
  {
   "cell_type": "markdown",
   "id": "de5d94a6",
   "metadata": {},
   "source": [
    "C-`rougher.output.concentrate_au`,F-`rougher.input.feed_au`,T-`rougher.output.tail_au`"
   ]
  },
  {
   "cell_type": "markdown",
   "id": "21323fe1",
   "metadata": {},
   "source": [
    "Вставим наши данные с датафрейма и вычеслим нашу эфективнность"
   ]
  },
  {
   "cell_type": "code",
   "execution_count": 9,
   "id": "0868c268",
   "metadata": {},
   "outputs": [],
   "source": [
    "counted_recovery=((train_df['rougher.output.concentrate_au']*(train_df['rougher.input.feed_au']-train_df['rougher.output.tail_au']))/(train_df['rougher.input.feed_au']*(train_df['rougher.output.concentrate_au']-train_df['rougher.output.tail_au'])))*100"
   ]
  },
  {
   "cell_type": "code",
   "execution_count": 10,
   "id": "3cf2798d",
   "metadata": {},
   "outputs": [
    {
     "data": {
      "text/plain": [
       "0        87.107763\n",
       "1        86.843261\n",
       "2        86.842308\n",
       "3        87.226430\n",
       "4        86.688794\n",
       "           ...    \n",
       "14144    89.574376\n",
       "14145    87.724007\n",
       "14146    88.890579\n",
       "14147    89.858126\n",
       "14148    89.514960\n",
       "Length: 14149, dtype: float64"
      ]
     },
     "execution_count": 10,
     "metadata": {},
     "output_type": "execute_result"
    }
   ],
   "source": [
    "counted_recovery"
   ]
  },
  {
   "cell_type": "markdown",
   "id": "dc76fa11",
   "metadata": {},
   "source": [
    "На первый взгляд наши данные совпадают с со значением столбца rougher.output.recovery. Вычеслим МАЕ"
   ]
  },
  {
   "cell_type": "code",
   "execution_count": 11,
   "id": "f177fc7e",
   "metadata": {},
   "outputs": [
    {
     "data": {
      "text/plain": [
       "9.73512347450521e-15"
      ]
     },
     "execution_count": 11,
     "metadata": {},
     "output_type": "execute_result"
    }
   ],
   "source": [
    "(abs(train_df['rougher.output.recovery']-counted_recovery)).sum()/len(train_df['rougher.output.recovery'])"
   ]
  },
  {
   "cell_type": "markdown",
   "id": "7113dd20",
   "metadata": {},
   "source": [
    "Так и есть средняя абсолютная ошибка между вычесленными и данными значениями эффективности очень маленькая."
   ]
  },
  {
   "cell_type": "markdown",
   "id": "a0399dd9",
   "metadata": {},
   "source": [
    "###  Проанализируем признаки, недоступные в тестовой выборке. Что это за параметры? К какому типу относятся?"
   ]
  },
  {
   "cell_type": "markdown",
   "id": "f50ddc15",
   "metadata": {},
   "source": [
    "Посмотрим на данные признаки которые не входят в тестовую выборку."
   ]
  },
  {
   "cell_type": "code",
   "execution_count": 12,
   "id": "e4c73d70",
   "metadata": {},
   "outputs": [
    {
     "name": "stdout",
     "output_type": "stream",
     "text": [
      "<class 'pandas.core.frame.DataFrame'>\n",
      "RangeIndex: 14149 entries, 0 to 14148\n",
      "Data columns (total 34 columns):\n",
      " #   Column                                              Non-Null Count  Dtype  \n",
      "---  ------                                              --------------  -----  \n",
      " 0   final.output.concentrate_ag                         14148 non-null  float64\n",
      " 1   final.output.concentrate_pb                         14148 non-null  float64\n",
      " 2   final.output.concentrate_sol                        13938 non-null  float64\n",
      " 3   final.output.concentrate_au                         14149 non-null  float64\n",
      " 4   final.output.recovery                               14149 non-null  float64\n",
      " 5   final.output.tail_ag                                14149 non-null  float64\n",
      " 6   final.output.tail_pb                                14049 non-null  float64\n",
      " 7   final.output.tail_sol                               14144 non-null  float64\n",
      " 8   final.output.tail_au                                14149 non-null  float64\n",
      " 9   primary_cleaner.output.concentrate_ag               14149 non-null  float64\n",
      " 10  primary_cleaner.output.concentrate_pb               14063 non-null  float64\n",
      " 11  primary_cleaner.output.concentrate_sol              13863 non-null  float64\n",
      " 12  primary_cleaner.output.concentrate_au               14149 non-null  float64\n",
      " 13  primary_cleaner.output.tail_ag                      14148 non-null  float64\n",
      " 14  primary_cleaner.output.tail_pb                      14134 non-null  float64\n",
      " 15  primary_cleaner.output.tail_sol                     14103 non-null  float64\n",
      " 16  primary_cleaner.output.tail_au                      14149 non-null  float64\n",
      " 17  rougher.calculation.sulfate_to_au_concentrate       14148 non-null  float64\n",
      " 18  rougher.calculation.floatbank10_sulfate_to_au_feed  14148 non-null  float64\n",
      " 19  rougher.calculation.floatbank11_sulfate_to_au_feed  14148 non-null  float64\n",
      " 20  rougher.calculation.au_pb_ratio                     14149 non-null  float64\n",
      " 21  rougher.output.concentrate_ag                       14149 non-null  float64\n",
      " 22  rougher.output.concentrate_pb                       14149 non-null  float64\n",
      " 23  rougher.output.concentrate_sol                      14127 non-null  float64\n",
      " 24  rougher.output.concentrate_au                       14149 non-null  float64\n",
      " 25  rougher.output.recovery                             14149 non-null  float64\n",
      " 26  rougher.output.tail_ag                              14148 non-null  float64\n",
      " 27  rougher.output.tail_pb                              14149 non-null  float64\n",
      " 28  rougher.output.tail_sol                             14149 non-null  float64\n",
      " 29  rougher.output.tail_au                              14149 non-null  float64\n",
      " 30  secondary_cleaner.output.tail_ag                    14147 non-null  float64\n",
      " 31  secondary_cleaner.output.tail_pb                    14139 non-null  float64\n",
      " 32  secondary_cleaner.output.tail_sol                   12544 non-null  float64\n",
      " 33  secondary_cleaner.output.tail_au                    14149 non-null  float64\n",
      "dtypes: float64(34)\n",
      "memory usage: 3.7 MB\n"
     ]
    }
   ],
   "source": [
    "train_df.drop(test_df.columns,axis=1).info()"
   ]
  },
  {
   "cell_type": "markdown",
   "id": "65293fd8",
   "metadata": {},
   "source": [
    "Как видим это данные которые содержат информацию о драгметаллах на выходе каждого этапа очистки, а также данные которые полученые методом подсчёта(calculation,recovery)"
   ]
  },
  {
   "cell_type": "code",
   "execution_count": 13,
   "id": "11135d01",
   "metadata": {},
   "outputs": [
    {
     "data": {
      "text/html": [
       "<div>\n",
       "<style scoped>\n",
       "    .dataframe tbody tr th:only-of-type {\n",
       "        vertical-align: middle;\n",
       "    }\n",
       "\n",
       "    .dataframe tbody tr th {\n",
       "        vertical-align: top;\n",
       "    }\n",
       "\n",
       "    .dataframe thead th {\n",
       "        text-align: right;\n",
       "    }\n",
       "</style>\n",
       "<table border=\"1\" class=\"dataframe\">\n",
       "  <thead>\n",
       "    <tr style=\"text-align: right;\">\n",
       "      <th></th>\n",
       "      <th>final.output.concentrate_ag</th>\n",
       "      <th>final.output.concentrate_pb</th>\n",
       "      <th>final.output.concentrate_sol</th>\n",
       "      <th>final.output.concentrate_au</th>\n",
       "      <th>final.output.recovery</th>\n",
       "      <th>final.output.tail_ag</th>\n",
       "      <th>final.output.tail_pb</th>\n",
       "      <th>final.output.tail_sol</th>\n",
       "      <th>final.output.tail_au</th>\n",
       "      <th>primary_cleaner.output.concentrate_ag</th>\n",
       "      <th>...</th>\n",
       "      <th>rougher.output.concentrate_au</th>\n",
       "      <th>rougher.output.recovery</th>\n",
       "      <th>rougher.output.tail_ag</th>\n",
       "      <th>rougher.output.tail_pb</th>\n",
       "      <th>rougher.output.tail_sol</th>\n",
       "      <th>rougher.output.tail_au</th>\n",
       "      <th>secondary_cleaner.output.tail_ag</th>\n",
       "      <th>secondary_cleaner.output.tail_pb</th>\n",
       "      <th>secondary_cleaner.output.tail_sol</th>\n",
       "      <th>secondary_cleaner.output.tail_au</th>\n",
       "    </tr>\n",
       "  </thead>\n",
       "  <tbody>\n",
       "    <tr>\n",
       "      <th>0</th>\n",
       "      <td>6.055403</td>\n",
       "      <td>9.889648</td>\n",
       "      <td>5.507324</td>\n",
       "      <td>42.192020</td>\n",
       "      <td>70.541216</td>\n",
       "      <td>10.411962</td>\n",
       "      <td>0.895447</td>\n",
       "      <td>16.904297</td>\n",
       "      <td>2.143149</td>\n",
       "      <td>8.547551</td>\n",
       "      <td>...</td>\n",
       "      <td>19.793808</td>\n",
       "      <td>87.107763</td>\n",
       "      <td>5.008018</td>\n",
       "      <td>0.508728</td>\n",
       "      <td>19.154297</td>\n",
       "      <td>1.170244</td>\n",
       "      <td>14.500184</td>\n",
       "      <td>4.694824</td>\n",
       "      <td>8.764648</td>\n",
       "      <td>2.606185</td>\n",
       "    </tr>\n",
       "    <tr>\n",
       "      <th>1</th>\n",
       "      <td>6.029369</td>\n",
       "      <td>9.968944</td>\n",
       "      <td>5.257781</td>\n",
       "      <td>42.701629</td>\n",
       "      <td>69.266198</td>\n",
       "      <td>10.462676</td>\n",
       "      <td>0.927452</td>\n",
       "      <td>16.634514</td>\n",
       "      <td>2.224930</td>\n",
       "      <td>8.558743</td>\n",
       "      <td>...</td>\n",
       "      <td>20.050975</td>\n",
       "      <td>86.843261</td>\n",
       "      <td>4.955378</td>\n",
       "      <td>0.536689</td>\n",
       "      <td>18.965234</td>\n",
       "      <td>1.184827</td>\n",
       "      <td>14.265474</td>\n",
       "      <td>4.592547</td>\n",
       "      <td>9.001494</td>\n",
       "      <td>2.488248</td>\n",
       "    </tr>\n",
       "    <tr>\n",
       "      <th>2</th>\n",
       "      <td>6.055926</td>\n",
       "      <td>10.213995</td>\n",
       "      <td>5.383759</td>\n",
       "      <td>42.657501</td>\n",
       "      <td>68.116445</td>\n",
       "      <td>10.507046</td>\n",
       "      <td>0.953716</td>\n",
       "      <td>16.208849</td>\n",
       "      <td>2.257889</td>\n",
       "      <td>8.603505</td>\n",
       "      <td>...</td>\n",
       "      <td>19.737170</td>\n",
       "      <td>86.842308</td>\n",
       "      <td>4.843460</td>\n",
       "      <td>0.546416</td>\n",
       "      <td>18.808533</td>\n",
       "      <td>1.162562</td>\n",
       "      <td>14.115662</td>\n",
       "      <td>4.624775</td>\n",
       "      <td>8.842896</td>\n",
       "      <td>2.458187</td>\n",
       "    </tr>\n",
       "    <tr>\n",
       "      <th>3</th>\n",
       "      <td>6.047977</td>\n",
       "      <td>9.977019</td>\n",
       "      <td>4.858634</td>\n",
       "      <td>42.689819</td>\n",
       "      <td>68.347543</td>\n",
       "      <td>10.422762</td>\n",
       "      <td>0.883763</td>\n",
       "      <td>16.532835</td>\n",
       "      <td>2.146849</td>\n",
       "      <td>7.221879</td>\n",
       "      <td>...</td>\n",
       "      <td>19.320810</td>\n",
       "      <td>87.226430</td>\n",
       "      <td>4.655288</td>\n",
       "      <td>0.542525</td>\n",
       "      <td>19.330200</td>\n",
       "      <td>1.079755</td>\n",
       "      <td>13.732071</td>\n",
       "      <td>4.482453</td>\n",
       "      <td>9.122857</td>\n",
       "      <td>2.322062</td>\n",
       "    </tr>\n",
       "    <tr>\n",
       "      <th>4</th>\n",
       "      <td>6.148599</td>\n",
       "      <td>10.142511</td>\n",
       "      <td>4.939416</td>\n",
       "      <td>42.774141</td>\n",
       "      <td>66.927016</td>\n",
       "      <td>10.360302</td>\n",
       "      <td>0.792826</td>\n",
       "      <td>16.525686</td>\n",
       "      <td>2.055292</td>\n",
       "      <td>9.089428</td>\n",
       "      <td>...</td>\n",
       "      <td>19.216101</td>\n",
       "      <td>86.688794</td>\n",
       "      <td>4.552800</td>\n",
       "      <td>0.515438</td>\n",
       "      <td>19.267422</td>\n",
       "      <td>1.012642</td>\n",
       "      <td>14.079996</td>\n",
       "      <td>4.470737</td>\n",
       "      <td>8.871028</td>\n",
       "      <td>2.330448</td>\n",
       "    </tr>\n",
       "  </tbody>\n",
       "</table>\n",
       "<p>5 rows × 34 columns</p>\n",
       "</div>"
      ],
      "text/plain": [
       "   final.output.concentrate_ag  final.output.concentrate_pb  \\\n",
       "0                     6.055403                     9.889648   \n",
       "1                     6.029369                     9.968944   \n",
       "2                     6.055926                    10.213995   \n",
       "3                     6.047977                     9.977019   \n",
       "4                     6.148599                    10.142511   \n",
       "\n",
       "   final.output.concentrate_sol  final.output.concentrate_au  \\\n",
       "0                      5.507324                    42.192020   \n",
       "1                      5.257781                    42.701629   \n",
       "2                      5.383759                    42.657501   \n",
       "3                      4.858634                    42.689819   \n",
       "4                      4.939416                    42.774141   \n",
       "\n",
       "   final.output.recovery  final.output.tail_ag  final.output.tail_pb  \\\n",
       "0              70.541216             10.411962              0.895447   \n",
       "1              69.266198             10.462676              0.927452   \n",
       "2              68.116445             10.507046              0.953716   \n",
       "3              68.347543             10.422762              0.883763   \n",
       "4              66.927016             10.360302              0.792826   \n",
       "\n",
       "   final.output.tail_sol  final.output.tail_au  \\\n",
       "0              16.904297              2.143149   \n",
       "1              16.634514              2.224930   \n",
       "2              16.208849              2.257889   \n",
       "3              16.532835              2.146849   \n",
       "4              16.525686              2.055292   \n",
       "\n",
       "   primary_cleaner.output.concentrate_ag  ...  rougher.output.concentrate_au  \\\n",
       "0                               8.547551  ...                      19.793808   \n",
       "1                               8.558743  ...                      20.050975   \n",
       "2                               8.603505  ...                      19.737170   \n",
       "3                               7.221879  ...                      19.320810   \n",
       "4                               9.089428  ...                      19.216101   \n",
       "\n",
       "   rougher.output.recovery  rougher.output.tail_ag  rougher.output.tail_pb  \\\n",
       "0                87.107763                5.008018                0.508728   \n",
       "1                86.843261                4.955378                0.536689   \n",
       "2                86.842308                4.843460                0.546416   \n",
       "3                87.226430                4.655288                0.542525   \n",
       "4                86.688794                4.552800                0.515438   \n",
       "\n",
       "   rougher.output.tail_sol  rougher.output.tail_au  \\\n",
       "0                19.154297                1.170244   \n",
       "1                18.965234                1.184827   \n",
       "2                18.808533                1.162562   \n",
       "3                19.330200                1.079755   \n",
       "4                19.267422                1.012642   \n",
       "\n",
       "   secondary_cleaner.output.tail_ag  secondary_cleaner.output.tail_pb  \\\n",
       "0                         14.500184                          4.694824   \n",
       "1                         14.265474                          4.592547   \n",
       "2                         14.115662                          4.624775   \n",
       "3                         13.732071                          4.482453   \n",
       "4                         14.079996                          4.470737   \n",
       "\n",
       "   secondary_cleaner.output.tail_sol  secondary_cleaner.output.tail_au  \n",
       "0                           8.764648                          2.606185  \n",
       "1                           9.001494                          2.488248  \n",
       "2                           8.842896                          2.458187  \n",
       "3                           9.122857                          2.322062  \n",
       "4                           8.871028                          2.330448  \n",
       "\n",
       "[5 rows x 34 columns]"
      ]
     },
     "execution_count": 13,
     "metadata": {},
     "output_type": "execute_result"
    }
   ],
   "source": [
    "train_df.drop(test_df.columns,axis=1).head()"
   ]
  },
  {
   "cell_type": "code",
   "execution_count": 14,
   "id": "e3dc737c",
   "metadata": {},
   "outputs": [
    {
     "data": {
      "text/html": [
       "<div>\n",
       "<style scoped>\n",
       "    .dataframe tbody tr th:only-of-type {\n",
       "        vertical-align: middle;\n",
       "    }\n",
       "\n",
       "    .dataframe tbody tr th {\n",
       "        vertical-align: top;\n",
       "    }\n",
       "\n",
       "    .dataframe thead th {\n",
       "        text-align: right;\n",
       "    }\n",
       "</style>\n",
       "<table border=\"1\" class=\"dataframe\">\n",
       "  <thead>\n",
       "    <tr style=\"text-align: right;\">\n",
       "      <th></th>\n",
       "      <th>final.output.concentrate_ag</th>\n",
       "      <th>final.output.concentrate_pb</th>\n",
       "      <th>final.output.concentrate_sol</th>\n",
       "      <th>final.output.concentrate_au</th>\n",
       "      <th>final.output.recovery</th>\n",
       "      <th>final.output.tail_ag</th>\n",
       "      <th>final.output.tail_pb</th>\n",
       "      <th>final.output.tail_sol</th>\n",
       "      <th>final.output.tail_au</th>\n",
       "      <th>primary_cleaner.output.concentrate_ag</th>\n",
       "      <th>...</th>\n",
       "      <th>rougher.output.concentrate_au</th>\n",
       "      <th>rougher.output.recovery</th>\n",
       "      <th>rougher.output.tail_ag</th>\n",
       "      <th>rougher.output.tail_pb</th>\n",
       "      <th>rougher.output.tail_sol</th>\n",
       "      <th>rougher.output.tail_au</th>\n",
       "      <th>secondary_cleaner.output.tail_ag</th>\n",
       "      <th>secondary_cleaner.output.tail_pb</th>\n",
       "      <th>secondary_cleaner.output.tail_sol</th>\n",
       "      <th>secondary_cleaner.output.tail_au</th>\n",
       "    </tr>\n",
       "  </thead>\n",
       "  <tbody>\n",
       "    <tr>\n",
       "      <th>count</th>\n",
       "      <td>14148.000000</td>\n",
       "      <td>14148.000000</td>\n",
       "      <td>13938.000000</td>\n",
       "      <td>14149.000000</td>\n",
       "      <td>14149.000000</td>\n",
       "      <td>14149.000000</td>\n",
       "      <td>14049.000000</td>\n",
       "      <td>14144.000000</td>\n",
       "      <td>14149.000000</td>\n",
       "      <td>14149.000000</td>\n",
       "      <td>...</td>\n",
       "      <td>14149.000000</td>\n",
       "      <td>14149.000000</td>\n",
       "      <td>14148.000000</td>\n",
       "      <td>14149.000000</td>\n",
       "      <td>14149.000000</td>\n",
       "      <td>14149.000000</td>\n",
       "      <td>14147.000000</td>\n",
       "      <td>14139.000000</td>\n",
       "      <td>12544.000000</td>\n",
       "      <td>14149.000000</td>\n",
       "    </tr>\n",
       "    <tr>\n",
       "      <th>mean</th>\n",
       "      <td>5.142034</td>\n",
       "      <td>10.132960</td>\n",
       "      <td>9.202849</td>\n",
       "      <td>44.003792</td>\n",
       "      <td>66.518832</td>\n",
       "      <td>9.607035</td>\n",
       "      <td>2.597298</td>\n",
       "      <td>10.512122</td>\n",
       "      <td>2.918421</td>\n",
       "      <td>8.200916</td>\n",
       "      <td>...</td>\n",
       "      <td>19.439958</td>\n",
       "      <td>82.704502</td>\n",
       "      <td>5.567124</td>\n",
       "      <td>0.653277</td>\n",
       "      <td>17.882853</td>\n",
       "      <td>1.757473</td>\n",
       "      <td>14.281629</td>\n",
       "      <td>5.848863</td>\n",
       "      <td>6.938693</td>\n",
       "      <td>4.246961</td>\n",
       "    </tr>\n",
       "    <tr>\n",
       "      <th>std</th>\n",
       "      <td>1.369586</td>\n",
       "      <td>1.654930</td>\n",
       "      <td>2.790516</td>\n",
       "      <td>4.905261</td>\n",
       "      <td>10.295402</td>\n",
       "      <td>2.319069</td>\n",
       "      <td>0.971843</td>\n",
       "      <td>3.003617</td>\n",
       "      <td>0.903712</td>\n",
       "      <td>2.005185</td>\n",
       "      <td>...</td>\n",
       "      <td>3.765192</td>\n",
       "      <td>14.479156</td>\n",
       "      <td>1.039136</td>\n",
       "      <td>0.263766</td>\n",
       "      <td>3.432859</td>\n",
       "      <td>0.713187</td>\n",
       "      <td>4.477126</td>\n",
       "      <td>2.861799</td>\n",
       "      <td>4.155487</td>\n",
       "      <td>2.389060</td>\n",
       "    </tr>\n",
       "    <tr>\n",
       "      <th>min</th>\n",
       "      <td>0.000000</td>\n",
       "      <td>0.000000</td>\n",
       "      <td>0.000000</td>\n",
       "      <td>0.000000</td>\n",
       "      <td>0.000000</td>\n",
       "      <td>0.000000</td>\n",
       "      <td>0.000000</td>\n",
       "      <td>0.000000</td>\n",
       "      <td>0.000000</td>\n",
       "      <td>0.000000</td>\n",
       "      <td>...</td>\n",
       "      <td>0.000000</td>\n",
       "      <td>0.000000</td>\n",
       "      <td>0.594562</td>\n",
       "      <td>0.007566</td>\n",
       "      <td>10.014648</td>\n",
       "      <td>0.020676</td>\n",
       "      <td>0.000000</td>\n",
       "      <td>0.000000</td>\n",
       "      <td>0.000000</td>\n",
       "      <td>0.000000</td>\n",
       "    </tr>\n",
       "    <tr>\n",
       "      <th>25%</th>\n",
       "      <td>4.211620</td>\n",
       "      <td>9.297355</td>\n",
       "      <td>7.484645</td>\n",
       "      <td>43.276111</td>\n",
       "      <td>62.545817</td>\n",
       "      <td>7.997429</td>\n",
       "      <td>1.905973</td>\n",
       "      <td>8.811324</td>\n",
       "      <td>2.368607</td>\n",
       "      <td>7.107126</td>\n",
       "      <td>...</td>\n",
       "      <td>18.432161</td>\n",
       "      <td>79.993067</td>\n",
       "      <td>4.921647</td>\n",
       "      <td>0.474047</td>\n",
       "      <td>15.688727</td>\n",
       "      <td>1.310800</td>\n",
       "      <td>12.177364</td>\n",
       "      <td>3.982298</td>\n",
       "      <td>3.225486</td>\n",
       "      <td>3.153122</td>\n",
       "    </tr>\n",
       "    <tr>\n",
       "      <th>50%</th>\n",
       "      <td>4.994652</td>\n",
       "      <td>10.297144</td>\n",
       "      <td>8.845462</td>\n",
       "      <td>44.872436</td>\n",
       "      <td>67.432775</td>\n",
       "      <td>9.480270</td>\n",
       "      <td>2.592022</td>\n",
       "      <td>10.514621</td>\n",
       "      <td>2.851025</td>\n",
       "      <td>8.226247</td>\n",
       "      <td>...</td>\n",
       "      <td>19.947312</td>\n",
       "      <td>85.299462</td>\n",
       "      <td>5.722018</td>\n",
       "      <td>0.625805</td>\n",
       "      <td>18.015894</td>\n",
       "      <td>1.745513</td>\n",
       "      <td>15.357951</td>\n",
       "      <td>5.442310</td>\n",
       "      <td>7.302639</td>\n",
       "      <td>3.980210</td>\n",
       "    </tr>\n",
       "    <tr>\n",
       "      <th>75%</th>\n",
       "      <td>5.859540</td>\n",
       "      <td>11.170603</td>\n",
       "      <td>10.487508</td>\n",
       "      <td>46.166425</td>\n",
       "      <td>72.346428</td>\n",
       "      <td>11.003707</td>\n",
       "      <td>3.241723</td>\n",
       "      <td>11.933009</td>\n",
       "      <td>3.434764</td>\n",
       "      <td>9.504924</td>\n",
       "      <td>...</td>\n",
       "      <td>21.392714</td>\n",
       "      <td>90.165021</td>\n",
       "      <td>6.310633</td>\n",
       "      <td>0.794326</td>\n",
       "      <td>19.938672</td>\n",
       "      <td>2.186790</td>\n",
       "      <td>17.230151</td>\n",
       "      <td>7.797948</td>\n",
       "      <td>10.547068</td>\n",
       "      <td>4.883943</td>\n",
       "    </tr>\n",
       "    <tr>\n",
       "      <th>max</th>\n",
       "      <td>16.001945</td>\n",
       "      <td>17.031899</td>\n",
       "      <td>18.124851</td>\n",
       "      <td>52.756638</td>\n",
       "      <td>100.000000</td>\n",
       "      <td>19.552149</td>\n",
       "      <td>5.639565</td>\n",
       "      <td>22.317730</td>\n",
       "      <td>8.197408</td>\n",
       "      <td>16.081632</td>\n",
       "      <td>...</td>\n",
       "      <td>28.146838</td>\n",
       "      <td>100.000000</td>\n",
       "      <td>12.719177</td>\n",
       "      <td>3.778064</td>\n",
       "      <td>66.117188</td>\n",
       "      <td>9.688980</td>\n",
       "      <td>23.264738</td>\n",
       "      <td>17.042505</td>\n",
       "      <td>17.976171</td>\n",
       "      <td>26.811643</td>\n",
       "    </tr>\n",
       "  </tbody>\n",
       "</table>\n",
       "<p>8 rows × 34 columns</p>\n",
       "</div>"
      ],
      "text/plain": [
       "       final.output.concentrate_ag  final.output.concentrate_pb  \\\n",
       "count                 14148.000000                 14148.000000   \n",
       "mean                      5.142034                    10.132960   \n",
       "std                       1.369586                     1.654930   \n",
       "min                       0.000000                     0.000000   \n",
       "25%                       4.211620                     9.297355   \n",
       "50%                       4.994652                    10.297144   \n",
       "75%                       5.859540                    11.170603   \n",
       "max                      16.001945                    17.031899   \n",
       "\n",
       "       final.output.concentrate_sol  final.output.concentrate_au  \\\n",
       "count                  13938.000000                 14149.000000   \n",
       "mean                       9.202849                    44.003792   \n",
       "std                        2.790516                     4.905261   \n",
       "min                        0.000000                     0.000000   \n",
       "25%                        7.484645                    43.276111   \n",
       "50%                        8.845462                    44.872436   \n",
       "75%                       10.487508                    46.166425   \n",
       "max                       18.124851                    52.756638   \n",
       "\n",
       "       final.output.recovery  final.output.tail_ag  final.output.tail_pb  \\\n",
       "count           14149.000000          14149.000000          14049.000000   \n",
       "mean               66.518832              9.607035              2.597298   \n",
       "std                10.295402              2.319069              0.971843   \n",
       "min                 0.000000              0.000000              0.000000   \n",
       "25%                62.545817              7.997429              1.905973   \n",
       "50%                67.432775              9.480270              2.592022   \n",
       "75%                72.346428             11.003707              3.241723   \n",
       "max               100.000000             19.552149              5.639565   \n",
       "\n",
       "       final.output.tail_sol  final.output.tail_au  \\\n",
       "count           14144.000000          14149.000000   \n",
       "mean               10.512122              2.918421   \n",
       "std                 3.003617              0.903712   \n",
       "min                 0.000000              0.000000   \n",
       "25%                 8.811324              2.368607   \n",
       "50%                10.514621              2.851025   \n",
       "75%                11.933009              3.434764   \n",
       "max                22.317730              8.197408   \n",
       "\n",
       "       primary_cleaner.output.concentrate_ag  ...  \\\n",
       "count                           14149.000000  ...   \n",
       "mean                                8.200916  ...   \n",
       "std                                 2.005185  ...   \n",
       "min                                 0.000000  ...   \n",
       "25%                                 7.107126  ...   \n",
       "50%                                 8.226247  ...   \n",
       "75%                                 9.504924  ...   \n",
       "max                                16.081632  ...   \n",
       "\n",
       "       rougher.output.concentrate_au  rougher.output.recovery  \\\n",
       "count                   14149.000000             14149.000000   \n",
       "mean                       19.439958                82.704502   \n",
       "std                         3.765192                14.479156   \n",
       "min                         0.000000                 0.000000   \n",
       "25%                        18.432161                79.993067   \n",
       "50%                        19.947312                85.299462   \n",
       "75%                        21.392714                90.165021   \n",
       "max                        28.146838               100.000000   \n",
       "\n",
       "       rougher.output.tail_ag  rougher.output.tail_pb  \\\n",
       "count            14148.000000            14149.000000   \n",
       "mean                 5.567124                0.653277   \n",
       "std                  1.039136                0.263766   \n",
       "min                  0.594562                0.007566   \n",
       "25%                  4.921647                0.474047   \n",
       "50%                  5.722018                0.625805   \n",
       "75%                  6.310633                0.794326   \n",
       "max                 12.719177                3.778064   \n",
       "\n",
       "       rougher.output.tail_sol  rougher.output.tail_au  \\\n",
       "count             14149.000000            14149.000000   \n",
       "mean                 17.882853                1.757473   \n",
       "std                   3.432859                0.713187   \n",
       "min                  10.014648                0.020676   \n",
       "25%                  15.688727                1.310800   \n",
       "50%                  18.015894                1.745513   \n",
       "75%                  19.938672                2.186790   \n",
       "max                  66.117188                9.688980   \n",
       "\n",
       "       secondary_cleaner.output.tail_ag  secondary_cleaner.output.tail_pb  \\\n",
       "count                      14147.000000                      14139.000000   \n",
       "mean                          14.281629                          5.848863   \n",
       "std                            4.477126                          2.861799   \n",
       "min                            0.000000                          0.000000   \n",
       "25%                           12.177364                          3.982298   \n",
       "50%                           15.357951                          5.442310   \n",
       "75%                           17.230151                          7.797948   \n",
       "max                           23.264738                         17.042505   \n",
       "\n",
       "       secondary_cleaner.output.tail_sol  secondary_cleaner.output.tail_au  \n",
       "count                       12544.000000                      14149.000000  \n",
       "mean                            6.938693                          4.246961  \n",
       "std                             4.155487                          2.389060  \n",
       "min                             0.000000                          0.000000  \n",
       "25%                             3.225486                          3.153122  \n",
       "50%                             7.302639                          3.980210  \n",
       "75%                            10.547068                          4.883943  \n",
       "max                            17.976171                         26.811643  \n",
       "\n",
       "[8 rows x 34 columns]"
      ]
     },
     "execution_count": 14,
     "metadata": {},
     "output_type": "execute_result"
    }
   ],
   "source": [
    "train_df.drop(test_df.columns,axis=1).describe()"
   ]
  },
  {
   "cell_type": "code",
   "execution_count": 15,
   "id": "b532b082",
   "metadata": {},
   "outputs": [
    {
     "name": "stdout",
     "output_type": "stream",
     "text": [
      "<class 'pandas.core.frame.DataFrame'>\n",
      "RangeIndex: 5290 entries, 0 to 5289\n",
      "Data columns (total 53 columns):\n",
      " #   Column                                      Non-Null Count  Dtype  \n",
      "---  ------                                      --------------  -----  \n",
      " 0   date                                        5290 non-null   object \n",
      " 1   primary_cleaner.input.sulfate               5286 non-null   float64\n",
      " 2   primary_cleaner.input.depressant            5285 non-null   float64\n",
      " 3   primary_cleaner.input.feed_size             5290 non-null   float64\n",
      " 4   primary_cleaner.input.xanthate              5286 non-null   float64\n",
      " 5   primary_cleaner.state.floatbank8_a_air      5290 non-null   float64\n",
      " 6   primary_cleaner.state.floatbank8_a_level    5290 non-null   float64\n",
      " 7   primary_cleaner.state.floatbank8_b_air      5290 non-null   float64\n",
      " 8   primary_cleaner.state.floatbank8_b_level    5290 non-null   float64\n",
      " 9   primary_cleaner.state.floatbank8_c_air      5290 non-null   float64\n",
      " 10  primary_cleaner.state.floatbank8_c_level    5290 non-null   float64\n",
      " 11  primary_cleaner.state.floatbank8_d_air      5290 non-null   float64\n",
      " 12  primary_cleaner.state.floatbank8_d_level    5290 non-null   float64\n",
      " 13  rougher.input.feed_ag                       5290 non-null   float64\n",
      " 14  rougher.input.feed_pb                       5290 non-null   float64\n",
      " 15  rougher.input.feed_rate                     5287 non-null   float64\n",
      " 16  rougher.input.feed_size                     5289 non-null   float64\n",
      " 17  rougher.input.feed_sol                      5269 non-null   float64\n",
      " 18  rougher.input.feed_au                       5290 non-null   float64\n",
      " 19  rougher.input.floatbank10_sulfate           5285 non-null   float64\n",
      " 20  rougher.input.floatbank10_xanthate          5290 non-null   float64\n",
      " 21  rougher.input.floatbank11_sulfate           5282 non-null   float64\n",
      " 22  rougher.input.floatbank11_xanthate          5265 non-null   float64\n",
      " 23  rougher.state.floatbank10_a_air             5290 non-null   float64\n",
      " 24  rougher.state.floatbank10_a_level           5290 non-null   float64\n",
      " 25  rougher.state.floatbank10_b_air             5290 non-null   float64\n",
      " 26  rougher.state.floatbank10_b_level           5290 non-null   float64\n",
      " 27  rougher.state.floatbank10_c_air             5290 non-null   float64\n",
      " 28  rougher.state.floatbank10_c_level           5290 non-null   float64\n",
      " 29  rougher.state.floatbank10_d_air             5290 non-null   float64\n",
      " 30  rougher.state.floatbank10_d_level           5290 non-null   float64\n",
      " 31  rougher.state.floatbank10_e_air             5290 non-null   float64\n",
      " 32  rougher.state.floatbank10_e_level           5290 non-null   float64\n",
      " 33  rougher.state.floatbank10_f_air             5290 non-null   float64\n",
      " 34  rougher.state.floatbank10_f_level           5290 non-null   float64\n",
      " 35  secondary_cleaner.state.floatbank2_a_air    5287 non-null   float64\n",
      " 36  secondary_cleaner.state.floatbank2_a_level  5290 non-null   float64\n",
      " 37  secondary_cleaner.state.floatbank2_b_air    5288 non-null   float64\n",
      " 38  secondary_cleaner.state.floatbank2_b_level  5290 non-null   float64\n",
      " 39  secondary_cleaner.state.floatbank3_a_air    5281 non-null   float64\n",
      " 40  secondary_cleaner.state.floatbank3_a_level  5290 non-null   float64\n",
      " 41  secondary_cleaner.state.floatbank3_b_air    5290 non-null   float64\n",
      " 42  secondary_cleaner.state.floatbank3_b_level  5290 non-null   float64\n",
      " 43  secondary_cleaner.state.floatbank4_a_air    5290 non-null   float64\n",
      " 44  secondary_cleaner.state.floatbank4_a_level  5290 non-null   float64\n",
      " 45  secondary_cleaner.state.floatbank4_b_air    5290 non-null   float64\n",
      " 46  secondary_cleaner.state.floatbank4_b_level  5290 non-null   float64\n",
      " 47  secondary_cleaner.state.floatbank5_a_air    5290 non-null   float64\n",
      " 48  secondary_cleaner.state.floatbank5_a_level  5290 non-null   float64\n",
      " 49  secondary_cleaner.state.floatbank5_b_air    5290 non-null   float64\n",
      " 50  secondary_cleaner.state.floatbank5_b_level  5290 non-null   float64\n",
      " 51  secondary_cleaner.state.floatbank6_a_air    5290 non-null   float64\n",
      " 52  secondary_cleaner.state.floatbank6_a_level  5290 non-null   float64\n",
      "dtypes: float64(52), object(1)\n",
      "memory usage: 2.1+ MB\n"
     ]
    }
   ],
   "source": [
    "test_df.info()"
   ]
  },
  {
   "cell_type": "markdown",
   "id": "9bda2b2e",
   "metadata": {},
   "source": [
    "###  Проведём предобработку данных."
   ]
  },
  {
   "cell_type": "markdown",
   "id": "efa51c37",
   "metadata": {},
   "source": [
    "Заполним пропущенные значения с помощью метода `fillna(method='ffill')`. Этот метод заполняет пропущенное значение предыдущим значением."
   ]
  },
  {
   "cell_type": "code",
   "execution_count": 16,
   "id": "fabc224e",
   "metadata": {},
   "outputs": [],
   "source": [
    "train_df = train_df.fillna(method='ffill')"
   ]
  },
  {
   "cell_type": "code",
   "execution_count": 17,
   "id": "8176fbf7",
   "metadata": {},
   "outputs": [
    {
     "name": "stdout",
     "output_type": "stream",
     "text": [
      "<class 'pandas.core.frame.DataFrame'>\n",
      "RangeIndex: 14149 entries, 0 to 14148\n",
      "Data columns (total 87 columns):\n",
      " #   Column                                              Non-Null Count  Dtype  \n",
      "---  ------                                              --------------  -----  \n",
      " 0   date                                                14149 non-null  object \n",
      " 1   final.output.concentrate_ag                         14149 non-null  float64\n",
      " 2   final.output.concentrate_pb                         14149 non-null  float64\n",
      " 3   final.output.concentrate_sol                        14149 non-null  float64\n",
      " 4   final.output.concentrate_au                         14149 non-null  float64\n",
      " 5   final.output.recovery                               14149 non-null  float64\n",
      " 6   final.output.tail_ag                                14149 non-null  float64\n",
      " 7   final.output.tail_pb                                14149 non-null  float64\n",
      " 8   final.output.tail_sol                               14149 non-null  float64\n",
      " 9   final.output.tail_au                                14149 non-null  float64\n",
      " 10  primary_cleaner.input.sulfate                       14149 non-null  float64\n",
      " 11  primary_cleaner.input.depressant                    14149 non-null  float64\n",
      " 12  primary_cleaner.input.feed_size                     14149 non-null  float64\n",
      " 13  primary_cleaner.input.xanthate                      14149 non-null  float64\n",
      " 14  primary_cleaner.output.concentrate_ag               14149 non-null  float64\n",
      " 15  primary_cleaner.output.concentrate_pb               14149 non-null  float64\n",
      " 16  primary_cleaner.output.concentrate_sol              14149 non-null  float64\n",
      " 17  primary_cleaner.output.concentrate_au               14149 non-null  float64\n",
      " 18  primary_cleaner.output.tail_ag                      14149 non-null  float64\n",
      " 19  primary_cleaner.output.tail_pb                      14149 non-null  float64\n",
      " 20  primary_cleaner.output.tail_sol                     14149 non-null  float64\n",
      " 21  primary_cleaner.output.tail_au                      14149 non-null  float64\n",
      " 22  primary_cleaner.state.floatbank8_a_air              14149 non-null  float64\n",
      " 23  primary_cleaner.state.floatbank8_a_level            14149 non-null  float64\n",
      " 24  primary_cleaner.state.floatbank8_b_air              14149 non-null  float64\n",
      " 25  primary_cleaner.state.floatbank8_b_level            14149 non-null  float64\n",
      " 26  primary_cleaner.state.floatbank8_c_air              14149 non-null  float64\n",
      " 27  primary_cleaner.state.floatbank8_c_level            14149 non-null  float64\n",
      " 28  primary_cleaner.state.floatbank8_d_air              14149 non-null  float64\n",
      " 29  primary_cleaner.state.floatbank8_d_level            14149 non-null  float64\n",
      " 30  rougher.calculation.sulfate_to_au_concentrate       14149 non-null  float64\n",
      " 31  rougher.calculation.floatbank10_sulfate_to_au_feed  14149 non-null  float64\n",
      " 32  rougher.calculation.floatbank11_sulfate_to_au_feed  14149 non-null  float64\n",
      " 33  rougher.calculation.au_pb_ratio                     14149 non-null  float64\n",
      " 34  rougher.input.feed_ag                               14149 non-null  float64\n",
      " 35  rougher.input.feed_pb                               14149 non-null  float64\n",
      " 36  rougher.input.feed_rate                             14149 non-null  float64\n",
      " 37  rougher.input.feed_size                             14149 non-null  float64\n",
      " 38  rougher.input.feed_sol                              14149 non-null  float64\n",
      " 39  rougher.input.feed_au                               14149 non-null  float64\n",
      " 40  rougher.input.floatbank10_sulfate                   14149 non-null  float64\n",
      " 41  rougher.input.floatbank10_xanthate                  14149 non-null  float64\n",
      " 42  rougher.input.floatbank11_sulfate                   14149 non-null  float64\n",
      " 43  rougher.input.floatbank11_xanthate                  14149 non-null  float64\n",
      " 44  rougher.output.concentrate_ag                       14149 non-null  float64\n",
      " 45  rougher.output.concentrate_pb                       14149 non-null  float64\n",
      " 46  rougher.output.concentrate_sol                      14149 non-null  float64\n",
      " 47  rougher.output.concentrate_au                       14149 non-null  float64\n",
      " 48  rougher.output.recovery                             14149 non-null  float64\n",
      " 49  rougher.output.tail_ag                              14149 non-null  float64\n",
      " 50  rougher.output.tail_pb                              14149 non-null  float64\n",
      " 51  rougher.output.tail_sol                             14149 non-null  float64\n",
      " 52  rougher.output.tail_au                              14149 non-null  float64\n",
      " 53  rougher.state.floatbank10_a_air                     14149 non-null  float64\n",
      " 54  rougher.state.floatbank10_a_level                   14149 non-null  float64\n",
      " 55  rougher.state.floatbank10_b_air                     14149 non-null  float64\n",
      " 56  rougher.state.floatbank10_b_level                   14149 non-null  float64\n",
      " 57  rougher.state.floatbank10_c_air                     14149 non-null  float64\n",
      " 58  rougher.state.floatbank10_c_level                   14149 non-null  float64\n",
      " 59  rougher.state.floatbank10_d_air                     14149 non-null  float64\n",
      " 60  rougher.state.floatbank10_d_level                   14149 non-null  float64\n",
      " 61  rougher.state.floatbank10_e_air                     14149 non-null  float64\n",
      " 62  rougher.state.floatbank10_e_level                   14149 non-null  float64\n",
      " 63  rougher.state.floatbank10_f_air                     14149 non-null  float64\n",
      " 64  rougher.state.floatbank10_f_level                   14149 non-null  float64\n",
      " 65  secondary_cleaner.output.tail_ag                    14149 non-null  float64\n",
      " 66  secondary_cleaner.output.tail_pb                    14149 non-null  float64\n",
      " 67  secondary_cleaner.output.tail_sol                   14149 non-null  float64\n",
      " 68  secondary_cleaner.output.tail_au                    14149 non-null  float64\n",
      " 69  secondary_cleaner.state.floatbank2_a_air            14149 non-null  float64\n",
      " 70  secondary_cleaner.state.floatbank2_a_level          14149 non-null  float64\n",
      " 71  secondary_cleaner.state.floatbank2_b_air            14149 non-null  float64\n",
      " 72  secondary_cleaner.state.floatbank2_b_level          14149 non-null  float64\n",
      " 73  secondary_cleaner.state.floatbank3_a_air            14149 non-null  float64\n",
      " 74  secondary_cleaner.state.floatbank3_a_level          14149 non-null  float64\n",
      " 75  secondary_cleaner.state.floatbank3_b_air            14149 non-null  float64\n",
      " 76  secondary_cleaner.state.floatbank3_b_level          14149 non-null  float64\n",
      " 77  secondary_cleaner.state.floatbank4_a_air            14149 non-null  float64\n",
      " 78  secondary_cleaner.state.floatbank4_a_level          14149 non-null  float64\n",
      " 79  secondary_cleaner.state.floatbank4_b_air            14149 non-null  float64\n",
      " 80  secondary_cleaner.state.floatbank4_b_level          14149 non-null  float64\n",
      " 81  secondary_cleaner.state.floatbank5_a_air            14149 non-null  float64\n",
      " 82  secondary_cleaner.state.floatbank5_a_level          14149 non-null  float64\n",
      " 83  secondary_cleaner.state.floatbank5_b_air            14149 non-null  float64\n",
      " 84  secondary_cleaner.state.floatbank5_b_level          14149 non-null  float64\n",
      " 85  secondary_cleaner.state.floatbank6_a_air            14149 non-null  float64\n",
      " 86  secondary_cleaner.state.floatbank6_a_level          14149 non-null  float64\n",
      "dtypes: float64(86), object(1)\n",
      "memory usage: 9.4+ MB\n"
     ]
    }
   ],
   "source": [
    "train_df.info()"
   ]
  },
  {
   "cell_type": "code",
   "execution_count": 18,
   "id": "a7ea4e83",
   "metadata": {},
   "outputs": [],
   "source": [
    "test_df=test_df.fillna(method='ffill')"
   ]
  },
  {
   "cell_type": "code",
   "execution_count": 19,
   "id": "b433e52d",
   "metadata": {},
   "outputs": [
    {
     "name": "stdout",
     "output_type": "stream",
     "text": [
      "<class 'pandas.core.frame.DataFrame'>\n",
      "RangeIndex: 5290 entries, 0 to 5289\n",
      "Data columns (total 53 columns):\n",
      " #   Column                                      Non-Null Count  Dtype  \n",
      "---  ------                                      --------------  -----  \n",
      " 0   date                                        5290 non-null   object \n",
      " 1   primary_cleaner.input.sulfate               5290 non-null   float64\n",
      " 2   primary_cleaner.input.depressant            5290 non-null   float64\n",
      " 3   primary_cleaner.input.feed_size             5290 non-null   float64\n",
      " 4   primary_cleaner.input.xanthate              5290 non-null   float64\n",
      " 5   primary_cleaner.state.floatbank8_a_air      5290 non-null   float64\n",
      " 6   primary_cleaner.state.floatbank8_a_level    5290 non-null   float64\n",
      " 7   primary_cleaner.state.floatbank8_b_air      5290 non-null   float64\n",
      " 8   primary_cleaner.state.floatbank8_b_level    5290 non-null   float64\n",
      " 9   primary_cleaner.state.floatbank8_c_air      5290 non-null   float64\n",
      " 10  primary_cleaner.state.floatbank8_c_level    5290 non-null   float64\n",
      " 11  primary_cleaner.state.floatbank8_d_air      5290 non-null   float64\n",
      " 12  primary_cleaner.state.floatbank8_d_level    5290 non-null   float64\n",
      " 13  rougher.input.feed_ag                       5290 non-null   float64\n",
      " 14  rougher.input.feed_pb                       5290 non-null   float64\n",
      " 15  rougher.input.feed_rate                     5290 non-null   float64\n",
      " 16  rougher.input.feed_size                     5290 non-null   float64\n",
      " 17  rougher.input.feed_sol                      5290 non-null   float64\n",
      " 18  rougher.input.feed_au                       5290 non-null   float64\n",
      " 19  rougher.input.floatbank10_sulfate           5290 non-null   float64\n",
      " 20  rougher.input.floatbank10_xanthate          5290 non-null   float64\n",
      " 21  rougher.input.floatbank11_sulfate           5290 non-null   float64\n",
      " 22  rougher.input.floatbank11_xanthate          5290 non-null   float64\n",
      " 23  rougher.state.floatbank10_a_air             5290 non-null   float64\n",
      " 24  rougher.state.floatbank10_a_level           5290 non-null   float64\n",
      " 25  rougher.state.floatbank10_b_air             5290 non-null   float64\n",
      " 26  rougher.state.floatbank10_b_level           5290 non-null   float64\n",
      " 27  rougher.state.floatbank10_c_air             5290 non-null   float64\n",
      " 28  rougher.state.floatbank10_c_level           5290 non-null   float64\n",
      " 29  rougher.state.floatbank10_d_air             5290 non-null   float64\n",
      " 30  rougher.state.floatbank10_d_level           5290 non-null   float64\n",
      " 31  rougher.state.floatbank10_e_air             5290 non-null   float64\n",
      " 32  rougher.state.floatbank10_e_level           5290 non-null   float64\n",
      " 33  rougher.state.floatbank10_f_air             5290 non-null   float64\n",
      " 34  rougher.state.floatbank10_f_level           5290 non-null   float64\n",
      " 35  secondary_cleaner.state.floatbank2_a_air    5290 non-null   float64\n",
      " 36  secondary_cleaner.state.floatbank2_a_level  5290 non-null   float64\n",
      " 37  secondary_cleaner.state.floatbank2_b_air    5290 non-null   float64\n",
      " 38  secondary_cleaner.state.floatbank2_b_level  5290 non-null   float64\n",
      " 39  secondary_cleaner.state.floatbank3_a_air    5290 non-null   float64\n",
      " 40  secondary_cleaner.state.floatbank3_a_level  5290 non-null   float64\n",
      " 41  secondary_cleaner.state.floatbank3_b_air    5290 non-null   float64\n",
      " 42  secondary_cleaner.state.floatbank3_b_level  5290 non-null   float64\n",
      " 43  secondary_cleaner.state.floatbank4_a_air    5290 non-null   float64\n",
      " 44  secondary_cleaner.state.floatbank4_a_level  5290 non-null   float64\n",
      " 45  secondary_cleaner.state.floatbank4_b_air    5290 non-null   float64\n",
      " 46  secondary_cleaner.state.floatbank4_b_level  5290 non-null   float64\n",
      " 47  secondary_cleaner.state.floatbank5_a_air    5290 non-null   float64\n",
      " 48  secondary_cleaner.state.floatbank5_a_level  5290 non-null   float64\n",
      " 49  secondary_cleaner.state.floatbank5_b_air    5290 non-null   float64\n",
      " 50  secondary_cleaner.state.floatbank5_b_level  5290 non-null   float64\n",
      " 51  secondary_cleaner.state.floatbank6_a_air    5290 non-null   float64\n",
      " 52  secondary_cleaner.state.floatbank6_a_level  5290 non-null   float64\n",
      "dtypes: float64(52), object(1)\n",
      "memory usage: 2.1+ MB\n"
     ]
    }
   ],
   "source": [
    "test_df.info()"
   ]
  },
  {
   "cell_type": "code",
   "execution_count": 20,
   "id": "abd13b61",
   "metadata": {},
   "outputs": [],
   "source": [
    "full_df=full_df.fillna(method='ffill')"
   ]
  },
  {
   "cell_type": "code",
   "execution_count": 21,
   "id": "b695f329",
   "metadata": {},
   "outputs": [
    {
     "name": "stdout",
     "output_type": "stream",
     "text": [
      "<class 'pandas.core.frame.DataFrame'>\n",
      "RangeIndex: 19439 entries, 0 to 19438\n",
      "Data columns (total 87 columns):\n",
      " #   Column                                              Non-Null Count  Dtype  \n",
      "---  ------                                              --------------  -----  \n",
      " 0   date                                                19439 non-null  object \n",
      " 1   final.output.concentrate_ag                         19439 non-null  float64\n",
      " 2   final.output.concentrate_pb                         19439 non-null  float64\n",
      " 3   final.output.concentrate_sol                        19439 non-null  float64\n",
      " 4   final.output.concentrate_au                         19439 non-null  float64\n",
      " 5   final.output.recovery                               19439 non-null  float64\n",
      " 6   final.output.tail_ag                                19439 non-null  float64\n",
      " 7   final.output.tail_pb                                19439 non-null  float64\n",
      " 8   final.output.tail_sol                               19439 non-null  float64\n",
      " 9   final.output.tail_au                                19439 non-null  float64\n",
      " 10  primary_cleaner.input.sulfate                       19439 non-null  float64\n",
      " 11  primary_cleaner.input.depressant                    19439 non-null  float64\n",
      " 12  primary_cleaner.input.feed_size                     19439 non-null  float64\n",
      " 13  primary_cleaner.input.xanthate                      19439 non-null  float64\n",
      " 14  primary_cleaner.output.concentrate_ag               19439 non-null  float64\n",
      " 15  primary_cleaner.output.concentrate_pb               19439 non-null  float64\n",
      " 16  primary_cleaner.output.concentrate_sol              19439 non-null  float64\n",
      " 17  primary_cleaner.output.concentrate_au               19439 non-null  float64\n",
      " 18  primary_cleaner.output.tail_ag                      19439 non-null  float64\n",
      " 19  primary_cleaner.output.tail_pb                      19439 non-null  float64\n",
      " 20  primary_cleaner.output.tail_sol                     19439 non-null  float64\n",
      " 21  primary_cleaner.output.tail_au                      19439 non-null  float64\n",
      " 22  primary_cleaner.state.floatbank8_a_air              19439 non-null  float64\n",
      " 23  primary_cleaner.state.floatbank8_a_level            19439 non-null  float64\n",
      " 24  primary_cleaner.state.floatbank8_b_air              19439 non-null  float64\n",
      " 25  primary_cleaner.state.floatbank8_b_level            19439 non-null  float64\n",
      " 26  primary_cleaner.state.floatbank8_c_air              19439 non-null  float64\n",
      " 27  primary_cleaner.state.floatbank8_c_level            19439 non-null  float64\n",
      " 28  primary_cleaner.state.floatbank8_d_air              19439 non-null  float64\n",
      " 29  primary_cleaner.state.floatbank8_d_level            19439 non-null  float64\n",
      " 30  rougher.calculation.sulfate_to_au_concentrate       19439 non-null  float64\n",
      " 31  rougher.calculation.floatbank10_sulfate_to_au_feed  19439 non-null  float64\n",
      " 32  rougher.calculation.floatbank11_sulfate_to_au_feed  19439 non-null  float64\n",
      " 33  rougher.calculation.au_pb_ratio                     19439 non-null  float64\n",
      " 34  rougher.input.feed_ag                               19439 non-null  float64\n",
      " 35  rougher.input.feed_pb                               19439 non-null  float64\n",
      " 36  rougher.input.feed_rate                             19439 non-null  float64\n",
      " 37  rougher.input.feed_size                             19439 non-null  float64\n",
      " 38  rougher.input.feed_sol                              19439 non-null  float64\n",
      " 39  rougher.input.feed_au                               19439 non-null  float64\n",
      " 40  rougher.input.floatbank10_sulfate                   19439 non-null  float64\n",
      " 41  rougher.input.floatbank10_xanthate                  19439 non-null  float64\n",
      " 42  rougher.input.floatbank11_sulfate                   19439 non-null  float64\n",
      " 43  rougher.input.floatbank11_xanthate                  19439 non-null  float64\n",
      " 44  rougher.output.concentrate_ag                       19439 non-null  float64\n",
      " 45  rougher.output.concentrate_pb                       19439 non-null  float64\n",
      " 46  rougher.output.concentrate_sol                      19439 non-null  float64\n",
      " 47  rougher.output.concentrate_au                       19439 non-null  float64\n",
      " 48  rougher.output.recovery                             19439 non-null  float64\n",
      " 49  rougher.output.tail_ag                              19439 non-null  float64\n",
      " 50  rougher.output.tail_pb                              19439 non-null  float64\n",
      " 51  rougher.output.tail_sol                             19439 non-null  float64\n",
      " 52  rougher.output.tail_au                              19439 non-null  float64\n",
      " 53  rougher.state.floatbank10_a_air                     19439 non-null  float64\n",
      " 54  rougher.state.floatbank10_a_level                   19439 non-null  float64\n",
      " 55  rougher.state.floatbank10_b_air                     19439 non-null  float64\n",
      " 56  rougher.state.floatbank10_b_level                   19439 non-null  float64\n",
      " 57  rougher.state.floatbank10_c_air                     19439 non-null  float64\n",
      " 58  rougher.state.floatbank10_c_level                   19439 non-null  float64\n",
      " 59  rougher.state.floatbank10_d_air                     19439 non-null  float64\n",
      " 60  rougher.state.floatbank10_d_level                   19439 non-null  float64\n",
      " 61  rougher.state.floatbank10_e_air                     19439 non-null  float64\n",
      " 62  rougher.state.floatbank10_e_level                   19439 non-null  float64\n",
      " 63  rougher.state.floatbank10_f_air                     19439 non-null  float64\n",
      " 64  rougher.state.floatbank10_f_level                   19439 non-null  float64\n",
      " 65  secondary_cleaner.output.tail_ag                    19439 non-null  float64\n",
      " 66  secondary_cleaner.output.tail_pb                    19439 non-null  float64\n",
      " 67  secondary_cleaner.output.tail_sol                   19439 non-null  float64\n",
      " 68  secondary_cleaner.output.tail_au                    19439 non-null  float64\n",
      " 69  secondary_cleaner.state.floatbank2_a_air            19439 non-null  float64\n",
      " 70  secondary_cleaner.state.floatbank2_a_level          19439 non-null  float64\n",
      " 71  secondary_cleaner.state.floatbank2_b_air            19439 non-null  float64\n",
      " 72  secondary_cleaner.state.floatbank2_b_level          19439 non-null  float64\n",
      " 73  secondary_cleaner.state.floatbank3_a_air            19439 non-null  float64\n",
      " 74  secondary_cleaner.state.floatbank3_a_level          19439 non-null  float64\n",
      " 75  secondary_cleaner.state.floatbank3_b_air            19439 non-null  float64\n",
      " 76  secondary_cleaner.state.floatbank3_b_level          19439 non-null  float64\n",
      " 77  secondary_cleaner.state.floatbank4_a_air            19439 non-null  float64\n",
      " 78  secondary_cleaner.state.floatbank4_a_level          19439 non-null  float64\n",
      " 79  secondary_cleaner.state.floatbank4_b_air            19439 non-null  float64\n",
      " 80  secondary_cleaner.state.floatbank4_b_level          19439 non-null  float64\n",
      " 81  secondary_cleaner.state.floatbank5_a_air            19439 non-null  float64\n",
      " 82  secondary_cleaner.state.floatbank5_a_level          19439 non-null  float64\n",
      " 83  secondary_cleaner.state.floatbank5_b_air            19439 non-null  float64\n",
      " 84  secondary_cleaner.state.floatbank5_b_level          19439 non-null  float64\n",
      " 85  secondary_cleaner.state.floatbank6_a_air            19439 non-null  float64\n",
      " 86  secondary_cleaner.state.floatbank6_a_level          19439 non-null  float64\n",
      "dtypes: float64(86), object(1)\n",
      "memory usage: 12.9+ MB\n"
     ]
    }
   ],
   "source": [
    "full_df.info()"
   ]
  },
  {
   "cell_type": "markdown",
   "id": "eff7c4b7",
   "metadata": {},
   "source": [
    "Пропущеных данных нет."
   ]
  },
  {
   "cell_type": "markdown",
   "id": "e9109636",
   "metadata": {},
   "source": [
    "## Проанализируем данные"
   ]
  },
  {
   "cell_type": "markdown",
   "id": "1f011d8a",
   "metadata": {},
   "source": [
    "### Посмотрим, как меняется концентрация металлов (Au, Ag, Pb) на различных этапах очистки. Опишим выводы."
   ]
  },
  {
   "cell_type": "code",
   "execution_count": 22,
   "id": "b9873c6e",
   "metadata": {},
   "outputs": [
    {
     "data": {
      "text/plain": [
       "Index(['date', 'final.output.concentrate_ag', 'final.output.concentrate_pb',\n",
       "       'final.output.concentrate_sol', 'final.output.concentrate_au',\n",
       "       'final.output.recovery', 'final.output.tail_ag', 'final.output.tail_pb',\n",
       "       'final.output.tail_sol', 'final.output.tail_au',\n",
       "       'primary_cleaner.input.sulfate', 'primary_cleaner.input.depressant',\n",
       "       'primary_cleaner.input.feed_size', 'primary_cleaner.input.xanthate',\n",
       "       'primary_cleaner.output.concentrate_ag',\n",
       "       'primary_cleaner.output.concentrate_pb',\n",
       "       'primary_cleaner.output.concentrate_sol',\n",
       "       'primary_cleaner.output.concentrate_au',\n",
       "       'primary_cleaner.output.tail_ag', 'primary_cleaner.output.tail_pb',\n",
       "       'primary_cleaner.output.tail_sol', 'primary_cleaner.output.tail_au',\n",
       "       'primary_cleaner.state.floatbank8_a_air',\n",
       "       'primary_cleaner.state.floatbank8_a_level',\n",
       "       'primary_cleaner.state.floatbank8_b_air',\n",
       "       'primary_cleaner.state.floatbank8_b_level',\n",
       "       'primary_cleaner.state.floatbank8_c_air',\n",
       "       'primary_cleaner.state.floatbank8_c_level',\n",
       "       'primary_cleaner.state.floatbank8_d_air',\n",
       "       'primary_cleaner.state.floatbank8_d_level',\n",
       "       'rougher.calculation.sulfate_to_au_concentrate',\n",
       "       'rougher.calculation.floatbank10_sulfate_to_au_feed',\n",
       "       'rougher.calculation.floatbank11_sulfate_to_au_feed',\n",
       "       'rougher.calculation.au_pb_ratio', 'rougher.input.feed_ag',\n",
       "       'rougher.input.feed_pb', 'rougher.input.feed_rate',\n",
       "       'rougher.input.feed_size', 'rougher.input.feed_sol',\n",
       "       'rougher.input.feed_au', 'rougher.input.floatbank10_sulfate',\n",
       "       'rougher.input.floatbank10_xanthate',\n",
       "       'rougher.input.floatbank11_sulfate',\n",
       "       'rougher.input.floatbank11_xanthate', 'rougher.output.concentrate_ag',\n",
       "       'rougher.output.concentrate_pb', 'rougher.output.concentrate_sol',\n",
       "       'rougher.output.concentrate_au', 'rougher.output.recovery',\n",
       "       'rougher.output.tail_ag', 'rougher.output.tail_pb',\n",
       "       'rougher.output.tail_sol', 'rougher.output.tail_au',\n",
       "       'rougher.state.floatbank10_a_air', 'rougher.state.floatbank10_a_level',\n",
       "       'rougher.state.floatbank10_b_air', 'rougher.state.floatbank10_b_level',\n",
       "       'rougher.state.floatbank10_c_air', 'rougher.state.floatbank10_c_level',\n",
       "       'rougher.state.floatbank10_d_air', 'rougher.state.floatbank10_d_level',\n",
       "       'rougher.state.floatbank10_e_air', 'rougher.state.floatbank10_e_level',\n",
       "       'rougher.state.floatbank10_f_air', 'rougher.state.floatbank10_f_level',\n",
       "       'secondary_cleaner.output.tail_ag', 'secondary_cleaner.output.tail_pb',\n",
       "       'secondary_cleaner.output.tail_sol', 'secondary_cleaner.output.tail_au',\n",
       "       'secondary_cleaner.state.floatbank2_a_air',\n",
       "       'secondary_cleaner.state.floatbank2_a_level',\n",
       "       'secondary_cleaner.state.floatbank2_b_air',\n",
       "       'secondary_cleaner.state.floatbank2_b_level',\n",
       "       'secondary_cleaner.state.floatbank3_a_air',\n",
       "       'secondary_cleaner.state.floatbank3_a_level',\n",
       "       'secondary_cleaner.state.floatbank3_b_air',\n",
       "       'secondary_cleaner.state.floatbank3_b_level',\n",
       "       'secondary_cleaner.state.floatbank4_a_air',\n",
       "       'secondary_cleaner.state.floatbank4_a_level',\n",
       "       'secondary_cleaner.state.floatbank4_b_air',\n",
       "       'secondary_cleaner.state.floatbank4_b_level',\n",
       "       'secondary_cleaner.state.floatbank5_a_air',\n",
       "       'secondary_cleaner.state.floatbank5_a_level',\n",
       "       'secondary_cleaner.state.floatbank5_b_air',\n",
       "       'secondary_cleaner.state.floatbank5_b_level',\n",
       "       'secondary_cleaner.state.floatbank6_a_air',\n",
       "       'secondary_cleaner.state.floatbank6_a_level'],\n",
       "      dtype='object')"
      ]
     },
     "execution_count": 22,
     "metadata": {},
     "output_type": "execute_result"
    }
   ],
   "source": [
    "full_df.columns"
   ]
  },
  {
   "cell_type": "code",
   "execution_count": 23,
   "id": "f4d7353d",
   "metadata": {},
   "outputs": [],
   "source": [
    "au=['rougher.input.feed_au','rougher.output.concentrate_au','primary_cleaner.output.concentrate_au','final.output.concentrate_au']"
   ]
  },
  {
   "cell_type": "code",
   "execution_count": 24,
   "id": "87a41eb1",
   "metadata": {},
   "outputs": [
    {
     "data": {
      "image/png": "[encoded data removed]",
      "text/plain": [
       "<Figure size 432x288 with 1 Axes>"
      ]
     },
     "metadata": {
      "needs_background": "light"
     },
     "output_type": "display_data"
    }
   ],
   "source": [
    "for i in au:\n",
    "    plt.hist(full_df[i],)\n",
    "    plt.legend(au)\n",
    "    plt.title('Гистограмма изменения концентрации золота')"
   ]
  },
  {
   "cell_type": "markdown",
   "id": "9e444d71",
   "metadata": {},
   "source": [
    "Гистограммы наглядно показывают как увеличивается концетрация золота после кахдого этапа обработки."
   ]
  },
  {
   "cell_type": "markdown",
   "id": "4f5591b9",
   "metadata": {},
   "source": [
    "Сраним концентрацию серебра(Ag)"
   ]
  },
  {
   "cell_type": "code",
   "execution_count": 25,
   "id": "fde72bf7",
   "metadata": {},
   "outputs": [],
   "source": [
    "ag=['rougher.input.feed_ag','rougher.output.concentrate_ag','primary_cleaner.output.concentrate_ag','final.output.concentrate_ag']"
   ]
  },
  {
   "cell_type": "code",
   "execution_count": 26,
   "id": "b752f80c",
   "metadata": {},
   "outputs": [
    {
     "data": {
      "image/png": "[encoded data removed]",
      "text/plain": [
       "<Figure size 864x432 with 1 Axes>"
      ]
     },
     "metadata": {
      "needs_background": "light"
     },
     "output_type": "display_data"
    }
   ],
   "source": [
    "plt.figure(figsize=(12,6))\n",
    "for i in ag:\n",
    "    plt.hist(full_df[i],alpha=0.7)\n",
    "    plt.legend(ag)\n",
    "    plt.title('Гистограмма изменения концентрации серебра')"
   ]
  },
  {
   "cell_type": "markdown",
   "id": "32b52b3e",
   "metadata": {},
   "source": [
    "Концентрация серебра не так однозначна как с золотом, видимо часть серебра уходит \"хвостах\""
   ]
  },
  {
   "cell_type": "code",
   "execution_count": 27,
   "id": "d8cff38a",
   "metadata": {},
   "outputs": [],
   "source": [
    "pb=['rougher.input.feed_pb','rougher.output.concentrate_pb','primary_cleaner.output.concentrate_pb','final.output.concentrate_pb']"
   ]
  },
  {
   "cell_type": "code",
   "execution_count": 28,
   "id": "2593fa05",
   "metadata": {},
   "outputs": [
    {
     "data": {
      "image/png": "[encoded data removed]",
      "text/plain": [
       "<Figure size 864x432 with 1 Axes>"
      ]
     },
     "metadata": {
      "needs_background": "light"
     },
     "output_type": "display_data"
    }
   ],
   "source": [
    "plt.figure(figsize=(12,6))\n",
    "for i in pb:\n",
    "    plt.hist(full_df[i],alpha=0.7)\n",
    "    plt.legend(pb)\n",
    "    plt.title('Гистограмма изменения концентрации свинца')"
   ]
  },
  {
   "cell_type": "markdown",
   "id": "699ddf46",
   "metadata": {},
   "source": [
    "Средняя концентрация свинца увеличивается после каждого этапа очистки."
   ]
  },
  {
   "cell_type": "markdown",
   "id": "7b9aae7a",
   "metadata": {},
   "source": [
    "#### Вывод. "
   ]
  },
  {
   "cell_type": "markdown",
   "id": "e753a484",
   "metadata": {},
   "source": [
    "Концетрация золота после каждого этапа очистки увеличивается всреднем в 8-10 раз от начального сырья до финального. Концентрация серебра не стабильна- не наблюдается роста концентрации. Свинец после каждого этапа очистки тоже увеличивается но не так явно как золото."
   ]
  },
  {
   "cell_type": "markdown",
   "id": "cbe5ce6f",
   "metadata": {},
   "source": [
    "### Сравните распределения размеров гранул сырья на обучающей и тестовой выборках. Если распределения сильно отличаются друг от друга, оценка модели будет неправильной."
   ]
  },
  {
   "cell_type": "markdown",
   "id": "8756c43f",
   "metadata": {},
   "source": [
    "Посмотрим на распределение размера гранул `rougher.input.feed_size` на входе. Для этого отобразим гистограмму для обоих датафреймов и боксплоты. "
   ]
  },
  {
   "cell_type": "code",
   "execution_count": 29,
   "id": "edabfe10",
   "metadata": {},
   "outputs": [
    {
     "data": {
      "text/plain": [
       "<matplotlib.legend.Legend at 0x1ae342a6b20>"
      ]
     },
     "execution_count": 29,
     "metadata": {},
     "output_type": "execute_result"
    },
    {
     "data": {
      "image/png": "[encoded data removed]",
      "text/plain": [
       "<Figure size 432x288 with 1 Axes>"
      ]
     },
     "metadata": {
      "needs_background": "light"
     },
     "output_type": "display_data"
    }
   ],
   "source": [
    "plt.hist(test_df['rougher.input.feed_size'],alpha=0.7,density=True,color='red',label='test feef size')\n",
    "plt.hist(train_df['rougher.input.feed_size'],density=True,alpha=0.7,label='train feef size')\n",
    "plt.legend(loc='upper right')"
   ]
  },
  {
   "cell_type": "code",
   "execution_count": 30,
   "id": "ea5f6676",
   "metadata": {},
   "outputs": [
    {
     "data": {
      "text/plain": [
       "<AxesSubplot:>"
      ]
     },
     "execution_count": 30,
     "metadata": {},
     "output_type": "execute_result"
    },
    {
     "data": {
      "image/png": "[encoded data removed]",
      "text/plain": [
       "<Figure size 432x288 with 1 Axes>"
      ]
     },
     "metadata": {
      "needs_background": "light"
     },
     "output_type": "display_data"
    }
   ],
   "source": [
    "test_df.boxplot('rougher.input.feed_size')"
   ]
  },
  {
   "cell_type": "code",
   "execution_count": 31,
   "id": "4d18b325",
   "metadata": {},
   "outputs": [
    {
     "data": {
      "text/plain": [
       "count    5290.000000\n",
       "mean       55.952754\n",
       "std        19.080334\n",
       "min         0.046369\n",
       "25%        43.906504\n",
       "50%        50.846843\n",
       "75%        62.451165\n",
       "max       392.494040\n",
       "Name: rougher.input.feed_size, dtype: float64"
      ]
     },
     "execution_count": 31,
     "metadata": {},
     "output_type": "execute_result"
    }
   ],
   "source": [
    "test_df['rougher.input.feed_size'].describe()"
   ]
  },
  {
   "cell_type": "markdown",
   "id": "ee0ce1cf",
   "metadata": {},
   "source": [
    "Данные распределены нормально, есть аномальные выбросы в большую сторону. Медианное значение около 50"
   ]
  },
  {
   "cell_type": "markdown",
   "id": "4431ef19",
   "metadata": {},
   "source": [
    "Посмотрим на обчучающую выборку."
   ]
  },
  {
   "cell_type": "code",
   "execution_count": 32,
   "id": "3170404b",
   "metadata": {},
   "outputs": [
    {
     "data": {
      "text/plain": [
       "<AxesSubplot:>"
      ]
     },
     "execution_count": 32,
     "metadata": {},
     "output_type": "execute_result"
    },
    {
     "data": {
      "image/png": "[encoded data removed]",
      "text/plain": [
       "<Figure size 432x288 with 1 Axes>"
      ]
     },
     "metadata": {
      "needs_background": "light"
     },
     "output_type": "display_data"
    }
   ],
   "source": [
    "train_df.boxplot('rougher.input.feed_size')"
   ]
  },
  {
   "cell_type": "code",
   "execution_count": 33,
   "id": "22136481",
   "metadata": {},
   "outputs": [
    {
     "data": {
      "text/plain": [
       "count    14149.000000\n",
       "mean        60.239856\n",
       "std         23.005310\n",
       "min          9.659576\n",
       "25%         48.966751\n",
       "50%         55.269784\n",
       "75%         66.007526\n",
       "max        484.967466\n",
       "Name: rougher.input.feed_size, dtype: float64"
      ]
     },
     "execution_count": 33,
     "metadata": {},
     "output_type": "execute_result"
    }
   ],
   "source": [
    "train_df['rougher.input.feed_size'].describe()"
   ]
  },
  {
   "cell_type": "code",
   "execution_count": 34,
   "id": "d06a4157",
   "metadata": {},
   "outputs": [
    {
     "data": {
      "text/plain": [
       "<AxesSubplot:xlabel='rougher.input.feed_size', ylabel='Count'>"
      ]
     },
     "execution_count": 34,
     "metadata": {},
     "output_type": "execute_result"
    },
    {
     "data": {
      "image/png": "[encoded data removed]",
      "text/plain": [
       "<Figure size 432x288 with 1 Axes>"
      ]
     },
     "metadata": {
      "needs_background": "light"
     },
     "output_type": "display_data"
    }
   ],
   "source": [
    "fig,ax=plt.subplots()\n",
    "sns.histplot(test_df['rougher.input.feed_size'],ax= ax,color='red')\n",
    "sns.histplot(train_df['rougher.input.feed_size'],ax=ax)"
   ]
  },
  {
   "cell_type": "markdown",
   "id": "2da247d0",
   "metadata": {},
   "source": [
    "Данные распределены похоже, медианное значение 55, а среднее 60.Я думаю незначительное разница в данных обучающей и тестовой выбрки. Большого влияния на модель не будет."
   ]
  },
  {
   "cell_type": "markdown",
   "id": "1fc4a009",
   "metadata": {},
   "source": [
    "### Исследуйте суммарную концентрацию всех веществ на разных стадиях: в сырье, в черновом и финальном концентратах."
   ]
  },
  {
   "cell_type": "markdown",
   "id": "6bbc5aa4",
   "metadata": {},
   "source": [
    "С помощью круговых диаграмм исследуем долю металлов на каждом из четырёх этапах очистки. "
   ]
  },
  {
   "cell_type": "markdown",
   "id": "47c6d85f",
   "metadata": {},
   "source": [
    "Сырьё перед флотацией."
   ]
  },
  {
   "cell_type": "code",
   "execution_count": 35,
   "id": "1477108d",
   "metadata": {},
   "outputs": [],
   "source": [
    "roug=['rougher.input.feed_au','rougher.input.feed_pb','rougher.input.feed_ag']"
   ]
  },
  {
   "cell_type": "code",
   "execution_count": 36,
   "id": "e97f9fe6",
   "metadata": {},
   "outputs": [
    {
     "data": {
      "text/plain": [
       "<AxesSubplot:title={'center':'Сырьё'}, ylabel='None'>"
      ]
     },
     "execution_count": 36,
     "metadata": {},
     "output_type": "execute_result"
    },
    {
     "data": {
      "image/png": "[encoded data removed]",
      "text/plain": [
       "<Figure size 432x432 with 1 Axes>"
      ]
     },
     "metadata": {},
     "output_type": "display_data"
    }
   ],
   "source": [
    "full_df[roug].sum().plot.pie(figsize=(6,6),title='Сырьё',autopct='%.1f')"
   ]
  },
  {
   "cell_type": "markdown",
   "id": "d418995f",
   "metadata": {},
   "source": [
    "После флотации"
   ]
  },
  {
   "cell_type": "code",
   "execution_count": 37,
   "id": "6f9a8d60",
   "metadata": {},
   "outputs": [],
   "source": [
    "roug_out=['rougher.output.concentrate_au','rougher.output.concentrate_ag','rougher.output.concentrate_pb']"
   ]
  },
  {
   "cell_type": "code",
   "execution_count": 38,
   "id": "b75d447c",
   "metadata": {},
   "outputs": [
    {
     "data": {
      "text/plain": [
       "<AxesSubplot:title={'center':'После флотации'}, ylabel='None'>"
      ]
     },
     "execution_count": 38,
     "metadata": {},
     "output_type": "execute_result"
    },
    {
     "data": {
      "image/png": "[encoded data removed]",
      "text/plain": [
       "<Figure size 432x432 with 1 Axes>"
      ]
     },
     "metadata": {},
     "output_type": "display_data"
    }
   ],
   "source": [
    "full_df[roug_out].sum().plot.pie(figsize=(6,6),autopct='%.1f',title='После флотации')"
   ]
  },
  {
   "cell_type": "markdown",
   "id": "c3b27c03",
   "metadata": {},
   "source": [
    "После первичной очистки"
   ]
  },
  {
   "cell_type": "code",
   "execution_count": 39,
   "id": "4e099de6",
   "metadata": {},
   "outputs": [],
   "source": [
    "prime=['primary_cleaner.output.concentrate_au','primary_cleaner.output.concentrate_ag','primary_cleaner.output.concentrate_pb']"
   ]
  },
  {
   "cell_type": "code",
   "execution_count": 40,
   "id": "f986c4a6",
   "metadata": {},
   "outputs": [
    {
     "data": {
      "text/plain": [
       "<AxesSubplot:title={'center':'После первичной очистки'}, ylabel='None'>"
      ]
     },
     "execution_count": 40,
     "metadata": {},
     "output_type": "execute_result"
    },
    {
     "data": {
      "image/png": "[encoded data removed]",
      "text/plain": [
       "<Figure size 432x432 with 1 Axes>"
      ]
     },
     "metadata": {},
     "output_type": "display_data"
    }
   ],
   "source": [
    "full_df[prime].sum().plot.pie(figsize=(6,6),autopct='%.1f',title='После первичной очистки')"
   ]
  },
  {
   "cell_type": "markdown",
   "id": "7fe370bf",
   "metadata": {},
   "source": [
    "И доле металлов в финальном концентрате."
   ]
  },
  {
   "cell_type": "code",
   "execution_count": 41,
   "id": "cbf03eb1",
   "metadata": {},
   "outputs": [],
   "source": [
    "final=['final.output.concentrate_au','final.output.concentrate_ag','final.output.concentrate_pb']"
   ]
  },
  {
   "cell_type": "code",
   "execution_count": 42,
   "id": "2d6b0d39",
   "metadata": {},
   "outputs": [
    {
     "data": {
      "text/plain": [
       "<AxesSubplot:title={'center':'Финальный концентрат'}, ylabel='None'>"
      ]
     },
     "execution_count": 42,
     "metadata": {},
     "output_type": "execute_result"
    },
    {
     "data": {
      "image/png": "[encoded data removed]",
      "text/plain": [
       "<Figure size 432x432 with 1 Axes>"
      ]
     },
     "metadata": {},
     "output_type": "display_data"
    }
   ],
   "source": [
    "full_df[final].sum().plot.pie(figsize=(6,6),autopct='%.1f',title='Финальный концентрат')"
   ]
  },
  {
   "cell_type": "markdown",
   "id": "9113fae6",
   "metadata": {},
   "source": [
    "Отобразим в цифрами."
   ]
  },
  {
   "cell_type": "markdown",
   "id": "15e9cb10",
   "metadata": {},
   "source": [
    "Сумма золота  на этапах очистки"
   ]
  },
  {
   "cell_type": "code",
   "execution_count": 43,
   "id": "f6926cae",
   "metadata": {},
   "outputs": [
    {
     "data": {
      "text/plain": [
       "rougher.input.feed_au                    160684.665932\n",
       "rougher.output.concentrate_au            384347.910711\n",
       "primary_cleaner.output.concentrate_au    624369.024529\n",
       "final.output.concentrate_au              856803.335079\n",
       "dtype: float64"
      ]
     },
     "execution_count": 43,
     "metadata": {},
     "output_type": "execute_result"
    }
   ],
   "source": [
    "full_df[au].sum()"
   ]
  },
  {
   "cell_type": "markdown",
   "id": "851e6e02",
   "metadata": {},
   "source": [
    "Серебро"
   ]
  },
  {
   "cell_type": "code",
   "execution_count": 44,
   "id": "8bdcc917",
   "metadata": {},
   "outputs": [
    {
     "data": {
      "text/plain": [
       "rougher.input.feed_ag                    170964.594230\n",
       "rougher.output.concentrate_ag            233166.127197\n",
       "primary_cleaner.output.concentrate_ag    164111.970623\n",
       "final.output.concentrate_ag              100468.274261\n",
       "dtype: float64"
      ]
     },
     "execution_count": 44,
     "metadata": {},
     "output_type": "execute_result"
    }
   ],
   "source": [
    "full_df[ag].sum()"
   ]
  },
  {
   "cell_type": "markdown",
   "id": "c2864dde",
   "metadata": {},
   "source": [
    "Свинец"
   ]
  },
  {
   "cell_type": "code",
   "execution_count": 45,
   "id": "04088f35",
   "metadata": {},
   "outputs": [
    {
     "data": {
      "text/plain": [
       "rougher.input.feed_pb                     69690.675538\n",
       "rougher.output.concentrate_pb            147858.327496\n",
       "primary_cleaner.output.concentrate_pb    190702.743208\n",
       "final.output.concentrate_pb              193978.308887\n",
       "dtype: float64"
      ]
     },
     "execution_count": 45,
     "metadata": {},
     "output_type": "execute_result"
    }
   ],
   "source": [
    "full_df[pb].sum()"
   ]
  },
  {
   "cell_type": "markdown",
   "id": "4804deca",
   "metadata": {},
   "source": [
    "#### Строим гистограммы сумарных концетраций веществ"
   ]
  },
  {
   "cell_type": "markdown",
   "id": "090992fe",
   "metadata": {},
   "source": [
    "Пронаблюдаем распределение концентрации на всех этапах."
   ]
  },
  {
   "cell_type": "markdown",
   "id": "2e6a9776",
   "metadata": {},
   "source": [
    "Для золота:"
   ]
  },
  {
   "cell_type": "code",
   "execution_count": 46,
   "id": "410b3783",
   "metadata": {},
   "outputs": [
    {
     "data": {
      "text/plain": [
       "array([[<AxesSubplot:title={'center':'rougher.input.feed_au'}>,\n",
       "        <AxesSubplot:title={'center':'rougher.output.concentrate_au'}>],\n",
       "       [<AxesSubplot:title={'center':'primary_cleaner.output.concentrate_au'}>,\n",
       "        <AxesSubplot:title={'center':'final.output.concentrate_au'}>]],\n",
       "      dtype=object)"
      ]
     },
     "execution_count": 46,
     "metadata": {},
     "output_type": "execute_result"
    },
    {
     "data": {
      "image/png": "[encoded data removed]",
      "text/plain": [
       "<Figure size 432x432 with 4 Axes>"
      ]
     },
     "metadata": {
      "needs_background": "light"
     },
     "output_type": "display_data"
    }
   ],
   "source": [
    "full_df[au].hist(figsize=(6,6),bins=15,color='yellow')"
   ]
  },
  {
   "cell_type": "markdown",
   "id": "d6eed42b",
   "metadata": {},
   "source": [
    "Для серебра"
   ]
  },
  {
   "cell_type": "code",
   "execution_count": 47,
   "id": "66c7081e",
   "metadata": {},
   "outputs": [
    {
     "data": {
      "text/plain": [
       "array([[<AxesSubplot:title={'center':'rougher.input.feed_ag'}>,\n",
       "        <AxesSubplot:title={'center':'rougher.output.concentrate_ag'}>],\n",
       "       [<AxesSubplot:title={'center':'primary_cleaner.output.concentrate_ag'}>,\n",
       "        <AxesSubplot:title={'center':'final.output.concentrate_ag'}>]],\n",
       "      dtype=object)"
      ]
     },
     "execution_count": 47,
     "metadata": {},
     "output_type": "execute_result"
    },
    {
     "data": {
      "image/png": "[encoded data removed]",
      "text/plain": [
       "<Figure size 432x432 with 4 Axes>"
      ]
     },
     "metadata": {
      "needs_background": "light"
     },
     "output_type": "display_data"
    }
   ],
   "source": [
    "full_df[ag].hist(figsize=(6,6),bins=15,color='grey')"
   ]
  },
  {
   "cell_type": "code",
   "execution_count": 48,
   "id": "f0dc5109",
   "metadata": {},
   "outputs": [
    {
     "data": {
      "text/plain": [
       "array([[<AxesSubplot:title={'center':'rougher.input.feed_pb'}>,\n",
       "        <AxesSubplot:title={'center':'rougher.output.concentrate_pb'}>],\n",
       "       [<AxesSubplot:title={'center':'primary_cleaner.output.concentrate_pb'}>,\n",
       "        <AxesSubplot:title={'center':'final.output.concentrate_pb'}>]],\n",
       "      dtype=object)"
      ]
     },
     "execution_count": 48,
     "metadata": {},
     "output_type": "execute_result"
    },
    {
     "data": {
      "image/png": "[encoded data removed]",
      "text/plain": [
       "<Figure size 432x432 with 4 Axes>"
      ]
     },
     "metadata": {
      "needs_background": "light"
     },
     "output_type": "display_data"
    }
   ],
   "source": [
    "full_df[pb].hist(figsize=(6,6),bins=15,color='blue')"
   ]
  },
  {
   "cell_type": "markdown",
   "id": "c4d2627c",
   "metadata": {},
   "source": [
    "#### Вывод"
   ]
  },
  {
   "cell_type": "markdown",
   "id": "13b4b5cb",
   "metadata": {},
   "source": [
    "Доля золота и общая после каждого этапа очистки растет и в финальном концентрате достигает 74.4% по отношению к свинцу и серебру.Доля серебра и свинца уменьшается.Концентрация золота увеличивается но есть выбросы в сторону нуля."
   ]
  },
  {
   "cell_type": "markdown",
   "id": "3f1d9071",
   "metadata": {},
   "source": [
    "концентрация перед флотацией"
   ]
  },
  {
   "cell_type": "code",
   "execution_count": 49,
   "id": "1ce813b7",
   "metadata": {},
   "outputs": [],
   "source": [
    "rougher_input_sum = full_df[[\n",
    "'rougher.input.feed_au',\n",
    "'rougher.input.feed_ag',\n",
    "'rougher.input.feed_pb',\n",
    "'rougher.input.feed_sol'\n",
    "]].sum(axis=1)"
   ]
  },
  {
   "cell_type": "code",
   "execution_count": 50,
   "id": "6b1bcc86",
   "metadata": {},
   "outputs": [
    {
     "data": {
      "text/plain": [
       "<AxesSubplot:>"
      ]
     },
     "execution_count": 50,
     "metadata": {},
     "output_type": "execute_result"
    },
    {
     "data": {
      "image/png": "[encoded data removed]",
      "text/plain": [
       "<Figure size 432x288 with 1 Axes>"
      ]
     },
     "metadata": {
      "needs_background": "light"
     },
     "output_type": "display_data"
    }
   ],
   "source": [
    "rougher_input_sum.hist(bins=20)"
   ]
  },
  {
   "cell_type": "markdown",
   "id": "1c328d9c",
   "metadata": {},
   "source": [
    "После флотации."
   ]
  },
  {
   "cell_type": "code",
   "execution_count": 51,
   "id": "41e2dea7",
   "metadata": {},
   "outputs": [
    {
     "data": {
      "image/png": "[encoded data removed]",
      "text/plain": [
       "<Figure size 432x288 with 1 Axes>"
      ]
     },
     "metadata": {
      "needs_background": "light"
     },
     "output_type": "display_data"
    }
   ],
   "source": [
    "rougher_output_sum = full_df[[\n",
    "    'rougher.output.concentrate_au',\n",
    "    'rougher.output.concentrate_ag',\n",
    "    'rougher.output.concentrate_pb',\n",
    "    'rougher.output.concentrate_sol'\n",
    "]].sum(axis=1).hist(bins=20,color='red')"
   ]
  },
  {
   "cell_type": "code",
   "execution_count": 52,
   "id": "e33c8c52",
   "metadata": {},
   "outputs": [
    {
     "data": {
      "image/png": "[encoded data removed]",
      "text/plain": [
       "<Figure size 432x288 with 1 Axes>"
      ]
     },
     "metadata": {
      "needs_background": "light"
     },
     "output_type": "display_data"
    }
   ],
   "source": [
    "primary_cleaner_output_sum = full_df[[\n",
    "    'primary_cleaner.output.concentrate_au',\n",
    "    'primary_cleaner.output.concentrate_ag',\n",
    "    'primary_cleaner.output.concentrate_pb',\n",
    "    'primary_cleaner.output.concentrate_sol'\n",
    "]].sum(axis=1).hist(bins=20,color='black')"
   ]
  },
  {
   "cell_type": "markdown",
   "id": "f7539648",
   "metadata": {},
   "source": [
    "Финальная концентрация"
   ]
  },
  {
   "cell_type": "code",
   "execution_count": 53,
   "id": "b6d8efa1",
   "metadata": {},
   "outputs": [
    {
     "data": {
      "image/png": "[encoded data removed]",
      "text/plain": [
       "<Figure size 432x288 with 1 Axes>"
      ]
     },
     "metadata": {
      "needs_background": "light"
     },
     "output_type": "display_data"
    }
   ],
   "source": [
    "final_output_sum = full_df[[\n",
    "    'final.output.concentrate_au',\n",
    "    'final.output.concentrate_ag',\n",
    "    'final.output.concentrate_pb',\n",
    "    'final.output.concentrate_sol'\n",
    "]].sum(axis=1).hist(bins=20,color='green')"
   ]
  },
  {
   "cell_type": "markdown",
   "id": "51122ecd",
   "metadata": {},
   "source": [
    "Из построеных гистограмм видно что имеются **нулеве значения**, это скорее всего связано с неисправностью датчиков. Эти данные необходимо удалить из тестовой и тренировочной выборки. Для этого довавим новые столбцы в полный датасет, и по ним удалим нулевые строки из датасета полного , потом из тренировоного и тестового."
   ]
  },
  {
   "cell_type": "code",
   "execution_count": 54,
   "id": "0e4529d7",
   "metadata": {},
   "outputs": [],
   "source": [
    "full_df['rougher.input.feed_sum'] = (full_df['rougher.input.feed_pb'] +\n",
    "                                     full_df['rougher.input.feed_au'] +\n",
    "                                     full_df['rougher.input.feed_ag'])\n",
    "full_df['rougher.output.concentrate_sum'] = (full_df['rougher.output.concentrate_pb'] +\n",
    "                                             full_df['rougher.output.concentrate_au'] +\n",
    "                                             full_df['rougher.output.concentrate_ag'])\n",
    "full_df['primary_cleaner.output.concentrate_sum'] = (full_df['primary_cleaner.output.concentrate_pb'] +\n",
    "                                             full_df['primary_cleaner.output.concentrate_au'] +\n",
    "                                             full_df['primary_cleaner.output.concentrate_ag'])\n",
    "full_df['final.output.concentrate_sum'] = (full_df['final.output.concentrate_pb'] +\n",
    "                                           full_df['final.output.concentrate_au'] +\n",
    "                                           full_df['final.output.concentrate_ag'])\n"
   ]
  },
  {
   "cell_type": "code",
   "execution_count": 55,
   "id": "4717424a",
   "metadata": {},
   "outputs": [
    {
     "name": "stdout",
     "output_type": "stream",
     "text": [
      "<class 'pandas.core.frame.DataFrame'>\n",
      "RangeIndex: 19439 entries, 0 to 19438\n",
      "Data columns (total 91 columns):\n",
      " #   Column                                              Non-Null Count  Dtype  \n",
      "---  ------                                              --------------  -----  \n",
      " 0   date                                                19439 non-null  object \n",
      " 1   final.output.concentrate_ag                         19439 non-null  float64\n",
      " 2   final.output.concentrate_pb                         19439 non-null  float64\n",
      " 3   final.output.concentrate_sol                        19439 non-null  float64\n",
      " 4   final.output.concentrate_au                         19439 non-null  float64\n",
      " 5   final.output.recovery                               19439 non-null  float64\n",
      " 6   final.output.tail_ag                                19439 non-null  float64\n",
      " 7   final.output.tail_pb                                19439 non-null  float64\n",
      " 8   final.output.tail_sol                               19439 non-null  float64\n",
      " 9   final.output.tail_au                                19439 non-null  float64\n",
      " 10  primary_cleaner.input.sulfate                       19439 non-null  float64\n",
      " 11  primary_cleaner.input.depressant                    19439 non-null  float64\n",
      " 12  primary_cleaner.input.feed_size                     19439 non-null  float64\n",
      " 13  primary_cleaner.input.xanthate                      19439 non-null  float64\n",
      " 14  primary_cleaner.output.concentrate_ag               19439 non-null  float64\n",
      " 15  primary_cleaner.output.concentrate_pb               19439 non-null  float64\n",
      " 16  primary_cleaner.output.concentrate_sol              19439 non-null  float64\n",
      " 17  primary_cleaner.output.concentrate_au               19439 non-null  float64\n",
      " 18  primary_cleaner.output.tail_ag                      19439 non-null  float64\n",
      " 19  primary_cleaner.output.tail_pb                      19439 non-null  float64\n",
      " 20  primary_cleaner.output.tail_sol                     19439 non-null  float64\n",
      " 21  primary_cleaner.output.tail_au                      19439 non-null  float64\n",
      " 22  primary_cleaner.state.floatbank8_a_air              19439 non-null  float64\n",
      " 23  primary_cleaner.state.floatbank8_a_level            19439 non-null  float64\n",
      " 24  primary_cleaner.state.floatbank8_b_air              19439 non-null  float64\n",
      " 25  primary_cleaner.state.floatbank8_b_level            19439 non-null  float64\n",
      " 26  primary_cleaner.state.floatbank8_c_air              19439 non-null  float64\n",
      " 27  primary_cleaner.state.floatbank8_c_level            19439 non-null  float64\n",
      " 28  primary_cleaner.state.floatbank8_d_air              19439 non-null  float64\n",
      " 29  primary_cleaner.state.floatbank8_d_level            19439 non-null  float64\n",
      " 30  rougher.calculation.sulfate_to_au_concentrate       19439 non-null  float64\n",
      " 31  rougher.calculation.floatbank10_sulfate_to_au_feed  19439 non-null  float64\n",
      " 32  rougher.calculation.floatbank11_sulfate_to_au_feed  19439 non-null  float64\n",
      " 33  rougher.calculation.au_pb_ratio                     19439 non-null  float64\n",
      " 34  rougher.input.feed_ag                               19439 non-null  float64\n",
      " 35  rougher.input.feed_pb                               19439 non-null  float64\n",
      " 36  rougher.input.feed_rate                             19439 non-null  float64\n",
      " 37  rougher.input.feed_size                             19439 non-null  float64\n",
      " 38  rougher.input.feed_sol                              19439 non-null  float64\n",
      " 39  rougher.input.feed_au                               19439 non-null  float64\n",
      " 40  rougher.input.floatbank10_sulfate                   19439 non-null  float64\n",
      " 41  rougher.input.floatbank10_xanthate                  19439 non-null  float64\n",
      " 42  rougher.input.floatbank11_sulfate                   19439 non-null  float64\n",
      " 43  rougher.input.floatbank11_xanthate                  19439 non-null  float64\n",
      " 44  rougher.output.concentrate_ag                       19439 non-null  float64\n",
      " 45  rougher.output.concentrate_pb                       19439 non-null  float64\n",
      " 46  rougher.output.concentrate_sol                      19439 non-null  float64\n",
      " 47  rougher.output.concentrate_au                       19439 non-null  float64\n",
      " 48  rougher.output.recovery                             19439 non-null  float64\n",
      " 49  rougher.output.tail_ag                              19439 non-null  float64\n",
      " 50  rougher.output.tail_pb                              19439 non-null  float64\n",
      " 51  rougher.output.tail_sol                             19439 non-null  float64\n",
      " 52  rougher.output.tail_au                              19439 non-null  float64\n",
      " 53  rougher.state.floatbank10_a_air                     19439 non-null  float64\n",
      " 54  rougher.state.floatbank10_a_level                   19439 non-null  float64\n",
      " 55  rougher.state.floatbank10_b_air                     19439 non-null  float64\n",
      " 56  rougher.state.floatbank10_b_level                   19439 non-null  float64\n",
      " 57  rougher.state.floatbank10_c_air                     19439 non-null  float64\n",
      " 58  rougher.state.floatbank10_c_level                   19439 non-null  float64\n",
      " 59  rougher.state.floatbank10_d_air                     19439 non-null  float64\n",
      " 60  rougher.state.floatbank10_d_level                   19439 non-null  float64\n",
      " 61  rougher.state.floatbank10_e_air                     19439 non-null  float64\n",
      " 62  rougher.state.floatbank10_e_level                   19439 non-null  float64\n",
      " 63  rougher.state.floatbank10_f_air                     19439 non-null  float64\n",
      " 64  rougher.state.floatbank10_f_level                   19439 non-null  float64\n",
      " 65  secondary_cleaner.output.tail_ag                    19439 non-null  float64\n",
      " 66  secondary_cleaner.output.tail_pb                    19439 non-null  float64\n",
      " 67  secondary_cleaner.output.tail_sol                   19439 non-null  float64\n",
      " 68  secondary_cleaner.output.tail_au                    19439 non-null  float64\n",
      " 69  secondary_cleaner.state.floatbank2_a_air            19439 non-null  float64\n",
      " 70  secondary_cleaner.state.floatbank2_a_level          19439 non-null  float64\n",
      " 71  secondary_cleaner.state.floatbank2_b_air            19439 non-null  float64\n",
      " 72  secondary_cleaner.state.floatbank2_b_level          19439 non-null  float64\n",
      " 73  secondary_cleaner.state.floatbank3_a_air            19439 non-null  float64\n",
      " 74  secondary_cleaner.state.floatbank3_a_level          19439 non-null  float64\n",
      " 75  secondary_cleaner.state.floatbank3_b_air            19439 non-null  float64\n",
      " 76  secondary_cleaner.state.floatbank3_b_level          19439 non-null  float64\n",
      " 77  secondary_cleaner.state.floatbank4_a_air            19439 non-null  float64\n",
      " 78  secondary_cleaner.state.floatbank4_a_level          19439 non-null  float64\n",
      " 79  secondary_cleaner.state.floatbank4_b_air            19439 non-null  float64\n",
      " 80  secondary_cleaner.state.floatbank4_b_level          19439 non-null  float64\n",
      " 81  secondary_cleaner.state.floatbank5_a_air            19439 non-null  float64\n",
      " 82  secondary_cleaner.state.floatbank5_a_level          19439 non-null  float64\n",
      " 83  secondary_cleaner.state.floatbank5_b_air            19439 non-null  float64\n",
      " 84  secondary_cleaner.state.floatbank5_b_level          19439 non-null  float64\n",
      " 85  secondary_cleaner.state.floatbank6_a_air            19439 non-null  float64\n",
      " 86  secondary_cleaner.state.floatbank6_a_level          19439 non-null  float64\n",
      " 87  rougher.input.feed_sum                              19439 non-null  float64\n",
      " 88  rougher.output.concentrate_sum                      19439 non-null  float64\n",
      " 89  primary_cleaner.output.concentrate_sum              19439 non-null  float64\n",
      " 90  final.output.concentrate_sum                        19439 non-null  float64\n",
      "dtypes: float64(90), object(1)\n",
      "memory usage: 13.5+ MB\n"
     ]
    }
   ],
   "source": [
    "full_df.info()"
   ]
  },
  {
   "cell_type": "markdown",
   "id": "809ced4d",
   "metadata": {},
   "source": [
    "#### Изабився от нулей"
   ]
  },
  {
   "cell_type": "code",
   "execution_count": 56,
   "id": "54b14164",
   "metadata": {},
   "outputs": [],
   "source": [
    "full_df = full_df.loc[full_df['rougher.input.feed_sum']!= 0] "
   ]
  },
  {
   "cell_type": "code",
   "execution_count": 57,
   "id": "a02cd451",
   "metadata": {},
   "outputs": [],
   "source": [
    "full_df = full_df.loc[full_df['rougher.output.concentrate_sum']!= 0] "
   ]
  },
  {
   "cell_type": "code",
   "execution_count": 58,
   "id": "73d5de86",
   "metadata": {},
   "outputs": [],
   "source": [
    "full_df = full_df.loc[full_df['primary_cleaner.output.concentrate_sum']!= 0]"
   ]
  },
  {
   "cell_type": "code",
   "execution_count": 59,
   "id": "08e88948",
   "metadata": {},
   "outputs": [],
   "source": [
    "full_df = full_df.loc[full_df['final.output.concentrate_sum']!= 0]"
   ]
  },
  {
   "cell_type": "code",
   "execution_count": 60,
   "id": "2bb8bd50",
   "metadata": {},
   "outputs": [
    {
     "data": {
      "text/plain": [
       "(18848, 91)"
      ]
     },
     "execution_count": 60,
     "metadata": {},
     "output_type": "execute_result"
    }
   ],
   "source": [
    "full_df.shape"
   ]
  },
  {
   "cell_type": "markdown",
   "id": "73bad7d8",
   "metadata": {},
   "source": [
    "Наш полный датафрем уменьшился. Теперь эти данные надо вытащить из тренировочного и тестового"
   ]
  },
  {
   "cell_type": "raw",
   "id": "4c43402c",
   "metadata": {},
   "source": [
    "Установим в качестве индексов дату посколько её по сути можно использовать как уникальный  id."
   ]
  },
  {
   "cell_type": "code",
   "execution_count": 61,
   "id": "c9a98332",
   "metadata": {},
   "outputs": [],
   "source": [
    "full_df = full_df.set_index('date')"
   ]
  },
  {
   "cell_type": "code",
   "execution_count": 62,
   "id": "fb8c88af",
   "metadata": {},
   "outputs": [],
   "source": [
    "test_df=test_df.set_index('date')"
   ]
  },
  {
   "cell_type": "code",
   "execution_count": 63,
   "id": "d8b52fd0",
   "metadata": {},
   "outputs": [],
   "source": [
    "train_df=train_df.set_index('date')"
   ]
  },
  {
   "cell_type": "code",
   "execution_count": 64,
   "id": "41bf5160",
   "metadata": {},
   "outputs": [
    {
     "data": {
      "text/plain": [
       "(5290, 52)"
      ]
     },
     "execution_count": 64,
     "metadata": {},
     "output_type": "execute_result"
    }
   ],
   "source": [
    "test_df.shape"
   ]
  },
  {
   "cell_type": "markdown",
   "id": "fcc303d6",
   "metadata": {},
   "source": [
    "Убираем данные из тестовой"
   ]
  },
  {
   "cell_type": "code",
   "execution_count": 65,
   "id": "8515ab16",
   "metadata": {},
   "outputs": [],
   "source": [
    "test_df = test_df.query('index in @full_df.index')"
   ]
  },
  {
   "cell_type": "code",
   "execution_count": 66,
   "id": "f46f32f0",
   "metadata": {},
   "outputs": [
    {
     "data": {
      "text/plain": [
       "(5123, 52)"
      ]
     },
     "execution_count": 66,
     "metadata": {},
     "output_type": "execute_result"
    }
   ],
   "source": [
    "test_df.shape\n"
   ]
  },
  {
   "cell_type": "markdown",
   "id": "b536b383",
   "metadata": {},
   "source": [
    "Выборка уменьшилась делаем  аналогично для тренировочной."
   ]
  },
  {
   "cell_type": "code",
   "execution_count": 67,
   "id": "0524393c",
   "metadata": {},
   "outputs": [
    {
     "data": {
      "text/plain": [
       "(14149, 86)"
      ]
     },
     "execution_count": 67,
     "metadata": {},
     "output_type": "execute_result"
    }
   ],
   "source": [
    "train_df.shape"
   ]
  },
  {
   "cell_type": "code",
   "execution_count": 68,
   "id": "86ee0be8",
   "metadata": {},
   "outputs": [],
   "source": [
    "train_df = train_df.query('index in @full_df.index')"
   ]
  },
  {
   "cell_type": "code",
   "execution_count": 69,
   "id": "f059c90b",
   "metadata": {},
   "outputs": [
    {
     "data": {
      "text/plain": [
       "(13725, 86)"
      ]
     },
     "execution_count": 69,
     "metadata": {},
     "output_type": "execute_result"
    }
   ],
   "source": [
    "train_df.shape"
   ]
  },
  {
   "cell_type": "markdown",
   "id": "57c35392",
   "metadata": {},
   "source": [
    "Получилось"
   ]
  },
  {
   "cell_type": "markdown",
   "id": "1b1edd3f",
   "metadata": {},
   "source": [
    "## Построим модель"
   ]
  },
  {
   "cell_type": "markdown",
   "id": "3157ea83",
   "metadata": {},
   "source": [
    "### Обучим разные модели и оцените их качество кросс-валидацией. Выберим лучшую модель и проверим её на тестовой выборке. Опишите выводы"
   ]
  },
  {
   "cell_type": "markdown",
   "id": "c86d4b4c",
   "metadata": {},
   "source": [
    ">**Нужно спрогнозировать сразу две величины:\n",
    "эффективность обогащения чернового концентрата `rougher.output.recovery`;\n",
    "эффективность обогащения финального концентрата `final.output.recovery`.**"
   ]
  },
  {
   "cell_type": "markdown",
   "id": "1d9a3826",
   "metadata": {},
   "source": [
    "Выделим признаки с обучающих данных. Я взял все признаки которые есть в test_df словом rougher"
   ]
  },
  {
   "cell_type": "code",
   "execution_count": 86,
   "id": "ed3b6701",
   "metadata": {},
   "outputs": [],
   "source": [
    "\n",
    "feature_train_r=train_df[['rougher.input.feed_ag',\n",
    "       'rougher.input.feed_pb', 'rougher.input.feed_rate',\n",
    "       'rougher.input.feed_size', 'rougher.input.feed_sol',\n",
    "       'rougher.input.feed_au', 'rougher.input.floatbank10_sulfate',\n",
    "       'rougher.input.floatbank10_xanthate',\n",
    "       'rougher.input.floatbank11_sulfate',\n",
    "       'rougher.input.floatbank11_xanthate', 'rougher.state.floatbank10_a_air',\n",
    "       'rougher.state.floatbank10_a_level', 'rougher.state.floatbank10_b_air',\n",
    "       'rougher.state.floatbank10_b_level', 'rougher.state.floatbank10_c_air',\n",
    "       'rougher.state.floatbank10_c_level', 'rougher.state.floatbank10_d_air',\n",
    "       'rougher.state.floatbank10_d_level', 'rougher.state.floatbank10_e_air',\n",
    "       'rougher.state.floatbank10_e_level', 'rougher.state.floatbank10_f_air',\n",
    "       'rougher.state.floatbank10_f_level']]"
   ]
  },
  {
   "cell_type": "code",
   "execution_count": 87,
   "id": "7a32b610",
   "metadata": {},
   "outputs": [],
   "source": [
    "target_train_r=train_df['rougher.output.recovery']"
   ]
  },
  {
   "cell_type": "code",
   "execution_count": 91,
   "id": "29655892",
   "metadata": {},
   "outputs": [],
   "source": [
    "test_target_rougher=full_df.loc[test_df.index]"
   ]
  },
  {
   "cell_type": "code",
   "execution_count": 92,
   "id": "289d4c32",
   "metadata": {},
   "outputs": [],
   "source": [
    "test_target_rougher=test_target_rougher['rougher.output.recovery']"
   ]
  },
  {
   "cell_type": "code",
   "execution_count": 93,
   "id": "afed8d2e",
   "metadata": {},
   "outputs": [],
   "source": [
    "test_feature_rougher=test_df[['rougher.input.feed_ag',\n",
    "       'rougher.input.feed_pb', 'rougher.input.feed_rate',\n",
    "       'rougher.input.feed_size', 'rougher.input.feed_sol',\n",
    "       'rougher.input.feed_au', 'rougher.input.floatbank10_sulfate',\n",
    "       'rougher.input.floatbank10_xanthate',\n",
    "       'rougher.input.floatbank11_sulfate',\n",
    "       'rougher.input.floatbank11_xanthate', 'rougher.state.floatbank10_a_air',\n",
    "       'rougher.state.floatbank10_a_level', 'rougher.state.floatbank10_b_air',\n",
    "       'rougher.state.floatbank10_b_level', 'rougher.state.floatbank10_c_air',\n",
    "       'rougher.state.floatbank10_c_level', 'rougher.state.floatbank10_d_air',\n",
    "       'rougher.state.floatbank10_d_level', 'rougher.state.floatbank10_e_air',\n",
    "       'rougher.state.floatbank10_e_level', 'rougher.state.floatbank10_f_air',\n",
    "       'rougher.state.floatbank10_f_level']]"
   ]
  },
  {
   "cell_type": "markdown",
   "id": "89a6a288",
   "metadata": {},
   "source": [
    "Вытащим таргет для теста из полной выборке(в тестовой выборке не даны таргеты)"
   ]
  },
  {
   "cell_type": "code",
   "execution_count": 94,
   "id": "e6c60217",
   "metadata": {},
   "outputs": [],
   "source": [
    "test_target_f=full_df.loc[test_df.index]"
   ]
  },
  {
   "cell_type": "code",
   "execution_count": 95,
   "id": "ed925ad8",
   "metadata": {},
   "outputs": [],
   "source": [
    "test_target_f=test_target_f['final.output.recovery']"
   ]
  },
  {
   "cell_type": "markdown",
   "id": "657f2850",
   "metadata": {},
   "source": [
    "Напишу функцию для вычисления симметричной средней абсолютной ошибки в процентах."
   ]
  },
  {
   "cell_type": "code",
   "execution_count": 97,
   "id": "977a84c9",
   "metadata": {},
   "outputs": [],
   "source": [
    "def s_mape(target,predict):\n",
    "    return ((abs(target-predict)/((abs(target)+abs(predict))/2)).sum()/len(target))*100"
   ]
  },
  {
   "cell_type": "markdown",
   "id": "68d5f8d9",
   "metadata": {},
   "source": [
    "И напишем функцию для обучения разных моделей и вычеслиленя sMAPE к этим моделям, напомню у нас будет две модели ,два предика ,два sMAPE и итоговый sMAPE раный сумме 25% от sMAPE для этапа очистки -флотация и 75% процетов от финального этапа очистки(такое было условие)"
   ]
  },
  {
   "cell_type": "code",
   "execution_count": 98,
   "id": "b176f1c6",
   "metadata": {},
   "outputs": [],
   "source": [
    "def main_func(model_r,model_f,X_train_rougher=feature_train_r,y_train_rougher=target_train_r,\n",
    "              X_test_rougher=test_feature_rougher,\n",
    "             y_test_rougher=test_target_rougher,\n",
    "             X_train_fin=train_df[test_df.columns],\n",
    "             y_train_fin=train_df['final.output.recovery'],\n",
    "             X_test_fin=test_df,\n",
    "             y_test_fin=test_target_f):\n",
    "    model_r.fit(X_train_rougher,y_train_rougher)\n",
    "    predict_r=model_r.predict(X_test_rougher)\n",
    "    smape_r=s_mape(y_test_rougher,predict_r)\n",
    "    print('sMAPE для флотации равен:',smape_r)\n",
    "    model_f.fit(X_train_fin,y_train_fin)\n",
    "    predict_f=model_f.predict(X_test_fin)\n",
    "    smape_f=s_mape(y_test_fin,predict_f)\n",
    "    print('sMAPE для финальной очистки равен',smape_f)\n",
    "    print('Общий sMAPE равен:')\n",
    "    print(0.25*smape_r+(0.75*smape_f))\n",
    "    "
   ]
  },
  {
   "cell_type": "markdown",
   "id": "fb71b2cf",
   "metadata": {},
   "source": [
    "#### Модель регрессия."
   ]
  },
  {
   "cell_type": "code",
   "execution_count": 102,
   "id": "867257c7",
   "metadata": {},
   "outputs": [],
   "source": [
    "model_1=LinearRegression()"
   ]
  },
  {
   "cell_type": "markdown",
   "id": "187c2876",
   "metadata": {},
   "source": [
    "Посчитаем нашу кастомную метрику  sMAPE методом кроссвалидации."
   ]
  },
  {
   "cell_type": "code",
   "execution_count": 108,
   "id": "7765b2da",
   "metadata": {},
   "outputs": [],
   "source": [
    "smape_scorer = make_scorer(s_mape, greater_is_better=True)\n",
    "score_1=cross_val_score(model_1,feature_train_r ,target_train_r,scoring=smape_scorer,cv=5)"
   ]
  },
  {
   "cell_type": "code",
   "execution_count": 109,
   "id": "108c5a51",
   "metadata": {},
   "outputs": [
    {
     "data": {
      "text/plain": [
       "6.677118661212691"
      ]
     },
     "execution_count": 109,
     "metadata": {},
     "output_type": "execute_result"
    }
   ],
   "source": [
    "score_1.mean()"
   ]
  },
  {
   "cell_type": "markdown",
   "id": "7043ca7e",
   "metadata": {},
   "source": [
    "Передадим в нашу функцию модели"
   ]
  },
  {
   "cell_type": "code",
   "execution_count": 111,
   "id": "aa36896b",
   "metadata": {},
   "outputs": [
    {
     "name": "stdout",
     "output_type": "stream",
     "text": [
      "sMAPE для флотации равен: 4.495541835305776\n",
      "sMAPE для финальной очистки равен 8.132231894102809\n",
      "Общий sMAPE равен:\n",
      "7.2230593794035505\n"
     ]
    }
   ],
   "source": [
    "main_func(model_1,LinearRegression())#"
   ]
  },
  {
   "cell_type": "markdown",
   "id": "8bf85787",
   "metadata": {},
   "source": [
    "**Вывод :  Общий sMAPE на линейной регресии равен 7.2230593794035505**"
   ]
  },
  {
   "cell_type": "markdown",
   "id": "59e8a937",
   "metadata": {},
   "source": [
    "#### Посмотри какое качество модели будет для  `RandomForestRegressor`. В ней будем в цикле перебирать гиперпараметры `max_dept` и `n_estimator`."
   ]
  },
  {
   "cell_type": "markdown",
   "id": "0bddad21",
   "metadata": {},
   "source": [
    "Выявим гиперпараметры  модели для флотации(rougher)"
   ]
  },
  {
   "cell_type": "code",
   "execution_count": 113,
   "id": "26c8a40f",
   "metadata": {},
   "outputs": [
    {
     "name": "stdout",
     "output_type": "stream",
     "text": [
      "Модель с лучшеми параметрами max_depth=4,n_estimators=100\n",
      "Лучший score=[10.538956    6.8927641   4.67743699  4.46762614  6.33672456]\n"
     ]
    }
   ],
   "source": [
    "# mean_score=100\n",
    "# for est in range(50,200,50):\n",
    "#     for depth in range(1,8,1):\n",
    "#         model_2 = RandomForestRegressor(n_estimators=est, max_depth=depth,random_state=123)\n",
    "#         scr=cross_val_score(model_2,feature_train_r ,target_train_r,scoring=smape_scorer,cv=5)\n",
    "#         if mean_score > abs(scr.mean()):\n",
    "#             mean_score=abs(scr.mean())\n",
    "#             final_csr=scr\n",
    "#             d=depth\n",
    "#             e=est\n",
    "# print(f'Модель с лучшеми параметрами max_depth={d},n_estimators={e}')\n",
    "# print(f'Лучший score={final_csr}')"
   ]
  },
  {
   "cell_type": "markdown",
   "id": "88d8c18d",
   "metadata": {},
   "source": [
    "*Модель с лучшеми параметрами max_depth=4,n_estimators=100*"
   ]
  },
  {
   "cell_type": "code",
   "execution_count": 115,
   "id": "3ac4b6ea",
   "metadata": {},
   "outputs": [
    {
     "name": "stdout",
     "output_type": "stream",
     "text": [
      "6.582701559646772\n"
     ]
    }
   ],
   "source": [
    "# print(final_csr.mean())"
   ]
  },
  {
   "cell_type": "markdown",
   "id": "0aebf32f",
   "metadata": {},
   "source": [
    "Обучим эту модель на выявленых параметрах."
   ]
  },
  {
   "cell_type": "code",
   "execution_count": 117,
   "id": "268838c1",
   "metadata": {},
   "outputs": [],
   "source": [
    "model_rf_rougher=RandomForestRegressor(n_estimators=100,max_depth=4,random_state=123)"
   ]
  },
  {
   "cell_type": "markdown",
   "id": "b87fcf3b",
   "metadata": {},
   "source": [
    "Теперь выявим лучшии параметры для финальной очистки. Ьудем использовать тот же цикл только с другими данными"
   ]
  },
  {
   "cell_type": "code",
   "execution_count": 119,
   "id": "cff95631",
   "metadata": {},
   "outputs": [
    {
     "name": "stdout",
     "output_type": "stream",
     "text": [
      "Модель с лучшеми параметрами max_depth=4,n_estimators=100\n",
      "Лучший score=[9.57660171 8.34978075 9.35804493 8.39028048 9.69806132]\n"
     ]
    }
   ],
   "source": [
    "# mean_score=100\n",
    "# for est in range(50,200,50):\n",
    "#     for depth in range(1,8,1):\n",
    "#         model_2 = RandomForestRegressor(n_estimators=est, max_depth=depth,random_state=123)\n",
    "#         scr=cross_val_score(model_2,train_df[test_df.columns],train_df['final.output.recovery'],scoring=smape_scorer,cv=5)\n",
    "#         if mean_score > abs(scr.mean()):\n",
    "#             mean_score=abs(scr.mean())\n",
    "#             final_csr=scr\n",
    "#             d=depth\n",
    "#             e=est\n",
    "# print(f'Модель с лучшеми параметрами max_depth={d},n_estimators={e}')\n",
    "# print(f'Лучший score={final_csr}')"
   ]
  },
  {
   "cell_type": "code",
   "execution_count": 120,
   "id": "52bf6ba2",
   "metadata": {},
   "outputs": [
    {
     "data": {
      "text/plain": [
       "9.074553838575302"
      ]
     },
     "execution_count": 120,
     "metadata": {},
     "output_type": "execute_result"
    }
   ],
   "source": [
    "# final_csr.mean()"
   ]
  },
  {
   "cell_type": "markdown",
   "id": "564a13ae",
   "metadata": {},
   "source": [
    "Модель с лучшеми параметрами max_depth=4,n_estimators=100"
   ]
  },
  {
   "cell_type": "code",
   "execution_count": 121,
   "id": "b11703d8",
   "metadata": {},
   "outputs": [],
   "source": [
    "model_rf_fin=RandomForestRegressor(n_estimators=100, max_depth=4,random_state=123)"
   ]
  },
  {
   "cell_type": "markdown",
   "id": "0c76fd7b",
   "metadata": {},
   "source": [
    "Посчитаем общий sMAPE"
   ]
  },
  {
   "cell_type": "code",
   "execution_count": 122,
   "id": "71804730",
   "metadata": {},
   "outputs": [
    {
     "name": "stdout",
     "output_type": "stream",
     "text": [
      "sMAPE для флотации равен: 4.796269587261708\n",
      "sMAPE для финальной очистки равен 8.290866135306704\n",
      "Общий sMAPE равен:\n",
      "7.417216998295455\n"
     ]
    }
   ],
   "source": [
    "main_func(model_rf_rougher,model_rf_fin)"
   ]
  },
  {
   "cell_type": "markdown",
   "id": "b2b69f75",
   "metadata": {},
   "source": [
    "**Вывод: \"Случайный лес \" работает хуже чем линейная регрессия на этих данных. Итоговый sMAPE=7.41 %**"
   ]
  },
  {
   "cell_type": "markdown",
   "id": "27a508a0",
   "metadata": {},
   "source": [
    "#### CatBoostRegressor"
   ]
  },
  {
   "cell_type": "code",
   "execution_count": 143,
   "id": "a43c3c2f",
   "metadata": {},
   "outputs": [],
   "source": [
    "train_data_r=cb.Pool(feature_train_r ,target_train_r)"
   ]
  },
  {
   "cell_type": "code",
   "execution_count": 144,
   "id": "94db2245",
   "metadata": {},
   "outputs": [],
   "source": [
    "test_data_r=cb.Pool(test_feature_rougher,test_target_rougher)"
   ]
  },
  {
   "cell_type": "code",
   "execution_count": 146,
   "id": "a25fa0d0",
   "metadata": {},
   "outputs": [],
   "source": [
    "\n",
    "model_r = cb.CatBoostRegressor(iterations=900)"
   ]
  },
  {
   "cell_type": "code",
   "execution_count": 148,
   "id": "7365d82c",
   "metadata": {},
   "outputs": [],
   "source": [
    "train_data_f=cb.Pool(train_df[test_df.columns],train_df['final.output.recovery'])"
   ]
  },
  {
   "cell_type": "code",
   "execution_count": 149,
   "id": "f07ebd01",
   "metadata": {},
   "outputs": [],
   "source": [
    "test_data_r = cb.Pool(test_df,test_target_f)"
   ]
  },
  {
   "cell_type": "code",
   "execution_count": 150,
   "id": "199ce9fc",
   "metadata": {},
   "outputs": [],
   "source": [
    "model_f= cb.CatBoostRegressor(iterations=900)"
   ]
  },
  {
   "cell_type": "code",
   "execution_count": 151,
   "id": "c2b45fb3",
   "metadata": {},
   "outputs": [
    {
     "name": "stdout",
     "output_type": "stream",
     "text": [
      "Learning rate set to 0.067469\n",
      "0:\tlearn: 7.7214457\ttotal: 7.53ms\tremaining: 6.77s\n",
      "1:\tlearn: 7.5008796\ttotal: 14.9ms\tremaining: 6.69s\n",
      "2:\tlearn: 7.2958799\ttotal: 21.8ms\tremaining: 6.53s\n",
      "3:\tlearn: 7.1030686\ttotal: 29ms\tremaining: 6.5s\n",
      "4:\tlearn: 6.9347054\ttotal: 36.1ms\tremaining: 6.46s\n",
      "5:\tlearn: 6.7771981\ttotal: 45.8ms\tremaining: 6.82s\n",
      "6:\tlearn: 6.6345389\ttotal: 55.2ms\tremaining: 7.04s\n",
      "7:\tlearn: 6.4990953\ttotal: 61.4ms\tremaining: 6.85s\n",
      "8:\tlearn: 6.3812821\ttotal: 68.9ms\tremaining: 6.82s\n",
      "9:\tlearn: 6.2729219\ttotal: 74.8ms\tremaining: 6.66s\n",
      "10:\tlearn: 6.1657915\ttotal: 81.6ms\tremaining: 6.59s\n",
      "11:\tlearn: 6.0623082\ttotal: 87.4ms\tremaining: 6.47s\n",
      "12:\tlearn: 5.9709813\ttotal: 93.6ms\tremaining: 6.39s\n",
      "13:\tlearn: 5.8917763\ttotal: 99.4ms\tremaining: 6.29s\n",
      "14:\tlearn: 5.8254171\ttotal: 106ms\tremaining: 6.23s\n",
      "15:\tlearn: 5.7535246\ttotal: 112ms\tremaining: 6.18s\n",
      "16:\tlearn: 5.6901846\ttotal: 118ms\tremaining: 6.12s\n",
      "17:\tlearn: 5.6207930\ttotal: 124ms\tremaining: 6.07s\n",
      "18:\tlearn: 5.5634337\ttotal: 130ms\tremaining: 6.02s\n",
      "19:\tlearn: 5.5151620\ttotal: 136ms\tremaining: 5.97s\n",
      "20:\tlearn: 5.4553999\ttotal: 142ms\tremaining: 5.93s\n",
      "21:\tlearn: 5.4091698\ttotal: 147ms\tremaining: 5.88s\n",
      "22:\tlearn: 5.3681785\ttotal: 153ms\tremaining: 5.85s\n",
      "23:\tlearn: 5.3232177\ttotal: 159ms\tremaining: 5.81s\n",
      "24:\tlearn: 5.2898361\ttotal: 165ms\tremaining: 5.77s\n",
      "25:\tlearn: 5.2511604\ttotal: 171ms\tremaining: 5.74s\n",
      "26:\tlearn: 5.2215888\ttotal: 176ms\tremaining: 5.7s\n",
      "27:\tlearn: 5.1928621\ttotal: 184ms\tremaining: 5.72s\n",
      "28:\tlearn: 5.1618708\ttotal: 191ms\tremaining: 5.73s\n",
      "29:\tlearn: 5.1364563\ttotal: 200ms\tremaining: 5.8s\n",
      "30:\tlearn: 5.1115399\ttotal: 205ms\tremaining: 5.75s\n",
      "31:\tlearn: 5.0826346\ttotal: 212ms\tremaining: 5.74s\n",
      "32:\tlearn: 5.0590369\ttotal: 218ms\tremaining: 5.72s\n",
      "33:\tlearn: 5.0388187\ttotal: 223ms\tremaining: 5.68s\n",
      "34:\tlearn: 5.0189145\ttotal: 229ms\tremaining: 5.66s\n",
      "35:\tlearn: 4.9973878\ttotal: 235ms\tremaining: 5.64s\n",
      "36:\tlearn: 4.9751220\ttotal: 241ms\tremaining: 5.62s\n",
      "37:\tlearn: 4.9479005\ttotal: 246ms\tremaining: 5.59s\n",
      "38:\tlearn: 4.9330159\ttotal: 252ms\tremaining: 5.57s\n",
      "39:\tlearn: 4.9166869\ttotal: 258ms\tremaining: 5.55s\n",
      "40:\tlearn: 4.8939600\ttotal: 264ms\tremaining: 5.53s\n",
      "41:\tlearn: 4.8791258\ttotal: 270ms\tremaining: 5.51s\n",
      "42:\tlearn: 4.8665319\ttotal: 275ms\tremaining: 5.49s\n",
      "43:\tlearn: 4.8547836\ttotal: 281ms\tremaining: 5.47s\n",
      "44:\tlearn: 4.8388986\ttotal: 287ms\tremaining: 5.46s\n",
      "45:\tlearn: 4.8280526\ttotal: 293ms\tremaining: 5.43s\n",
      "46:\tlearn: 4.8131993\ttotal: 299ms\tremaining: 5.42s\n",
      "47:\tlearn: 4.7939179\ttotal: 304ms\tremaining: 5.4s\n",
      "48:\tlearn: 4.7807375\ttotal: 310ms\tremaining: 5.38s\n",
      "49:\tlearn: 4.7646894\ttotal: 316ms\tremaining: 5.37s\n",
      "50:\tlearn: 4.7530071\ttotal: 322ms\tremaining: 5.36s\n",
      "51:\tlearn: 4.7397763\ttotal: 328ms\tremaining: 5.35s\n",
      "52:\tlearn: 4.7300725\ttotal: 335ms\tremaining: 5.36s\n",
      "53:\tlearn: 4.7208041\ttotal: 341ms\tremaining: 5.34s\n",
      "54:\tlearn: 4.7077576\ttotal: 347ms\tremaining: 5.33s\n",
      "55:\tlearn: 4.6945082\ttotal: 353ms\tremaining: 5.31s\n",
      "56:\tlearn: 4.6827375\ttotal: 358ms\tremaining: 5.3s\n",
      "57:\tlearn: 4.6760565\ttotal: 364ms\tremaining: 5.29s\n",
      "58:\tlearn: 4.6653601\ttotal: 370ms\tremaining: 5.27s\n",
      "59:\tlearn: 4.6479256\ttotal: 378ms\tremaining: 5.29s\n",
      "60:\tlearn: 4.6417715\ttotal: 384ms\tremaining: 5.29s\n",
      "61:\tlearn: 4.6316653\ttotal: 394ms\tremaining: 5.32s\n",
      "62:\tlearn: 4.6195820\ttotal: 399ms\tremaining: 5.31s\n",
      "63:\tlearn: 4.6133516\ttotal: 406ms\tremaining: 5.3s\n",
      "64:\tlearn: 4.6049465\ttotal: 412ms\tremaining: 5.29s\n",
      "65:\tlearn: 4.5930110\ttotal: 417ms\tremaining: 5.27s\n",
      "66:\tlearn: 4.5824577\ttotal: 423ms\tremaining: 5.26s\n",
      "67:\tlearn: 4.5745991\ttotal: 429ms\tremaining: 5.25s\n",
      "68:\tlearn: 4.5558613\ttotal: 435ms\tremaining: 5.24s\n",
      "69:\tlearn: 4.5492363\ttotal: 441ms\tremaining: 5.22s\n",
      "70:\tlearn: 4.5329241\ttotal: 447ms\tremaining: 5.21s\n",
      "71:\tlearn: 4.5262075\ttotal: 452ms\tremaining: 5.2s\n",
      "72:\tlearn: 4.5190031\ttotal: 458ms\tremaining: 5.19s\n",
      "73:\tlearn: 4.5095546\ttotal: 464ms\tremaining: 5.18s\n",
      "74:\tlearn: 4.4990706\ttotal: 470ms\tremaining: 5.17s\n",
      "75:\tlearn: 4.4906140\ttotal: 476ms\tremaining: 5.16s\n",
      "76:\tlearn: 4.4828527\ttotal: 482ms\tremaining: 5.15s\n",
      "77:\tlearn: 4.4740087\ttotal: 488ms\tremaining: 5.14s\n",
      "78:\tlearn: 4.4617864\ttotal: 494ms\tremaining: 5.13s\n",
      "79:\tlearn: 4.4537064\ttotal: 499ms\tremaining: 5.12s\n",
      "80:\tlearn: 4.4444900\ttotal: 505ms\tremaining: 5.11s\n",
      "81:\tlearn: 4.4372401\ttotal: 511ms\tremaining: 5.1s\n",
      "82:\tlearn: 4.4276878\ttotal: 517ms\tremaining: 5.08s\n",
      "83:\tlearn: 4.4187937\ttotal: 523ms\tremaining: 5.08s\n",
      "84:\tlearn: 4.4072350\ttotal: 529ms\tremaining: 5.07s\n",
      "85:\tlearn: 4.3998400\ttotal: 534ms\tremaining: 5.06s\n",
      "86:\tlearn: 4.3928441\ttotal: 540ms\tremaining: 5.05s\n",
      "87:\tlearn: 4.3857088\ttotal: 546ms\tremaining: 5.04s\n",
      "88:\tlearn: 4.3790264\ttotal: 551ms\tremaining: 5.02s\n",
      "89:\tlearn: 4.3709099\ttotal: 557ms\tremaining: 5.01s\n",
      "90:\tlearn: 4.3597847\ttotal: 565ms\tremaining: 5.02s\n",
      "91:\tlearn: 4.3533997\ttotal: 572ms\tremaining: 5.02s\n",
      "92:\tlearn: 4.3438550\ttotal: 582ms\tremaining: 5.05s\n",
      "93:\tlearn: 4.3362339\ttotal: 590ms\tremaining: 5.06s\n",
      "94:\tlearn: 4.3277342\ttotal: 598ms\tremaining: 5.07s\n",
      "95:\tlearn: 4.3203219\ttotal: 604ms\tremaining: 5.06s\n",
      "96:\tlearn: 4.3150519\ttotal: 610ms\tremaining: 5.05s\n",
      "97:\tlearn: 4.3064260\ttotal: 617ms\tremaining: 5.05s\n",
      "98:\tlearn: 4.2994817\ttotal: 623ms\tremaining: 5.04s\n",
      "99:\tlearn: 4.2939639\ttotal: 629ms\tremaining: 5.03s\n",
      "100:\tlearn: 4.2850984\ttotal: 635ms\tremaining: 5.02s\n",
      "101:\tlearn: 4.2786608\ttotal: 640ms\tremaining: 5.01s\n",
      "102:\tlearn: 4.2733772\ttotal: 647ms\tremaining: 5s\n",
      "103:\tlearn: 4.2688106\ttotal: 652ms\tremaining: 4.99s\n",
      "104:\tlearn: 4.2635603\ttotal: 658ms\tremaining: 4.98s\n",
      "105:\tlearn: 4.2527418\ttotal: 664ms\tremaining: 4.97s\n",
      "106:\tlearn: 4.2428057\ttotal: 670ms\tremaining: 4.96s\n",
      "107:\tlearn: 4.2367368\ttotal: 676ms\tremaining: 4.96s\n",
      "108:\tlearn: 4.2306479\ttotal: 681ms\tremaining: 4.94s\n",
      "109:\tlearn: 4.2243343\ttotal: 687ms\tremaining: 4.93s\n",
      "110:\tlearn: 4.2203129\ttotal: 693ms\tremaining: 4.92s\n",
      "111:\tlearn: 4.2149513\ttotal: 698ms\tremaining: 4.91s\n",
      "112:\tlearn: 4.2098774\ttotal: 704ms\tremaining: 4.9s\n",
      "113:\tlearn: 4.2034144\ttotal: 710ms\tremaining: 4.9s\n",
      "114:\tlearn: 4.1979205\ttotal: 716ms\tremaining: 4.88s\n",
      "115:\tlearn: 4.1939019\ttotal: 721ms\tremaining: 4.87s\n",
      "116:\tlearn: 4.1892094\ttotal: 727ms\tremaining: 4.87s\n",
      "117:\tlearn: 4.1828174\ttotal: 733ms\tremaining: 4.86s\n",
      "118:\tlearn: 4.1772030\ttotal: 740ms\tremaining: 4.86s\n",
      "119:\tlearn: 4.1709364\ttotal: 747ms\tremaining: 4.85s\n",
      "120:\tlearn: 4.1664034\ttotal: 754ms\tremaining: 4.85s\n",
      "121:\tlearn: 4.1555069\ttotal: 761ms\tremaining: 4.85s\n",
      "122:\tlearn: 4.1516797\ttotal: 767ms\tremaining: 4.85s\n",
      "123:\tlearn: 4.1474555\ttotal: 775ms\tremaining: 4.85s\n",
      "124:\tlearn: 4.1411654\ttotal: 784ms\tremaining: 4.86s\n",
      "125:\tlearn: 4.1371005\ttotal: 791ms\tremaining: 4.86s\n",
      "126:\tlearn: 4.1302841\ttotal: 797ms\tremaining: 4.85s\n",
      "127:\tlearn: 4.1245846\ttotal: 803ms\tremaining: 4.84s\n",
      "128:\tlearn: 4.1189931\ttotal: 809ms\tremaining: 4.83s\n",
      "129:\tlearn: 4.1116684\ttotal: 815ms\tremaining: 4.83s\n",
      "130:\tlearn: 4.1052091\ttotal: 820ms\tremaining: 4.82s\n",
      "131:\tlearn: 4.0981238\ttotal: 826ms\tremaining: 4.81s\n",
      "132:\tlearn: 4.0931637\ttotal: 832ms\tremaining: 4.8s\n",
      "133:\tlearn: 4.0855312\ttotal: 838ms\tremaining: 4.79s\n",
      "134:\tlearn: 4.0803524\ttotal: 844ms\tremaining: 4.78s\n",
      "135:\tlearn: 4.0764727\ttotal: 850ms\tremaining: 4.77s\n",
      "136:\tlearn: 4.0693999\ttotal: 856ms\tremaining: 4.76s\n",
      "137:\tlearn: 4.0644825\ttotal: 862ms\tremaining: 4.76s\n",
      "138:\tlearn: 4.0586442\ttotal: 868ms\tremaining: 4.75s\n",
      "139:\tlearn: 4.0523340\ttotal: 873ms\tremaining: 4.74s\n",
      "140:\tlearn: 4.0462267\ttotal: 879ms\tremaining: 4.73s\n",
      "141:\tlearn: 4.0418077\ttotal: 885ms\tremaining: 4.72s\n",
      "142:\tlearn: 4.0366334\ttotal: 890ms\tremaining: 4.71s\n",
      "143:\tlearn: 4.0333682\ttotal: 896ms\tremaining: 4.7s\n",
      "144:\tlearn: 4.0249180\ttotal: 902ms\tremaining: 4.7s\n",
      "145:\tlearn: 4.0195436\ttotal: 908ms\tremaining: 4.69s\n",
      "146:\tlearn: 4.0139171\ttotal: 914ms\tremaining: 4.68s\n",
      "147:\tlearn: 4.0097143\ttotal: 919ms\tremaining: 4.67s\n",
      "148:\tlearn: 4.0062741\ttotal: 926ms\tremaining: 4.67s\n",
      "149:\tlearn: 3.9965948\ttotal: 935ms\tremaining: 4.67s\n",
      "150:\tlearn: 3.9918039\ttotal: 947ms\tremaining: 4.7s\n",
      "151:\tlearn: 3.9869430\ttotal: 954ms\tremaining: 4.69s\n",
      "152:\tlearn: 3.9823103\ttotal: 961ms\tremaining: 4.69s\n",
      "153:\tlearn: 3.9790120\ttotal: 967ms\tremaining: 4.69s\n",
      "154:\tlearn: 3.9740606\ttotal: 974ms\tremaining: 4.68s\n",
      "155:\tlearn: 3.9696417\ttotal: 979ms\tremaining: 4.67s\n",
      "156:\tlearn: 3.9639893\ttotal: 984ms\tremaining: 4.66s\n",
      "157:\tlearn: 3.9601945\ttotal: 991ms\tremaining: 4.65s\n",
      "158:\tlearn: 3.9563809\ttotal: 996ms\tremaining: 4.64s\n",
      "159:\tlearn: 3.9483903\ttotal: 1s\tremaining: 4.63s\n",
      "160:\tlearn: 3.9440690\ttotal: 1.01s\tremaining: 4.63s\n",
      "161:\tlearn: 3.9407839\ttotal: 1.01s\tremaining: 4.62s\n",
      "162:\tlearn: 3.9367492\ttotal: 1.02s\tremaining: 4.62s\n",
      "163:\tlearn: 3.9315679\ttotal: 1.03s\tremaining: 4.63s\n",
      "164:\tlearn: 3.9254957\ttotal: 1.04s\tremaining: 4.63s\n",
      "165:\tlearn: 3.9180613\ttotal: 1.05s\tremaining: 4.63s\n",
      "166:\tlearn: 3.9141313\ttotal: 1.05s\tremaining: 4.62s\n",
      "167:\tlearn: 3.9072311\ttotal: 1.06s\tremaining: 4.62s\n",
      "168:\tlearn: 3.9032587\ttotal: 1.07s\tremaining: 4.61s\n",
      "169:\tlearn: 3.8980290\ttotal: 1.07s\tremaining: 4.62s\n",
      "170:\tlearn: 3.8933487\ttotal: 1.08s\tremaining: 4.61s\n",
      "171:\tlearn: 3.8891387\ttotal: 1.09s\tremaining: 4.61s\n",
      "172:\tlearn: 3.8844715\ttotal: 1.1s\tremaining: 4.61s\n"
     ]
    },
    {
     "name": "stdout",
     "output_type": "stream",
     "text": [
      "173:\tlearn: 3.8809321\ttotal: 1.11s\tremaining: 4.62s\n",
      "174:\tlearn: 3.8735830\ttotal: 1.11s\tremaining: 4.62s\n",
      "175:\tlearn: 3.8687009\ttotal: 1.12s\tremaining: 4.62s\n",
      "176:\tlearn: 3.8625113\ttotal: 1.13s\tremaining: 4.62s\n",
      "177:\tlearn: 3.8581630\ttotal: 1.14s\tremaining: 4.61s\n",
      "178:\tlearn: 3.8542473\ttotal: 1.14s\tremaining: 4.6s\n",
      "179:\tlearn: 3.8505054\ttotal: 1.15s\tremaining: 4.59s\n",
      "180:\tlearn: 3.8466206\ttotal: 1.15s\tremaining: 4.58s\n",
      "181:\tlearn: 3.8416995\ttotal: 1.16s\tremaining: 4.57s\n",
      "182:\tlearn: 3.8375896\ttotal: 1.16s\tremaining: 4.56s\n",
      "183:\tlearn: 3.8327796\ttotal: 1.17s\tremaining: 4.56s\n",
      "184:\tlearn: 3.8272510\ttotal: 1.18s\tremaining: 4.55s\n",
      "185:\tlearn: 3.8233630\ttotal: 1.18s\tremaining: 4.54s\n",
      "186:\tlearn: 3.8193659\ttotal: 1.19s\tremaining: 4.53s\n",
      "187:\tlearn: 3.8162912\ttotal: 1.19s\tremaining: 4.52s\n",
      "188:\tlearn: 3.8108086\ttotal: 1.2s\tremaining: 4.51s\n",
      "189:\tlearn: 3.8067187\ttotal: 1.21s\tremaining: 4.51s\n",
      "190:\tlearn: 3.8043510\ttotal: 1.21s\tremaining: 4.5s\n",
      "191:\tlearn: 3.8000492\ttotal: 1.22s\tremaining: 4.49s\n",
      "192:\tlearn: 3.7915332\ttotal: 1.22s\tremaining: 4.48s\n",
      "193:\tlearn: 3.7873402\ttotal: 1.23s\tremaining: 4.48s\n",
      "194:\tlearn: 3.7825487\ttotal: 1.24s\tremaining: 4.47s\n",
      "195:\tlearn: 3.7787022\ttotal: 1.24s\tremaining: 4.46s\n",
      "196:\tlearn: 3.7738693\ttotal: 1.25s\tremaining: 4.46s\n",
      "197:\tlearn: 3.7698179\ttotal: 1.25s\tremaining: 4.45s\n",
      "198:\tlearn: 3.7663722\ttotal: 1.26s\tremaining: 4.44s\n",
      "199:\tlearn: 3.7586414\ttotal: 1.27s\tremaining: 4.43s\n",
      "200:\tlearn: 3.7550048\ttotal: 1.27s\tremaining: 4.42s\n",
      "201:\tlearn: 3.7522010\ttotal: 1.28s\tremaining: 4.42s\n",
      "202:\tlearn: 3.7488901\ttotal: 1.28s\tremaining: 4.41s\n",
      "203:\tlearn: 3.7428110\ttotal: 1.29s\tremaining: 4.4s\n",
      "204:\tlearn: 3.7381670\ttotal: 1.3s\tremaining: 4.4s\n",
      "205:\tlearn: 3.7352366\ttotal: 1.3s\tremaining: 4.39s\n",
      "206:\tlearn: 3.7300705\ttotal: 1.31s\tremaining: 4.39s\n",
      "207:\tlearn: 3.7251555\ttotal: 1.32s\tremaining: 4.38s\n",
      "208:\tlearn: 3.7226050\ttotal: 1.32s\tremaining: 4.37s\n",
      "209:\tlearn: 3.7187486\ttotal: 1.33s\tremaining: 4.36s\n",
      "210:\tlearn: 3.7158917\ttotal: 1.33s\tremaining: 4.36s\n",
      "211:\tlearn: 3.7116882\ttotal: 1.34s\tremaining: 4.35s\n",
      "212:\tlearn: 3.7074741\ttotal: 1.34s\tremaining: 4.34s\n",
      "213:\tlearn: 3.7044863\ttotal: 1.35s\tremaining: 4.33s\n",
      "214:\tlearn: 3.6998349\ttotal: 1.36s\tremaining: 4.32s\n",
      "215:\tlearn: 3.6966852\ttotal: 1.36s\tremaining: 4.32s\n",
      "216:\tlearn: 3.6932322\ttotal: 1.37s\tremaining: 4.31s\n",
      "217:\tlearn: 3.6897033\ttotal: 1.37s\tremaining: 4.3s\n",
      "218:\tlearn: 3.6872140\ttotal: 1.38s\tremaining: 4.29s\n",
      "219:\tlearn: 3.6847912\ttotal: 1.39s\tremaining: 4.28s\n",
      "220:\tlearn: 3.6831759\ttotal: 1.39s\tremaining: 4.27s\n",
      "221:\tlearn: 3.6798585\ttotal: 1.4s\tremaining: 4.26s\n",
      "222:\tlearn: 3.6773465\ttotal: 1.4s\tremaining: 4.26s\n",
      "223:\tlearn: 3.6731982\ttotal: 1.41s\tremaining: 4.25s\n",
      "224:\tlearn: 3.6695542\ttotal: 1.41s\tremaining: 4.24s\n",
      "225:\tlearn: 3.6667464\ttotal: 1.42s\tremaining: 4.24s\n",
      "226:\tlearn: 3.6640586\ttotal: 1.43s\tremaining: 4.23s\n",
      "227:\tlearn: 3.6601462\ttotal: 1.43s\tremaining: 4.22s\n",
      "228:\tlearn: 3.6588163\ttotal: 1.44s\tremaining: 4.21s\n",
      "229:\tlearn: 3.6549432\ttotal: 1.44s\tremaining: 4.2s\n",
      "230:\tlearn: 3.6519843\ttotal: 1.45s\tremaining: 4.19s\n",
      "231:\tlearn: 3.6490089\ttotal: 1.45s\tremaining: 4.18s\n",
      "232:\tlearn: 3.6439415\ttotal: 1.46s\tremaining: 4.18s\n",
      "233:\tlearn: 3.6405194\ttotal: 1.47s\tremaining: 4.17s\n",
      "234:\tlearn: 3.6381032\ttotal: 1.47s\tremaining: 4.16s\n",
      "235:\tlearn: 3.6352888\ttotal: 1.48s\tremaining: 4.16s\n",
      "236:\tlearn: 3.6320610\ttotal: 1.48s\tremaining: 4.15s\n",
      "237:\tlearn: 3.6272353\ttotal: 1.49s\tremaining: 4.15s\n",
      "238:\tlearn: 3.6222355\ttotal: 1.5s\tremaining: 4.15s\n",
      "239:\tlearn: 3.6175131\ttotal: 1.5s\tremaining: 4.14s\n",
      "240:\tlearn: 3.6129313\ttotal: 1.51s\tremaining: 4.13s\n",
      "241:\tlearn: 3.6095120\ttotal: 1.52s\tremaining: 4.13s\n",
      "242:\tlearn: 3.6064881\ttotal: 1.52s\tremaining: 4.12s\n",
      "243:\tlearn: 3.6053763\ttotal: 1.53s\tremaining: 4.11s\n",
      "244:\tlearn: 3.6013803\ttotal: 1.53s\tremaining: 4.1s\n",
      "245:\tlearn: 3.5981875\ttotal: 1.54s\tremaining: 4.1s\n",
      "246:\tlearn: 3.5942619\ttotal: 1.55s\tremaining: 4.09s\n",
      "247:\tlearn: 3.5908280\ttotal: 1.55s\tremaining: 4.08s\n",
      "248:\tlearn: 3.5879813\ttotal: 1.56s\tremaining: 4.07s\n",
      "249:\tlearn: 3.5832680\ttotal: 1.56s\tremaining: 4.07s\n",
      "250:\tlearn: 3.5789172\ttotal: 1.57s\tremaining: 4.06s\n",
      "251:\tlearn: 3.5764900\ttotal: 1.57s\tremaining: 4.05s\n",
      "252:\tlearn: 3.5739407\ttotal: 1.58s\tremaining: 4.04s\n",
      "253:\tlearn: 3.5711768\ttotal: 1.59s\tremaining: 4.04s\n",
      "254:\tlearn: 3.5677358\ttotal: 1.59s\tremaining: 4.03s\n",
      "255:\tlearn: 3.5641348\ttotal: 1.6s\tremaining: 4.02s\n",
      "256:\tlearn: 3.5612772\ttotal: 1.6s\tremaining: 4.01s\n",
      "257:\tlearn: 3.5571764\ttotal: 1.61s\tremaining: 4s\n",
      "258:\tlearn: 3.5513878\ttotal: 1.61s\tremaining: 4s\n",
      "259:\tlearn: 3.5485677\ttotal: 1.62s\tremaining: 3.99s\n",
      "260:\tlearn: 3.5451369\ttotal: 1.63s\tremaining: 3.98s\n",
      "261:\tlearn: 3.5428802\ttotal: 1.63s\tremaining: 3.98s\n",
      "262:\tlearn: 3.5383911\ttotal: 1.64s\tremaining: 3.97s\n",
      "263:\tlearn: 3.5365858\ttotal: 1.64s\tremaining: 3.96s\n",
      "264:\tlearn: 3.5327842\ttotal: 1.65s\tremaining: 3.96s\n",
      "265:\tlearn: 3.5296718\ttotal: 1.66s\tremaining: 3.95s\n",
      "266:\tlearn: 3.5262982\ttotal: 1.67s\tremaining: 3.95s\n",
      "267:\tlearn: 3.5229758\ttotal: 1.67s\tremaining: 3.94s\n",
      "268:\tlearn: 3.5204755\ttotal: 1.68s\tremaining: 3.94s\n",
      "269:\tlearn: 3.5165406\ttotal: 1.69s\tremaining: 3.93s\n",
      "270:\tlearn: 3.5136717\ttotal: 1.69s\tremaining: 3.93s\n",
      "271:\tlearn: 3.5117203\ttotal: 1.7s\tremaining: 3.92s\n",
      "272:\tlearn: 3.5091827\ttotal: 1.7s\tremaining: 3.91s\n",
      "273:\tlearn: 3.5067622\ttotal: 1.71s\tremaining: 3.9s\n",
      "274:\tlearn: 3.5018522\ttotal: 1.72s\tremaining: 3.9s\n",
      "275:\tlearn: 3.4992506\ttotal: 1.72s\tremaining: 3.89s\n",
      "276:\tlearn: 3.4975568\ttotal: 1.73s\tremaining: 3.88s\n",
      "277:\tlearn: 3.4928970\ttotal: 1.73s\tremaining: 3.88s\n",
      "278:\tlearn: 3.4894454\ttotal: 1.74s\tremaining: 3.87s\n",
      "279:\tlearn: 3.4868520\ttotal: 1.74s\tremaining: 3.86s\n",
      "280:\tlearn: 3.4829442\ttotal: 1.75s\tremaining: 3.86s\n",
      "281:\tlearn: 3.4805039\ttotal: 1.76s\tremaining: 3.85s\n",
      "282:\tlearn: 3.4772695\ttotal: 1.76s\tremaining: 3.84s\n",
      "283:\tlearn: 3.4734080\ttotal: 1.77s\tremaining: 3.83s\n",
      "284:\tlearn: 3.4699336\ttotal: 1.77s\tremaining: 3.83s\n",
      "285:\tlearn: 3.4676767\ttotal: 1.78s\tremaining: 3.82s\n",
      "286:\tlearn: 3.4645607\ttotal: 1.79s\tremaining: 3.81s\n",
      "287:\tlearn: 3.4603966\ttotal: 1.79s\tremaining: 3.81s\n",
      "288:\tlearn: 3.4569312\ttotal: 1.8s\tremaining: 3.8s\n",
      "289:\tlearn: 3.4546347\ttotal: 1.8s\tremaining: 3.79s\n",
      "290:\tlearn: 3.4518381\ttotal: 1.81s\tremaining: 3.79s\n",
      "291:\tlearn: 3.4498699\ttotal: 1.82s\tremaining: 3.78s\n",
      "292:\tlearn: 3.4466185\ttotal: 1.82s\tremaining: 3.77s\n",
      "293:\tlearn: 3.4424193\ttotal: 1.83s\tremaining: 3.77s\n",
      "294:\tlearn: 3.4409181\ttotal: 1.83s\tremaining: 3.76s\n",
      "295:\tlearn: 3.4385367\ttotal: 1.84s\tremaining: 3.75s\n",
      "296:\tlearn: 3.4363293\ttotal: 1.84s\tremaining: 3.75s\n",
      "297:\tlearn: 3.4330924\ttotal: 1.85s\tremaining: 3.74s\n",
      "298:\tlearn: 3.4312321\ttotal: 1.86s\tremaining: 3.73s\n",
      "299:\tlearn: 3.4296008\ttotal: 1.86s\tremaining: 3.73s\n",
      "300:\tlearn: 3.4277801\ttotal: 1.9s\tremaining: 3.77s\n",
      "301:\tlearn: 3.4244324\ttotal: 1.91s\tremaining: 3.78s\n",
      "302:\tlearn: 3.4202953\ttotal: 1.92s\tremaining: 3.78s\n",
      "303:\tlearn: 3.4183657\ttotal: 1.92s\tremaining: 3.77s\n",
      "304:\tlearn: 3.4150373\ttotal: 1.93s\tremaining: 3.76s\n",
      "305:\tlearn: 3.4123357\ttotal: 1.93s\tremaining: 3.75s\n",
      "306:\tlearn: 3.4092765\ttotal: 1.94s\tremaining: 3.75s\n",
      "307:\tlearn: 3.4073433\ttotal: 1.95s\tremaining: 3.74s\n",
      "308:\tlearn: 3.4044066\ttotal: 1.95s\tremaining: 3.73s\n",
      "309:\tlearn: 3.4001648\ttotal: 1.96s\tremaining: 3.73s\n",
      "310:\tlearn: 3.3954980\ttotal: 1.96s\tremaining: 3.72s\n",
      "311:\tlearn: 3.3915790\ttotal: 1.97s\tremaining: 3.71s\n",
      "312:\tlearn: 3.3891416\ttotal: 1.97s\tremaining: 3.7s\n",
      "313:\tlearn: 3.3863249\ttotal: 1.98s\tremaining: 3.7s\n",
      "314:\tlearn: 3.3825521\ttotal: 1.99s\tremaining: 3.69s\n",
      "315:\tlearn: 3.3796991\ttotal: 1.99s\tremaining: 3.68s\n",
      "316:\tlearn: 3.3774338\ttotal: 2s\tremaining: 3.67s\n",
      "317:\tlearn: 3.3758422\ttotal: 2s\tremaining: 3.67s\n",
      "318:\tlearn: 3.3743688\ttotal: 2.01s\tremaining: 3.66s\n",
      "319:\tlearn: 3.3732442\ttotal: 2.01s\tremaining: 3.65s\n",
      "320:\tlearn: 3.3696509\ttotal: 2.02s\tremaining: 3.64s\n",
      "321:\tlearn: 3.3666024\ttotal: 2.03s\tremaining: 3.64s\n",
      "322:\tlearn: 3.3645763\ttotal: 2.03s\tremaining: 3.63s\n",
      "323:\tlearn: 3.3618352\ttotal: 2.04s\tremaining: 3.62s\n",
      "324:\tlearn: 3.3590344\ttotal: 2.04s\tremaining: 3.61s\n",
      "325:\tlearn: 3.3531579\ttotal: 2.05s\tremaining: 3.61s\n",
      "326:\tlearn: 3.3508885\ttotal: 2.06s\tremaining: 3.6s\n",
      "327:\tlearn: 3.3483277\ttotal: 2.06s\tremaining: 3.6s\n",
      "328:\tlearn: 3.3450259\ttotal: 2.07s\tremaining: 3.59s\n",
      "329:\tlearn: 3.3408018\ttotal: 2.08s\tremaining: 3.59s\n",
      "330:\tlearn: 3.3378835\ttotal: 2.08s\tremaining: 3.58s\n",
      "331:\tlearn: 3.3347996\ttotal: 2.09s\tremaining: 3.57s\n",
      "332:\tlearn: 3.3322188\ttotal: 2.09s\tremaining: 3.57s\n",
      "333:\tlearn: 3.3300746\ttotal: 2.1s\tremaining: 3.56s\n",
      "334:\tlearn: 3.3268526\ttotal: 2.1s\tremaining: 3.55s\n",
      "335:\tlearn: 3.3240257\ttotal: 2.11s\tremaining: 3.54s\n",
      "336:\tlearn: 3.3205707\ttotal: 2.12s\tremaining: 3.54s\n",
      "337:\tlearn: 3.3149922\ttotal: 2.12s\tremaining: 3.53s\n",
      "338:\tlearn: 3.3109343\ttotal: 2.13s\tremaining: 3.52s\n",
      "339:\tlearn: 3.3078034\ttotal: 2.13s\tremaining: 3.52s\n",
      "340:\tlearn: 3.3043575\ttotal: 2.14s\tremaining: 3.51s\n",
      "341:\tlearn: 3.3016822\ttotal: 2.15s\tremaining: 3.5s\n",
      "342:\tlearn: 3.2994254\ttotal: 2.15s\tremaining: 3.49s\n",
      "343:\tlearn: 3.2975582\ttotal: 2.16s\tremaining: 3.49s\n",
      "344:\tlearn: 3.2959879\ttotal: 2.16s\tremaining: 3.48s\n",
      "345:\tlearn: 3.2939443\ttotal: 2.17s\tremaining: 3.47s\n",
      "346:\tlearn: 3.2908542\ttotal: 2.17s\tremaining: 3.46s\n",
      "347:\tlearn: 3.2893582\ttotal: 2.18s\tremaining: 3.46s\n",
      "348:\tlearn: 3.2877814\ttotal: 2.19s\tremaining: 3.45s\n",
      "349:\tlearn: 3.2867503\ttotal: 2.19s\tremaining: 3.44s\n",
      "350:\tlearn: 3.2833080\ttotal: 2.2s\tremaining: 3.44s\n",
      "351:\tlearn: 3.2815336\ttotal: 2.2s\tremaining: 3.43s\n",
      "352:\tlearn: 3.2783256\ttotal: 2.21s\tremaining: 3.42s\n",
      "353:\tlearn: 3.2747204\ttotal: 2.21s\tremaining: 3.42s\n",
      "354:\tlearn: 3.2731577\ttotal: 2.22s\tremaining: 3.41s\n",
      "355:\tlearn: 3.2698973\ttotal: 2.23s\tremaining: 3.4s\n",
      "356:\tlearn: 3.2669744\ttotal: 2.23s\tremaining: 3.4s\n",
      "357:\tlearn: 3.2641515\ttotal: 2.24s\tremaining: 3.39s\n"
     ]
    },
    {
     "name": "stdout",
     "output_type": "stream",
     "text": [
      "358:\tlearn: 3.2620859\ttotal: 2.25s\tremaining: 3.38s\n",
      "359:\tlearn: 3.2582555\ttotal: 2.25s\tremaining: 3.38s\n",
      "360:\tlearn: 3.2562588\ttotal: 2.26s\tremaining: 3.37s\n",
      "361:\tlearn: 3.2544535\ttotal: 2.27s\tremaining: 3.37s\n",
      "362:\tlearn: 3.2518126\ttotal: 2.27s\tremaining: 3.36s\n",
      "363:\tlearn: 3.2497356\ttotal: 2.28s\tremaining: 3.35s\n",
      "364:\tlearn: 3.2466949\ttotal: 2.28s\tremaining: 3.35s\n",
      "365:\tlearn: 3.2436899\ttotal: 2.29s\tremaining: 3.34s\n",
      "366:\tlearn: 3.2416933\ttotal: 2.29s\tremaining: 3.33s\n",
      "367:\tlearn: 3.2383970\ttotal: 2.3s\tremaining: 3.33s\n",
      "368:\tlearn: 3.2349111\ttotal: 2.31s\tremaining: 3.32s\n",
      "369:\tlearn: 3.2335828\ttotal: 2.31s\tremaining: 3.31s\n",
      "370:\tlearn: 3.2286492\ttotal: 2.32s\tremaining: 3.31s\n",
      "371:\tlearn: 3.2265801\ttotal: 2.32s\tremaining: 3.3s\n",
      "372:\tlearn: 3.2245380\ttotal: 2.33s\tremaining: 3.29s\n",
      "373:\tlearn: 3.2226226\ttotal: 2.33s\tremaining: 3.28s\n",
      "374:\tlearn: 3.2201109\ttotal: 2.34s\tremaining: 3.28s\n",
      "375:\tlearn: 3.2159196\ttotal: 2.35s\tremaining: 3.27s\n",
      "376:\tlearn: 3.2145476\ttotal: 2.35s\tremaining: 3.26s\n",
      "377:\tlearn: 3.2123653\ttotal: 2.36s\tremaining: 3.26s\n",
      "378:\tlearn: 3.2099909\ttotal: 2.36s\tremaining: 3.25s\n",
      "379:\tlearn: 3.2088139\ttotal: 2.37s\tremaining: 3.24s\n",
      "380:\tlearn: 3.2063466\ttotal: 2.38s\tremaining: 3.23s\n",
      "381:\tlearn: 3.2042578\ttotal: 2.38s\tremaining: 3.23s\n",
      "382:\tlearn: 3.2020641\ttotal: 2.39s\tremaining: 3.22s\n",
      "383:\tlearn: 3.1996346\ttotal: 2.39s\tremaining: 3.21s\n",
      "384:\tlearn: 3.1968526\ttotal: 2.4s\tremaining: 3.21s\n",
      "385:\tlearn: 3.1949660\ttotal: 2.4s\tremaining: 3.2s\n",
      "386:\tlearn: 3.1904532\ttotal: 2.41s\tremaining: 3.19s\n",
      "387:\tlearn: 3.1887460\ttotal: 2.42s\tremaining: 3.19s\n",
      "388:\tlearn: 3.1866048\ttotal: 2.42s\tremaining: 3.18s\n",
      "389:\tlearn: 3.1845996\ttotal: 2.43s\tremaining: 3.17s\n",
      "390:\tlearn: 3.1834384\ttotal: 2.43s\tremaining: 3.17s\n",
      "391:\tlearn: 3.1822386\ttotal: 2.44s\tremaining: 3.16s\n",
      "392:\tlearn: 3.1807863\ttotal: 2.45s\tremaining: 3.16s\n",
      "393:\tlearn: 3.1789962\ttotal: 2.45s\tremaining: 3.15s\n",
      "394:\tlearn: 3.1767570\ttotal: 2.46s\tremaining: 3.14s\n",
      "395:\tlearn: 3.1745164\ttotal: 2.46s\tremaining: 3.14s\n",
      "396:\tlearn: 3.1710123\ttotal: 2.47s\tremaining: 3.13s\n",
      "397:\tlearn: 3.1683760\ttotal: 2.48s\tremaining: 3.13s\n",
      "398:\tlearn: 3.1655349\ttotal: 2.48s\tremaining: 3.12s\n",
      "399:\tlearn: 3.1632978\ttotal: 2.49s\tremaining: 3.11s\n",
      "400:\tlearn: 3.1604055\ttotal: 2.5s\tremaining: 3.1s\n",
      "401:\tlearn: 3.1579149\ttotal: 2.5s\tremaining: 3.1s\n",
      "402:\tlearn: 3.1559587\ttotal: 2.51s\tremaining: 3.09s\n",
      "403:\tlearn: 3.1547265\ttotal: 2.51s\tremaining: 3.08s\n",
      "404:\tlearn: 3.1533542\ttotal: 2.52s\tremaining: 3.08s\n",
      "405:\tlearn: 3.1518946\ttotal: 2.52s\tremaining: 3.07s\n",
      "406:\tlearn: 3.1506545\ttotal: 2.53s\tremaining: 3.06s\n",
      "407:\tlearn: 3.1486473\ttotal: 2.54s\tremaining: 3.06s\n",
      "408:\tlearn: 3.1467586\ttotal: 2.54s\tremaining: 3.05s\n",
      "409:\tlearn: 3.1453442\ttotal: 2.55s\tremaining: 3.04s\n",
      "410:\tlearn: 3.1424881\ttotal: 2.55s\tremaining: 3.04s\n",
      "411:\tlearn: 3.1406207\ttotal: 2.56s\tremaining: 3.03s\n",
      "412:\tlearn: 3.1386454\ttotal: 2.56s\tremaining: 3.02s\n",
      "413:\tlearn: 3.1373515\ttotal: 2.57s\tremaining: 3.02s\n",
      "414:\tlearn: 3.1352711\ttotal: 2.58s\tremaining: 3.01s\n",
      "415:\tlearn: 3.1334443\ttotal: 2.58s\tremaining: 3s\n",
      "416:\tlearn: 3.1314689\ttotal: 2.59s\tremaining: 3s\n",
      "417:\tlearn: 3.1305548\ttotal: 2.6s\tremaining: 2.99s\n",
      "418:\tlearn: 3.1295327\ttotal: 2.6s\tremaining: 2.99s\n",
      "419:\tlearn: 3.1275522\ttotal: 2.61s\tremaining: 2.98s\n",
      "420:\tlearn: 3.1259958\ttotal: 2.61s\tremaining: 2.97s\n",
      "421:\tlearn: 3.1236301\ttotal: 2.62s\tremaining: 2.97s\n",
      "422:\tlearn: 3.1220994\ttotal: 2.63s\tremaining: 2.96s\n",
      "423:\tlearn: 3.1196991\ttotal: 2.64s\tremaining: 2.96s\n",
      "424:\tlearn: 3.1178907\ttotal: 2.65s\tremaining: 2.96s\n",
      "425:\tlearn: 3.1155190\ttotal: 2.65s\tremaining: 2.95s\n",
      "426:\tlearn: 3.1142666\ttotal: 2.66s\tremaining: 2.94s\n",
      "427:\tlearn: 3.1117487\ttotal: 2.66s\tremaining: 2.94s\n",
      "428:\tlearn: 3.1104983\ttotal: 2.67s\tremaining: 2.93s\n",
      "429:\tlearn: 3.1074885\ttotal: 2.68s\tremaining: 2.92s\n",
      "430:\tlearn: 3.1056804\ttotal: 2.68s\tremaining: 2.92s\n",
      "431:\tlearn: 3.1041816\ttotal: 2.69s\tremaining: 2.91s\n",
      "432:\tlearn: 3.1025111\ttotal: 2.69s\tremaining: 2.9s\n",
      "433:\tlearn: 3.1004656\ttotal: 2.7s\tremaining: 2.9s\n",
      "434:\tlearn: 3.0981180\ttotal: 2.71s\tremaining: 2.89s\n",
      "435:\tlearn: 3.0962632\ttotal: 2.71s\tremaining: 2.88s\n",
      "436:\tlearn: 3.0944409\ttotal: 2.72s\tremaining: 2.88s\n",
      "437:\tlearn: 3.0930658\ttotal: 2.72s\tremaining: 2.87s\n",
      "438:\tlearn: 3.0908333\ttotal: 2.73s\tremaining: 2.86s\n",
      "439:\tlearn: 3.0892124\ttotal: 2.73s\tremaining: 2.86s\n",
      "440:\tlearn: 3.0860952\ttotal: 2.74s\tremaining: 2.85s\n",
      "441:\tlearn: 3.0844302\ttotal: 2.75s\tremaining: 2.84s\n",
      "442:\tlearn: 3.0829852\ttotal: 2.75s\tremaining: 2.84s\n",
      "443:\tlearn: 3.0816424\ttotal: 2.76s\tremaining: 2.83s\n",
      "444:\tlearn: 3.0802176\ttotal: 2.76s\tremaining: 2.82s\n",
      "445:\tlearn: 3.0780731\ttotal: 2.77s\tremaining: 2.82s\n",
      "446:\tlearn: 3.0763424\ttotal: 2.77s\tremaining: 2.81s\n",
      "447:\tlearn: 3.0755669\ttotal: 2.78s\tremaining: 2.8s\n",
      "448:\tlearn: 3.0731069\ttotal: 2.79s\tremaining: 2.8s\n",
      "449:\tlearn: 3.0708919\ttotal: 2.79s\tremaining: 2.79s\n",
      "450:\tlearn: 3.0676311\ttotal: 2.8s\tremaining: 2.78s\n",
      "451:\tlearn: 3.0654108\ttotal: 2.8s\tremaining: 2.78s\n",
      "452:\tlearn: 3.0641706\ttotal: 2.81s\tremaining: 2.77s\n",
      "453:\tlearn: 3.0603008\ttotal: 2.81s\tremaining: 2.76s\n",
      "454:\tlearn: 3.0588315\ttotal: 2.82s\tremaining: 2.76s\n",
      "455:\tlearn: 3.0558983\ttotal: 2.83s\tremaining: 2.75s\n",
      "456:\tlearn: 3.0545344\ttotal: 2.83s\tremaining: 2.75s\n",
      "457:\tlearn: 3.0518044\ttotal: 2.84s\tremaining: 2.74s\n",
      "458:\tlearn: 3.0486847\ttotal: 2.85s\tremaining: 2.74s\n",
      "459:\tlearn: 3.0452553\ttotal: 2.85s\tremaining: 2.73s\n",
      "460:\tlearn: 3.0431160\ttotal: 2.86s\tremaining: 2.72s\n",
      "461:\tlearn: 3.0412909\ttotal: 2.87s\tremaining: 2.72s\n",
      "462:\tlearn: 3.0392080\ttotal: 2.87s\tremaining: 2.71s\n",
      "463:\tlearn: 3.0376362\ttotal: 2.88s\tremaining: 2.7s\n",
      "464:\tlearn: 3.0365893\ttotal: 2.88s\tremaining: 2.7s\n",
      "465:\tlearn: 3.0348676\ttotal: 2.89s\tremaining: 2.69s\n",
      "466:\tlearn: 3.0320996\ttotal: 2.89s\tremaining: 2.68s\n",
      "467:\tlearn: 3.0301148\ttotal: 2.9s\tremaining: 2.68s\n",
      "468:\tlearn: 3.0270863\ttotal: 2.9s\tremaining: 2.67s\n",
      "469:\tlearn: 3.0250947\ttotal: 2.91s\tremaining: 2.66s\n",
      "470:\tlearn: 3.0228496\ttotal: 2.92s\tremaining: 2.66s\n",
      "471:\tlearn: 3.0199007\ttotal: 2.92s\tremaining: 2.65s\n",
      "472:\tlearn: 3.0183264\ttotal: 2.93s\tremaining: 2.64s\n",
      "473:\tlearn: 3.0165541\ttotal: 2.93s\tremaining: 2.64s\n",
      "474:\tlearn: 3.0146931\ttotal: 2.94s\tremaining: 2.63s\n",
      "475:\tlearn: 3.0113502\ttotal: 2.95s\tremaining: 2.62s\n",
      "476:\tlearn: 3.0099968\ttotal: 2.95s\tremaining: 2.62s\n",
      "477:\tlearn: 3.0079453\ttotal: 2.96s\tremaining: 2.61s\n",
      "478:\tlearn: 3.0064654\ttotal: 2.96s\tremaining: 2.6s\n",
      "479:\tlearn: 3.0048136\ttotal: 2.97s\tremaining: 2.6s\n",
      "480:\tlearn: 3.0036084\ttotal: 2.98s\tremaining: 2.59s\n",
      "481:\tlearn: 3.0016587\ttotal: 2.98s\tremaining: 2.58s\n",
      "482:\tlearn: 2.9994710\ttotal: 2.99s\tremaining: 2.58s\n",
      "483:\tlearn: 2.9975326\ttotal: 2.99s\tremaining: 2.57s\n",
      "484:\tlearn: 2.9954237\ttotal: 3s\tremaining: 2.57s\n",
      "485:\tlearn: 2.9936560\ttotal: 3s\tremaining: 2.56s\n",
      "486:\tlearn: 2.9921909\ttotal: 3.01s\tremaining: 2.55s\n",
      "487:\tlearn: 2.9915775\ttotal: 3.02s\tremaining: 2.55s\n",
      "488:\tlearn: 2.9879215\ttotal: 3.02s\tremaining: 2.54s\n",
      "489:\tlearn: 2.9858835\ttotal: 3.03s\tremaining: 2.53s\n",
      "490:\tlearn: 2.9835972\ttotal: 3.04s\tremaining: 2.53s\n",
      "491:\tlearn: 2.9823654\ttotal: 3.04s\tremaining: 2.52s\n",
      "492:\tlearn: 2.9805483\ttotal: 3.05s\tremaining: 2.52s\n",
      "493:\tlearn: 2.9790738\ttotal: 3.06s\tremaining: 2.51s\n",
      "494:\tlearn: 2.9779787\ttotal: 3.06s\tremaining: 2.5s\n",
      "495:\tlearn: 2.9747542\ttotal: 3.07s\tremaining: 2.5s\n",
      "496:\tlearn: 2.9737151\ttotal: 3.07s\tremaining: 2.49s\n",
      "497:\tlearn: 2.9714745\ttotal: 3.08s\tremaining: 2.48s\n",
      "498:\tlearn: 2.9703819\ttotal: 3.08s\tremaining: 2.48s\n",
      "499:\tlearn: 2.9690496\ttotal: 3.09s\tremaining: 2.47s\n",
      "500:\tlearn: 2.9673095\ttotal: 3.1s\tremaining: 2.46s\n",
      "501:\tlearn: 2.9657284\ttotal: 3.1s\tremaining: 2.46s\n",
      "502:\tlearn: 2.9625107\ttotal: 3.11s\tremaining: 2.45s\n",
      "503:\tlearn: 2.9605990\ttotal: 3.11s\tremaining: 2.45s\n",
      "504:\tlearn: 2.9593902\ttotal: 3.12s\tremaining: 2.44s\n",
      "505:\tlearn: 2.9578633\ttotal: 3.13s\tremaining: 2.43s\n",
      "506:\tlearn: 2.9560778\ttotal: 3.13s\tremaining: 2.43s\n",
      "507:\tlearn: 2.9542607\ttotal: 3.14s\tremaining: 2.42s\n",
      "508:\tlearn: 2.9524864\ttotal: 3.14s\tremaining: 2.41s\n",
      "509:\tlearn: 2.9512365\ttotal: 3.15s\tremaining: 2.41s\n",
      "510:\tlearn: 2.9495905\ttotal: 3.15s\tremaining: 2.4s\n",
      "511:\tlearn: 2.9467197\ttotal: 3.16s\tremaining: 2.39s\n",
      "512:\tlearn: 2.9448388\ttotal: 3.17s\tremaining: 2.39s\n",
      "513:\tlearn: 2.9434752\ttotal: 3.17s\tremaining: 2.38s\n",
      "514:\tlearn: 2.9419402\ttotal: 3.18s\tremaining: 2.38s\n",
      "515:\tlearn: 2.9389470\ttotal: 3.18s\tremaining: 2.37s\n",
      "516:\tlearn: 2.9358130\ttotal: 3.19s\tremaining: 2.36s\n",
      "517:\tlearn: 2.9350389\ttotal: 3.19s\tremaining: 2.35s\n",
      "518:\tlearn: 2.9333134\ttotal: 3.2s\tremaining: 2.35s\n",
      "519:\tlearn: 2.9317454\ttotal: 3.21s\tremaining: 2.34s\n",
      "520:\tlearn: 2.9299805\ttotal: 3.21s\tremaining: 2.34s\n"
     ]
    },
    {
     "name": "stdout",
     "output_type": "stream",
     "text": [
      "521:\tlearn: 2.9282431\ttotal: 3.22s\tremaining: 2.33s\n",
      "522:\tlearn: 2.9266234\ttotal: 3.23s\tremaining: 2.33s\n",
      "523:\tlearn: 2.9246833\ttotal: 3.23s\tremaining: 2.32s\n",
      "524:\tlearn: 2.9229430\ttotal: 3.24s\tremaining: 2.31s\n",
      "525:\tlearn: 2.9205677\ttotal: 3.25s\tremaining: 2.31s\n",
      "526:\tlearn: 2.9193389\ttotal: 3.25s\tremaining: 2.3s\n",
      "527:\tlearn: 2.9184149\ttotal: 3.26s\tremaining: 2.29s\n",
      "528:\tlearn: 2.9167838\ttotal: 3.26s\tremaining: 2.29s\n",
      "529:\tlearn: 2.9160553\ttotal: 3.27s\tremaining: 2.28s\n",
      "530:\tlearn: 2.9150725\ttotal: 3.27s\tremaining: 2.27s\n",
      "531:\tlearn: 2.9143067\ttotal: 3.28s\tremaining: 2.27s\n",
      "532:\tlearn: 2.9134712\ttotal: 3.28s\tremaining: 2.26s\n",
      "533:\tlearn: 2.9121587\ttotal: 3.29s\tremaining: 2.25s\n",
      "534:\tlearn: 2.9109666\ttotal: 3.29s\tremaining: 2.25s\n",
      "535:\tlearn: 2.9096367\ttotal: 3.3s\tremaining: 2.24s\n",
      "536:\tlearn: 2.9086035\ttotal: 3.31s\tremaining: 2.23s\n",
      "537:\tlearn: 2.9062732\ttotal: 3.31s\tremaining: 2.23s\n",
      "538:\tlearn: 2.9048468\ttotal: 3.32s\tremaining: 2.22s\n",
      "539:\tlearn: 2.9017920\ttotal: 3.33s\tremaining: 2.22s\n",
      "540:\tlearn: 2.9004849\ttotal: 3.33s\tremaining: 2.21s\n",
      "541:\tlearn: 2.8972021\ttotal: 3.34s\tremaining: 2.2s\n",
      "542:\tlearn: 2.8955372\ttotal: 3.34s\tremaining: 2.2s\n",
      "543:\tlearn: 2.8933477\ttotal: 3.35s\tremaining: 2.19s\n",
      "544:\tlearn: 2.8920567\ttotal: 3.35s\tremaining: 2.19s\n",
      "545:\tlearn: 2.8907024\ttotal: 3.36s\tremaining: 2.18s\n",
      "546:\tlearn: 2.8894995\ttotal: 3.37s\tremaining: 2.17s\n",
      "547:\tlearn: 2.8883904\ttotal: 3.37s\tremaining: 2.17s\n",
      "548:\tlearn: 2.8870439\ttotal: 3.38s\tremaining: 2.16s\n",
      "549:\tlearn: 2.8862846\ttotal: 3.38s\tremaining: 2.15s\n",
      "550:\tlearn: 2.8848676\ttotal: 3.39s\tremaining: 2.15s\n",
      "551:\tlearn: 2.8823337\ttotal: 3.4s\tremaining: 2.14s\n",
      "552:\tlearn: 2.8798178\ttotal: 3.4s\tremaining: 2.13s\n",
      "553:\tlearn: 2.8770250\ttotal: 3.41s\tremaining: 2.13s\n",
      "554:\tlearn: 2.8753934\ttotal: 3.42s\tremaining: 2.12s\n",
      "555:\tlearn: 2.8744671\ttotal: 3.42s\tremaining: 2.12s\n",
      "556:\tlearn: 2.8730166\ttotal: 3.43s\tremaining: 2.11s\n",
      "557:\tlearn: 2.8716037\ttotal: 3.43s\tremaining: 2.1s\n",
      "558:\tlearn: 2.8700661\ttotal: 3.44s\tremaining: 2.1s\n",
      "559:\tlearn: 2.8672866\ttotal: 3.44s\tremaining: 2.09s\n",
      "560:\tlearn: 2.8653326\ttotal: 3.45s\tremaining: 2.08s\n",
      "561:\tlearn: 2.8634244\ttotal: 3.46s\tremaining: 2.08s\n",
      "562:\tlearn: 2.8621455\ttotal: 3.46s\tremaining: 2.07s\n",
      "563:\tlearn: 2.8607656\ttotal: 3.47s\tremaining: 2.07s\n",
      "564:\tlearn: 2.8597607\ttotal: 3.47s\tremaining: 2.06s\n",
      "565:\tlearn: 2.8580695\ttotal: 3.48s\tremaining: 2.05s\n",
      "566:\tlearn: 2.8563819\ttotal: 3.49s\tremaining: 2.05s\n",
      "567:\tlearn: 2.8551666\ttotal: 3.49s\tremaining: 2.04s\n",
      "568:\tlearn: 2.8544952\ttotal: 3.5s\tremaining: 2.03s\n",
      "569:\tlearn: 2.8520351\ttotal: 3.5s\tremaining: 2.03s\n",
      "570:\tlearn: 2.8509854\ttotal: 3.51s\tremaining: 2.02s\n",
      "571:\tlearn: 2.8501617\ttotal: 3.51s\tremaining: 2.02s\n",
      "572:\tlearn: 2.8490216\ttotal: 3.52s\tremaining: 2.01s\n",
      "573:\tlearn: 2.8480647\ttotal: 3.53s\tremaining: 2s\n",
      "574:\tlearn: 2.8468194\ttotal: 3.53s\tremaining: 2s\n",
      "575:\tlearn: 2.8454461\ttotal: 3.54s\tremaining: 1.99s\n",
      "576:\tlearn: 2.8438004\ttotal: 3.54s\tremaining: 1.98s\n",
      "577:\tlearn: 2.8418737\ttotal: 3.55s\tremaining: 1.98s\n",
      "578:\tlearn: 2.8409361\ttotal: 3.56s\tremaining: 1.97s\n",
      "579:\tlearn: 2.8388430\ttotal: 3.56s\tremaining: 1.97s\n",
      "580:\tlearn: 2.8377461\ttotal: 3.57s\tremaining: 1.96s\n",
      "581:\tlearn: 2.8365922\ttotal: 3.57s\tremaining: 1.95s\n",
      "582:\tlearn: 2.8352137\ttotal: 3.58s\tremaining: 1.95s\n",
      "583:\tlearn: 2.8334367\ttotal: 3.59s\tremaining: 1.94s\n",
      "584:\tlearn: 2.8325815\ttotal: 3.59s\tremaining: 1.93s\n",
      "585:\tlearn: 2.8300105\ttotal: 3.6s\tremaining: 1.93s\n",
      "586:\tlearn: 2.8287578\ttotal: 3.61s\tremaining: 1.92s\n",
      "587:\tlearn: 2.8275081\ttotal: 3.61s\tremaining: 1.92s\n",
      "588:\tlearn: 2.8257953\ttotal: 3.62s\tremaining: 1.91s\n",
      "589:\tlearn: 2.8244627\ttotal: 3.63s\tremaining: 1.9s\n",
      "590:\tlearn: 2.8234458\ttotal: 3.63s\tremaining: 1.9s\n",
      "591:\tlearn: 2.8220019\ttotal: 3.64s\tremaining: 1.89s\n",
      "592:\tlearn: 2.8208033\ttotal: 3.64s\tremaining: 1.89s\n",
      "593:\tlearn: 2.8185124\ttotal: 3.65s\tremaining: 1.88s\n",
      "594:\tlearn: 2.8163937\ttotal: 3.65s\tremaining: 1.87s\n",
      "595:\tlearn: 2.8153189\ttotal: 3.66s\tremaining: 1.87s\n",
      "596:\tlearn: 2.8140082\ttotal: 3.67s\tremaining: 1.86s\n",
      "597:\tlearn: 2.8126143\ttotal: 3.67s\tremaining: 1.85s\n",
      "598:\tlearn: 2.8113426\ttotal: 3.68s\tremaining: 1.85s\n",
      "599:\tlearn: 2.8100580\ttotal: 3.68s\tremaining: 1.84s\n",
      "600:\tlearn: 2.8074132\ttotal: 3.69s\tremaining: 1.83s\n",
      "601:\tlearn: 2.8058880\ttotal: 3.69s\tremaining: 1.83s\n",
      "602:\tlearn: 2.8043272\ttotal: 3.7s\tremaining: 1.82s\n",
      "603:\tlearn: 2.8026506\ttotal: 3.71s\tremaining: 1.82s\n",
      "604:\tlearn: 2.8000814\ttotal: 3.71s\tremaining: 1.81s\n",
      "605:\tlearn: 2.7992332\ttotal: 3.72s\tremaining: 1.8s\n",
      "606:\tlearn: 2.7983649\ttotal: 3.73s\tremaining: 1.8s\n",
      "607:\tlearn: 2.7966991\ttotal: 3.73s\tremaining: 1.79s\n",
      "608:\tlearn: 2.7958246\ttotal: 3.74s\tremaining: 1.78s\n",
      "609:\tlearn: 2.7938128\ttotal: 3.74s\tremaining: 1.78s\n",
      "610:\tlearn: 2.7924615\ttotal: 3.75s\tremaining: 1.77s\n",
      "611:\tlearn: 2.7909837\ttotal: 3.75s\tremaining: 1.77s\n",
      "612:\tlearn: 2.7894481\ttotal: 3.76s\tremaining: 1.76s\n",
      "613:\tlearn: 2.7884360\ttotal: 3.77s\tremaining: 1.75s\n",
      "614:\tlearn: 2.7866552\ttotal: 3.77s\tremaining: 1.75s\n",
      "615:\tlearn: 2.7852351\ttotal: 3.78s\tremaining: 1.74s\n",
      "616:\tlearn: 2.7841958\ttotal: 3.79s\tremaining: 1.74s\n",
      "617:\tlearn: 2.7834786\ttotal: 3.79s\tremaining: 1.73s\n",
      "618:\tlearn: 2.7820932\ttotal: 3.8s\tremaining: 1.72s\n",
      "619:\tlearn: 2.7814692\ttotal: 3.8s\tremaining: 1.72s\n",
      "620:\tlearn: 2.7800984\ttotal: 3.81s\tremaining: 1.71s\n",
      "621:\tlearn: 2.7784839\ttotal: 3.81s\tremaining: 1.71s\n",
      "622:\tlearn: 2.7765597\ttotal: 3.82s\tremaining: 1.7s\n",
      "623:\tlearn: 2.7747293\ttotal: 3.83s\tremaining: 1.69s\n",
      "624:\tlearn: 2.7736012\ttotal: 3.83s\tremaining: 1.69s\n",
      "625:\tlearn: 2.7725846\ttotal: 3.84s\tremaining: 1.68s\n",
      "626:\tlearn: 2.7701004\ttotal: 3.84s\tremaining: 1.67s\n",
      "627:\tlearn: 2.7687145\ttotal: 3.85s\tremaining: 1.67s\n",
      "628:\tlearn: 2.7677510\ttotal: 3.85s\tremaining: 1.66s\n",
      "629:\tlearn: 2.7669739\ttotal: 3.86s\tremaining: 1.65s\n",
      "630:\tlearn: 2.7661122\ttotal: 3.87s\tremaining: 1.65s\n",
      "631:\tlearn: 2.7638542\ttotal: 3.87s\tremaining: 1.64s\n",
      "632:\tlearn: 2.7627601\ttotal: 3.88s\tremaining: 1.64s\n",
      "633:\tlearn: 2.7594118\ttotal: 3.88s\tremaining: 1.63s\n",
      "634:\tlearn: 2.7581555\ttotal: 3.89s\tremaining: 1.62s\n",
      "635:\tlearn: 2.7567427\ttotal: 3.9s\tremaining: 1.62s\n",
      "636:\tlearn: 2.7553887\ttotal: 3.9s\tremaining: 1.61s\n",
      "637:\tlearn: 2.7540090\ttotal: 3.91s\tremaining: 1.6s\n",
      "638:\tlearn: 2.7517874\ttotal: 3.91s\tremaining: 1.6s\n",
      "639:\tlearn: 2.7505678\ttotal: 3.92s\tremaining: 1.59s\n",
      "640:\tlearn: 2.7495813\ttotal: 3.92s\tremaining: 1.59s\n",
      "641:\tlearn: 2.7487957\ttotal: 3.93s\tremaining: 1.58s\n",
      "642:\tlearn: 2.7477259\ttotal: 3.94s\tremaining: 1.57s\n",
      "643:\tlearn: 2.7470365\ttotal: 3.94s\tremaining: 1.57s\n",
      "644:\tlearn: 2.7461333\ttotal: 3.95s\tremaining: 1.56s\n",
      "645:\tlearn: 2.7449738\ttotal: 3.95s\tremaining: 1.55s\n",
      "646:\tlearn: 2.7424021\ttotal: 3.96s\tremaining: 1.55s\n",
      "647:\tlearn: 2.7410573\ttotal: 3.97s\tremaining: 1.54s\n",
      "648:\tlearn: 2.7389120\ttotal: 3.98s\tremaining: 1.54s\n",
      "649:\tlearn: 2.7377185\ttotal: 3.98s\tremaining: 1.53s\n",
      "650:\tlearn: 2.7365493\ttotal: 3.99s\tremaining: 1.52s\n",
      "651:\tlearn: 2.7355939\ttotal: 3.99s\tremaining: 1.52s\n",
      "652:\tlearn: 2.7345031\ttotal: 4s\tremaining: 1.51s\n",
      "653:\tlearn: 2.7331347\ttotal: 4.01s\tremaining: 1.51s\n",
      "654:\tlearn: 2.7322090\ttotal: 4.01s\tremaining: 1.5s\n",
      "655:\tlearn: 2.7312046\ttotal: 4.02s\tremaining: 1.49s\n",
      "656:\tlearn: 2.7298905\ttotal: 4.02s\tremaining: 1.49s\n",
      "657:\tlearn: 2.7290054\ttotal: 4.03s\tremaining: 1.48s\n",
      "658:\tlearn: 2.7274968\ttotal: 4.03s\tremaining: 1.48s\n",
      "659:\tlearn: 2.7265449\ttotal: 4.04s\tremaining: 1.47s\n",
      "660:\tlearn: 2.7256372\ttotal: 4.05s\tremaining: 1.46s\n",
      "661:\tlearn: 2.7242144\ttotal: 4.05s\tremaining: 1.46s\n",
      "662:\tlearn: 2.7219772\ttotal: 4.06s\tremaining: 1.45s\n",
      "663:\tlearn: 2.7205018\ttotal: 4.06s\tremaining: 1.44s\n",
      "664:\tlearn: 2.7192707\ttotal: 4.07s\tremaining: 1.44s\n",
      "665:\tlearn: 2.7179555\ttotal: 4.08s\tremaining: 1.43s\n",
      "666:\tlearn: 2.7159435\ttotal: 4.08s\tremaining: 1.43s\n",
      "667:\tlearn: 2.7150279\ttotal: 4.09s\tremaining: 1.42s\n",
      "668:\tlearn: 2.7141032\ttotal: 4.09s\tremaining: 1.41s\n",
      "669:\tlearn: 2.7127308\ttotal: 4.1s\tremaining: 1.41s\n",
      "670:\tlearn: 2.7105310\ttotal: 4.1s\tremaining: 1.4s\n",
      "671:\tlearn: 2.7088420\ttotal: 4.11s\tremaining: 1.39s\n",
      "672:\tlearn: 2.7078292\ttotal: 4.12s\tremaining: 1.39s\n",
      "673:\tlearn: 2.7069863\ttotal: 4.12s\tremaining: 1.38s\n",
      "674:\tlearn: 2.7056411\ttotal: 4.13s\tremaining: 1.38s\n",
      "675:\tlearn: 2.7046478\ttotal: 4.13s\tremaining: 1.37s\n",
      "676:\tlearn: 2.7037735\ttotal: 4.14s\tremaining: 1.36s\n",
      "677:\tlearn: 2.7027877\ttotal: 4.14s\tremaining: 1.36s\n",
      "678:\tlearn: 2.7015827\ttotal: 4.15s\tremaining: 1.35s\n",
      "679:\tlearn: 2.6998142\ttotal: 4.16s\tremaining: 1.34s\n"
     ]
    },
    {
     "name": "stdout",
     "output_type": "stream",
     "text": [
      "680:\tlearn: 2.6987087\ttotal: 4.16s\tremaining: 1.34s\n",
      "681:\tlearn: 2.6978078\ttotal: 4.17s\tremaining: 1.33s\n",
      "682:\tlearn: 2.6958622\ttotal: 4.18s\tremaining: 1.33s\n",
      "683:\tlearn: 2.6951795\ttotal: 4.18s\tremaining: 1.32s\n",
      "684:\tlearn: 2.6929965\ttotal: 4.19s\tremaining: 1.31s\n",
      "685:\tlearn: 2.6916931\ttotal: 4.2s\tremaining: 1.31s\n",
      "686:\tlearn: 2.6896039\ttotal: 4.2s\tremaining: 1.3s\n",
      "687:\tlearn: 2.6883351\ttotal: 4.21s\tremaining: 1.3s\n",
      "688:\tlearn: 2.6868746\ttotal: 4.21s\tremaining: 1.29s\n",
      "689:\tlearn: 2.6854993\ttotal: 4.22s\tremaining: 1.28s\n",
      "690:\tlearn: 2.6847181\ttotal: 4.22s\tremaining: 1.28s\n",
      "691:\tlearn: 2.6833442\ttotal: 4.23s\tremaining: 1.27s\n",
      "692:\tlearn: 2.6819334\ttotal: 4.24s\tremaining: 1.26s\n",
      "693:\tlearn: 2.6808816\ttotal: 4.24s\tremaining: 1.26s\n",
      "694:\tlearn: 2.6792655\ttotal: 4.25s\tremaining: 1.25s\n",
      "695:\tlearn: 2.6777564\ttotal: 4.25s\tremaining: 1.25s\n",
      "696:\tlearn: 2.6766100\ttotal: 4.26s\tremaining: 1.24s\n",
      "697:\tlearn: 2.6741136\ttotal: 4.26s\tremaining: 1.23s\n",
      "698:\tlearn: 2.6726689\ttotal: 4.27s\tremaining: 1.23s\n",
      "699:\tlearn: 2.6720270\ttotal: 4.28s\tremaining: 1.22s\n",
      "700:\tlearn: 2.6706648\ttotal: 4.28s\tremaining: 1.22s\n",
      "701:\tlearn: 2.6694488\ttotal: 4.29s\tremaining: 1.21s\n",
      "702:\tlearn: 2.6680568\ttotal: 4.29s\tremaining: 1.2s\n",
      "703:\tlearn: 2.6663859\ttotal: 4.3s\tremaining: 1.2s\n",
      "704:\tlearn: 2.6656960\ttotal: 4.31s\tremaining: 1.19s\n",
      "705:\tlearn: 2.6649684\ttotal: 4.31s\tremaining: 1.18s\n",
      "706:\tlearn: 2.6633012\ttotal: 4.32s\tremaining: 1.18s\n",
      "707:\tlearn: 2.6622982\ttotal: 4.32s\tremaining: 1.17s\n",
      "708:\tlearn: 2.6609080\ttotal: 4.33s\tremaining: 1.17s\n",
      "709:\tlearn: 2.6592962\ttotal: 4.33s\tremaining: 1.16s\n",
      "710:\tlearn: 2.6576408\ttotal: 4.34s\tremaining: 1.15s\n",
      "711:\tlearn: 2.6568829\ttotal: 4.35s\tremaining: 1.15s\n",
      "712:\tlearn: 2.6557833\ttotal: 4.35s\tremaining: 1.14s\n",
      "713:\tlearn: 2.6546883\ttotal: 4.36s\tremaining: 1.14s\n",
      "714:\tlearn: 2.6536386\ttotal: 4.37s\tremaining: 1.13s\n",
      "715:\tlearn: 2.6520723\ttotal: 4.37s\tremaining: 1.12s\n",
      "716:\tlearn: 2.6505991\ttotal: 4.38s\tremaining: 1.12s\n",
      "717:\tlearn: 2.6493939\ttotal: 4.39s\tremaining: 1.11s\n",
      "718:\tlearn: 2.6481109\ttotal: 4.39s\tremaining: 1.1s\n",
      "719:\tlearn: 2.6472632\ttotal: 4.4s\tremaining: 1.1s\n",
      "720:\tlearn: 2.6460882\ttotal: 4.4s\tremaining: 1.09s\n",
      "721:\tlearn: 2.6439785\ttotal: 4.41s\tremaining: 1.09s\n",
      "722:\tlearn: 2.6423926\ttotal: 4.42s\tremaining: 1.08s\n",
      "723:\tlearn: 2.6409424\ttotal: 4.42s\tremaining: 1.07s\n",
      "724:\tlearn: 2.6395887\ttotal: 4.43s\tremaining: 1.07s\n",
      "725:\tlearn: 2.6385512\ttotal: 4.43s\tremaining: 1.06s\n",
      "726:\tlearn: 2.6377368\ttotal: 4.44s\tremaining: 1.06s\n",
      "727:\tlearn: 2.6352962\ttotal: 4.45s\tremaining: 1.05s\n",
      "728:\tlearn: 2.6341126\ttotal: 4.45s\tremaining: 1.04s\n",
      "729:\tlearn: 2.6326319\ttotal: 4.46s\tremaining: 1.04s\n",
      "730:\tlearn: 2.6319748\ttotal: 4.46s\tremaining: 1.03s\n",
      "731:\tlearn: 2.6308860\ttotal: 4.47s\tremaining: 1.02s\n",
      "732:\tlearn: 2.6296200\ttotal: 4.47s\tremaining: 1.02s\n",
      "733:\tlearn: 2.6290075\ttotal: 4.48s\tremaining: 1.01s\n",
      "734:\tlearn: 2.6273745\ttotal: 4.49s\tremaining: 1.01s\n",
      "735:\tlearn: 2.6248045\ttotal: 4.49s\tremaining: 1s\n",
      "736:\tlearn: 2.6240813\ttotal: 4.5s\tremaining: 995ms\n",
      "737:\tlearn: 2.6229090\ttotal: 4.5s\tremaining: 989ms\n",
      "738:\tlearn: 2.6216620\ttotal: 4.51s\tremaining: 983ms\n",
      "739:\tlearn: 2.6206070\ttotal: 4.51s\tremaining: 976ms\n",
      "740:\tlearn: 2.6192646\ttotal: 4.52s\tremaining: 970ms\n",
      "741:\tlearn: 2.6179847\ttotal: 4.53s\tremaining: 964ms\n",
      "742:\tlearn: 2.6164530\ttotal: 4.53s\tremaining: 958ms\n",
      "743:\tlearn: 2.6155675\ttotal: 4.54s\tremaining: 952ms\n",
      "744:\tlearn: 2.6140248\ttotal: 4.54s\tremaining: 946ms\n",
      "745:\tlearn: 2.6128765\ttotal: 4.55s\tremaining: 940ms\n",
      "746:\tlearn: 2.6122601\ttotal: 4.56s\tremaining: 934ms\n",
      "747:\tlearn: 2.6107639\ttotal: 4.57s\tremaining: 928ms\n",
      "748:\tlearn: 2.6093908\ttotal: 4.57s\tremaining: 922ms\n",
      "749:\tlearn: 2.6082707\ttotal: 4.58s\tremaining: 916ms\n",
      "750:\tlearn: 2.6065597\ttotal: 4.58s\tremaining: 910ms\n",
      "751:\tlearn: 2.6056110\ttotal: 4.59s\tremaining: 904ms\n",
      "752:\tlearn: 2.6048414\ttotal: 4.6s\tremaining: 897ms\n",
      "753:\tlearn: 2.6045844\ttotal: 4.6s\tremaining: 891ms\n",
      "754:\tlearn: 2.6034727\ttotal: 4.61s\tremaining: 885ms\n",
      "755:\tlearn: 2.6021045\ttotal: 4.61s\tremaining: 879ms\n",
      "756:\tlearn: 2.6005632\ttotal: 4.62s\tremaining: 873ms\n",
      "757:\tlearn: 2.5991663\ttotal: 4.63s\tremaining: 866ms\n",
      "758:\tlearn: 2.5979383\ttotal: 4.63s\tremaining: 860ms\n",
      "759:\tlearn: 2.5969470\ttotal: 4.64s\tremaining: 854ms\n",
      "760:\tlearn: 2.5964272\ttotal: 4.64s\tremaining: 848ms\n",
      "761:\tlearn: 2.5947348\ttotal: 4.65s\tremaining: 842ms\n",
      "762:\tlearn: 2.5939675\ttotal: 4.65s\tremaining: 836ms\n",
      "763:\tlearn: 2.5929289\ttotal: 4.66s\tremaining: 830ms\n",
      "764:\tlearn: 2.5916343\ttotal: 4.67s\tremaining: 823ms\n",
      "765:\tlearn: 2.5910089\ttotal: 4.67s\tremaining: 817ms\n",
      "766:\tlearn: 2.5901339\ttotal: 4.68s\tremaining: 811ms\n",
      "767:\tlearn: 2.5892277\ttotal: 4.68s\tremaining: 805ms\n",
      "768:\tlearn: 2.5882464\ttotal: 4.69s\tremaining: 799ms\n",
      "769:\tlearn: 2.5871800\ttotal: 4.7s\tremaining: 793ms\n",
      "770:\tlearn: 2.5853513\ttotal: 4.7s\tremaining: 787ms\n",
      "771:\tlearn: 2.5835865\ttotal: 4.71s\tremaining: 781ms\n",
      "772:\tlearn: 2.5821501\ttotal: 4.71s\tremaining: 774ms\n",
      "773:\tlearn: 2.5811208\ttotal: 4.72s\tremaining: 768ms\n",
      "774:\tlearn: 2.5796098\ttotal: 4.72s\tremaining: 762ms\n",
      "775:\tlearn: 2.5783480\ttotal: 4.73s\tremaining: 756ms\n",
      "776:\tlearn: 2.5762951\ttotal: 4.74s\tremaining: 750ms\n",
      "777:\tlearn: 2.5746531\ttotal: 4.75s\tremaining: 744ms\n",
      "778:\tlearn: 2.5738915\ttotal: 4.75s\tremaining: 738ms\n",
      "779:\tlearn: 2.5729523\ttotal: 4.76s\tremaining: 732ms\n",
      "780:\tlearn: 2.5715319\ttotal: 4.76s\tremaining: 726ms\n",
      "781:\tlearn: 2.5705011\ttotal: 4.77s\tremaining: 720ms\n",
      "782:\tlearn: 2.5695939\ttotal: 4.78s\tremaining: 714ms\n",
      "783:\tlearn: 2.5674725\ttotal: 4.78s\tremaining: 708ms\n",
      "784:\tlearn: 2.5651712\ttotal: 4.79s\tremaining: 701ms\n",
      "785:\tlearn: 2.5637621\ttotal: 4.79s\tremaining: 695ms\n",
      "786:\tlearn: 2.5629086\ttotal: 4.8s\tremaining: 689ms\n",
      "787:\tlearn: 2.5613578\ttotal: 4.8s\tremaining: 683ms\n",
      "788:\tlearn: 2.5603562\ttotal: 4.81s\tremaining: 677ms\n",
      "789:\tlearn: 2.5596767\ttotal: 4.82s\tremaining: 671ms\n",
      "790:\tlearn: 2.5587092\ttotal: 4.82s\tremaining: 664ms\n",
      "791:\tlearn: 2.5575482\ttotal: 4.83s\tremaining: 658ms\n",
      "792:\tlearn: 2.5561869\ttotal: 4.83s\tremaining: 652ms\n",
      "793:\tlearn: 2.5542355\ttotal: 4.84s\tremaining: 646ms\n",
      "794:\tlearn: 2.5534113\ttotal: 4.84s\tremaining: 640ms\n",
      "795:\tlearn: 2.5527522\ttotal: 4.85s\tremaining: 634ms\n",
      "796:\tlearn: 2.5518428\ttotal: 4.86s\tremaining: 628ms\n",
      "797:\tlearn: 2.5507830\ttotal: 4.86s\tremaining: 622ms\n",
      "798:\tlearn: 2.5500144\ttotal: 4.87s\tremaining: 615ms\n",
      "799:\tlearn: 2.5490445\ttotal: 4.87s\tremaining: 609ms\n",
      "800:\tlearn: 2.5484421\ttotal: 4.88s\tremaining: 603ms\n",
      "801:\tlearn: 2.5474014\ttotal: 4.89s\tremaining: 597ms\n",
      "802:\tlearn: 2.5462911\ttotal: 4.89s\tremaining: 591ms\n",
      "803:\tlearn: 2.5454136\ttotal: 4.9s\tremaining: 585ms\n",
      "804:\tlearn: 2.5439957\ttotal: 4.9s\tremaining: 579ms\n",
      "805:\tlearn: 2.5432290\ttotal: 4.91s\tremaining: 573ms\n",
      "806:\tlearn: 2.5418733\ttotal: 4.91s\tremaining: 566ms\n",
      "807:\tlearn: 2.5405559\ttotal: 4.92s\tremaining: 560ms\n",
      "808:\tlearn: 2.5396092\ttotal: 4.93s\tremaining: 554ms\n",
      "809:\tlearn: 2.5387096\ttotal: 4.93s\tremaining: 548ms\n",
      "810:\tlearn: 2.5374126\ttotal: 4.94s\tremaining: 542ms\n",
      "811:\tlearn: 2.5366634\ttotal: 4.95s\tremaining: 536ms\n",
      "812:\tlearn: 2.5354910\ttotal: 4.95s\tremaining: 530ms\n",
      "813:\tlearn: 2.5346906\ttotal: 4.96s\tremaining: 524ms\n",
      "814:\tlearn: 2.5335461\ttotal: 4.96s\tremaining: 518ms\n",
      "815:\tlearn: 2.5325703\ttotal: 4.97s\tremaining: 512ms\n",
      "816:\tlearn: 2.5313654\ttotal: 4.98s\tremaining: 506ms\n",
      "817:\tlearn: 2.5305962\ttotal: 4.98s\tremaining: 499ms\n",
      "818:\tlearn: 2.5292301\ttotal: 4.99s\tremaining: 493ms\n",
      "819:\tlearn: 2.5282161\ttotal: 4.99s\tremaining: 487ms\n",
      "820:\tlearn: 2.5270661\ttotal: 5s\tremaining: 481ms\n",
      "821:\tlearn: 2.5266314\ttotal: 5s\tremaining: 475ms\n",
      "822:\tlearn: 2.5249835\ttotal: 5.01s\tremaining: 469ms\n",
      "823:\tlearn: 2.5241309\ttotal: 5.02s\tremaining: 463ms\n",
      "824:\tlearn: 2.5229330\ttotal: 5.02s\tremaining: 457ms\n",
      "825:\tlearn: 2.5217556\ttotal: 5.03s\tremaining: 450ms\n",
      "826:\tlearn: 2.5208328\ttotal: 5.03s\tremaining: 444ms\n",
      "827:\tlearn: 2.5198656\ttotal: 5.04s\tremaining: 438ms\n",
      "828:\tlearn: 2.5183540\ttotal: 5.04s\tremaining: 432ms\n",
      "829:\tlearn: 2.5175212\ttotal: 5.05s\tremaining: 426ms\n",
      "830:\tlearn: 2.5165791\ttotal: 5.06s\tremaining: 420ms\n",
      "831:\tlearn: 2.5154840\ttotal: 5.06s\tremaining: 414ms\n",
      "832:\tlearn: 2.5147637\ttotal: 5.07s\tremaining: 408ms\n",
      "833:\tlearn: 2.5137745\ttotal: 5.07s\tremaining: 402ms\n",
      "834:\tlearn: 2.5125755\ttotal: 5.08s\tremaining: 395ms\n",
      "835:\tlearn: 2.5117875\ttotal: 5.08s\tremaining: 389ms\n",
      "836:\tlearn: 2.5108705\ttotal: 5.09s\tremaining: 383ms\n",
      "837:\tlearn: 2.5093913\ttotal: 5.1s\tremaining: 377ms\n",
      "838:\tlearn: 2.5087897\ttotal: 5.1s\tremaining: 371ms\n",
      "839:\tlearn: 2.5073728\ttotal: 5.11s\tremaining: 365ms\n",
      "840:\tlearn: 2.5061903\ttotal: 5.12s\tremaining: 359ms\n",
      "841:\tlearn: 2.5048766\ttotal: 5.12s\tremaining: 353ms\n"
     ]
    },
    {
     "name": "stdout",
     "output_type": "stream",
     "text": [
      "842:\tlearn: 2.5035618\ttotal: 5.13s\tremaining: 347ms\n",
      "843:\tlearn: 2.5027746\ttotal: 5.13s\tremaining: 341ms\n",
      "844:\tlearn: 2.5016370\ttotal: 5.14s\tremaining: 335ms\n",
      "845:\tlearn: 2.5001431\ttotal: 5.15s\tremaining: 329ms\n",
      "846:\tlearn: 2.4989705\ttotal: 5.15s\tremaining: 323ms\n",
      "847:\tlearn: 2.4986944\ttotal: 5.16s\tremaining: 316ms\n",
      "848:\tlearn: 2.4974902\ttotal: 5.17s\tremaining: 310ms\n",
      "849:\tlearn: 2.4969308\ttotal: 5.17s\tremaining: 304ms\n",
      "850:\tlearn: 2.4962137\ttotal: 5.18s\tremaining: 298ms\n",
      "851:\tlearn: 2.4954291\ttotal: 5.18s\tremaining: 292ms\n",
      "852:\tlearn: 2.4939815\ttotal: 5.19s\tremaining: 286ms\n",
      "853:\tlearn: 2.4926534\ttotal: 5.19s\tremaining: 280ms\n",
      "854:\tlearn: 2.4914554\ttotal: 5.2s\tremaining: 274ms\n",
      "855:\tlearn: 2.4895055\ttotal: 5.21s\tremaining: 268ms\n",
      "856:\tlearn: 2.4883608\ttotal: 5.21s\tremaining: 261ms\n",
      "857:\tlearn: 2.4876632\ttotal: 5.22s\tremaining: 255ms\n",
      "858:\tlearn: 2.4863860\ttotal: 5.22s\tremaining: 249ms\n",
      "859:\tlearn: 2.4857365\ttotal: 5.23s\tremaining: 243ms\n",
      "860:\tlearn: 2.4846110\ttotal: 5.24s\tremaining: 237ms\n",
      "861:\tlearn: 2.4838466\ttotal: 5.24s\tremaining: 231ms\n",
      "862:\tlearn: 2.4829138\ttotal: 5.25s\tremaining: 225ms\n",
      "863:\tlearn: 2.4818014\ttotal: 5.25s\tremaining: 219ms\n",
      "864:\tlearn: 2.4805810\ttotal: 5.26s\tremaining: 213ms\n",
      "865:\tlearn: 2.4799668\ttotal: 5.26s\tremaining: 207ms\n",
      "866:\tlearn: 2.4790425\ttotal: 5.27s\tremaining: 201ms\n",
      "867:\tlearn: 2.4779322\ttotal: 5.28s\tremaining: 194ms\n",
      "868:\tlearn: 2.4773913\ttotal: 5.28s\tremaining: 188ms\n",
      "869:\tlearn: 2.4765423\ttotal: 5.29s\tremaining: 182ms\n",
      "870:\tlearn: 2.4756562\ttotal: 5.29s\tremaining: 176ms\n",
      "871:\tlearn: 2.4744772\ttotal: 5.3s\tremaining: 170ms\n",
      "872:\tlearn: 2.4737464\ttotal: 5.3s\tremaining: 164ms\n",
      "873:\tlearn: 2.4723496\ttotal: 5.31s\tremaining: 158ms\n",
      "874:\tlearn: 2.4715276\ttotal: 5.32s\tremaining: 152ms\n",
      "875:\tlearn: 2.4702535\ttotal: 5.32s\tremaining: 146ms\n",
      "876:\tlearn: 2.4693881\ttotal: 5.33s\tremaining: 140ms\n",
      "877:\tlearn: 2.4685681\ttotal: 5.34s\tremaining: 134ms\n",
      "878:\tlearn: 2.4678038\ttotal: 5.34s\tremaining: 128ms\n",
      "879:\tlearn: 2.4668558\ttotal: 5.35s\tremaining: 122ms\n",
      "880:\tlearn: 2.4662810\ttotal: 5.36s\tremaining: 116ms\n",
      "881:\tlearn: 2.4651911\ttotal: 5.36s\tremaining: 109ms\n",
      "882:\tlearn: 2.4637311\ttotal: 5.37s\tremaining: 103ms\n",
      "883:\tlearn: 2.4627740\ttotal: 5.37s\tremaining: 97.3ms\n",
      "884:\tlearn: 2.4623876\ttotal: 5.38s\tremaining: 91.2ms\n",
      "885:\tlearn: 2.4615645\ttotal: 5.38s\tremaining: 85.1ms\n",
      "886:\tlearn: 2.4603530\ttotal: 5.39s\tremaining: 79ms\n",
      "887:\tlearn: 2.4598262\ttotal: 5.4s\tremaining: 72.9ms\n",
      "888:\tlearn: 2.4590249\ttotal: 5.4s\tremaining: 66.8ms\n",
      "889:\tlearn: 2.4574997\ttotal: 5.41s\tremaining: 60.8ms\n",
      "890:\tlearn: 2.4570936\ttotal: 5.41s\tremaining: 54.7ms\n",
      "891:\tlearn: 2.4564851\ttotal: 5.42s\tremaining: 48.6ms\n",
      "892:\tlearn: 2.4551369\ttotal: 5.42s\tremaining: 42.5ms\n",
      "893:\tlearn: 2.4540839\ttotal: 5.43s\tremaining: 36.5ms\n",
      "894:\tlearn: 2.4529792\ttotal: 5.44s\tremaining: 30.4ms\n",
      "895:\tlearn: 2.4522243\ttotal: 5.44s\tremaining: 24.3ms\n",
      "896:\tlearn: 2.4508808\ttotal: 5.45s\tremaining: 18.2ms\n",
      "897:\tlearn: 2.4490245\ttotal: 5.45s\tremaining: 12.1ms\n",
      "898:\tlearn: 2.4485486\ttotal: 5.46s\tremaining: 6.07ms\n",
      "899:\tlearn: 2.4477459\ttotal: 5.46s\tremaining: 0us\n",
      "sMAPE для флотации равен: 3.9102158322682845\n",
      "Learning rate set to 0.067469\n",
      "0:\tlearn: 9.0947073\ttotal: 26.4ms\tremaining: 23.7s\n",
      "1:\tlearn: 8.9181685\ttotal: 44.1ms\tremaining: 19.8s\n",
      "2:\tlearn: 8.7545401\ttotal: 60.5ms\tremaining: 18.1s\n",
      "3:\tlearn: 8.6041893\ttotal: 72.7ms\tremaining: 16.3s\n",
      "4:\tlearn: 8.4565623\ttotal: 84.3ms\tremaining: 15.1s\n",
      "5:\tlearn: 8.3411011\ttotal: 96.1ms\tremaining: 14.3s\n",
      "6:\tlearn: 8.2144776\ttotal: 107ms\tremaining: 13.7s\n",
      "7:\tlearn: 8.1052915\ttotal: 118ms\tremaining: 13.2s\n",
      "8:\tlearn: 8.0096920\ttotal: 130ms\tremaining: 12.9s\n",
      "9:\tlearn: 7.9113361\ttotal: 142ms\tremaining: 12.6s\n",
      "10:\tlearn: 7.8374003\ttotal: 153ms\tremaining: 12.3s\n",
      "11:\tlearn: 7.7596094\ttotal: 164ms\tremaining: 12.1s\n",
      "12:\tlearn: 7.6924998\ttotal: 176ms\tremaining: 12s\n",
      "13:\tlearn: 7.6213336\ttotal: 187ms\tremaining: 11.9s\n",
      "14:\tlearn: 7.5603641\ttotal: 199ms\tremaining: 11.7s\n",
      "15:\tlearn: 7.4941169\ttotal: 213ms\tremaining: 11.8s\n",
      "16:\tlearn: 7.4372958\ttotal: 225ms\tremaining: 11.7s\n",
      "17:\tlearn: 7.3864447\ttotal: 237ms\tremaining: 11.6s\n",
      "18:\tlearn: 7.3444344\ttotal: 247ms\tremaining: 11.5s\n",
      "19:\tlearn: 7.3046815\ttotal: 258ms\tremaining: 11.4s\n",
      "20:\tlearn: 7.2621725\ttotal: 270ms\tremaining: 11.3s\n",
      "21:\tlearn: 7.2159303\ttotal: 281ms\tremaining: 11.2s\n",
      "22:\tlearn: 7.1780295\ttotal: 293ms\tremaining: 11.2s\n",
      "23:\tlearn: 7.1409245\ttotal: 304ms\tremaining: 11.1s\n",
      "24:\tlearn: 7.1112833\ttotal: 315ms\tremaining: 11s\n",
      "25:\tlearn: 7.0728095\ttotal: 327ms\tremaining: 11s\n",
      "26:\tlearn: 7.0461356\ttotal: 338ms\tremaining: 10.9s\n",
      "27:\tlearn: 7.0215050\ttotal: 349ms\tremaining: 10.9s\n",
      "28:\tlearn: 6.9922495\ttotal: 361ms\tremaining: 10.8s\n",
      "29:\tlearn: 6.9700530\ttotal: 371ms\tremaining: 10.8s\n",
      "30:\tlearn: 6.9462366\ttotal: 382ms\tremaining: 10.7s\n",
      "31:\tlearn: 6.9221888\ttotal: 393ms\tremaining: 10.7s\n",
      "32:\tlearn: 6.8952068\ttotal: 405ms\tremaining: 10.6s\n",
      "33:\tlearn: 6.8669827\ttotal: 419ms\tremaining: 10.7s\n",
      "34:\tlearn: 6.8445754\ttotal: 430ms\tremaining: 10.6s\n",
      "35:\tlearn: 6.8225292\ttotal: 442ms\tremaining: 10.6s\n",
      "36:\tlearn: 6.8013257\ttotal: 454ms\tremaining: 10.6s\n",
      "37:\tlearn: 6.7810662\ttotal: 465ms\tremaining: 10.5s\n",
      "38:\tlearn: 6.7665139\ttotal: 476ms\tremaining: 10.5s\n",
      "39:\tlearn: 6.7504801\ttotal: 487ms\tremaining: 10.5s\n",
      "40:\tlearn: 6.7359826\ttotal: 498ms\tremaining: 10.4s\n",
      "41:\tlearn: 6.7209766\ttotal: 509ms\tremaining: 10.4s\n",
      "42:\tlearn: 6.7032811\ttotal: 520ms\tremaining: 10.4s\n",
      "43:\tlearn: 6.6863953\ttotal: 531ms\tremaining: 10.3s\n",
      "44:\tlearn: 6.6633557\ttotal: 543ms\tremaining: 10.3s\n",
      "45:\tlearn: 6.6464822\ttotal: 555ms\tremaining: 10.3s\n",
      "46:\tlearn: 6.6301121\ttotal: 565ms\tremaining: 10.3s\n",
      "47:\tlearn: 6.6165448\ttotal: 577ms\tremaining: 10.2s\n",
      "48:\tlearn: 6.6015733\ttotal: 588ms\tremaining: 10.2s\n",
      "49:\tlearn: 6.5878780\ttotal: 601ms\tremaining: 10.2s\n",
      "50:\tlearn: 6.5756178\ttotal: 614ms\tremaining: 10.2s\n",
      "51:\tlearn: 6.5613328\ttotal: 629ms\tremaining: 10.3s\n",
      "52:\tlearn: 6.5460993\ttotal: 642ms\tremaining: 10.3s\n",
      "53:\tlearn: 6.5322466\ttotal: 654ms\tremaining: 10.2s\n",
      "54:\tlearn: 6.5215991\ttotal: 665ms\tremaining: 10.2s\n",
      "55:\tlearn: 6.5049088\ttotal: 675ms\tremaining: 10.2s\n",
      "56:\tlearn: 6.4907205\ttotal: 686ms\tremaining: 10.2s\n",
      "57:\tlearn: 6.4815069\ttotal: 697ms\tremaining: 10.1s\n",
      "58:\tlearn: 6.4724599\ttotal: 708ms\tremaining: 10.1s\n",
      "59:\tlearn: 6.4603585\ttotal: 719ms\tremaining: 10.1s\n",
      "60:\tlearn: 6.4503732\ttotal: 730ms\tremaining: 10s\n",
      "61:\tlearn: 6.4350737\ttotal: 741ms\tremaining: 10s\n",
      "62:\tlearn: 6.4231147\ttotal: 753ms\tremaining: 10s\n",
      "63:\tlearn: 6.4127012\ttotal: 763ms\tremaining: 9.97s\n",
      "64:\tlearn: 6.4022345\ttotal: 775ms\tremaining: 9.95s\n",
      "65:\tlearn: 6.3920003\ttotal: 786ms\tremaining: 9.93s\n",
      "66:\tlearn: 6.3822241\ttotal: 797ms\tremaining: 9.9s\n",
      "67:\tlearn: 6.3715669\ttotal: 808ms\tremaining: 9.88s\n",
      "68:\tlearn: 6.3593155\ttotal: 819ms\tremaining: 9.86s\n",
      "69:\tlearn: 6.3474613\ttotal: 833ms\tremaining: 9.87s\n",
      "70:\tlearn: 6.3368279\ttotal: 845ms\tremaining: 9.87s\n",
      "71:\tlearn: 6.3278417\ttotal: 857ms\tremaining: 9.85s\n",
      "72:\tlearn: 6.3172904\ttotal: 868ms\tremaining: 9.83s\n",
      "73:\tlearn: 6.3052506\ttotal: 879ms\tremaining: 9.81s\n",
      "74:\tlearn: 6.2977436\ttotal: 890ms\tremaining: 9.79s\n",
      "75:\tlearn: 6.2849397\ttotal: 901ms\tremaining: 9.77s\n",
      "76:\tlearn: 6.2764098\ttotal: 914ms\tremaining: 9.77s\n",
      "77:\tlearn: 6.2644231\ttotal: 928ms\tremaining: 9.78s\n",
      "78:\tlearn: 6.2541821\ttotal: 941ms\tremaining: 9.78s\n",
      "79:\tlearn: 6.2457322\ttotal: 953ms\tremaining: 9.77s\n",
      "80:\tlearn: 6.2369722\ttotal: 963ms\tremaining: 9.74s\n",
      "81:\tlearn: 6.2301376\ttotal: 974ms\tremaining: 9.72s\n",
      "82:\tlearn: 6.2265316\ttotal: 985ms\tremaining: 9.7s\n",
      "83:\tlearn: 6.2164017\ttotal: 996ms\tremaining: 9.68s\n",
      "84:\tlearn: 6.2048819\ttotal: 1.01s\tremaining: 9.66s\n",
      "85:\tlearn: 6.1948188\ttotal: 1.02s\tremaining: 9.66s\n",
      "86:\tlearn: 6.1857545\ttotal: 1.03s\tremaining: 9.66s\n",
      "87:\tlearn: 6.1786977\ttotal: 1.04s\tremaining: 9.63s\n",
      "88:\tlearn: 6.1715241\ttotal: 1.05s\tremaining: 9.61s\n",
      "89:\tlearn: 6.1622823\ttotal: 1.06s\tremaining: 9.59s\n",
      "90:\tlearn: 6.1553095\ttotal: 1.08s\tremaining: 9.57s\n",
      "91:\tlearn: 6.1473490\ttotal: 1.09s\tremaining: 9.55s\n",
      "92:\tlearn: 6.1403322\ttotal: 1.1s\tremaining: 9.54s\n",
      "93:\tlearn: 6.1333947\ttotal: 1.11s\tremaining: 9.52s\n",
      "94:\tlearn: 6.1272697\ttotal: 1.12s\tremaining: 9.5s\n",
      "95:\tlearn: 6.1202363\ttotal: 1.13s\tremaining: 9.47s\n",
      "96:\tlearn: 6.1107516\ttotal: 1.14s\tremaining: 9.46s\n",
      "97:\tlearn: 6.1003618\ttotal: 1.15s\tremaining: 9.44s\n",
      "98:\tlearn: 6.0946428\ttotal: 1.16s\tremaining: 9.42s\n",
      "99:\tlearn: 6.0898417\ttotal: 1.18s\tremaining: 9.4s\n",
      "100:\tlearn: 6.0790651\ttotal: 1.19s\tremaining: 9.39s\n",
      "101:\tlearn: 6.0688391\ttotal: 1.2s\tremaining: 9.37s\n",
      "102:\tlearn: 6.0603610\ttotal: 1.21s\tremaining: 9.36s\n"
     ]
    },
    {
     "name": "stdout",
     "output_type": "stream",
     "text": [
      "103:\tlearn: 6.0543375\ttotal: 1.22s\tremaining: 9.36s\n",
      "104:\tlearn: 6.0459146\ttotal: 1.24s\tremaining: 9.36s\n",
      "105:\tlearn: 6.0356717\ttotal: 1.25s\tremaining: 9.35s\n",
      "106:\tlearn: 6.0255483\ttotal: 1.26s\tremaining: 9.34s\n",
      "107:\tlearn: 6.0171367\ttotal: 1.27s\tremaining: 9.32s\n",
      "108:\tlearn: 6.0093382\ttotal: 1.28s\tremaining: 9.3s\n",
      "109:\tlearn: 6.0020056\ttotal: 1.29s\tremaining: 9.28s\n",
      "110:\tlearn: 5.9958057\ttotal: 1.3s\tremaining: 9.26s\n",
      "111:\tlearn: 5.9881300\ttotal: 1.31s\tremaining: 9.24s\n",
      "112:\tlearn: 5.9809664\ttotal: 1.32s\tremaining: 9.23s\n",
      "113:\tlearn: 5.9726184\ttotal: 1.34s\tremaining: 9.21s\n",
      "114:\tlearn: 5.9678502\ttotal: 1.35s\tremaining: 9.19s\n",
      "115:\tlearn: 5.9605183\ttotal: 1.36s\tremaining: 9.18s\n",
      "116:\tlearn: 5.9531157\ttotal: 1.37s\tremaining: 9.16s\n",
      "117:\tlearn: 5.9401099\ttotal: 1.38s\tremaining: 9.15s\n",
      "118:\tlearn: 5.9337479\ttotal: 1.39s\tremaining: 9.13s\n",
      "119:\tlearn: 5.9284490\ttotal: 1.4s\tremaining: 9.11s\n",
      "120:\tlearn: 5.9232733\ttotal: 1.41s\tremaining: 9.1s\n",
      "121:\tlearn: 5.9188075\ttotal: 1.43s\tremaining: 9.1s\n",
      "122:\tlearn: 5.9130331\ttotal: 1.44s\tremaining: 9.09s\n",
      "123:\tlearn: 5.9069540\ttotal: 1.45s\tremaining: 9.07s\n",
      "124:\tlearn: 5.9001287\ttotal: 1.46s\tremaining: 9.06s\n",
      "125:\tlearn: 5.8964784\ttotal: 1.47s\tremaining: 9.04s\n",
      "126:\tlearn: 5.8903340\ttotal: 1.48s\tremaining: 9.03s\n",
      "127:\tlearn: 5.8826422\ttotal: 1.49s\tremaining: 9.01s\n",
      "128:\tlearn: 5.8761334\ttotal: 1.5s\tremaining: 9s\n",
      "129:\tlearn: 5.8711910\ttotal: 1.52s\tremaining: 8.98s\n",
      "130:\tlearn: 5.8631587\ttotal: 1.53s\tremaining: 8.97s\n",
      "131:\tlearn: 5.8539946\ttotal: 1.54s\tremaining: 8.95s\n",
      "132:\tlearn: 5.8490276\ttotal: 1.55s\tremaining: 8.94s\n",
      "133:\tlearn: 5.8436707\ttotal: 1.56s\tremaining: 8.92s\n",
      "134:\tlearn: 5.8356791\ttotal: 1.57s\tremaining: 8.91s\n",
      "135:\tlearn: 5.8325098\ttotal: 1.58s\tremaining: 8.89s\n",
      "136:\tlearn: 5.8252477\ttotal: 1.59s\tremaining: 8.88s\n",
      "137:\tlearn: 5.8177831\ttotal: 1.6s\tremaining: 8.86s\n",
      "138:\tlearn: 5.8132852\ttotal: 1.62s\tremaining: 8.85s\n",
      "139:\tlearn: 5.8089930\ttotal: 1.63s\tremaining: 8.84s\n",
      "140:\tlearn: 5.8040510\ttotal: 1.65s\tremaining: 8.86s\n",
      "141:\tlearn: 5.7946420\ttotal: 1.66s\tremaining: 8.84s\n",
      "142:\tlearn: 5.7863891\ttotal: 1.67s\tremaining: 8.83s\n",
      "143:\tlearn: 5.7792212\ttotal: 1.68s\tremaining: 8.81s\n",
      "144:\tlearn: 5.7738054\ttotal: 1.69s\tremaining: 8.79s\n",
      "145:\tlearn: 5.7662419\ttotal: 1.7s\tremaining: 8.78s\n",
      "146:\tlearn: 5.7572020\ttotal: 1.71s\tremaining: 8.77s\n",
      "147:\tlearn: 5.7526212\ttotal: 1.72s\tremaining: 8.75s\n",
      "148:\tlearn: 5.7454065\ttotal: 1.73s\tremaining: 8.74s\n",
      "149:\tlearn: 5.7369473\ttotal: 1.74s\tremaining: 8.72s\n",
      "150:\tlearn: 5.7323789\ttotal: 1.75s\tremaining: 8.71s\n",
      "151:\tlearn: 5.7223752\ttotal: 1.77s\tremaining: 8.69s\n",
      "152:\tlearn: 5.7165493\ttotal: 1.78s\tremaining: 8.68s\n",
      "153:\tlearn: 5.7099545\ttotal: 1.79s\tremaining: 8.67s\n",
      "154:\tlearn: 5.7057094\ttotal: 1.8s\tremaining: 8.65s\n",
      "155:\tlearn: 5.6993586\ttotal: 1.81s\tremaining: 8.64s\n",
      "156:\tlearn: 5.6939010\ttotal: 1.82s\tremaining: 8.62s\n",
      "157:\tlearn: 5.6872240\ttotal: 1.83s\tremaining: 8.61s\n",
      "158:\tlearn: 5.6815873\ttotal: 1.85s\tremaining: 8.61s\n",
      "159:\tlearn: 5.6765652\ttotal: 1.86s\tremaining: 8.6s\n",
      "160:\tlearn: 5.6706471\ttotal: 1.87s\tremaining: 8.58s\n",
      "161:\tlearn: 5.6648333\ttotal: 1.88s\tremaining: 8.57s\n",
      "162:\tlearn: 5.6554409\ttotal: 1.89s\tremaining: 8.56s\n",
      "163:\tlearn: 5.6471662\ttotal: 1.9s\tremaining: 8.54s\n",
      "164:\tlearn: 5.6405886\ttotal: 1.91s\tremaining: 8.53s\n",
      "165:\tlearn: 5.6340037\ttotal: 1.93s\tremaining: 8.52s\n",
      "166:\tlearn: 5.6264420\ttotal: 1.94s\tremaining: 8.5s\n",
      "167:\tlearn: 5.6185697\ttotal: 1.95s\tremaining: 8.49s\n",
      "168:\tlearn: 5.6117505\ttotal: 1.96s\tremaining: 8.47s\n",
      "169:\tlearn: 5.6056033\ttotal: 1.97s\tremaining: 8.46s\n",
      "170:\tlearn: 5.5994654\ttotal: 1.98s\tremaining: 8.44s\n",
      "171:\tlearn: 5.5918006\ttotal: 1.99s\tremaining: 8.43s\n",
      "172:\tlearn: 5.5847663\ttotal: 2s\tremaining: 8.42s\n",
      "173:\tlearn: 5.5805384\ttotal: 2.01s\tremaining: 8.4s\n",
      "174:\tlearn: 5.5734095\ttotal: 2.03s\tremaining: 8.39s\n",
      "175:\tlearn: 5.5663850\ttotal: 2.04s\tremaining: 8.39s\n",
      "176:\tlearn: 5.5581459\ttotal: 2.05s\tremaining: 8.38s\n",
      "177:\tlearn: 5.5520694\ttotal: 2.06s\tremaining: 8.37s\n",
      "178:\tlearn: 5.5459787\ttotal: 2.07s\tremaining: 8.36s\n",
      "179:\tlearn: 5.5405944\ttotal: 2.08s\tremaining: 8.34s\n",
      "180:\tlearn: 5.5351509\ttotal: 2.1s\tremaining: 8.33s\n",
      "181:\tlearn: 5.5310853\ttotal: 2.11s\tremaining: 8.31s\n",
      "182:\tlearn: 5.5248656\ttotal: 2.12s\tremaining: 8.3s\n",
      "183:\tlearn: 5.5182158\ttotal: 2.13s\tremaining: 8.29s\n",
      "184:\tlearn: 5.5119786\ttotal: 2.14s\tremaining: 8.27s\n",
      "185:\tlearn: 5.5049140\ttotal: 2.15s\tremaining: 8.26s\n",
      "186:\tlearn: 5.5007806\ttotal: 2.16s\tremaining: 8.24s\n",
      "187:\tlearn: 5.4939921\ttotal: 2.17s\tremaining: 8.23s\n",
      "188:\tlearn: 5.4875361\ttotal: 2.18s\tremaining: 8.22s\n",
      "189:\tlearn: 5.4829284\ttotal: 2.19s\tremaining: 8.2s\n",
      "190:\tlearn: 5.4752832\ttotal: 2.21s\tremaining: 8.19s\n",
      "191:\tlearn: 5.4685280\ttotal: 2.22s\tremaining: 8.18s\n",
      "192:\tlearn: 5.4602561\ttotal: 2.23s\tremaining: 8.17s\n",
      "193:\tlearn: 5.4561729\ttotal: 2.24s\tremaining: 8.17s\n",
      "194:\tlearn: 5.4509708\ttotal: 2.25s\tremaining: 8.15s\n",
      "195:\tlearn: 5.4456332\ttotal: 2.27s\tremaining: 8.14s\n",
      "196:\tlearn: 5.4392335\ttotal: 2.28s\tremaining: 8.12s\n",
      "197:\tlearn: 5.4330707\ttotal: 2.29s\tremaining: 8.11s\n",
      "198:\tlearn: 5.4278952\ttotal: 2.3s\tremaining: 8.09s\n",
      "199:\tlearn: 5.4217740\ttotal: 2.31s\tremaining: 8.08s\n",
      "200:\tlearn: 5.4167324\ttotal: 2.32s\tremaining: 8.07s\n",
      "201:\tlearn: 5.4106819\ttotal: 2.33s\tremaining: 8.05s\n",
      "202:\tlearn: 5.4044612\ttotal: 2.34s\tremaining: 8.04s\n",
      "203:\tlearn: 5.3983679\ttotal: 2.35s\tremaining: 8.03s\n",
      "204:\tlearn: 5.3946635\ttotal: 2.36s\tremaining: 8.02s\n",
      "205:\tlearn: 5.3905156\ttotal: 2.38s\tremaining: 8s\n",
      "206:\tlearn: 5.3857475\ttotal: 2.39s\tremaining: 7.99s\n",
      "207:\tlearn: 5.3796790\ttotal: 2.4s\tremaining: 7.98s\n",
      "208:\tlearn: 5.3753037\ttotal: 2.41s\tremaining: 7.96s\n",
      "209:\tlearn: 5.3697485\ttotal: 2.42s\tremaining: 7.95s\n",
      "210:\tlearn: 5.3665555\ttotal: 2.43s\tremaining: 7.95s\n",
      "211:\tlearn: 5.3628821\ttotal: 2.45s\tremaining: 7.94s\n",
      "212:\tlearn: 5.3573001\ttotal: 2.46s\tremaining: 7.93s\n",
      "213:\tlearn: 5.3502546\ttotal: 2.47s\tremaining: 7.91s\n",
      "214:\tlearn: 5.3448813\ttotal: 2.48s\tremaining: 7.9s\n",
      "215:\tlearn: 5.3361060\ttotal: 2.49s\tremaining: 7.89s\n",
      "216:\tlearn: 5.3306960\ttotal: 2.5s\tremaining: 7.88s\n",
      "217:\tlearn: 5.3264472\ttotal: 2.51s\tremaining: 7.86s\n",
      "218:\tlearn: 5.3207705\ttotal: 2.52s\tremaining: 7.85s\n",
      "219:\tlearn: 5.3165820\ttotal: 2.54s\tremaining: 7.84s\n",
      "220:\tlearn: 5.3111740\ttotal: 2.55s\tremaining: 7.82s\n",
      "221:\tlearn: 5.3084825\ttotal: 2.56s\tremaining: 7.81s\n",
      "222:\tlearn: 5.3043054\ttotal: 2.57s\tremaining: 7.8s\n",
      "223:\tlearn: 5.2991661\ttotal: 2.58s\tremaining: 7.79s\n",
      "224:\tlearn: 5.2952657\ttotal: 2.59s\tremaining: 7.77s\n",
      "225:\tlearn: 5.2904433\ttotal: 2.6s\tremaining: 7.76s\n",
      "226:\tlearn: 5.2868777\ttotal: 2.61s\tremaining: 7.75s\n",
      "227:\tlearn: 5.2817689\ttotal: 2.62s\tremaining: 7.73s\n",
      "228:\tlearn: 5.2765758\ttotal: 2.64s\tremaining: 7.73s\n",
      "229:\tlearn: 5.2704995\ttotal: 2.65s\tremaining: 7.72s\n",
      "230:\tlearn: 5.2655706\ttotal: 2.66s\tremaining: 7.71s\n",
      "231:\tlearn: 5.2609845\ttotal: 2.67s\tremaining: 7.69s\n",
      "232:\tlearn: 5.2542268\ttotal: 2.68s\tremaining: 7.68s\n",
      "233:\tlearn: 5.2472665\ttotal: 2.69s\tremaining: 7.67s\n",
      "234:\tlearn: 5.2422436\ttotal: 2.71s\tremaining: 7.66s\n",
      "235:\tlearn: 5.2353758\ttotal: 2.72s\tremaining: 7.65s\n",
      "236:\tlearn: 5.2311247\ttotal: 2.73s\tremaining: 7.63s\n",
      "237:\tlearn: 5.2251448\ttotal: 2.74s\tremaining: 7.62s\n",
      "238:\tlearn: 5.2198852\ttotal: 2.75s\tremaining: 7.61s\n",
      "239:\tlearn: 5.2164600\ttotal: 2.76s\tremaining: 7.6s\n",
      "240:\tlearn: 5.2118153\ttotal: 2.77s\tremaining: 7.58s\n",
      "241:\tlearn: 5.2070432\ttotal: 2.78s\tremaining: 7.57s\n",
      "242:\tlearn: 5.2015824\ttotal: 2.79s\tremaining: 7.56s\n",
      "243:\tlearn: 5.1951913\ttotal: 2.81s\tremaining: 7.55s\n",
      "244:\tlearn: 5.1899851\ttotal: 2.82s\tremaining: 7.53s\n",
      "245:\tlearn: 5.1854921\ttotal: 2.83s\tremaining: 7.52s\n",
      "246:\tlearn: 5.1814730\ttotal: 2.84s\tremaining: 7.51s\n",
      "247:\tlearn: 5.1740868\ttotal: 2.85s\tremaining: 7.51s\n",
      "248:\tlearn: 5.1710767\ttotal: 2.87s\tremaining: 7.49s\n",
      "249:\tlearn: 5.1669611\ttotal: 2.88s\tremaining: 7.48s\n",
      "250:\tlearn: 5.1619786\ttotal: 2.89s\tremaining: 7.47s\n",
      "251:\tlearn: 5.1576572\ttotal: 2.9s\tremaining: 7.46s\n",
      "252:\tlearn: 5.1522436\ttotal: 2.91s\tremaining: 7.44s\n",
      "253:\tlearn: 5.1478399\ttotal: 2.92s\tremaining: 7.43s\n",
      "254:\tlearn: 5.1433802\ttotal: 2.93s\tremaining: 7.42s\n",
      "255:\tlearn: 5.1382065\ttotal: 2.94s\tremaining: 7.41s\n",
      "256:\tlearn: 5.1332549\ttotal: 2.96s\tremaining: 7.39s\n",
      "257:\tlearn: 5.1294929\ttotal: 2.97s\tremaining: 7.38s\n",
      "258:\tlearn: 5.1250296\ttotal: 2.98s\tremaining: 7.37s\n",
      "259:\tlearn: 5.1218251\ttotal: 2.99s\tremaining: 7.36s\n",
      "260:\tlearn: 5.1165878\ttotal: 3s\tremaining: 7.36s\n",
      "261:\tlearn: 5.1126808\ttotal: 3.02s\tremaining: 7.36s\n"
     ]
    },
    {
     "name": "stdout",
     "output_type": "stream",
     "text": [
      "262:\tlearn: 5.1076999\ttotal: 3.05s\tremaining: 7.38s\n",
      "263:\tlearn: 5.1039097\ttotal: 3.06s\tremaining: 7.37s\n",
      "264:\tlearn: 5.1015339\ttotal: 3.07s\tremaining: 7.35s\n",
      "265:\tlearn: 5.0949789\ttotal: 3.08s\tremaining: 7.34s\n",
      "266:\tlearn: 5.0903451\ttotal: 3.09s\tremaining: 7.33s\n",
      "267:\tlearn: 5.0853851\ttotal: 3.1s\tremaining: 7.31s\n",
      "268:\tlearn: 5.0814606\ttotal: 3.11s\tremaining: 7.3s\n",
      "269:\tlearn: 5.0783069\ttotal: 3.12s\tremaining: 7.29s\n",
      "270:\tlearn: 5.0741258\ttotal: 3.13s\tremaining: 7.28s\n",
      "271:\tlearn: 5.0694358\ttotal: 3.15s\tremaining: 7.26s\n",
      "272:\tlearn: 5.0658041\ttotal: 3.16s\tremaining: 7.25s\n",
      "273:\tlearn: 5.0626577\ttotal: 3.17s\tremaining: 7.24s\n",
      "274:\tlearn: 5.0581514\ttotal: 3.18s\tremaining: 7.23s\n",
      "275:\tlearn: 5.0531677\ttotal: 3.19s\tremaining: 7.21s\n",
      "276:\tlearn: 5.0484094\ttotal: 3.2s\tremaining: 7.2s\n",
      "277:\tlearn: 5.0437934\ttotal: 3.21s\tremaining: 7.19s\n",
      "278:\tlearn: 5.0394342\ttotal: 3.23s\tremaining: 7.18s\n",
      "279:\tlearn: 5.0365568\ttotal: 3.24s\tremaining: 7.17s\n",
      "280:\tlearn: 5.0317849\ttotal: 3.25s\tremaining: 7.15s\n",
      "281:\tlearn: 5.0286604\ttotal: 3.26s\tremaining: 7.15s\n",
      "282:\tlearn: 5.0247819\ttotal: 3.27s\tremaining: 7.14s\n",
      "283:\tlearn: 5.0208639\ttotal: 3.28s\tremaining: 7.12s\n",
      "284:\tlearn: 5.0179826\ttotal: 3.29s\tremaining: 7.11s\n",
      "285:\tlearn: 5.0135561\ttotal: 3.31s\tremaining: 7.1s\n",
      "286:\tlearn: 5.0091724\ttotal: 3.32s\tremaining: 7.08s\n",
      "287:\tlearn: 5.0054609\ttotal: 3.33s\tremaining: 7.07s\n",
      "288:\tlearn: 4.9992814\ttotal: 3.34s\tremaining: 7.06s\n",
      "289:\tlearn: 4.9950407\ttotal: 3.35s\tremaining: 7.05s\n",
      "290:\tlearn: 4.9911158\ttotal: 3.36s\tremaining: 7.03s\n",
      "291:\tlearn: 4.9877169\ttotal: 3.37s\tremaining: 7.02s\n",
      "292:\tlearn: 4.9838007\ttotal: 3.38s\tremaining: 7.01s\n",
      "293:\tlearn: 4.9801995\ttotal: 3.39s\tremaining: 7s\n",
      "294:\tlearn: 4.9766394\ttotal: 3.4s\tremaining: 6.98s\n",
      "295:\tlearn: 4.9711481\ttotal: 3.42s\tremaining: 6.97s\n",
      "296:\tlearn: 4.9668126\ttotal: 3.43s\tremaining: 6.96s\n",
      "297:\tlearn: 4.9627677\ttotal: 3.44s\tremaining: 6.95s\n",
      "298:\tlearn: 4.9577155\ttotal: 3.45s\tremaining: 6.94s\n",
      "299:\tlearn: 4.9529342\ttotal: 3.46s\tremaining: 6.93s\n",
      "300:\tlearn: 4.9493099\ttotal: 3.48s\tremaining: 6.92s\n",
      "301:\tlearn: 4.9455330\ttotal: 3.49s\tremaining: 6.91s\n",
      "302:\tlearn: 4.9413220\ttotal: 3.5s\tremaining: 6.89s\n",
      "303:\tlearn: 4.9373075\ttotal: 3.51s\tremaining: 6.88s\n",
      "304:\tlearn: 4.9327529\ttotal: 3.52s\tremaining: 6.87s\n",
      "305:\tlearn: 4.9291704\ttotal: 3.53s\tremaining: 6.86s\n",
      "306:\tlearn: 4.9237887\ttotal: 3.54s\tremaining: 6.84s\n",
      "307:\tlearn: 4.9206677\ttotal: 3.55s\tremaining: 6.83s\n",
      "308:\tlearn: 4.9175731\ttotal: 3.56s\tremaining: 6.82s\n",
      "309:\tlearn: 4.9137749\ttotal: 3.58s\tremaining: 6.8s\n",
      "310:\tlearn: 4.9110016\ttotal: 3.59s\tremaining: 6.79s\n",
      "311:\tlearn: 4.9069817\ttotal: 3.6s\tremaining: 6.78s\n",
      "312:\tlearn: 4.9041615\ttotal: 3.61s\tremaining: 6.77s\n",
      "313:\tlearn: 4.9015072\ttotal: 3.62s\tremaining: 6.75s\n",
      "314:\tlearn: 4.8978494\ttotal: 3.63s\tremaining: 6.74s\n",
      "315:\tlearn: 4.8951464\ttotal: 3.64s\tremaining: 6.73s\n",
      "316:\tlearn: 4.8900492\ttotal: 3.65s\tremaining: 6.72s\n",
      "317:\tlearn: 4.8858627\ttotal: 3.67s\tremaining: 6.71s\n",
      "318:\tlearn: 4.8806019\ttotal: 3.68s\tremaining: 6.7s\n",
      "319:\tlearn: 4.8764807\ttotal: 3.69s\tremaining: 6.69s\n",
      "320:\tlearn: 4.8721462\ttotal: 3.7s\tremaining: 6.67s\n",
      "321:\tlearn: 4.8678226\ttotal: 3.71s\tremaining: 6.66s\n",
      "322:\tlearn: 4.8637857\ttotal: 3.72s\tremaining: 6.65s\n",
      "323:\tlearn: 4.8596504\ttotal: 3.73s\tremaining: 6.64s\n",
      "324:\tlearn: 4.8547052\ttotal: 3.74s\tremaining: 6.63s\n",
      "325:\tlearn: 4.8502642\ttotal: 3.75s\tremaining: 6.61s\n",
      "326:\tlearn: 4.8481863\ttotal: 3.77s\tremaining: 6.6s\n",
      "327:\tlearn: 4.8430435\ttotal: 3.78s\tremaining: 6.59s\n",
      "328:\tlearn: 4.8397730\ttotal: 3.79s\tremaining: 6.57s\n",
      "329:\tlearn: 4.8363352\ttotal: 3.8s\tremaining: 6.56s\n",
      "330:\tlearn: 4.8319092\ttotal: 3.81s\tremaining: 6.55s\n",
      "331:\tlearn: 4.8286378\ttotal: 3.82s\tremaining: 6.54s\n",
      "332:\tlearn: 4.8239568\ttotal: 3.83s\tremaining: 6.53s\n",
      "333:\tlearn: 4.8217926\ttotal: 3.84s\tremaining: 6.51s\n",
      "334:\tlearn: 4.8180400\ttotal: 3.86s\tremaining: 6.51s\n",
      "335:\tlearn: 4.8141738\ttotal: 3.87s\tremaining: 6.5s\n",
      "336:\tlearn: 4.8123792\ttotal: 3.88s\tremaining: 6.48s\n",
      "337:\tlearn: 4.8100221\ttotal: 3.89s\tremaining: 6.47s\n",
      "338:\tlearn: 4.8064688\ttotal: 3.9s\tremaining: 6.46s\n",
      "339:\tlearn: 4.8029742\ttotal: 3.91s\tremaining: 6.45s\n",
      "340:\tlearn: 4.7998425\ttotal: 3.92s\tremaining: 6.43s\n",
      "341:\tlearn: 4.7961274\ttotal: 3.94s\tremaining: 6.42s\n",
      "342:\tlearn: 4.7926339\ttotal: 3.95s\tremaining: 6.41s\n",
      "343:\tlearn: 4.7894509\ttotal: 3.96s\tremaining: 6.4s\n",
      "344:\tlearn: 4.7849349\ttotal: 3.97s\tremaining: 6.38s\n",
      "345:\tlearn: 4.7809768\ttotal: 3.98s\tremaining: 6.37s\n",
      "346:\tlearn: 4.7781340\ttotal: 3.99s\tremaining: 6.36s\n",
      "347:\tlearn: 4.7746193\ttotal: 4s\tremaining: 6.35s\n",
      "348:\tlearn: 4.7713359\ttotal: 4.01s\tremaining: 6.34s\n",
      "349:\tlearn: 4.7675953\ttotal: 4.03s\tremaining: 6.33s\n",
      "350:\tlearn: 4.7659743\ttotal: 4.04s\tremaining: 6.31s\n",
      "351:\tlearn: 4.7611232\ttotal: 4.05s\tremaining: 6.3s\n",
      "352:\tlearn: 4.7586061\ttotal: 4.06s\tremaining: 6.29s\n",
      "353:\tlearn: 4.7563718\ttotal: 4.07s\tremaining: 6.28s\n",
      "354:\tlearn: 4.7531687\ttotal: 4.08s\tremaining: 6.27s\n",
      "355:\tlearn: 4.7513098\ttotal: 4.09s\tremaining: 6.26s\n",
      "356:\tlearn: 4.7487781\ttotal: 4.11s\tremaining: 6.24s\n",
      "357:\tlearn: 4.7444558\ttotal: 4.12s\tremaining: 6.23s\n",
      "358:\tlearn: 4.7408020\ttotal: 4.13s\tremaining: 6.22s\n",
      "359:\tlearn: 4.7373932\ttotal: 4.14s\tremaining: 6.21s\n",
      "360:\tlearn: 4.7337287\ttotal: 4.15s\tremaining: 6.19s\n",
      "361:\tlearn: 4.7301951\ttotal: 4.16s\tremaining: 6.18s\n",
      "362:\tlearn: 4.7260090\ttotal: 4.17s\tremaining: 6.17s\n",
      "363:\tlearn: 4.7218483\ttotal: 4.18s\tremaining: 6.16s\n",
      "364:\tlearn: 4.7185344\ttotal: 4.19s\tremaining: 6.15s\n",
      "365:\tlearn: 4.7149879\ttotal: 4.2s\tremaining: 6.13s\n",
      "366:\tlearn: 4.7123788\ttotal: 4.22s\tremaining: 6.12s\n",
      "367:\tlearn: 4.7098290\ttotal: 4.23s\tremaining: 6.11s\n",
      "368:\tlearn: 4.7062779\ttotal: 4.24s\tremaining: 6.1s\n",
      "369:\tlearn: 4.7018018\ttotal: 4.25s\tremaining: 6.09s\n",
      "370:\tlearn: 4.6993755\ttotal: 4.26s\tremaining: 6.08s\n",
      "371:\tlearn: 4.6951596\ttotal: 4.28s\tremaining: 6.07s\n",
      "372:\tlearn: 4.6913788\ttotal: 4.29s\tremaining: 6.06s\n",
      "373:\tlearn: 4.6871528\ttotal: 4.3s\tremaining: 6.04s\n",
      "374:\tlearn: 4.6823502\ttotal: 4.31s\tremaining: 6.03s\n",
      "375:\tlearn: 4.6788547\ttotal: 4.32s\tremaining: 6.02s\n",
      "376:\tlearn: 4.6757473\ttotal: 4.33s\tremaining: 6.01s\n",
      "377:\tlearn: 4.6730086\ttotal: 4.34s\tremaining: 6s\n",
      "378:\tlearn: 4.6691477\ttotal: 4.35s\tremaining: 5.99s\n",
      "379:\tlearn: 4.6662905\ttotal: 4.36s\tremaining: 5.97s\n",
      "380:\tlearn: 4.6630286\ttotal: 4.38s\tremaining: 5.96s\n",
      "381:\tlearn: 4.6593010\ttotal: 4.39s\tremaining: 5.95s\n",
      "382:\tlearn: 4.6551986\ttotal: 4.4s\tremaining: 5.94s\n",
      "383:\tlearn: 4.6525904\ttotal: 4.41s\tremaining: 5.92s\n",
      "384:\tlearn: 4.6502033\ttotal: 4.42s\tremaining: 5.91s\n",
      "385:\tlearn: 4.6483976\ttotal: 4.43s\tremaining: 5.9s\n",
      "386:\tlearn: 4.6453009\ttotal: 4.44s\tremaining: 5.89s\n",
      "387:\tlearn: 4.6433559\ttotal: 4.46s\tremaining: 5.88s\n",
      "388:\tlearn: 4.6410787\ttotal: 4.47s\tremaining: 5.87s\n",
      "389:\tlearn: 4.6377858\ttotal: 4.48s\tremaining: 5.86s\n",
      "390:\tlearn: 4.6353780\ttotal: 4.49s\tremaining: 5.85s\n",
      "391:\tlearn: 4.6334332\ttotal: 4.5s\tremaining: 5.83s\n",
      "392:\tlearn: 4.6303814\ttotal: 4.51s\tremaining: 5.82s\n",
      "393:\tlearn: 4.6268597\ttotal: 4.52s\tremaining: 5.81s\n",
      "394:\tlearn: 4.6237602\ttotal: 4.54s\tremaining: 5.8s\n",
      "395:\tlearn: 4.6209960\ttotal: 4.55s\tremaining: 5.79s\n",
      "396:\tlearn: 4.6178345\ttotal: 4.56s\tremaining: 5.77s\n",
      "397:\tlearn: 4.6153809\ttotal: 4.57s\tremaining: 5.76s\n",
      "398:\tlearn: 4.6129426\ttotal: 4.58s\tremaining: 5.75s\n",
      "399:\tlearn: 4.6098913\ttotal: 4.59s\tremaining: 5.74s\n",
      "400:\tlearn: 4.6063853\ttotal: 4.6s\tremaining: 5.73s\n",
      "401:\tlearn: 4.6035576\ttotal: 4.61s\tremaining: 5.71s\n",
      "402:\tlearn: 4.5998781\ttotal: 4.62s\tremaining: 5.7s\n",
      "403:\tlearn: 4.5967719\ttotal: 4.63s\tremaining: 5.69s\n",
      "404:\tlearn: 4.5935966\ttotal: 4.65s\tremaining: 5.68s\n",
      "405:\tlearn: 4.5905684\ttotal: 4.66s\tremaining: 5.67s\n",
      "406:\tlearn: 4.5869018\ttotal: 4.67s\tremaining: 5.66s\n",
      "407:\tlearn: 4.5838115\ttotal: 4.68s\tremaining: 5.65s\n",
      "408:\tlearn: 4.5798821\ttotal: 4.7s\tremaining: 5.64s\n",
      "409:\tlearn: 4.5771615\ttotal: 4.71s\tremaining: 5.63s\n",
      "410:\tlearn: 4.5748963\ttotal: 4.72s\tremaining: 5.61s\n",
      "411:\tlearn: 4.5706464\ttotal: 4.73s\tremaining: 5.6s\n",
      "412:\tlearn: 4.5685044\ttotal: 4.74s\tremaining: 5.59s\n",
      "413:\tlearn: 4.5641406\ttotal: 4.75s\tremaining: 5.58s\n",
      "414:\tlearn: 4.5613980\ttotal: 4.76s\tremaining: 5.57s\n",
      "415:\tlearn: 4.5592579\ttotal: 4.77s\tremaining: 5.55s\n",
      "416:\tlearn: 4.5552996\ttotal: 4.78s\tremaining: 5.54s\n",
      "417:\tlearn: 4.5510671\ttotal: 4.79s\tremaining: 5.53s\n",
      "418:\tlearn: 4.5479598\ttotal: 4.81s\tremaining: 5.52s\n",
      "419:\tlearn: 4.5458464\ttotal: 4.82s\tremaining: 5.51s\n",
      "420:\tlearn: 4.5426997\ttotal: 4.83s\tremaining: 5.49s\n"
     ]
    },
    {
     "name": "stdout",
     "output_type": "stream",
     "text": [
      "421:\tlearn: 4.5400914\ttotal: 4.84s\tremaining: 5.49s\n",
      "422:\tlearn: 4.5361247\ttotal: 4.86s\tremaining: 5.48s\n",
      "423:\tlearn: 4.5334896\ttotal: 4.87s\tremaining: 5.46s\n",
      "424:\tlearn: 4.5293632\ttotal: 4.88s\tremaining: 5.45s\n",
      "425:\tlearn: 4.5255083\ttotal: 4.89s\tremaining: 5.44s\n",
      "426:\tlearn: 4.5226316\ttotal: 4.9s\tremaining: 5.43s\n",
      "427:\tlearn: 4.5194602\ttotal: 4.91s\tremaining: 5.42s\n",
      "428:\tlearn: 4.5167913\ttotal: 4.92s\tremaining: 5.4s\n",
      "429:\tlearn: 4.5142505\ttotal: 4.93s\tremaining: 5.39s\n",
      "430:\tlearn: 4.5112882\ttotal: 4.94s\tremaining: 5.38s\n",
      "431:\tlearn: 4.5083602\ttotal: 4.96s\tremaining: 5.37s\n",
      "432:\tlearn: 4.5053134\ttotal: 4.97s\tremaining: 5.36s\n",
      "433:\tlearn: 4.5024974\ttotal: 4.98s\tremaining: 5.34s\n",
      "434:\tlearn: 4.4992309\ttotal: 4.99s\tremaining: 5.33s\n",
      "435:\tlearn: 4.4961632\ttotal: 5s\tremaining: 5.32s\n",
      "436:\tlearn: 4.4921909\ttotal: 5.01s\tremaining: 5.31s\n",
      "437:\tlearn: 4.4891741\ttotal: 5.02s\tremaining: 5.3s\n",
      "438:\tlearn: 4.4865330\ttotal: 5.03s\tremaining: 5.29s\n",
      "439:\tlearn: 4.4841022\ttotal: 5.04s\tremaining: 5.27s\n",
      "440:\tlearn: 4.4815510\ttotal: 5.06s\tremaining: 5.26s\n",
      "441:\tlearn: 4.4788650\ttotal: 5.07s\tremaining: 5.25s\n",
      "442:\tlearn: 4.4768291\ttotal: 5.08s\tremaining: 5.24s\n",
      "443:\tlearn: 4.4746790\ttotal: 5.09s\tremaining: 5.23s\n",
      "444:\tlearn: 4.4703717\ttotal: 5.1s\tremaining: 5.22s\n",
      "445:\tlearn: 4.4673638\ttotal: 5.11s\tremaining: 5.21s\n",
      "446:\tlearn: 4.4649682\ttotal: 5.13s\tremaining: 5.19s\n",
      "447:\tlearn: 4.4624397\ttotal: 5.14s\tremaining: 5.18s\n",
      "448:\tlearn: 4.4599526\ttotal: 5.15s\tremaining: 5.17s\n",
      "449:\tlearn: 4.4575529\ttotal: 5.16s\tremaining: 5.16s\n",
      "450:\tlearn: 4.4551925\ttotal: 5.17s\tremaining: 5.15s\n",
      "451:\tlearn: 4.4536632\ttotal: 5.18s\tremaining: 5.13s\n",
      "452:\tlearn: 4.4505955\ttotal: 5.19s\tremaining: 5.12s\n",
      "453:\tlearn: 4.4464228\ttotal: 5.2s\tremaining: 5.11s\n",
      "454:\tlearn: 4.4438003\ttotal: 5.21s\tremaining: 5.1s\n",
      "455:\tlearn: 4.4417288\ttotal: 5.23s\tremaining: 5.09s\n",
      "456:\tlearn: 4.4384478\ttotal: 5.24s\tremaining: 5.08s\n",
      "457:\tlearn: 4.4364851\ttotal: 5.25s\tremaining: 5.07s\n",
      "458:\tlearn: 4.4328709\ttotal: 5.26s\tremaining: 5.06s\n",
      "459:\tlearn: 4.4302947\ttotal: 5.27s\tremaining: 5.04s\n",
      "460:\tlearn: 4.4271864\ttotal: 5.29s\tremaining: 5.03s\n",
      "461:\tlearn: 4.4235269\ttotal: 5.3s\tremaining: 5.02s\n",
      "462:\tlearn: 4.4210639\ttotal: 5.31s\tremaining: 5.01s\n",
      "463:\tlearn: 4.4191958\ttotal: 5.32s\tremaining: 5s\n",
      "464:\tlearn: 4.4158150\ttotal: 5.33s\tremaining: 4.99s\n",
      "465:\tlearn: 4.4136124\ttotal: 5.34s\tremaining: 4.97s\n",
      "466:\tlearn: 4.4109926\ttotal: 5.35s\tremaining: 4.96s\n",
      "467:\tlearn: 4.4086670\ttotal: 5.36s\tremaining: 4.95s\n",
      "468:\tlearn: 4.4044252\ttotal: 5.37s\tremaining: 4.94s\n",
      "469:\tlearn: 4.4010731\ttotal: 5.38s\tremaining: 4.93s\n",
      "470:\tlearn: 4.3982326\ttotal: 5.4s\tremaining: 4.92s\n",
      "471:\tlearn: 4.3961487\ttotal: 5.41s\tremaining: 4.9s\n",
      "472:\tlearn: 4.3923378\ttotal: 5.42s\tremaining: 4.89s\n",
      "473:\tlearn: 4.3882306\ttotal: 5.43s\tremaining: 4.88s\n",
      "474:\tlearn: 4.3871326\ttotal: 5.44s\tremaining: 4.87s\n",
      "475:\tlearn: 4.3839959\ttotal: 5.46s\tremaining: 4.86s\n",
      "476:\tlearn: 4.3809289\ttotal: 5.47s\tremaining: 4.85s\n",
      "477:\tlearn: 4.3771482\ttotal: 5.48s\tremaining: 4.84s\n",
      "478:\tlearn: 4.3748767\ttotal: 5.49s\tremaining: 4.82s\n",
      "479:\tlearn: 4.3730165\ttotal: 5.5s\tremaining: 4.81s\n",
      "480:\tlearn: 4.3705632\ttotal: 5.51s\tremaining: 4.8s\n",
      "481:\tlearn: 4.3685297\ttotal: 5.52s\tremaining: 4.79s\n",
      "482:\tlearn: 4.3659155\ttotal: 5.53s\tremaining: 4.78s\n",
      "483:\tlearn: 4.3636216\ttotal: 5.54s\tremaining: 4.76s\n",
      "484:\tlearn: 4.3617854\ttotal: 5.55s\tremaining: 4.75s\n",
      "485:\tlearn: 4.3584286\ttotal: 5.57s\tremaining: 4.74s\n",
      "486:\tlearn: 4.3557664\ttotal: 5.58s\tremaining: 4.73s\n",
      "487:\tlearn: 4.3531643\ttotal: 5.59s\tremaining: 4.72s\n",
      "488:\tlearn: 4.3515503\ttotal: 5.6s\tremaining: 4.71s\n",
      "489:\tlearn: 4.3499665\ttotal: 5.61s\tremaining: 4.69s\n",
      "490:\tlearn: 4.3472922\ttotal: 5.62s\tremaining: 4.68s\n",
      "491:\tlearn: 4.3452921\ttotal: 5.63s\tremaining: 4.67s\n",
      "492:\tlearn: 4.3421374\ttotal: 5.64s\tremaining: 4.66s\n",
      "493:\tlearn: 4.3398703\ttotal: 5.66s\tremaining: 4.65s\n",
      "494:\tlearn: 4.3384230\ttotal: 5.67s\tremaining: 4.64s\n",
      "495:\tlearn: 4.3366115\ttotal: 5.68s\tremaining: 4.63s\n",
      "496:\tlearn: 4.3340414\ttotal: 5.69s\tremaining: 4.61s\n",
      "497:\tlearn: 4.3318578\ttotal: 5.7s\tremaining: 4.6s\n",
      "498:\tlearn: 4.3275828\ttotal: 5.71s\tremaining: 4.59s\n",
      "499:\tlearn: 4.3239023\ttotal: 5.72s\tremaining: 4.58s\n",
      "500:\tlearn: 4.3219233\ttotal: 5.73s\tremaining: 4.57s\n",
      "501:\tlearn: 4.3182143\ttotal: 5.75s\tremaining: 4.55s\n",
      "502:\tlearn: 4.3147718\ttotal: 5.76s\tremaining: 4.54s\n",
      "503:\tlearn: 4.3120658\ttotal: 5.77s\tremaining: 4.53s\n",
      "504:\tlearn: 4.3100134\ttotal: 5.78s\tremaining: 4.52s\n",
      "505:\tlearn: 4.3068964\ttotal: 5.79s\tremaining: 4.51s\n",
      "506:\tlearn: 4.3044415\ttotal: 5.8s\tremaining: 4.5s\n",
      "507:\tlearn: 4.3028325\ttotal: 5.81s\tremaining: 4.48s\n",
      "508:\tlearn: 4.3009643\ttotal: 5.82s\tremaining: 4.47s\n",
      "509:\tlearn: 4.2974225\ttotal: 5.83s\tremaining: 4.46s\n",
      "510:\tlearn: 4.2942729\ttotal: 5.84s\tremaining: 4.45s\n",
      "511:\tlearn: 4.2916653\ttotal: 5.86s\tremaining: 4.44s\n",
      "512:\tlearn: 4.2882474\ttotal: 5.87s\tremaining: 4.43s\n",
      "513:\tlearn: 4.2860535\ttotal: 5.88s\tremaining: 4.42s\n",
      "514:\tlearn: 4.2832273\ttotal: 5.89s\tremaining: 4.41s\n",
      "515:\tlearn: 4.2800353\ttotal: 5.91s\tremaining: 4.4s\n",
      "516:\tlearn: 4.2744674\ttotal: 5.92s\tremaining: 4.38s\n",
      "517:\tlearn: 4.2721723\ttotal: 5.93s\tremaining: 4.37s\n",
      "518:\tlearn: 4.2684239\ttotal: 5.94s\tremaining: 4.36s\n",
      "519:\tlearn: 4.2648463\ttotal: 5.95s\tremaining: 4.35s\n",
      "520:\tlearn: 4.2626094\ttotal: 5.96s\tremaining: 4.34s\n",
      "521:\tlearn: 4.2600659\ttotal: 5.97s\tremaining: 4.33s\n",
      "522:\tlearn: 4.2581953\ttotal: 5.99s\tremaining: 4.31s\n",
      "523:\tlearn: 4.2550092\ttotal: 6s\tremaining: 4.3s\n",
      "524:\tlearn: 4.2514856\ttotal: 6.01s\tremaining: 4.29s\n",
      "525:\tlearn: 4.2497366\ttotal: 6.02s\tremaining: 4.28s\n",
      "526:\tlearn: 4.2482770\ttotal: 6.03s\tremaining: 4.27s\n",
      "527:\tlearn: 4.2462969\ttotal: 6.04s\tremaining: 4.25s\n",
      "528:\tlearn: 4.2441634\ttotal: 6.05s\tremaining: 4.24s\n",
      "529:\tlearn: 4.2420755\ttotal: 6.06s\tremaining: 4.23s\n",
      "530:\tlearn: 4.2389061\ttotal: 6.08s\tremaining: 4.22s\n",
      "531:\tlearn: 4.2367080\ttotal: 6.09s\tremaining: 4.21s\n",
      "532:\tlearn: 4.2347981\ttotal: 6.1s\tremaining: 4.2s\n",
      "533:\tlearn: 4.2322218\ttotal: 6.11s\tremaining: 4.19s\n",
      "534:\tlearn: 4.2299900\ttotal: 6.12s\tremaining: 4.17s\n",
      "535:\tlearn: 4.2285631\ttotal: 6.13s\tremaining: 4.16s\n",
      "536:\tlearn: 4.2263099\ttotal: 6.14s\tremaining: 4.15s\n",
      "537:\tlearn: 4.2242709\ttotal: 6.15s\tremaining: 4.14s\n",
      "538:\tlearn: 4.2224417\ttotal: 6.16s\tremaining: 4.13s\n",
      "539:\tlearn: 4.2198359\ttotal: 6.18s\tremaining: 4.12s\n",
      "540:\tlearn: 4.2172667\ttotal: 6.19s\tremaining: 4.11s\n",
      "541:\tlearn: 4.2145992\ttotal: 6.2s\tremaining: 4.09s\n",
      "542:\tlearn: 4.2124156\ttotal: 6.21s\tremaining: 4.08s\n",
      "543:\tlearn: 4.2089630\ttotal: 6.22s\tremaining: 4.07s\n",
      "544:\tlearn: 4.2072136\ttotal: 6.24s\tremaining: 4.06s\n",
      "545:\tlearn: 4.2040596\ttotal: 6.25s\tremaining: 4.05s\n",
      "546:\tlearn: 4.2011006\ttotal: 6.26s\tremaining: 4.04s\n",
      "547:\tlearn: 4.1991053\ttotal: 6.28s\tremaining: 4.04s\n",
      "548:\tlearn: 4.1965400\ttotal: 6.3s\tremaining: 4.03s\n",
      "549:\tlearn: 4.1936392\ttotal: 6.31s\tremaining: 4.01s\n",
      "550:\tlearn: 4.1918462\ttotal: 6.32s\tremaining: 4s\n",
      "551:\tlearn: 4.1891603\ttotal: 6.34s\tremaining: 4s\n",
      "552:\tlearn: 4.1875184\ttotal: 6.35s\tremaining: 3.98s\n",
      "553:\tlearn: 4.1864457\ttotal: 6.36s\tremaining: 3.97s\n",
      "554:\tlearn: 4.1846886\ttotal: 6.38s\tremaining: 3.96s\n",
      "555:\tlearn: 4.1812697\ttotal: 6.39s\tremaining: 3.95s\n",
      "556:\tlearn: 4.1786436\ttotal: 6.4s\tremaining: 3.94s\n",
      "557:\tlearn: 4.1761554\ttotal: 6.42s\tremaining: 3.93s\n",
      "558:\tlearn: 4.1728555\ttotal: 6.43s\tremaining: 3.92s\n",
      "559:\tlearn: 4.1703865\ttotal: 6.44s\tremaining: 3.91s\n",
      "560:\tlearn: 4.1668331\ttotal: 6.46s\tremaining: 3.9s\n",
      "561:\tlearn: 4.1637318\ttotal: 6.47s\tremaining: 3.89s\n",
      "562:\tlearn: 4.1606244\ttotal: 6.49s\tremaining: 3.88s\n",
      "563:\tlearn: 4.1586363\ttotal: 6.5s\tremaining: 3.88s\n",
      "564:\tlearn: 4.1573209\ttotal: 6.52s\tremaining: 3.87s\n",
      "565:\tlearn: 4.1549252\ttotal: 6.53s\tremaining: 3.85s\n",
      "566:\tlearn: 4.1537201\ttotal: 6.54s\tremaining: 3.84s\n",
      "567:\tlearn: 4.1512739\ttotal: 6.56s\tremaining: 3.83s\n",
      "568:\tlearn: 4.1490308\ttotal: 6.57s\tremaining: 3.82s\n",
      "569:\tlearn: 4.1471589\ttotal: 6.58s\tremaining: 3.81s\n",
      "570:\tlearn: 4.1448097\ttotal: 6.6s\tremaining: 3.8s\n",
      "571:\tlearn: 4.1428170\ttotal: 6.61s\tremaining: 3.79s\n",
      "572:\tlearn: 4.1397711\ttotal: 6.63s\tremaining: 3.78s\n",
      "573:\tlearn: 4.1375583\ttotal: 6.64s\tremaining: 3.77s\n",
      "574:\tlearn: 4.1352242\ttotal: 6.65s\tremaining: 3.76s\n",
      "575:\tlearn: 4.1329957\ttotal: 6.67s\tremaining: 3.75s\n",
      "576:\tlearn: 4.1301961\ttotal: 6.68s\tremaining: 3.74s\n",
      "577:\tlearn: 4.1287501\ttotal: 6.7s\tremaining: 3.73s\n",
      "578:\tlearn: 4.1263164\ttotal: 6.72s\tremaining: 3.72s\n",
      "579:\tlearn: 4.1233989\ttotal: 6.73s\tremaining: 3.71s\n",
      "580:\tlearn: 4.1214693\ttotal: 6.74s\tremaining: 3.7s\n",
      "581:\tlearn: 4.1192707\ttotal: 6.75s\tremaining: 3.69s\n",
      "582:\tlearn: 4.1179426\ttotal: 6.77s\tremaining: 3.68s\n",
      "583:\tlearn: 4.1160328\ttotal: 6.78s\tremaining: 3.67s\n",
      "584:\tlearn: 4.1138426\ttotal: 6.8s\tremaining: 3.66s\n",
      "585:\tlearn: 4.1117444\ttotal: 6.81s\tremaining: 3.65s\n",
      "586:\tlearn: 4.1100033\ttotal: 6.83s\tremaining: 3.64s\n",
      "587:\tlearn: 4.1079889\ttotal: 6.84s\tremaining: 3.63s\n",
      "588:\tlearn: 4.1051080\ttotal: 6.85s\tremaining: 3.62s\n",
      "589:\tlearn: 4.1032883\ttotal: 6.87s\tremaining: 3.61s\n",
      "590:\tlearn: 4.1003276\ttotal: 6.88s\tremaining: 3.6s\n",
      "591:\tlearn: 4.0975003\ttotal: 6.89s\tremaining: 3.58s\n"
     ]
    },
    {
     "name": "stdout",
     "output_type": "stream",
     "text": [
      "592:\tlearn: 4.0953710\ttotal: 6.91s\tremaining: 3.57s\n",
      "593:\tlearn: 4.0923262\ttotal: 6.92s\tremaining: 3.56s\n",
      "594:\tlearn: 4.0910310\ttotal: 6.93s\tremaining: 3.55s\n",
      "595:\tlearn: 4.0884664\ttotal: 6.94s\tremaining: 3.54s\n",
      "596:\tlearn: 4.0864612\ttotal: 6.95s\tremaining: 3.53s\n",
      "597:\tlearn: 4.0852374\ttotal: 6.96s\tremaining: 3.52s\n",
      "598:\tlearn: 4.0826795\ttotal: 6.97s\tremaining: 3.5s\n",
      "599:\tlearn: 4.0811402\ttotal: 6.98s\tremaining: 3.49s\n",
      "600:\tlearn: 4.0794478\ttotal: 6.99s\tremaining: 3.48s\n",
      "601:\tlearn: 4.0774399\ttotal: 7s\tremaining: 3.47s\n",
      "602:\tlearn: 4.0756652\ttotal: 7.02s\tremaining: 3.46s\n",
      "603:\tlearn: 4.0735820\ttotal: 7.03s\tremaining: 3.44s\n",
      "604:\tlearn: 4.0712171\ttotal: 7.04s\tremaining: 3.43s\n",
      "605:\tlearn: 4.0690121\ttotal: 7.05s\tremaining: 3.42s\n",
      "606:\tlearn: 4.0678836\ttotal: 7.06s\tremaining: 3.41s\n",
      "607:\tlearn: 4.0667171\ttotal: 7.07s\tremaining: 3.4s\n",
      "608:\tlearn: 4.0637376\ttotal: 7.08s\tremaining: 3.38s\n",
      "609:\tlearn: 4.0618442\ttotal: 7.09s\tremaining: 3.37s\n",
      "610:\tlearn: 4.0605131\ttotal: 7.11s\tremaining: 3.36s\n",
      "611:\tlearn: 4.0590076\ttotal: 7.12s\tremaining: 3.35s\n",
      "612:\tlearn: 4.0574743\ttotal: 7.13s\tremaining: 3.34s\n",
      "613:\tlearn: 4.0549152\ttotal: 7.14s\tremaining: 3.33s\n",
      "614:\tlearn: 4.0527875\ttotal: 7.15s\tremaining: 3.31s\n",
      "615:\tlearn: 4.0515710\ttotal: 7.16s\tremaining: 3.3s\n",
      "616:\tlearn: 4.0492448\ttotal: 7.17s\tremaining: 3.29s\n",
      "617:\tlearn: 4.0469501\ttotal: 7.19s\tremaining: 3.28s\n",
      "618:\tlearn: 4.0444989\ttotal: 7.2s\tremaining: 3.27s\n",
      "619:\tlearn: 4.0429406\ttotal: 7.21s\tremaining: 3.25s\n",
      "620:\tlearn: 4.0401513\ttotal: 7.22s\tremaining: 3.24s\n",
      "621:\tlearn: 4.0385414\ttotal: 7.23s\tremaining: 3.23s\n",
      "622:\tlearn: 4.0361893\ttotal: 7.24s\tremaining: 3.22s\n",
      "623:\tlearn: 4.0339693\ttotal: 7.25s\tremaining: 3.21s\n",
      "624:\tlearn: 4.0313393\ttotal: 7.26s\tremaining: 3.2s\n",
      "625:\tlearn: 4.0296207\ttotal: 7.27s\tremaining: 3.18s\n",
      "626:\tlearn: 4.0275182\ttotal: 7.29s\tremaining: 3.17s\n",
      "627:\tlearn: 4.0252011\ttotal: 7.3s\tremaining: 3.16s\n",
      "628:\tlearn: 4.0239424\ttotal: 7.31s\tremaining: 3.15s\n",
      "629:\tlearn: 4.0230125\ttotal: 7.32s\tremaining: 3.14s\n",
      "630:\tlearn: 4.0215988\ttotal: 7.33s\tremaining: 3.13s\n",
      "631:\tlearn: 4.0197770\ttotal: 7.34s\tremaining: 3.11s\n",
      "632:\tlearn: 4.0178310\ttotal: 7.36s\tremaining: 3.1s\n",
      "633:\tlearn: 4.0152058\ttotal: 7.37s\tremaining: 3.09s\n",
      "634:\tlearn: 4.0135351\ttotal: 7.38s\tremaining: 3.08s\n",
      "635:\tlearn: 4.0118756\ttotal: 7.39s\tremaining: 3.07s\n",
      "636:\tlearn: 4.0102699\ttotal: 7.4s\tremaining: 3.05s\n",
      "637:\tlearn: 4.0091681\ttotal: 7.41s\tremaining: 3.04s\n",
      "638:\tlearn: 4.0072890\ttotal: 7.42s\tremaining: 3.03s\n",
      "639:\tlearn: 4.0051340\ttotal: 7.43s\tremaining: 3.02s\n",
      "640:\tlearn: 4.0031802\ttotal: 7.44s\tremaining: 3.01s\n",
      "641:\tlearn: 4.0011229\ttotal: 7.45s\tremaining: 2.99s\n",
      "642:\tlearn: 3.9980912\ttotal: 7.46s\tremaining: 2.98s\n",
      "643:\tlearn: 3.9969943\ttotal: 7.47s\tremaining: 2.97s\n",
      "644:\tlearn: 3.9941211\ttotal: 7.48s\tremaining: 2.96s\n",
      "645:\tlearn: 3.9921291\ttotal: 7.5s\tremaining: 2.95s\n",
      "646:\tlearn: 3.9898442\ttotal: 7.51s\tremaining: 2.94s\n",
      "647:\tlearn: 3.9882548\ttotal: 7.52s\tremaining: 2.92s\n",
      "648:\tlearn: 3.9868207\ttotal: 7.54s\tremaining: 2.91s\n",
      "649:\tlearn: 3.9858831\ttotal: 7.55s\tremaining: 2.9s\n",
      "650:\tlearn: 3.9845879\ttotal: 7.56s\tremaining: 2.89s\n",
      "651:\tlearn: 3.9824689\ttotal: 7.57s\tremaining: 2.88s\n",
      "652:\tlearn: 3.9804687\ttotal: 7.58s\tremaining: 2.87s\n",
      "653:\tlearn: 3.9785620\ttotal: 7.59s\tremaining: 2.85s\n",
      "654:\tlearn: 3.9777095\ttotal: 7.6s\tremaining: 2.84s\n",
      "655:\tlearn: 3.9761957\ttotal: 7.61s\tremaining: 2.83s\n",
      "656:\tlearn: 3.9738470\ttotal: 7.62s\tremaining: 2.82s\n",
      "657:\tlearn: 3.9725460\ttotal: 7.63s\tremaining: 2.81s\n",
      "658:\tlearn: 3.9702681\ttotal: 7.65s\tremaining: 2.8s\n",
      "659:\tlearn: 3.9689467\ttotal: 7.66s\tremaining: 2.78s\n",
      "660:\tlearn: 3.9676833\ttotal: 7.67s\tremaining: 2.77s\n",
      "661:\tlearn: 3.9643725\ttotal: 7.68s\tremaining: 2.76s\n",
      "662:\tlearn: 3.9629373\ttotal: 7.69s\tremaining: 2.75s\n",
      "663:\tlearn: 3.9600890\ttotal: 7.71s\tremaining: 2.74s\n",
      "664:\tlearn: 3.9579303\ttotal: 7.72s\tremaining: 2.73s\n",
      "665:\tlearn: 3.9561982\ttotal: 7.73s\tremaining: 2.72s\n",
      "666:\tlearn: 3.9549221\ttotal: 7.74s\tremaining: 2.7s\n",
      "667:\tlearn: 3.9535493\ttotal: 7.75s\tremaining: 2.69s\n",
      "668:\tlearn: 3.9516353\ttotal: 7.76s\tremaining: 2.68s\n",
      "669:\tlearn: 3.9500795\ttotal: 7.78s\tremaining: 2.67s\n",
      "670:\tlearn: 3.9482048\ttotal: 7.79s\tremaining: 2.66s\n",
      "671:\tlearn: 3.9464172\ttotal: 7.8s\tremaining: 2.65s\n",
      "672:\tlearn: 3.9449004\ttotal: 7.81s\tremaining: 2.63s\n",
      "673:\tlearn: 3.9426523\ttotal: 7.82s\tremaining: 2.62s\n",
      "674:\tlearn: 3.9403101\ttotal: 7.83s\tremaining: 2.61s\n",
      "675:\tlearn: 3.9378236\ttotal: 7.84s\tremaining: 2.6s\n",
      "676:\tlearn: 3.9359760\ttotal: 7.85s\tremaining: 2.59s\n",
      "677:\tlearn: 3.9338135\ttotal: 7.87s\tremaining: 2.58s\n",
      "678:\tlearn: 3.9310707\ttotal: 7.88s\tremaining: 2.56s\n",
      "679:\tlearn: 3.9297939\ttotal: 7.89s\tremaining: 2.55s\n",
      "680:\tlearn: 3.9272569\ttotal: 7.9s\tremaining: 2.54s\n",
      "681:\tlearn: 3.9263142\ttotal: 7.91s\tremaining: 2.53s\n",
      "682:\tlearn: 3.9247081\ttotal: 7.93s\tremaining: 2.52s\n",
      "683:\tlearn: 3.9231189\ttotal: 7.94s\tremaining: 2.51s\n",
      "684:\tlearn: 3.9208817\ttotal: 7.95s\tremaining: 2.49s\n",
      "685:\tlearn: 3.9191287\ttotal: 7.96s\tremaining: 2.48s\n",
      "686:\tlearn: 3.9170792\ttotal: 7.97s\tremaining: 2.47s\n",
      "687:\tlearn: 3.9146633\ttotal: 7.98s\tremaining: 2.46s\n",
      "688:\tlearn: 3.9128066\ttotal: 7.99s\tremaining: 2.45s\n",
      "689:\tlearn: 3.9109251\ttotal: 8s\tremaining: 2.44s\n",
      "690:\tlearn: 3.9083619\ttotal: 8.02s\tremaining: 2.42s\n",
      "691:\tlearn: 3.9064664\ttotal: 8.03s\tremaining: 2.41s\n",
      "692:\tlearn: 3.9048095\ttotal: 8.04s\tremaining: 2.4s\n",
      "693:\tlearn: 3.9038654\ttotal: 8.05s\tremaining: 2.39s\n",
      "694:\tlearn: 3.9012189\ttotal: 8.06s\tremaining: 2.38s\n",
      "695:\tlearn: 3.8999951\ttotal: 8.07s\tremaining: 2.36s\n",
      "696:\tlearn: 3.8982374\ttotal: 8.08s\tremaining: 2.35s\n",
      "697:\tlearn: 3.8969056\ttotal: 8.1s\tremaining: 2.34s\n",
      "698:\tlearn: 3.8948488\ttotal: 8.11s\tremaining: 2.33s\n",
      "699:\tlearn: 3.8930159\ttotal: 8.12s\tremaining: 2.32s\n",
      "700:\tlearn: 3.8916533\ttotal: 8.13s\tremaining: 2.31s\n",
      "701:\tlearn: 3.8903667\ttotal: 8.14s\tremaining: 2.29s\n",
      "702:\tlearn: 3.8891995\ttotal: 8.15s\tremaining: 2.28s\n",
      "703:\tlearn: 3.8880116\ttotal: 8.16s\tremaining: 2.27s\n",
      "704:\tlearn: 3.8858066\ttotal: 8.17s\tremaining: 2.26s\n",
      "705:\tlearn: 3.8838484\ttotal: 8.18s\tremaining: 2.25s\n",
      "706:\tlearn: 3.8819374\ttotal: 8.19s\tremaining: 2.24s\n",
      "707:\tlearn: 3.8797893\ttotal: 8.2s\tremaining: 2.23s\n",
      "708:\tlearn: 3.8787734\ttotal: 8.21s\tremaining: 2.21s\n",
      "709:\tlearn: 3.8766386\ttotal: 8.23s\tremaining: 2.2s\n",
      "710:\tlearn: 3.8750617\ttotal: 8.24s\tremaining: 2.19s\n",
      "711:\tlearn: 3.8732965\ttotal: 8.25s\tremaining: 2.18s\n",
      "712:\tlearn: 3.8721649\ttotal: 8.26s\tremaining: 2.17s\n",
      "713:\tlearn: 3.8707283\ttotal: 8.27s\tremaining: 2.15s\n",
      "714:\tlearn: 3.8695960\ttotal: 8.28s\tremaining: 2.14s\n",
      "715:\tlearn: 3.8683181\ttotal: 8.3s\tremaining: 2.13s\n",
      "716:\tlearn: 3.8666954\ttotal: 8.31s\tremaining: 2.12s\n",
      "717:\tlearn: 3.8644833\ttotal: 8.32s\tremaining: 2.11s\n",
      "718:\tlearn: 3.8626088\ttotal: 8.33s\tremaining: 2.1s\n",
      "719:\tlearn: 3.8607562\ttotal: 8.34s\tremaining: 2.08s\n",
      "720:\tlearn: 3.8592084\ttotal: 8.35s\tremaining: 2.07s\n",
      "721:\tlearn: 3.8572745\ttotal: 8.36s\tremaining: 2.06s\n",
      "722:\tlearn: 3.8560251\ttotal: 8.37s\tremaining: 2.05s\n",
      "723:\tlearn: 3.8542755\ttotal: 8.39s\tremaining: 2.04s\n",
      "724:\tlearn: 3.8516641\ttotal: 8.4s\tremaining: 2.03s\n",
      "725:\tlearn: 3.8486367\ttotal: 8.42s\tremaining: 2.02s\n",
      "726:\tlearn: 3.8464940\ttotal: 8.43s\tremaining: 2.01s\n",
      "727:\tlearn: 3.8446493\ttotal: 8.45s\tremaining: 2s\n",
      "728:\tlearn: 3.8432683\ttotal: 8.46s\tremaining: 1.98s\n",
      "729:\tlearn: 3.8412676\ttotal: 8.47s\tremaining: 1.97s\n",
      "730:\tlearn: 3.8392110\ttotal: 8.48s\tremaining: 1.96s\n",
      "731:\tlearn: 3.8378556\ttotal: 8.5s\tremaining: 1.95s\n",
      "732:\tlearn: 3.8353916\ttotal: 8.52s\tremaining: 1.94s\n",
      "733:\tlearn: 3.8339078\ttotal: 8.53s\tremaining: 1.93s\n",
      "734:\tlearn: 3.8328306\ttotal: 8.55s\tremaining: 1.92s\n",
      "735:\tlearn: 3.8311531\ttotal: 8.56s\tremaining: 1.91s\n",
      "736:\tlearn: 3.8285232\ttotal: 8.57s\tremaining: 1.9s\n",
      "737:\tlearn: 3.8264311\ttotal: 8.59s\tremaining: 1.88s\n",
      "738:\tlearn: 3.8242926\ttotal: 8.6s\tremaining: 1.87s\n",
      "739:\tlearn: 3.8224037\ttotal: 8.62s\tremaining: 1.86s\n",
      "740:\tlearn: 3.8211903\ttotal: 8.63s\tremaining: 1.85s\n",
      "741:\tlearn: 3.8198766\ttotal: 8.64s\tremaining: 1.84s\n",
      "742:\tlearn: 3.8188435\ttotal: 8.66s\tremaining: 1.83s\n",
      "743:\tlearn: 3.8170628\ttotal: 8.67s\tremaining: 1.82s\n",
      "744:\tlearn: 3.8140355\ttotal: 8.68s\tremaining: 1.81s\n",
      "745:\tlearn: 3.8122198\ttotal: 8.7s\tremaining: 1.79s\n",
      "746:\tlearn: 3.8097787\ttotal: 8.71s\tremaining: 1.78s\n",
      "747:\tlearn: 3.8079263\ttotal: 8.74s\tremaining: 1.78s\n",
      "748:\tlearn: 3.8070617\ttotal: 8.76s\tremaining: 1.76s\n",
      "749:\tlearn: 3.8056791\ttotal: 8.77s\tremaining: 1.75s\n",
      "750:\tlearn: 3.8038162\ttotal: 8.78s\tremaining: 1.74s\n",
      "751:\tlearn: 3.8031057\ttotal: 8.8s\tremaining: 1.73s\n",
      "752:\tlearn: 3.8012593\ttotal: 8.81s\tremaining: 1.72s\n",
      "753:\tlearn: 3.7987789\ttotal: 8.82s\tremaining: 1.71s\n",
      "754:\tlearn: 3.7962143\ttotal: 8.84s\tremaining: 1.7s\n",
      "755:\tlearn: 3.7932109\ttotal: 8.85s\tremaining: 1.69s\n",
      "756:\tlearn: 3.7909802\ttotal: 8.86s\tremaining: 1.67s\n",
      "757:\tlearn: 3.7892452\ttotal: 8.88s\tremaining: 1.66s\n"
     ]
    },
    {
     "name": "stdout",
     "output_type": "stream",
     "text": [
      "758:\tlearn: 3.7878990\ttotal: 8.9s\tremaining: 1.65s\n",
      "759:\tlearn: 3.7871895\ttotal: 8.91s\tremaining: 1.64s\n",
      "760:\tlearn: 3.7866923\ttotal: 8.93s\tremaining: 1.63s\n",
      "761:\tlearn: 3.7836629\ttotal: 8.94s\tremaining: 1.62s\n",
      "762:\tlearn: 3.7816116\ttotal: 8.96s\tremaining: 1.61s\n",
      "763:\tlearn: 3.7799583\ttotal: 8.97s\tremaining: 1.6s\n",
      "764:\tlearn: 3.7787000\ttotal: 8.99s\tremaining: 1.58s\n",
      "765:\tlearn: 3.7763338\ttotal: 9s\tremaining: 1.57s\n",
      "766:\tlearn: 3.7742306\ttotal: 9.01s\tremaining: 1.56s\n",
      "767:\tlearn: 3.7721978\ttotal: 9.03s\tremaining: 1.55s\n",
      "768:\tlearn: 3.7702124\ttotal: 9.04s\tremaining: 1.54s\n",
      "769:\tlearn: 3.7684267\ttotal: 9.06s\tremaining: 1.53s\n",
      "770:\tlearn: 3.7665201\ttotal: 9.07s\tremaining: 1.52s\n",
      "771:\tlearn: 3.7648674\ttotal: 9.09s\tremaining: 1.51s\n",
      "772:\tlearn: 3.7629301\ttotal: 9.1s\tremaining: 1.5s\n",
      "773:\tlearn: 3.7601923\ttotal: 9.12s\tremaining: 1.48s\n",
      "774:\tlearn: 3.7584299\ttotal: 9.13s\tremaining: 1.47s\n",
      "775:\tlearn: 3.7568370\ttotal: 9.14s\tremaining: 1.46s\n",
      "776:\tlearn: 3.7551240\ttotal: 9.16s\tremaining: 1.45s\n",
      "777:\tlearn: 3.7541725\ttotal: 9.17s\tremaining: 1.44s\n",
      "778:\tlearn: 3.7530326\ttotal: 9.19s\tremaining: 1.43s\n",
      "779:\tlearn: 3.7507942\ttotal: 9.2s\tremaining: 1.42s\n",
      "780:\tlearn: 3.7486838\ttotal: 9.21s\tremaining: 1.4s\n",
      "781:\tlearn: 3.7462027\ttotal: 9.23s\tremaining: 1.39s\n",
      "782:\tlearn: 3.7451400\ttotal: 9.24s\tremaining: 1.38s\n",
      "783:\tlearn: 3.7426295\ttotal: 9.26s\tremaining: 1.37s\n",
      "784:\tlearn: 3.7406810\ttotal: 9.27s\tremaining: 1.36s\n",
      "785:\tlearn: 3.7386487\ttotal: 9.29s\tremaining: 1.35s\n",
      "786:\tlearn: 3.7366030\ttotal: 9.3s\tremaining: 1.34s\n",
      "787:\tlearn: 3.7345028\ttotal: 9.32s\tremaining: 1.32s\n",
      "788:\tlearn: 3.7328632\ttotal: 9.33s\tremaining: 1.31s\n",
      "789:\tlearn: 3.7309935\ttotal: 9.35s\tremaining: 1.3s\n",
      "790:\tlearn: 3.7298562\ttotal: 9.36s\tremaining: 1.29s\n",
      "791:\tlearn: 3.7279610\ttotal: 9.38s\tremaining: 1.28s\n",
      "792:\tlearn: 3.7265452\ttotal: 9.39s\tremaining: 1.27s\n",
      "793:\tlearn: 3.7240354\ttotal: 9.4s\tremaining: 1.25s\n",
      "794:\tlearn: 3.7212017\ttotal: 9.42s\tremaining: 1.24s\n",
      "795:\tlearn: 3.7194701\ttotal: 9.43s\tremaining: 1.23s\n",
      "796:\tlearn: 3.7176025\ttotal: 9.44s\tremaining: 1.22s\n",
      "797:\tlearn: 3.7164856\ttotal: 9.46s\tremaining: 1.21s\n",
      "798:\tlearn: 3.7150248\ttotal: 9.47s\tremaining: 1.2s\n",
      "799:\tlearn: 3.7132499\ttotal: 9.48s\tremaining: 1.19s\n",
      "800:\tlearn: 3.7114599\ttotal: 9.5s\tremaining: 1.17s\n",
      "801:\tlearn: 3.7096736\ttotal: 9.51s\tremaining: 1.16s\n",
      "802:\tlearn: 3.7082057\ttotal: 9.53s\tremaining: 1.15s\n",
      "803:\tlearn: 3.7061026\ttotal: 9.54s\tremaining: 1.14s\n",
      "804:\tlearn: 3.7049397\ttotal: 9.56s\tremaining: 1.13s\n",
      "805:\tlearn: 3.7035562\ttotal: 9.57s\tremaining: 1.11s\n",
      "806:\tlearn: 3.7013146\ttotal: 9.58s\tremaining: 1.1s\n",
      "807:\tlearn: 3.6990577\ttotal: 9.6s\tremaining: 1.09s\n",
      "808:\tlearn: 3.6977097\ttotal: 9.61s\tremaining: 1.08s\n",
      "809:\tlearn: 3.6958866\ttotal: 9.62s\tremaining: 1.07s\n",
      "810:\tlearn: 3.6940199\ttotal: 9.63s\tremaining: 1.06s\n",
      "811:\tlearn: 3.6920643\ttotal: 9.65s\tremaining: 1.04s\n",
      "812:\tlearn: 3.6904320\ttotal: 9.66s\tremaining: 1.03s\n",
      "813:\tlearn: 3.6870415\ttotal: 9.68s\tremaining: 1.02s\n",
      "814:\tlearn: 3.6854216\ttotal: 9.69s\tremaining: 1.01s\n",
      "815:\tlearn: 3.6838199\ttotal: 9.7s\tremaining: 999ms\n",
      "816:\tlearn: 3.6829957\ttotal: 9.71s\tremaining: 987ms\n",
      "817:\tlearn: 3.6812976\ttotal: 9.73s\tremaining: 975ms\n",
      "818:\tlearn: 3.6788996\ttotal: 9.74s\tremaining: 964ms\n",
      "819:\tlearn: 3.6771001\ttotal: 9.76s\tremaining: 952ms\n",
      "820:\tlearn: 3.6756294\ttotal: 9.77s\tremaining: 940ms\n",
      "821:\tlearn: 3.6727674\ttotal: 9.79s\tremaining: 929ms\n",
      "822:\tlearn: 3.6710327\ttotal: 9.8s\tremaining: 917ms\n",
      "823:\tlearn: 3.6695941\ttotal: 9.81s\tremaining: 905ms\n",
      "824:\tlearn: 3.6678434\ttotal: 9.82s\tremaining: 893ms\n",
      "825:\tlearn: 3.6657436\ttotal: 9.83s\tremaining: 881ms\n",
      "826:\tlearn: 3.6642494\ttotal: 9.84s\tremaining: 869ms\n",
      "827:\tlearn: 3.6627087\ttotal: 9.86s\tremaining: 857ms\n",
      "828:\tlearn: 3.6611705\ttotal: 9.87s\tremaining: 845ms\n",
      "829:\tlearn: 3.6590804\ttotal: 9.88s\tremaining: 833ms\n",
      "830:\tlearn: 3.6575264\ttotal: 9.89s\tremaining: 821ms\n",
      "831:\tlearn: 3.6562231\ttotal: 9.91s\tremaining: 810ms\n",
      "832:\tlearn: 3.6543029\ttotal: 9.92s\tremaining: 798ms\n",
      "833:\tlearn: 3.6529139\ttotal: 9.94s\tremaining: 786ms\n",
      "834:\tlearn: 3.6513697\ttotal: 9.95s\tremaining: 774ms\n",
      "835:\tlearn: 3.6497414\ttotal: 9.96s\tremaining: 762ms\n",
      "836:\tlearn: 3.6484176\ttotal: 9.97s\tremaining: 751ms\n",
      "837:\tlearn: 3.6470714\ttotal: 9.98s\tremaining: 739ms\n",
      "838:\tlearn: 3.6455281\ttotal: 9.99s\tremaining: 727ms\n",
      "839:\tlearn: 3.6438108\ttotal: 10s\tremaining: 715ms\n",
      "840:\tlearn: 3.6418506\ttotal: 10s\tremaining: 703ms\n",
      "841:\tlearn: 3.6401708\ttotal: 10s\tremaining: 691ms\n",
      "842:\tlearn: 3.6386121\ttotal: 10s\tremaining: 679ms\n",
      "843:\tlearn: 3.6366617\ttotal: 10.1s\tremaining: 667ms\n",
      "844:\tlearn: 3.6346607\ttotal: 10.1s\tremaining: 655ms\n",
      "845:\tlearn: 3.6334325\ttotal: 10.1s\tremaining: 643ms\n",
      "846:\tlearn: 3.6320984\ttotal: 10.1s\tremaining: 631ms\n",
      "847:\tlearn: 3.6302296\ttotal: 10.1s\tremaining: 619ms\n",
      "848:\tlearn: 3.6285826\ttotal: 10.1s\tremaining: 607ms\n",
      "849:\tlearn: 3.6273501\ttotal: 10.1s\tremaining: 595ms\n",
      "850:\tlearn: 3.6258885\ttotal: 10.1s\tremaining: 584ms\n",
      "851:\tlearn: 3.6242593\ttotal: 10.1s\tremaining: 572ms\n",
      "852:\tlearn: 3.6235653\ttotal: 10.2s\tremaining: 560ms\n",
      "853:\tlearn: 3.6224466\ttotal: 10.2s\tremaining: 548ms\n",
      "854:\tlearn: 3.6206532\ttotal: 10.2s\tremaining: 536ms\n",
      "855:\tlearn: 3.6174205\ttotal: 10.2s\tremaining: 524ms\n",
      "856:\tlearn: 3.6158021\ttotal: 10.2s\tremaining: 512ms\n",
      "857:\tlearn: 3.6141258\ttotal: 10.2s\tremaining: 500ms\n",
      "858:\tlearn: 3.6130375\ttotal: 10.2s\tremaining: 488ms\n",
      "859:\tlearn: 3.6110343\ttotal: 10.2s\tremaining: 476ms\n",
      "860:\tlearn: 3.6090547\ttotal: 10.3s\tremaining: 464ms\n",
      "861:\tlearn: 3.6079063\ttotal: 10.3s\tremaining: 452ms\n",
      "862:\tlearn: 3.6062023\ttotal: 10.3s\tremaining: 440ms\n",
      "863:\tlearn: 3.6045622\ttotal: 10.3s\tremaining: 429ms\n",
      "864:\tlearn: 3.6026281\ttotal: 10.3s\tremaining: 417ms\n",
      "865:\tlearn: 3.6009109\ttotal: 10.3s\tremaining: 405ms\n",
      "866:\tlearn: 3.5990758\ttotal: 10.3s\tremaining: 393ms\n",
      "867:\tlearn: 3.5972745\ttotal: 10.3s\tremaining: 381ms\n",
      "868:\tlearn: 3.5959298\ttotal: 10.3s\tremaining: 369ms\n",
      "869:\tlearn: 3.5943684\ttotal: 10.4s\tremaining: 357ms\n",
      "870:\tlearn: 3.5926488\ttotal: 10.4s\tremaining: 345ms\n",
      "871:\tlearn: 3.5910687\ttotal: 10.4s\tremaining: 333ms\n",
      "872:\tlearn: 3.5893089\ttotal: 10.4s\tremaining: 321ms\n",
      "873:\tlearn: 3.5881428\ttotal: 10.4s\tremaining: 310ms\n",
      "874:\tlearn: 3.5862952\ttotal: 10.4s\tremaining: 298ms\n",
      "875:\tlearn: 3.5844639\ttotal: 10.4s\tremaining: 286ms\n",
      "876:\tlearn: 3.5832606\ttotal: 10.4s\tremaining: 274ms\n",
      "877:\tlearn: 3.5818360\ttotal: 10.4s\tremaining: 262ms\n",
      "878:\tlearn: 3.5803630\ttotal: 10.5s\tremaining: 250ms\n",
      "879:\tlearn: 3.5790392\ttotal: 10.5s\tremaining: 238ms\n",
      "880:\tlearn: 3.5766930\ttotal: 10.5s\tremaining: 226ms\n",
      "881:\tlearn: 3.5754196\ttotal: 10.5s\tremaining: 215ms\n",
      "882:\tlearn: 3.5742417\ttotal: 10.5s\tremaining: 203ms\n",
      "883:\tlearn: 3.5728107\ttotal: 10.6s\tremaining: 191ms\n",
      "884:\tlearn: 3.5711901\ttotal: 10.6s\tremaining: 179ms\n",
      "885:\tlearn: 3.5684476\ttotal: 10.6s\tremaining: 167ms\n",
      "886:\tlearn: 3.5666825\ttotal: 10.6s\tremaining: 155ms\n",
      "887:\tlearn: 3.5651357\ttotal: 10.6s\tremaining: 143ms\n",
      "888:\tlearn: 3.5635378\ttotal: 10.6s\tremaining: 131ms\n",
      "889:\tlearn: 3.5619351\ttotal: 10.6s\tremaining: 119ms\n",
      "890:\tlearn: 3.5597616\ttotal: 10.6s\tremaining: 107ms\n",
      "891:\tlearn: 3.5582235\ttotal: 10.6s\tremaining: 95.5ms\n",
      "892:\tlearn: 3.5572490\ttotal: 10.7s\tremaining: 83.6ms\n",
      "893:\tlearn: 3.5546675\ttotal: 10.7s\tremaining: 71.6ms\n",
      "894:\tlearn: 3.5530486\ttotal: 10.7s\tremaining: 59.7ms\n",
      "895:\tlearn: 3.5517324\ttotal: 10.7s\tremaining: 47.8ms\n",
      "896:\tlearn: 3.5502834\ttotal: 10.7s\tremaining: 35.9ms\n",
      "897:\tlearn: 3.5489071\ttotal: 10.7s\tremaining: 23.9ms\n",
      "898:\tlearn: 3.5467380\ttotal: 10.8s\tremaining: 12ms\n",
      "899:\tlearn: 3.5452524\ttotal: 10.8s\tremaining: 0us\n",
      "sMAPE для финальной очистки равен 8.216349902949428\n",
      "Общий sMAPE равен:\n",
      "7.1398163852791425\n"
     ]
    }
   ],
   "source": [
    "main_func(model_r,model_f)"
   ]
  },
  {
   "cell_type": "markdown",
   "id": "ba47abb6",
   "metadata": {},
   "source": [
    "**С помощью CatBoost, я добился максимального хорошего sMAPE=7.13**"
   ]
  },
  {
   "cell_type": "markdown",
   "id": "c557a918",
   "metadata": {},
   "source": [
    "## Итоговый вывод"
   ]
  },
  {
   "cell_type": "markdown",
   "id": "3d1d674e",
   "metadata": {},
   "source": [
    "*В ходе анализа данных по очистке золота, выяснили что концентрация золота увеличивается с после каждого этапа. Построением различных моделей для предсказания концентрации после различных этапов очистки  выявил лучшую модель `CatBoostRegressor` с финальным итоговым sMAPE = 7.13*"
   ]
  }
 ],
 "metadata": {
  "ExecuteTimeLog": [
   {
    "duration": 1743,
    "start_time": "2022-05-15T07:30:45.702Z"
   },
   {
    "duration": 117,
    "start_time": "2022-05-15T07:30:47.447Z"
   },
   {
    "duration": 0,
    "start_time": "2022-05-15T07:30:47.568Z"
   },
   {
    "duration": 0,
    "start_time": "2022-05-15T07:30:47.569Z"
   },
   {
    "duration": 0,
    "start_time": "2022-05-15T07:30:47.570Z"
   },
   {
    "duration": 0,
    "start_time": "2022-05-15T07:30:47.571Z"
   },
   {
    "duration": 0,
    "start_time": "2022-05-15T07:30:47.573Z"
   },
   {
    "duration": 0,
    "start_time": "2022-05-15T07:30:47.574Z"
   },
   {
    "duration": 0,
    "start_time": "2022-05-15T07:30:47.576Z"
   },
   {
    "duration": 0,
    "start_time": "2022-05-15T07:30:47.577Z"
   },
   {
    "duration": 0,
    "start_time": "2022-05-15T07:30:47.578Z"
   },
   {
    "duration": 0,
    "start_time": "2022-05-15T07:30:47.580Z"
   },
   {
    "duration": 0,
    "start_time": "2022-05-15T07:30:47.581Z"
   },
   {
    "duration": 0,
    "start_time": "2022-05-15T07:30:47.582Z"
   },
   {
    "duration": 0,
    "start_time": "2022-05-15T07:30:47.583Z"
   },
   {
    "duration": 0,
    "start_time": "2022-05-15T07:30:47.585Z"
   },
   {
    "duration": 0,
    "start_time": "2022-05-15T07:30:47.586Z"
   },
   {
    "duration": 0,
    "start_time": "2022-05-15T07:30:47.587Z"
   },
   {
    "duration": 0,
    "start_time": "2022-05-15T07:30:47.589Z"
   },
   {
    "duration": 0,
    "start_time": "2022-05-15T07:30:47.590Z"
   },
   {
    "duration": 0,
    "start_time": "2022-05-15T07:30:47.592Z"
   },
   {
    "duration": 0,
    "start_time": "2022-05-15T07:30:47.593Z"
   },
   {
    "duration": 0,
    "start_time": "2022-05-15T07:30:47.594Z"
   },
   {
    "duration": 0,
    "start_time": "2022-05-15T07:30:47.596Z"
   },
   {
    "duration": 0,
    "start_time": "2022-05-15T07:30:47.598Z"
   },
   {
    "duration": 0,
    "start_time": "2022-05-15T07:30:47.643Z"
   },
   {
    "duration": 0,
    "start_time": "2022-05-15T07:30:47.644Z"
   },
   {
    "duration": 0,
    "start_time": "2022-05-15T07:30:47.646Z"
   },
   {
    "duration": 0,
    "start_time": "2022-05-15T07:30:47.647Z"
   },
   {
    "duration": 0,
    "start_time": "2022-05-15T07:30:47.649Z"
   },
   {
    "duration": 0,
    "start_time": "2022-05-15T07:30:47.650Z"
   },
   {
    "duration": 0,
    "start_time": "2022-05-15T07:30:47.652Z"
   },
   {
    "duration": 0,
    "start_time": "2022-05-15T07:30:47.653Z"
   },
   {
    "duration": 0,
    "start_time": "2022-05-15T07:30:47.654Z"
   },
   {
    "duration": 0,
    "start_time": "2022-05-15T07:30:47.656Z"
   },
   {
    "duration": 0,
    "start_time": "2022-05-15T07:30:47.657Z"
   },
   {
    "duration": 0,
    "start_time": "2022-05-15T07:30:47.659Z"
   },
   {
    "duration": 0,
    "start_time": "2022-05-15T07:30:47.661Z"
   },
   {
    "duration": 0,
    "start_time": "2022-05-15T07:30:47.662Z"
   },
   {
    "duration": 0,
    "start_time": "2022-05-15T07:30:47.663Z"
   },
   {
    "duration": 0,
    "start_time": "2022-05-15T07:30:47.665Z"
   },
   {
    "duration": 0,
    "start_time": "2022-05-15T07:30:47.667Z"
   },
   {
    "duration": 0,
    "start_time": "2022-05-15T07:30:47.668Z"
   },
   {
    "duration": 0,
    "start_time": "2022-05-15T07:30:47.669Z"
   },
   {
    "duration": 0,
    "start_time": "2022-05-15T07:30:47.671Z"
   },
   {
    "duration": 0,
    "start_time": "2022-05-15T07:30:47.672Z"
   },
   {
    "duration": 0,
    "start_time": "2022-05-15T07:30:47.674Z"
   },
   {
    "duration": 0,
    "start_time": "2022-05-15T07:30:47.675Z"
   },
   {
    "duration": 0,
    "start_time": "2022-05-15T07:30:47.676Z"
   },
   {
    "duration": 0,
    "start_time": "2022-05-15T07:30:47.678Z"
   },
   {
    "duration": 0,
    "start_time": "2022-05-15T07:30:47.742Z"
   },
   {
    "duration": 0,
    "start_time": "2022-05-15T07:30:47.744Z"
   },
   {
    "duration": 0,
    "start_time": "2022-05-15T07:30:47.746Z"
   },
   {
    "duration": 0,
    "start_time": "2022-05-15T07:30:47.747Z"
   },
   {
    "duration": 0,
    "start_time": "2022-05-15T07:30:47.749Z"
   },
   {
    "duration": 0,
    "start_time": "2022-05-15T07:30:47.750Z"
   },
   {
    "duration": 0,
    "start_time": "2022-05-15T07:30:47.752Z"
   },
   {
    "duration": 0,
    "start_time": "2022-05-15T07:30:47.753Z"
   },
   {
    "duration": 0,
    "start_time": "2022-05-15T07:30:47.755Z"
   },
   {
    "duration": 0,
    "start_time": "2022-05-15T07:30:47.756Z"
   },
   {
    "duration": 0,
    "start_time": "2022-05-15T07:30:47.758Z"
   },
   {
    "duration": 0,
    "start_time": "2022-05-15T07:30:47.759Z"
   },
   {
    "duration": 0,
    "start_time": "2022-05-15T07:30:47.760Z"
   },
   {
    "duration": 0,
    "start_time": "2022-05-15T07:30:47.762Z"
   },
   {
    "duration": 0,
    "start_time": "2022-05-15T07:30:47.764Z"
   },
   {
    "duration": 0,
    "start_time": "2022-05-15T07:30:47.765Z"
   },
   {
    "duration": 0,
    "start_time": "2022-05-15T07:30:47.766Z"
   },
   {
    "duration": 1,
    "start_time": "2022-05-15T07:30:47.767Z"
   },
   {
    "duration": 0,
    "start_time": "2022-05-15T07:30:47.769Z"
   },
   {
    "duration": 0,
    "start_time": "2022-05-15T07:30:47.770Z"
   },
   {
    "duration": 1,
    "start_time": "2022-05-15T07:30:47.771Z"
   },
   {
    "duration": 0,
    "start_time": "2022-05-15T07:30:47.773Z"
   },
   {
    "duration": 0,
    "start_time": "2022-05-15T07:30:47.774Z"
   },
   {
    "duration": 0,
    "start_time": "2022-05-15T07:30:47.776Z"
   },
   {
    "duration": 0,
    "start_time": "2022-05-15T07:30:47.778Z"
   },
   {
    "duration": 0,
    "start_time": "2022-05-15T07:30:47.779Z"
   },
   {
    "duration": 0,
    "start_time": "2022-05-15T07:30:47.780Z"
   },
   {
    "duration": 0,
    "start_time": "2022-05-15T07:30:47.843Z"
   },
   {
    "duration": 0,
    "start_time": "2022-05-15T07:30:47.845Z"
   },
   {
    "duration": 0,
    "start_time": "2022-05-15T07:30:47.847Z"
   },
   {
    "duration": 0,
    "start_time": "2022-05-15T07:30:47.848Z"
   },
   {
    "duration": 0,
    "start_time": "2022-05-15T07:30:47.849Z"
   },
   {
    "duration": 0,
    "start_time": "2022-05-15T07:30:47.851Z"
   },
   {
    "duration": 0,
    "start_time": "2022-05-15T07:30:47.853Z"
   },
   {
    "duration": 248,
    "start_time": "2022-05-15T07:31:22.798Z"
   },
   {
    "duration": 5,
    "start_time": "2022-05-15T07:31:23.746Z"
   },
   {
    "duration": 19,
    "start_time": "2022-05-15T07:31:24.325Z"
   },
   {
    "duration": 68,
    "start_time": "2022-05-15T07:31:24.896Z"
   },
   {
    "duration": 13,
    "start_time": "2022-05-15T07:31:26.194Z"
   },
   {
    "duration": 321,
    "start_time": "2022-05-15T07:31:26.817Z"
   },
   {
    "duration": 6,
    "start_time": "2022-05-15T07:31:29.352Z"
   },
   {
    "duration": 8,
    "start_time": "2022-05-15T07:31:33.747Z"
   },
   {
    "duration": 5,
    "start_time": "2022-05-15T07:31:34.309Z"
   },
   {
    "duration": 5,
    "start_time": "2022-05-15T07:31:35.627Z"
   },
   {
    "duration": 13,
    "start_time": "2022-05-15T07:31:40.380Z"
   },
   {
    "duration": 22,
    "start_time": "2022-05-15T07:31:42.094Z"
   },
   {
    "duration": 140,
    "start_time": "2022-05-15T07:31:43.014Z"
   },
   {
    "duration": 16,
    "start_time": "2022-05-15T07:31:44.591Z"
   },
   {
    "duration": 13,
    "start_time": "2022-05-15T07:31:48.551Z"
   },
   {
    "duration": 23,
    "start_time": "2022-05-15T07:31:51.637Z"
   },
   {
    "duration": 6,
    "start_time": "2022-05-15T07:31:52.446Z"
   },
   {
    "duration": 18,
    "start_time": "2022-05-15T07:31:54.047Z"
   },
   {
    "duration": 18,
    "start_time": "2022-05-15T07:31:54.644Z"
   },
   {
    "duration": 23,
    "start_time": "2022-05-15T07:31:56.568Z"
   },
   {
    "duration": 6,
    "start_time": "2022-05-15T07:32:13.584Z"
   },
   {
    "duration": 3,
    "start_time": "2022-05-15T07:32:17.912Z"
   },
   {
    "duration": 202,
    "start_time": "2022-05-15T07:32:19.264Z"
   },
   {
    "duration": 3,
    "start_time": "2022-05-15T07:32:24.964Z"
   },
   {
    "duration": 213,
    "start_time": "2022-05-15T07:32:25.659Z"
   },
   {
    "duration": 3,
    "start_time": "2022-05-15T07:32:30.878Z"
   },
   {
    "duration": 224,
    "start_time": "2022-05-15T07:32:31.461Z"
   },
   {
    "duration": 205,
    "start_time": "2022-05-15T07:32:40.437Z"
   },
   {
    "duration": 99,
    "start_time": "2022-05-15T07:32:42.720Z"
   },
   {
    "duration": 9,
    "start_time": "2022-05-15T07:32:44.940Z"
   },
   {
    "duration": 110,
    "start_time": "2022-05-15T07:32:48.217Z"
   },
   {
    "duration": 3442,
    "start_time": "2022-05-15T07:36:27.157Z"
   },
   {
    "duration": 12,
    "start_time": "2022-05-15T07:37:44.193Z"
   },
   {
    "duration": 219,
    "start_time": "2022-05-15T07:37:54.433Z"
   },
   {
    "duration": 3,
    "start_time": "2022-05-15T07:39:04.526Z"
   },
   {
    "duration": 123,
    "start_time": "2022-05-15T07:39:12.855Z"
   },
   {
    "duration": 122,
    "start_time": "2022-05-15T07:39:40.112Z"
   },
   {
    "duration": 112,
    "start_time": "2022-05-15T07:40:10.398Z"
   },
   {
    "duration": 114,
    "start_time": "2022-05-15T07:40:26.034Z"
   },
   {
    "duration": 111,
    "start_time": "2022-05-15T07:40:52.300Z"
   },
   {
    "duration": 122,
    "start_time": "2022-05-15T07:41:05.099Z"
   },
   {
    "duration": 110,
    "start_time": "2022-05-15T07:41:13.499Z"
   },
   {
    "duration": 113,
    "start_time": "2022-05-15T07:41:26.871Z"
   },
   {
    "duration": 128,
    "start_time": "2022-05-15T07:41:40.456Z"
   },
   {
    "duration": 121,
    "start_time": "2022-05-15T07:41:49.349Z"
   },
   {
    "duration": 119,
    "start_time": "2022-05-15T07:42:08.178Z"
   },
   {
    "duration": 113,
    "start_time": "2022-05-15T07:42:22.804Z"
   },
   {
    "duration": 232,
    "start_time": "2022-05-15T07:44:14.759Z"
   },
   {
    "duration": 124,
    "start_time": "2022-05-15T07:45:23.420Z"
   },
   {
    "duration": 93,
    "start_time": "2022-05-15T07:48:43.979Z"
   },
   {
    "duration": 9,
    "start_time": "2022-05-15T07:48:45.715Z"
   },
   {
    "duration": 3,
    "start_time": "2022-05-15T07:50:53.919Z"
   },
   {
    "duration": 6,
    "start_time": "2022-05-15T07:51:01.942Z"
   },
   {
    "duration": 141,
    "start_time": "2022-05-15T07:53:34.597Z"
   },
   {
    "duration": 130,
    "start_time": "2022-05-15T07:53:39.781Z"
   },
   {
    "duration": 133,
    "start_time": "2022-05-15T07:53:53.037Z"
   },
   {
    "duration": 144,
    "start_time": "2022-05-15T07:54:17.016Z"
   },
   {
    "duration": 13,
    "start_time": "2022-05-15T07:57:31.446Z"
   },
   {
    "duration": 4,
    "start_time": "2022-05-15T07:57:36.072Z"
   },
   {
    "duration": 4,
    "start_time": "2022-05-15T07:57:37.051Z"
   },
   {
    "duration": 12,
    "start_time": "2022-05-15T07:57:41.392Z"
   },
   {
    "duration": 4,
    "start_time": "2022-05-15T07:58:16.428Z"
   },
   {
    "duration": 9,
    "start_time": "2022-05-15T07:58:28.484Z"
   },
   {
    "duration": 3,
    "start_time": "2022-05-15T08:07:54.425Z"
   },
   {
    "duration": 541,
    "start_time": "2022-05-15T08:08:03.409Z"
   },
   {
    "duration": 4,
    "start_time": "2022-05-15T08:08:08.354Z"
   },
   {
    "duration": 5,
    "start_time": "2022-05-15T08:08:10.253Z"
   },
   {
    "duration": 3,
    "start_time": "2022-05-15T08:08:32.474Z"
   },
   {
    "duration": 990,
    "start_time": "2022-05-15T08:08:33.062Z"
   },
   {
    "duration": 5,
    "start_time": "2022-05-15T08:08:38.569Z"
   },
   {
    "duration": 134,
    "start_time": "2022-05-15T08:17:10.062Z"
   },
   {
    "duration": 5,
    "start_time": "2022-05-15T08:17:32.798Z"
   },
   {
    "duration": 6,
    "start_time": "2022-05-15T08:17:36.078Z"
   },
   {
    "duration": 3,
    "start_time": "2022-05-15T08:17:43.848Z"
   },
   {
    "duration": 3,
    "start_time": "2022-05-15T08:17:44.463Z"
   },
   {
    "duration": 11344,
    "start_time": "2022-05-15T08:17:44.972Z"
   },
   {
    "duration": 3,
    "start_time": "2022-05-15T08:17:56.318Z"
   },
   {
    "duration": 125,
    "start_time": "2022-05-15T08:17:56.323Z"
   },
   {
    "duration": 11,
    "start_time": "2022-05-15T08:17:58.816Z"
   },
   {
    "duration": 3,
    "start_time": "2022-05-15T08:17:59.572Z"
   },
   {
    "duration": 4,
    "start_time": "2022-05-15T08:18:00.526Z"
   },
   {
    "duration": 253,
    "start_time": "2022-05-15T08:20:03.539Z"
   },
   {
    "duration": 23,
    "start_time": "2022-05-15T08:20:21.029Z"
   },
   {
    "duration": 6,
    "start_time": "2022-05-15T08:20:24.437Z"
   },
   {
    "duration": 2,
    "start_time": "2022-05-15T08:20:36.202Z"
   },
   {
    "duration": 5,
    "start_time": "2022-05-15T08:20:36.662Z"
   },
   {
    "duration": 3,
    "start_time": "2022-05-15T08:20:37.182Z"
   },
   {
    "duration": 5,
    "start_time": "2022-05-15T08:20:37.684Z"
   },
   {
    "duration": 6,
    "start_time": "2022-05-15T08:20:43.922Z"
   },
   {
    "duration": 2,
    "start_time": "2022-05-15T08:20:45.554Z"
   },
   {
    "duration": 3,
    "start_time": "2022-05-15T08:20:46.061Z"
   },
   {
    "duration": 3,
    "start_time": "2022-05-15T08:20:47.764Z"
   },
   {
    "duration": 6,
    "start_time": "2022-05-15T08:20:49.038Z"
   },
   {
    "duration": 9,
    "start_time": "2022-05-15T08:20:50.189Z"
   },
   {
    "duration": 3,
    "start_time": "2022-05-15T08:20:50.711Z"
   },
   {
    "duration": 847,
    "start_time": "2022-05-15T08:20:51.832Z"
   },
   {
    "duration": 12,
    "start_time": "2022-05-15T08:20:53.549Z"
   },
   {
    "duration": 7,
    "start_time": "2022-05-15T08:20:54.771Z"
   },
   {
    "duration": 3,
    "start_time": "2022-05-15T08:20:56.833Z"
   },
   {
    "duration": 5,
    "start_time": "2022-05-15T08:20:57.531Z"
   },
   {
    "duration": 3,
    "start_time": "2022-05-15T08:20:58.157Z"
   },
   {
    "duration": 7,
    "start_time": "2022-05-15T08:20:59.221Z"
   },
   {
    "duration": 2526,
    "start_time": "2022-05-15T10:30:03.063Z"
   },
   {
    "duration": 53,
    "start_time": "2022-05-15T10:33:17.803Z"
   },
   {
    "duration": 3,
    "start_time": "2022-05-15T10:34:01.264Z"
   },
   {
    "duration": 5,
    "start_time": "2022-05-15T10:36:17.007Z"
   },
   {
    "duration": 38827,
    "start_time": "2022-05-15T10:36:24.052Z"
   },
   {
    "duration": 4,
    "start_time": "2022-05-15T10:37:46.532Z"
   },
   {
    "duration": 204,
    "start_time": "2022-05-15T10:38:29.894Z"
   },
   {
    "duration": 2,
    "start_time": "2022-05-15T10:39:20.704Z"
   },
   {
    "duration": 9174,
    "start_time": "2022-05-15T10:39:37.470Z"
   },
   {
    "duration": 4,
    "start_time": "2022-05-15T10:39:58.914Z"
   },
   {
    "duration": 3,
    "start_time": "2022-05-15T10:40:40.954Z"
   },
   {
    "duration": 3,
    "start_time": "2022-05-15T10:41:01.061Z"
   },
   {
    "duration": 2509,
    "start_time": "2022-05-15T10:41:52.766Z"
   },
   {
    "duration": 2057,
    "start_time": "2022-05-15T10:42:14.695Z"
   },
   {
    "duration": 3,
    "start_time": "2022-05-15T10:42:38.407Z"
   },
   {
    "duration": 6290,
    "start_time": "2022-05-15T10:42:39.117Z"
   },
   {
    "duration": 10,
    "start_time": "2022-05-15T10:43:40.685Z"
   },
   {
    "duration": 6,
    "start_time": "2022-05-15T10:44:16.822Z"
   },
   {
    "duration": 3,
    "start_time": "2022-05-15T10:44:31.304Z"
   },
   {
    "duration": 50507,
    "start_time": "2022-05-15T10:44:32.033Z"
   },
   {
    "duration": 29,
    "start_time": "2022-05-15T10:45:22.546Z"
   },
   {
    "duration": 6,
    "start_time": "2022-05-15T10:45:33.699Z"
   },
   {
    "duration": 27,
    "start_time": "2022-05-15T10:45:36.157Z"
   },
   {
    "duration": 6,
    "start_time": "2022-05-15T10:45:36.802Z"
   },
   {
    "duration": 9,
    "start_time": "2022-05-15T10:52:09.692Z"
   },
   {
    "duration": 2355,
    "start_time": "2022-05-16T06:23:51.395Z"
   },
   {
    "duration": 332,
    "start_time": "2022-05-16T06:23:53.754Z"
   },
   {
    "duration": 9,
    "start_time": "2022-05-16T06:23:54.088Z"
   },
   {
    "duration": 50,
    "start_time": "2022-05-16T06:23:54.101Z"
   },
   {
    "duration": 107,
    "start_time": "2022-05-16T06:23:54.154Z"
   },
   {
    "duration": 22,
    "start_time": "2022-05-16T06:23:54.263Z"
   },
   {
    "duration": 454,
    "start_time": "2022-05-16T06:23:54.287Z"
   },
   {
    "duration": 8,
    "start_time": "2022-05-16T06:23:54.744Z"
   },
   {
    "duration": 12,
    "start_time": "2022-05-16T06:23:54.754Z"
   },
   {
    "duration": 7,
    "start_time": "2022-05-16T06:23:54.770Z"
   },
   {
    "duration": 10,
    "start_time": "2022-05-16T06:23:54.780Z"
   },
   {
    "duration": 59,
    "start_time": "2022-05-16T06:23:54.792Z"
   },
   {
    "duration": 36,
    "start_time": "2022-05-16T06:23:54.853Z"
   },
   {
    "duration": 193,
    "start_time": "2022-05-16T06:23:54.891Z"
   },
   {
    "duration": 18,
    "start_time": "2022-05-16T06:23:55.086Z"
   },
   {
    "duration": 17,
    "start_time": "2022-05-16T06:23:55.124Z"
   },
   {
    "duration": 32,
    "start_time": "2022-05-16T06:23:55.144Z"
   },
   {
    "duration": 6,
    "start_time": "2022-05-16T06:23:55.178Z"
   },
   {
    "duration": 51,
    "start_time": "2022-05-16T06:23:55.186Z"
   },
   {
    "duration": 17,
    "start_time": "2022-05-16T06:23:55.240Z"
   },
   {
    "duration": 27,
    "start_time": "2022-05-16T06:23:55.259Z"
   },
   {
    "duration": 40,
    "start_time": "2022-05-16T06:23:55.289Z"
   },
   {
    "duration": 5,
    "start_time": "2022-05-16T06:23:55.331Z"
   },
   {
    "duration": 401,
    "start_time": "2022-05-16T06:23:55.339Z"
   },
   {
    "duration": 5,
    "start_time": "2022-05-16T06:23:55.742Z"
   },
   {
    "duration": 425,
    "start_time": "2022-05-16T06:23:55.749Z"
   },
   {
    "duration": 4,
    "start_time": "2022-05-16T06:23:56.176Z"
   },
   {
    "duration": 536,
    "start_time": "2022-05-16T06:23:56.187Z"
   },
   {
    "duration": 254,
    "start_time": "2022-05-16T06:23:56.733Z"
   },
   {
    "duration": 203,
    "start_time": "2022-05-16T06:23:56.989Z"
   },
   {
    "duration": 12,
    "start_time": "2022-05-16T06:23:57.194Z"
   },
   {
    "duration": 181,
    "start_time": "2022-05-16T06:23:57.225Z"
   },
   {
    "duration": 20,
    "start_time": "2022-05-16T06:23:57.409Z"
   },
   {
    "duration": 5,
    "start_time": "2022-05-16T06:23:57.432Z"
   },
   {
    "duration": 188,
    "start_time": "2022-05-16T06:23:57.439Z"
   },
   {
    "duration": 3,
    "start_time": "2022-05-16T06:23:57.630Z"
   },
   {
    "duration": 200,
    "start_time": "2022-05-16T06:23:57.637Z"
   },
   {
    "duration": 4,
    "start_time": "2022-05-16T06:23:57.839Z"
   },
   {
    "duration": 210,
    "start_time": "2022-05-16T06:23:57.845Z"
   },
   {
    "duration": 4,
    "start_time": "2022-05-16T06:23:58.057Z"
   },
   {
    "duration": 207,
    "start_time": "2022-05-16T06:23:58.063Z"
   },
   {
    "duration": 11,
    "start_time": "2022-05-16T06:23:58.273Z"
   },
   {
    "duration": 12,
    "start_time": "2022-05-16T06:23:58.286Z"
   },
   {
    "duration": 13,
    "start_time": "2022-05-16T06:23:58.325Z"
   },
   {
    "duration": 9,
    "start_time": "2022-05-16T06:23:58.340Z"
   },
   {
    "duration": 13,
    "start_time": "2022-05-16T06:23:58.351Z"
   },
   {
    "duration": 8,
    "start_time": "2022-05-16T06:23:58.367Z"
   },
   {
    "duration": 13,
    "start_time": "2022-05-16T06:23:58.377Z"
   },
   {
    "duration": 8,
    "start_time": "2022-05-16T06:23:58.392Z"
   },
   {
    "duration": 1027,
    "start_time": "2022-05-16T06:23:58.403Z"
   },
   {
    "duration": 9,
    "start_time": "2022-05-16T06:23:59.433Z"
   },
   {
    "duration": 18,
    "start_time": "2022-05-16T06:23:59.445Z"
   },
   {
    "duration": 72,
    "start_time": "2022-05-16T06:23:59.465Z"
   },
   {
    "duration": 8,
    "start_time": "2022-05-16T06:23:59.539Z"
   },
   {
    "duration": 6,
    "start_time": "2022-05-16T06:23:59.550Z"
   },
   {
    "duration": 6,
    "start_time": "2022-05-16T06:23:59.559Z"
   },
   {
    "duration": 12456,
    "start_time": "2022-05-16T06:23:59.568Z"
   },
   {
    "duration": 9,
    "start_time": "2022-05-16T06:24:12.027Z"
   },
   {
    "duration": 16,
    "start_time": "2022-05-16T06:24:12.039Z"
   },
   {
    "duration": 15,
    "start_time": "2022-05-16T06:24:12.057Z"
   },
   {
    "duration": 27,
    "start_time": "2022-05-16T06:24:12.074Z"
   },
   {
    "duration": 29,
    "start_time": "2022-05-16T06:24:12.103Z"
   },
   {
    "duration": 41,
    "start_time": "2022-05-16T06:24:12.135Z"
   },
   {
    "duration": 8,
    "start_time": "2022-05-16T06:24:12.178Z"
   },
   {
    "duration": 5,
    "start_time": "2022-05-16T06:24:12.189Z"
   },
   {
    "duration": 30,
    "start_time": "2022-05-16T06:24:12.196Z"
   },
   {
    "duration": 4,
    "start_time": "2022-05-16T06:24:12.236Z"
   },
   {
    "duration": 13,
    "start_time": "2022-05-16T06:24:12.242Z"
   },
   {
    "duration": 14,
    "start_time": "2022-05-16T06:24:12.257Z"
   },
   {
    "duration": 10,
    "start_time": "2022-05-16T06:24:12.273Z"
   },
   {
    "duration": 6,
    "start_time": "2022-05-16T06:24:12.285Z"
   },
   {
    "duration": 12,
    "start_time": "2022-05-16T06:24:12.293Z"
   },
   {
    "duration": 22,
    "start_time": "2022-05-16T06:24:12.307Z"
   },
   {
    "duration": 25,
    "start_time": "2022-05-16T06:24:12.333Z"
   },
   {
    "duration": 6,
    "start_time": "2022-05-16T06:24:12.361Z"
   },
   {
    "duration": 1228,
    "start_time": "2022-05-16T06:24:12.370Z"
   },
   {
    "duration": 14,
    "start_time": "2022-05-16T06:24:13.600Z"
   },
   {
    "duration": 10,
    "start_time": "2022-05-16T06:24:13.632Z"
   },
   {
    "duration": 7,
    "start_time": "2022-05-16T06:24:13.644Z"
   },
   {
    "duration": 10,
    "start_time": "2022-05-16T06:24:13.654Z"
   },
   {
    "duration": 7,
    "start_time": "2022-05-16T06:24:13.666Z"
   },
   {
    "duration": 7,
    "start_time": "2022-05-16T06:24:13.681Z"
   },
   {
    "duration": 5723,
    "start_time": "2022-05-16T06:24:13.690Z"
   },
   {
    "duration": 88,
    "start_time": "2022-05-16T06:24:19.416Z"
   },
   {
    "duration": 4,
    "start_time": "2022-05-16T06:24:19.506Z"
   },
   {
    "duration": 11404,
    "start_time": "2022-05-16T06:24:19.512Z"
   },
   {
    "duration": 10,
    "start_time": "2022-05-16T06:24:30.918Z"
   },
   {
    "duration": 19,
    "start_time": "2022-05-16T06:24:30.931Z"
   },
   {
    "duration": 79306,
    "start_time": "2022-05-16T06:24:30.953Z"
   },
   {
    "duration": 36,
    "start_time": "2022-05-16T06:25:50.261Z"
   },
   {
    "duration": 28,
    "start_time": "2022-05-16T06:25:50.299Z"
   },
   {
    "duration": 34,
    "start_time": "2022-05-16T06:25:50.331Z"
   },
   {
    "duration": 44,
    "start_time": "2022-05-16T06:28:16.487Z"
   },
   {
    "duration": 1130,
    "start_time": "2022-05-16T06:28:59.320Z"
   },
   {
    "duration": 525,
    "start_time": "2022-05-16T06:29:26.625Z"
   },
   {
    "duration": 1111,
    "start_time": "2022-05-16T06:29:33.717Z"
   },
   {
    "duration": 394,
    "start_time": "2022-05-16T06:31:18.375Z"
   },
   {
    "duration": 1039,
    "start_time": "2022-05-16T06:31:35.981Z"
   },
   {
    "duration": 1267,
    "start_time": "2022-05-16T06:32:37.373Z"
   },
   {
    "duration": 990,
    "start_time": "2022-05-16T06:35:49.793Z"
   },
   {
    "duration": 1029,
    "start_time": "2022-05-16T06:36:01.272Z"
   },
   {
    "duration": 341,
    "start_time": "2022-05-16T06:38:03.816Z"
   },
   {
    "duration": 1129,
    "start_time": "2022-05-16T06:38:16.416Z"
   },
   {
    "duration": 2728,
    "start_time": "2022-05-16T06:38:44.104Z"
   },
   {
    "duration": 2908,
    "start_time": "2022-05-16T06:38:55.140Z"
   },
   {
    "duration": 2433,
    "start_time": "2022-05-16T06:39:23.038Z"
   },
   {
    "duration": 2378,
    "start_time": "2022-05-16T06:39:34.562Z"
   },
   {
    "duration": 357,
    "start_time": "2022-05-16T06:45:03.607Z"
   },
   {
    "duration": 2504,
    "start_time": "2022-05-16T06:45:09.521Z"
   },
   {
    "duration": 2504,
    "start_time": "2022-05-16T06:45:18.488Z"
   },
   {
    "duration": 2365,
    "start_time": "2022-05-16T06:45:34.642Z"
   },
   {
    "duration": 2499,
    "start_time": "2022-05-16T06:48:08.271Z"
   },
   {
    "duration": 2212,
    "start_time": "2022-05-16T06:50:00.166Z"
   },
   {
    "duration": 2778,
    "start_time": "2022-05-16T06:50:14.936Z"
   },
   {
    "duration": 181,
    "start_time": "2022-05-16T06:54:21.099Z"
   },
   {
    "duration": 2349,
    "start_time": "2022-05-16T06:54:33.994Z"
   },
   {
    "duration": 2391,
    "start_time": "2022-05-16T06:54:46.545Z"
   },
   {
    "duration": 13,
    "start_time": "2022-05-16T06:57:47.237Z"
   },
   {
    "duration": 13,
    "start_time": "2022-05-16T06:58:00.930Z"
   },
   {
    "duration": 2564,
    "start_time": "2022-05-16T06:58:12.828Z"
   },
   {
    "duration": 2956,
    "start_time": "2022-05-16T06:58:26.493Z"
   },
   {
    "duration": 1706,
    "start_time": "2022-05-16T06:58:57.885Z"
   },
   {
    "duration": 1242,
    "start_time": "2022-05-16T06:59:28.588Z"
   },
   {
    "duration": 1630,
    "start_time": "2022-05-16T06:59:49.137Z"
   },
   {
    "duration": 1219,
    "start_time": "2022-05-16T07:05:38.543Z"
   },
   {
    "duration": 1333,
    "start_time": "2022-05-16T07:05:50.844Z"
   },
   {
    "duration": 1632,
    "start_time": "2022-05-16T07:06:09.929Z"
   },
   {
    "duration": 212,
    "start_time": "2022-05-16T07:19:44.356Z"
   },
   {
    "duration": 298,
    "start_time": "2022-05-16T07:24:35.370Z"
   },
   {
    "duration": 824,
    "start_time": "2022-05-16T07:24:51.920Z"
   },
   {
    "duration": 804,
    "start_time": "2022-05-16T07:25:27.238Z"
   },
   {
    "duration": 1024,
    "start_time": "2022-05-16T07:26:07.082Z"
   },
   {
    "duration": 726,
    "start_time": "2022-05-16T07:26:25.645Z"
   },
   {
    "duration": 841,
    "start_time": "2022-05-16T07:28:25.202Z"
   },
   {
    "duration": 644,
    "start_time": "2022-05-16T07:29:37.496Z"
   },
   {
    "duration": 657,
    "start_time": "2022-05-16T07:30:32.716Z"
   },
   {
    "duration": 147,
    "start_time": "2022-05-16T07:38:33.558Z"
   },
   {
    "duration": 1673,
    "start_time": "2022-05-16T10:50:52.583Z"
   },
   {
    "duration": 356,
    "start_time": "2022-05-16T10:50:54.259Z"
   },
   {
    "duration": 6,
    "start_time": "2022-05-16T10:50:54.617Z"
   },
   {
    "duration": 27,
    "start_time": "2022-05-16T10:50:54.625Z"
   },
   {
    "duration": 96,
    "start_time": "2022-05-16T10:50:54.663Z"
   },
   {
    "duration": 18,
    "start_time": "2022-05-16T10:50:54.761Z"
   },
   {
    "duration": 316,
    "start_time": "2022-05-16T10:50:54.781Z"
   },
   {
    "duration": 6,
    "start_time": "2022-05-16T10:50:55.099Z"
   },
   {
    "duration": 9,
    "start_time": "2022-05-16T10:50:55.106Z"
   },
   {
    "duration": 5,
    "start_time": "2022-05-16T10:50:55.116Z"
   },
   {
    "duration": 9,
    "start_time": "2022-05-16T10:50:55.123Z"
   },
   {
    "duration": 29,
    "start_time": "2022-05-16T10:50:55.134Z"
   },
   {
    "duration": 20,
    "start_time": "2022-05-16T10:50:55.164Z"
   },
   {
    "duration": 104,
    "start_time": "2022-05-16T10:50:55.187Z"
   },
   {
    "duration": 10,
    "start_time": "2022-05-16T10:50:55.293Z"
   },
   {
    "duration": 10,
    "start_time": "2022-05-16T10:50:55.305Z"
   },
   {
    "duration": 15,
    "start_time": "2022-05-16T10:50:55.316Z"
   },
   {
    "duration": 31,
    "start_time": "2022-05-16T10:50:55.333Z"
   },
   {
    "duration": 13,
    "start_time": "2022-05-16T10:50:55.366Z"
   },
   {
    "duration": 13,
    "start_time": "2022-05-16T10:50:55.381Z"
   },
   {
    "duration": 19,
    "start_time": "2022-05-16T10:50:55.395Z"
   },
   {
    "duration": 4,
    "start_time": "2022-05-16T10:50:55.415Z"
   },
   {
    "duration": 4,
    "start_time": "2022-05-16T10:50:55.421Z"
   },
   {
    "duration": 227,
    "start_time": "2022-05-16T10:50:55.426Z"
   },
   {
    "duration": 8,
    "start_time": "2022-05-16T10:50:55.654Z"
   },
   {
    "duration": 214,
    "start_time": "2022-05-16T10:50:55.663Z"
   },
   {
    "duration": 3,
    "start_time": "2022-05-16T10:50:55.879Z"
   },
   {
    "duration": 287,
    "start_time": "2022-05-16T10:50:55.883Z"
   },
   {
    "duration": 144,
    "start_time": "2022-05-16T10:50:56.172Z"
   },
   {
    "duration": 113,
    "start_time": "2022-05-16T10:50:56.317Z"
   },
   {
    "duration": 7,
    "start_time": "2022-05-16T10:50:56.432Z"
   },
   {
    "duration": 106,
    "start_time": "2022-05-16T10:50:56.440Z"
   },
   {
    "duration": 17,
    "start_time": "2022-05-16T10:50:56.547Z"
   },
   {
    "duration": 640,
    "start_time": "2022-05-16T10:50:56.566Z"
   },
   {
    "duration": 2,
    "start_time": "2022-05-16T10:50:57.208Z"
   },
   {
    "duration": 176,
    "start_time": "2022-05-16T10:50:57.212Z"
   },
   {
    "duration": 2,
    "start_time": "2022-05-16T10:50:57.390Z"
   },
   {
    "duration": 109,
    "start_time": "2022-05-16T10:50:57.394Z"
   },
   {
    "duration": 3,
    "start_time": "2022-05-16T10:50:57.505Z"
   },
   {
    "duration": 112,
    "start_time": "2022-05-16T10:50:57.510Z"
   },
   {
    "duration": 3,
    "start_time": "2022-05-16T10:50:57.627Z"
   },
   {
    "duration": 104,
    "start_time": "2022-05-16T10:50:57.631Z"
   },
   {
    "duration": 7,
    "start_time": "2022-05-16T10:50:57.737Z"
   },
   {
    "duration": 17,
    "start_time": "2022-05-16T10:50:57.746Z"
   },
   {
    "duration": 8,
    "start_time": "2022-05-16T10:50:57.765Z"
   },
   {
    "duration": 340,
    "start_time": "2022-05-16T10:50:57.774Z"
   },
   {
    "duration": 360,
    "start_time": "2022-05-16T10:50:58.116Z"
   },
   {
    "duration": 342,
    "start_time": "2022-05-16T10:50:58.477Z"
   },
   {
    "duration": 5,
    "start_time": "2022-05-16T10:50:58.821Z"
   },
   {
    "duration": 9,
    "start_time": "2022-05-16T10:50:58.827Z"
   },
   {
    "duration": 5,
    "start_time": "2022-05-16T10:50:58.838Z"
   },
   {
    "duration": 18,
    "start_time": "2022-05-16T10:50:58.844Z"
   },
   {
    "duration": 3,
    "start_time": "2022-05-16T10:50:58.864Z"
   },
   {
    "duration": 802,
    "start_time": "2022-05-16T10:50:58.869Z"
   },
   {
    "duration": 4,
    "start_time": "2022-05-16T10:50:59.763Z"
   },
   {
    "duration": 12,
    "start_time": "2022-05-16T10:50:59.768Z"
   },
   {
    "duration": 4,
    "start_time": "2022-05-16T10:50:59.782Z"
   },
   {
    "duration": 6,
    "start_time": "2022-05-16T10:50:59.787Z"
   },
   {
    "duration": 5,
    "start_time": "2022-05-16T10:50:59.795Z"
   },
   {
    "duration": 5,
    "start_time": "2022-05-16T10:50:59.801Z"
   },
   {
    "duration": 8463,
    "start_time": "2022-05-16T10:50:59.807Z"
   },
   {
    "duration": 4,
    "start_time": "2022-05-16T10:51:08.272Z"
   },
   {
    "duration": 12,
    "start_time": "2022-05-16T10:51:08.277Z"
   },
   {
    "duration": 9,
    "start_time": "2022-05-16T10:51:08.291Z"
   },
   {
    "duration": 5,
    "start_time": "2022-05-16T10:51:08.302Z"
   },
   {
    "duration": 6,
    "start_time": "2022-05-16T10:51:08.308Z"
   },
   {
    "duration": 47,
    "start_time": "2022-05-16T10:51:08.315Z"
   },
   {
    "duration": 5,
    "start_time": "2022-05-16T10:51:08.363Z"
   },
   {
    "duration": 5,
    "start_time": "2022-05-16T10:51:08.370Z"
   },
   {
    "duration": 8,
    "start_time": "2022-05-16T10:51:08.376Z"
   },
   {
    "duration": 3,
    "start_time": "2022-05-16T10:51:08.386Z"
   },
   {
    "duration": 7,
    "start_time": "2022-05-16T10:51:08.390Z"
   },
   {
    "duration": 5,
    "start_time": "2022-05-16T10:51:08.399Z"
   },
   {
    "duration": 5,
    "start_time": "2022-05-16T10:51:08.405Z"
   },
   {
    "duration": 5,
    "start_time": "2022-05-16T10:51:08.411Z"
   },
   {
    "duration": 4,
    "start_time": "2022-05-16T10:51:08.418Z"
   },
   {
    "duration": 6,
    "start_time": "2022-05-16T10:51:08.424Z"
   },
   {
    "duration": 9,
    "start_time": "2022-05-16T10:51:08.462Z"
   },
   {
    "duration": 5,
    "start_time": "2022-05-16T10:51:08.473Z"
   },
   {
    "duration": 827,
    "start_time": "2022-05-16T10:51:08.480Z"
   },
   {
    "duration": 11,
    "start_time": "2022-05-16T10:51:09.309Z"
   },
   {
    "duration": 5,
    "start_time": "2022-05-16T10:51:09.322Z"
   },
   {
    "duration": 6,
    "start_time": "2022-05-16T10:51:09.329Z"
   },
   {
    "duration": 26,
    "start_time": "2022-05-16T10:51:09.337Z"
   },
   {
    "duration": 6,
    "start_time": "2022-05-16T10:51:09.365Z"
   },
   {
    "duration": 8,
    "start_time": "2022-05-16T10:51:09.373Z"
   },
   {
    "duration": 2363,
    "start_time": "2022-05-16T10:51:09.382Z"
   },
   {
    "duration": 22,
    "start_time": "2022-05-16T10:51:11.747Z"
   },
   {
    "duration": 2,
    "start_time": "2022-05-16T10:51:11.771Z"
   },
   {
    "duration": 8181,
    "start_time": "2022-05-16T10:51:11.775Z"
   },
   {
    "duration": 4,
    "start_time": "2022-05-16T10:51:19.957Z"
   },
   {
    "duration": 5,
    "start_time": "2022-05-16T10:51:19.963Z"
   },
   {
    "duration": 51391,
    "start_time": "2022-05-16T10:51:19.969Z"
   },
   {
    "duration": 24,
    "start_time": "2022-05-16T10:52:11.362Z"
   },
   {
    "duration": 6,
    "start_time": "2022-05-16T10:52:11.387Z"
   },
   {
    "duration": 10,
    "start_time": "2022-05-16T10:52:11.394Z"
   },
   {
    "duration": 5,
    "start_time": "2022-05-16T10:54:09.948Z"
   },
   {
    "duration": 24,
    "start_time": "2022-05-16T10:54:28.426Z"
   },
   {
    "duration": 104,
    "start_time": "2022-05-16T10:55:43.729Z"
   },
   {
    "duration": 2,
    "start_time": "2022-05-16T10:56:27.816Z"
   },
   {
    "duration": 17,
    "start_time": "2022-05-16T10:56:28.754Z"
   },
   {
    "duration": 10,
    "start_time": "2022-05-16T10:57:30.546Z"
   },
   {
    "duration": 4,
    "start_time": "2022-05-16T10:57:50.962Z"
   },
   {
    "duration": 4,
    "start_time": "2022-05-16T10:58:08.794Z"
   },
   {
    "duration": 3,
    "start_time": "2022-05-16T10:59:11.886Z"
   },
   {
    "duration": 16443,
    "start_time": "2022-05-16T11:00:06.795Z"
   },
   {
    "duration": 13,
    "start_time": "2022-05-16T11:01:50.010Z"
   },
   {
    "duration": 9,
    "start_time": "2022-05-16T11:02:20.919Z"
   },
   {
    "duration": 5,
    "start_time": "2022-05-16T11:02:30.796Z"
   },
   {
    "duration": 3,
    "start_time": "2022-05-16T11:03:19.251Z"
   },
   {
    "duration": 36038,
    "start_time": "2022-05-16T11:03:20.665Z"
   },
   {
    "duration": 17,
    "start_time": "2022-05-16T11:05:24.403Z"
   },
   {
    "duration": 5,
    "start_time": "2022-05-16T11:05:25.628Z"
   },
   {
    "duration": 147,
    "start_time": "2022-05-16T11:06:02.549Z"
   },
   {
    "duration": 8,
    "start_time": "2022-05-16T11:08:05.623Z"
   },
   {
    "duration": 33992,
    "start_time": "2022-05-16T11:08:27.151Z"
   },
   {
    "duration": 32,
    "start_time": "2022-05-16T11:09:49.470Z"
   },
   {
    "duration": 5,
    "start_time": "2022-05-16T11:10:33.000Z"
   },
   {
    "duration": 2348,
    "start_time": "2022-05-16T11:15:18.318Z"
   },
   {
    "duration": 15,
    "start_time": "2022-05-16T11:16:03.063Z"
   },
   {
    "duration": 10,
    "start_time": "2022-05-16T11:16:15.077Z"
   },
   {
    "duration": 8,
    "start_time": "2022-05-16T11:16:30.965Z"
   },
   {
    "duration": 8,
    "start_time": "2022-05-16T11:16:44.008Z"
   },
   {
    "duration": 5,
    "start_time": "2022-05-16T11:16:54.152Z"
   },
   {
    "duration": 2232,
    "start_time": "2022-05-16T11:17:46.400Z"
   },
   {
    "duration": 10,
    "start_time": "2022-05-16T11:17:50.127Z"
   },
   {
    "duration": 5,
    "start_time": "2022-05-16T11:17:50.920Z"
   },
   {
    "duration": 6,
    "start_time": "2022-05-16T11:22:37.188Z"
   },
   {
    "duration": 6,
    "start_time": "2022-05-16T11:23:20.380Z"
   },
   {
    "duration": 139,
    "start_time": "2022-05-16T11:25:45.313Z"
   },
   {
    "duration": 1507,
    "start_time": "2022-05-16T14:30:32.230Z"
   },
   {
    "duration": 328,
    "start_time": "2022-05-16T14:30:33.739Z"
   },
   {
    "duration": 6,
    "start_time": "2022-05-16T14:30:34.069Z"
   },
   {
    "duration": 19,
    "start_time": "2022-05-16T14:30:34.077Z"
   },
   {
    "duration": 67,
    "start_time": "2022-05-16T14:30:34.098Z"
   },
   {
    "duration": 12,
    "start_time": "2022-05-16T14:30:34.166Z"
   },
   {
    "duration": 720,
    "start_time": "2022-05-16T14:30:34.179Z"
   },
   {
    "duration": 6,
    "start_time": "2022-05-16T14:30:34.900Z"
   },
   {
    "duration": 8,
    "start_time": "2022-05-16T14:30:34.907Z"
   },
   {
    "duration": 5,
    "start_time": "2022-05-16T14:30:34.917Z"
   },
   {
    "duration": 7,
    "start_time": "2022-05-16T14:30:34.924Z"
   },
   {
    "duration": 12,
    "start_time": "2022-05-16T14:30:34.932Z"
   },
   {
    "duration": 22,
    "start_time": "2022-05-16T14:30:34.946Z"
   },
   {
    "duration": 126,
    "start_time": "2022-05-16T14:30:34.970Z"
   },
   {
    "duration": 18,
    "start_time": "2022-05-16T14:30:35.097Z"
   },
   {
    "duration": 10,
    "start_time": "2022-05-16T14:30:35.116Z"
   },
   {
    "duration": 15,
    "start_time": "2022-05-16T14:30:35.127Z"
   },
   {
    "duration": 5,
    "start_time": "2022-05-16T14:30:35.143Z"
   },
   {
    "duration": 12,
    "start_time": "2022-05-16T14:30:35.149Z"
   },
   {
    "duration": 51,
    "start_time": "2022-05-16T14:30:35.162Z"
   },
   {
    "duration": 17,
    "start_time": "2022-05-16T14:30:35.214Z"
   },
   {
    "duration": 4,
    "start_time": "2022-05-16T14:30:35.233Z"
   },
   {
    "duration": 7,
    "start_time": "2022-05-16T14:30:35.239Z"
   },
   {
    "duration": 242,
    "start_time": "2022-05-16T14:30:35.248Z"
   },
   {
    "duration": 3,
    "start_time": "2022-05-16T14:30:35.492Z"
   },
   {
    "duration": 248,
    "start_time": "2022-05-16T14:30:35.496Z"
   },
   {
    "duration": 3,
    "start_time": "2022-05-16T14:30:35.746Z"
   },
   {
    "duration": 320,
    "start_time": "2022-05-16T14:30:35.753Z"
   },
   {
    "duration": 154,
    "start_time": "2022-05-16T14:30:36.074Z"
   },
   {
    "duration": 120,
    "start_time": "2022-05-16T14:30:36.230Z"
   },
   {
    "duration": 9,
    "start_time": "2022-05-16T14:30:36.351Z"
   },
   {
    "duration": 114,
    "start_time": "2022-05-16T14:30:36.362Z"
   },
   {
    "duration": 8,
    "start_time": "2022-05-16T14:30:36.478Z"
   },
   {
    "duration": 843,
    "start_time": "2022-05-16T14:30:36.488Z"
   },
   {
    "duration": 2,
    "start_time": "2022-05-16T14:30:37.333Z"
   },
   {
    "duration": 108,
    "start_time": "2022-05-16T14:30:37.337Z"
   },
   {
    "duration": 3,
    "start_time": "2022-05-16T14:30:37.447Z"
   },
   {
    "duration": 112,
    "start_time": "2022-05-16T14:30:37.452Z"
   },
   {
    "duration": 3,
    "start_time": "2022-05-16T14:30:37.566Z"
   },
   {
    "duration": 121,
    "start_time": "2022-05-16T14:30:37.570Z"
   },
   {
    "duration": 3,
    "start_time": "2022-05-16T14:30:37.693Z"
   },
   {
    "duration": 117,
    "start_time": "2022-05-16T14:30:37.697Z"
   },
   {
    "duration": 7,
    "start_time": "2022-05-16T14:30:37.815Z"
   },
   {
    "duration": 9,
    "start_time": "2022-05-16T14:30:37.823Z"
   },
   {
    "duration": 7,
    "start_time": "2022-05-16T14:30:37.833Z"
   },
   {
    "duration": 406,
    "start_time": "2022-05-16T14:30:37.841Z"
   },
   {
    "duration": 403,
    "start_time": "2022-05-16T14:30:38.249Z"
   },
   {
    "duration": 483,
    "start_time": "2022-05-16T14:30:38.654Z"
   },
   {
    "duration": 4,
    "start_time": "2022-05-16T14:30:39.138Z"
   },
   {
    "duration": 7,
    "start_time": "2022-05-16T14:30:39.143Z"
   },
   {
    "duration": 5,
    "start_time": "2022-05-16T14:30:39.151Z"
   },
   {
    "duration": 4,
    "start_time": "2022-05-16T14:30:39.157Z"
   },
   {
    "duration": 4,
    "start_time": "2022-05-16T14:30:39.163Z"
   },
   {
    "duration": 941,
    "start_time": "2022-05-16T14:30:39.169Z"
   },
   {
    "duration": 94,
    "start_time": "2022-05-16T14:30:40.113Z"
   },
   {
    "duration": 5,
    "start_time": "2022-05-16T14:30:40.209Z"
   },
   {
    "duration": 4,
    "start_time": "2022-05-16T14:30:40.216Z"
   },
   {
    "duration": 7,
    "start_time": "2022-05-16T14:30:40.221Z"
   },
   {
    "duration": 5,
    "start_time": "2022-05-16T14:30:40.229Z"
   },
   {
    "duration": 4,
    "start_time": "2022-05-16T14:30:40.235Z"
   },
   {
    "duration": 8566,
    "start_time": "2022-05-16T14:30:40.241Z"
   },
   {
    "duration": 4,
    "start_time": "2022-05-16T14:30:48.809Z"
   },
   {
    "duration": 12,
    "start_time": "2022-05-16T14:30:48.814Z"
   },
   {
    "duration": 9,
    "start_time": "2022-05-16T14:30:48.827Z"
   },
   {
    "duration": 5,
    "start_time": "2022-05-16T14:30:48.837Z"
   },
   {
    "duration": 5,
    "start_time": "2022-05-16T14:30:48.843Z"
   },
   {
    "duration": 26,
    "start_time": "2022-05-16T14:30:48.849Z"
   },
   {
    "duration": 6,
    "start_time": "2022-05-16T14:30:48.876Z"
   },
   {
    "duration": 2,
    "start_time": "2022-05-16T14:30:48.908Z"
   },
   {
    "duration": 8,
    "start_time": "2022-05-16T14:30:48.912Z"
   },
   {
    "duration": 4,
    "start_time": "2022-05-16T14:30:48.921Z"
   },
   {
    "duration": 7,
    "start_time": "2022-05-16T14:30:48.926Z"
   },
   {
    "duration": 4,
    "start_time": "2022-05-16T14:30:48.935Z"
   },
   {
    "duration": 6,
    "start_time": "2022-05-16T14:30:48.940Z"
   },
   {
    "duration": 4,
    "start_time": "2022-05-16T14:30:48.948Z"
   },
   {
    "duration": 5,
    "start_time": "2022-05-16T14:30:48.954Z"
   },
   {
    "duration": 6,
    "start_time": "2022-05-16T14:30:48.960Z"
   },
   {
    "duration": 45,
    "start_time": "2022-05-16T14:30:48.968Z"
   },
   {
    "duration": 6,
    "start_time": "2022-05-16T14:30:49.014Z"
   },
   {
    "duration": 871,
    "start_time": "2022-05-16T14:30:49.022Z"
   },
   {
    "duration": 18,
    "start_time": "2022-05-16T14:30:49.895Z"
   },
   {
    "duration": 6,
    "start_time": "2022-05-16T14:30:49.920Z"
   },
   {
    "duration": 3,
    "start_time": "2022-05-16T14:30:49.928Z"
   },
   {
    "duration": 6,
    "start_time": "2022-05-16T14:30:49.933Z"
   },
   {
    "duration": 4,
    "start_time": "2022-05-16T14:30:49.941Z"
   },
   {
    "duration": 8,
    "start_time": "2022-05-16T14:30:49.946Z"
   },
   {
    "duration": 2355,
    "start_time": "2022-05-16T14:30:49.955Z"
   },
   {
    "duration": 22,
    "start_time": "2022-05-16T14:30:52.312Z"
   },
   {
    "duration": 3,
    "start_time": "2022-05-16T14:30:52.336Z"
   },
   {
    "duration": 6343,
    "start_time": "2022-05-16T14:30:52.340Z"
   },
   {
    "duration": 5,
    "start_time": "2022-05-16T14:30:58.684Z"
   },
   {
    "duration": 5,
    "start_time": "2022-05-16T14:30:58.690Z"
   },
   {
    "duration": 49136,
    "start_time": "2022-05-16T14:30:58.697Z"
   },
   {
    "duration": 26,
    "start_time": "2022-05-16T14:31:47.834Z"
   },
   {
    "duration": 6,
    "start_time": "2022-05-16T14:31:47.862Z"
   },
   {
    "duration": 8,
    "start_time": "2022-05-16T14:31:47.870Z"
   },
   {
    "duration": 27,
    "start_time": "2022-05-16T14:31:47.880Z"
   },
   {
    "duration": 4,
    "start_time": "2022-05-16T14:31:47.909Z"
   },
   {
    "duration": 4,
    "start_time": "2022-05-16T14:31:47.914Z"
   },
   {
    "duration": 21,
    "start_time": "2022-05-16T14:31:47.920Z"
   },
   {
    "duration": 10,
    "start_time": "2022-05-16T14:31:47.943Z"
   },
   {
    "duration": 5,
    "start_time": "2022-05-16T14:31:47.954Z"
   },
   {
    "duration": 4,
    "start_time": "2022-05-16T14:31:47.960Z"
   },
   {
    "duration": 34858,
    "start_time": "2022-05-16T14:31:47.966Z"
   },
   {
    "duration": 15,
    "start_time": "2022-05-16T14:32:22.826Z"
   },
   {
    "duration": 5,
    "start_time": "2022-05-16T14:32:22.843Z"
   },
   {
    "duration": 33718,
    "start_time": "2022-05-16T14:32:22.849Z"
   },
   {
    "duration": 17,
    "start_time": "2022-05-16T14:32:56.569Z"
   },
   {
    "duration": 5,
    "start_time": "2022-05-16T14:32:56.588Z"
   },
   {
    "duration": 65,
    "start_time": "2022-05-16T14:32:56.594Z"
   },
   {
    "duration": 0,
    "start_time": "2022-05-16T14:32:56.663Z"
   },
   {
    "duration": 0,
    "start_time": "2022-05-16T14:32:56.664Z"
   },
   {
    "duration": 0,
    "start_time": "2022-05-16T14:32:56.665Z"
   },
   {
    "duration": 0,
    "start_time": "2022-05-16T14:32:56.666Z"
   },
   {
    "duration": 0,
    "start_time": "2022-05-16T14:32:56.667Z"
   },
   {
    "duration": 4,
    "start_time": "2022-05-16T14:34:21.434Z"
   },
   {
    "duration": 5,
    "start_time": "2022-05-16T14:34:51.461Z"
   },
   {
    "duration": 125,
    "start_time": "2022-05-16T14:36:27.239Z"
   },
   {
    "duration": 5,
    "start_time": "2022-05-16T14:37:27.523Z"
   },
   {
    "duration": 5,
    "start_time": "2022-05-16T14:37:48.549Z"
   },
   {
    "duration": 6,
    "start_time": "2022-05-16T14:38:04.143Z"
   },
   {
    "duration": 5,
    "start_time": "2022-05-16T14:38:20.601Z"
   },
   {
    "duration": 191,
    "start_time": "2022-05-16T14:38:51.082Z"
   },
   {
    "duration": 5,
    "start_time": "2022-05-16T15:46:41.544Z"
   },
   {
    "duration": 145,
    "start_time": "2022-05-16T15:47:06.490Z"
   },
   {
    "duration": 65,
    "start_time": "2022-05-16T15:47:47.244Z"
   },
   {
    "duration": 131,
    "start_time": "2022-05-16T15:48:14.607Z"
   },
   {
    "duration": 120,
    "start_time": "2022-05-16T15:48:44.424Z"
   },
   {
    "duration": 128,
    "start_time": "2022-05-16T15:50:37.660Z"
   },
   {
    "duration": 133,
    "start_time": "2022-05-16T15:52:35.277Z"
   },
   {
    "duration": 107,
    "start_time": "2022-05-16T15:56:43.668Z"
   },
   {
    "duration": 10,
    "start_time": "2022-05-16T15:58:33.356Z"
   },
   {
    "duration": 18,
    "start_time": "2022-05-16T15:59:43.452Z"
   },
   {
    "duration": 7,
    "start_time": "2022-05-16T16:04:48.209Z"
   },
   {
    "duration": 4,
    "start_time": "2022-05-16T16:04:59.766Z"
   },
   {
    "duration": 4,
    "start_time": "2022-05-16T16:05:30.829Z"
   },
   {
    "duration": 41,
    "start_time": "2022-05-16T16:06:20.823Z"
   },
   {
    "duration": 13,
    "start_time": "2022-05-16T16:09:52.321Z"
   },
   {
    "duration": 10,
    "start_time": "2022-05-16T16:10:07.511Z"
   },
   {
    "duration": 36,
    "start_time": "2022-05-16T16:10:55.136Z"
   },
   {
    "duration": 13,
    "start_time": "2022-05-16T16:11:51.908Z"
   },
   {
    "duration": 15,
    "start_time": "2022-05-16T16:12:30.398Z"
   },
   {
    "duration": 9,
    "start_time": "2022-05-16T16:13:12.197Z"
   },
   {
    "duration": 7,
    "start_time": "2022-05-16T16:13:39.672Z"
   },
   {
    "duration": 4,
    "start_time": "2022-05-16T16:13:57.054Z"
   },
   {
    "duration": 12,
    "start_time": "2022-05-16T16:17:57.486Z"
   },
   {
    "duration": 3,
    "start_time": "2022-05-16T16:18:29.063Z"
   },
   {
    "duration": 413,
    "start_time": "2022-05-16T16:18:29.595Z"
   },
   {
    "duration": 5,
    "start_time": "2022-05-16T16:18:30.975Z"
   },
   {
    "duration": 26,
    "start_time": "2022-05-16T16:18:31.828Z"
   },
   {
    "duration": 107,
    "start_time": "2022-05-16T16:18:32.418Z"
   },
   {
    "duration": 13,
    "start_time": "2022-05-16T16:18:32.946Z"
   },
   {
    "duration": 1354,
    "start_time": "2022-05-16T16:18:33.596Z"
   },
   {
    "duration": 6,
    "start_time": "2022-05-16T16:18:37.544Z"
   },
   {
    "duration": 5,
    "start_time": "2022-05-16T16:18:40.059Z"
   },
   {
    "duration": 5,
    "start_time": "2022-05-16T16:18:40.528Z"
   },
   {
    "duration": 7,
    "start_time": "2022-05-16T16:18:41.720Z"
   },
   {
    "duration": 15,
    "start_time": "2022-05-16T16:18:44.488Z"
   },
   {
    "duration": 23,
    "start_time": "2022-05-16T16:18:47.046Z"
   },
   {
    "duration": 105,
    "start_time": "2022-05-16T16:18:58.984Z"
   },
   {
    "duration": 12,
    "start_time": "2022-05-16T16:19:00.499Z"
   },
   {
    "duration": 10,
    "start_time": "2022-05-16T16:19:03.985Z"
   },
   {
    "duration": 17,
    "start_time": "2022-05-16T16:19:05.197Z"
   },
   {
    "duration": 5,
    "start_time": "2022-05-16T16:19:05.741Z"
   },
   {
    "duration": 14,
    "start_time": "2022-05-16T16:19:06.210Z"
   },
   {
    "duration": 16,
    "start_time": "2022-05-16T16:19:06.778Z"
   },
   {
    "duration": 19,
    "start_time": "2022-05-16T16:19:07.512Z"
   },
   {
    "duration": 6,
    "start_time": "2022-05-16T16:19:09.531Z"
   },
   {
    "duration": 3,
    "start_time": "2022-05-16T16:19:10.117Z"
   },
   {
    "duration": 228,
    "start_time": "2022-05-16T16:19:10.896Z"
   },
   {
    "duration": 3,
    "start_time": "2022-05-16T16:19:12.997Z"
   },
   {
    "duration": 251,
    "start_time": "2022-05-16T16:19:13.675Z"
   },
   {
    "duration": 3,
    "start_time": "2022-05-16T16:19:14.930Z"
   },
   {
    "duration": 264,
    "start_time": "2022-05-16T16:19:15.564Z"
   },
   {
    "duration": 290,
    "start_time": "2022-05-16T16:19:19.860Z"
   },
   {
    "duration": 116,
    "start_time": "2022-05-16T16:19:20.964Z"
   },
   {
    "duration": 9,
    "start_time": "2022-05-16T16:19:21.850Z"
   },
   {
    "duration": 107,
    "start_time": "2022-05-16T16:19:23.744Z"
   },
   {
    "duration": 10,
    "start_time": "2022-05-16T16:19:24.343Z"
   },
   {
    "duration": 754,
    "start_time": "2022-05-16T16:19:25.060Z"
   },
   {
    "duration": 3,
    "start_time": "2022-05-16T16:19:31.253Z"
   },
   {
    "duration": 102,
    "start_time": "2022-05-16T16:19:31.988Z"
   },
   {
    "duration": 4,
    "start_time": "2022-05-16T16:19:33.095Z"
   },
   {
    "duration": 228,
    "start_time": "2022-05-16T16:19:33.726Z"
   },
   {
    "duration": 2,
    "start_time": "2022-05-16T16:19:35.049Z"
   },
   {
    "duration": 121,
    "start_time": "2022-05-16T16:19:35.792Z"
   },
   {
    "duration": 2,
    "start_time": "2022-05-16T16:19:37.584Z"
   },
   {
    "duration": 102,
    "start_time": "2022-05-16T16:19:38.086Z"
   },
   {
    "duration": 7,
    "start_time": "2022-05-16T16:19:39.763Z"
   },
   {
    "duration": 10,
    "start_time": "2022-05-16T16:19:41.358Z"
   },
   {
    "duration": 9,
    "start_time": "2022-05-16T16:19:42.554Z"
   },
   {
    "duration": 388,
    "start_time": "2022-05-16T16:19:45.146Z"
   },
   {
    "duration": 399,
    "start_time": "2022-05-16T16:19:46.698Z"
   },
   {
    "duration": 478,
    "start_time": "2022-05-16T16:19:47.336Z"
   },
   {
    "duration": 5,
    "start_time": "2022-05-16T16:19:56.201Z"
   },
   {
    "duration": 148,
    "start_time": "2022-05-16T16:19:57.080Z"
   },
   {
    "duration": 126,
    "start_time": "2022-05-16T16:20:00.470Z"
   },
   {
    "duration": 153,
    "start_time": "2022-05-16T16:20:03.501Z"
   },
   {
    "duration": 147,
    "start_time": "2022-05-16T16:20:06.822Z"
   },
   {
    "duration": 9,
    "start_time": "2022-05-16T16:20:09.256Z"
   },
   {
    "duration": 18,
    "start_time": "2022-05-16T16:20:10.382Z"
   },
   {
    "duration": 22,
    "start_time": "2022-05-16T16:20:14.077Z"
   },
   {
    "duration": 9,
    "start_time": "2022-05-16T16:20:15.202Z"
   },
   {
    "duration": 10,
    "start_time": "2022-05-16T16:20:15.234Z"
   },
   {
    "duration": 9,
    "start_time": "2022-05-16T16:20:16.045Z"
   },
   {
    "duration": 5,
    "start_time": "2022-05-16T16:20:16.776Z"
   },
   {
    "duration": 7,
    "start_time": "2022-05-16T16:20:21.197Z"
   },
   {
    "duration": 5,
    "start_time": "2022-05-16T16:21:41.834Z"
   },
   {
    "duration": 6,
    "start_time": "2022-05-16T16:22:15.311Z"
   },
   {
    "duration": 16,
    "start_time": "2022-05-16T16:23:16.981Z"
   },
   {
    "duration": 11,
    "start_time": "2022-05-16T16:24:42.644Z"
   },
   {
    "duration": 12,
    "start_time": "2022-05-16T16:25:10.122Z"
   },
   {
    "duration": 13,
    "start_time": "2022-05-16T16:25:21.876Z"
   },
   {
    "duration": 14,
    "start_time": "2022-05-16T16:25:37.589Z"
   },
   {
    "duration": 12,
    "start_time": "2022-05-16T16:26:04.941Z"
   },
   {
    "duration": 37,
    "start_time": "2022-05-16T16:27:18.107Z"
   },
   {
    "duration": 5,
    "start_time": "2022-05-16T16:28:23.932Z"
   },
   {
    "duration": 101,
    "start_time": "2022-05-16T16:30:22.614Z"
   },
   {
    "duration": 10,
    "start_time": "2022-05-16T16:30:39.632Z"
   },
   {
    "duration": 15,
    "start_time": "2022-05-16T16:30:57.379Z"
   },
   {
    "duration": 6,
    "start_time": "2022-05-16T16:31:08.939Z"
   },
   {
    "duration": 62,
    "start_time": "2022-05-16T16:31:44.125Z"
   },
   {
    "duration": 5,
    "start_time": "2022-05-16T16:32:52.131Z"
   },
   {
    "duration": 46,
    "start_time": "2022-05-16T16:33:16.095Z"
   },
   {
    "duration": 14,
    "start_time": "2022-05-16T16:33:34.172Z"
   },
   {
    "duration": 5,
    "start_time": "2022-05-16T16:33:50.261Z"
   },
   {
    "duration": 8,
    "start_time": "2022-05-16T16:34:00.237Z"
   },
   {
    "duration": 4,
    "start_time": "2022-05-16T16:34:06.652Z"
   },
   {
    "duration": 5,
    "start_time": "2022-05-16T16:34:12.209Z"
   },
   {
    "duration": 2,
    "start_time": "2022-05-16T16:34:21.337Z"
   },
   {
    "duration": 2,
    "start_time": "2022-05-16T16:34:24.206Z"
   },
   {
    "duration": 3,
    "start_time": "2022-05-16T16:34:29.033Z"
   },
   {
    "duration": 880,
    "start_time": "2022-05-16T16:34:32.630Z"
   },
   {
    "duration": 4,
    "start_time": "2022-05-16T16:34:37.630Z"
   },
   {
    "duration": 4,
    "start_time": "2022-05-16T16:34:40.048Z"
   },
   {
    "duration": 2,
    "start_time": "2022-05-16T16:34:44.861Z"
   },
   {
    "duration": 2,
    "start_time": "2022-05-16T16:34:45.576Z"
   },
   {
    "duration": 2,
    "start_time": "2022-05-16T16:34:47.312Z"
   },
   {
    "duration": 2,
    "start_time": "2022-05-16T16:34:47.887Z"
   },
   {
    "duration": 8110,
    "start_time": "2022-05-16T16:34:50.891Z"
   },
   {
    "duration": 10,
    "start_time": "2022-05-16T16:35:03.632Z"
   },
   {
    "duration": 7,
    "start_time": "2022-05-16T16:35:14.500Z"
   },
   {
    "duration": 3,
    "start_time": "2022-05-16T16:35:31.466Z"
   },
   {
    "duration": 4,
    "start_time": "2022-05-16T16:35:32.329Z"
   },
   {
    "duration": 30,
    "start_time": "2022-05-16T16:35:40.609Z"
   },
   {
    "duration": 5,
    "start_time": "2022-05-16T16:35:42.153Z"
   },
   {
    "duration": 3,
    "start_time": "2022-05-16T16:35:52.905Z"
   },
   {
    "duration": 4,
    "start_time": "2022-05-16T16:35:53.780Z"
   },
   {
    "duration": 2,
    "start_time": "2022-05-16T16:35:54.700Z"
   },
   {
    "duration": 6,
    "start_time": "2022-05-16T16:35:55.370Z"
   },
   {
    "duration": 5,
    "start_time": "2022-05-16T16:36:05.324Z"
   },
   {
    "duration": 3,
    "start_time": "2022-05-16T16:36:08.418Z"
   },
   {
    "duration": 3,
    "start_time": "2022-05-16T16:36:10.939Z"
   },
   {
    "duration": 3,
    "start_time": "2022-05-16T16:36:15.519Z"
   },
   {
    "duration": 5,
    "start_time": "2022-05-16T16:36:20.238Z"
   },
   {
    "duration": 7,
    "start_time": "2022-05-16T16:36:21.866Z"
   },
   {
    "duration": 3,
    "start_time": "2022-05-16T16:36:22.863Z"
   },
   {
    "duration": 840,
    "start_time": "2022-05-16T16:36:24.112Z"
   },
   {
    "duration": 17,
    "start_time": "2022-05-16T16:36:27.238Z"
   },
   {
    "duration": 6,
    "start_time": "2022-05-16T16:36:29.916Z"
   },
   {
    "duration": 3,
    "start_time": "2022-05-16T16:36:33.051Z"
   },
   {
    "duration": 5,
    "start_time": "2022-05-16T16:36:33.760Z"
   },
   {
    "duration": 3,
    "start_time": "2022-05-16T16:36:35.706Z"
   },
   {
    "duration": 6,
    "start_time": "2022-05-16T16:36:36.499Z"
   },
   {
    "duration": 2104,
    "start_time": "2022-05-16T16:36:39.298Z"
   },
   {
    "duration": 3,
    "start_time": "2022-05-16T16:36:42.125Z"
   },
   {
    "duration": 3,
    "start_time": "2022-05-16T16:36:43.065Z"
   },
   {
    "duration": 7831,
    "start_time": "2022-05-16T16:36:44.602Z"
   },
   {
    "duration": 4,
    "start_time": "2022-05-16T16:36:52.436Z"
   },
   {
    "duration": 3,
    "start_time": "2022-05-16T16:36:57.292Z"
   },
   {
    "duration": 49197,
    "start_time": "2022-05-16T16:36:58.599Z"
   },
   {
    "duration": 25,
    "start_time": "2022-05-16T16:37:47.798Z"
   },
   {
    "duration": 6,
    "start_time": "2022-05-16T16:37:57.947Z"
   },
   {
    "duration": 7,
    "start_time": "2022-05-16T16:38:06.153Z"
   },
   {
    "duration": 7,
    "start_time": "2022-05-16T16:38:16.079Z"
   },
   {
    "duration": 4,
    "start_time": "2022-05-16T16:38:18.773Z"
   },
   {
    "duration": 3,
    "start_time": "2022-05-16T16:38:20.484Z"
   },
   {
    "duration": 17,
    "start_time": "2022-05-16T16:38:27.465Z"
   },
   {
    "duration": 10,
    "start_time": "2022-05-16T16:38:28.102Z"
   },
   {
    "duration": 3,
    "start_time": "2022-05-16T16:38:28.711Z"
   },
   {
    "duration": 3,
    "start_time": "2022-05-16T16:38:29.480Z"
   },
   {
    "duration": 33069,
    "start_time": "2022-05-16T16:38:30.607Z"
   },
   {
    "duration": 17,
    "start_time": "2022-05-16T16:39:03.678Z"
   },
   {
    "duration": 6,
    "start_time": "2022-05-16T16:39:13.358Z"
   },
   {
    "duration": 34294,
    "start_time": "2022-05-16T16:39:25.164Z"
   },
   {
    "duration": 18,
    "start_time": "2022-05-16T16:39:59.460Z"
   },
   {
    "duration": 6,
    "start_time": "2022-05-16T16:40:02.552Z"
   },
   {
    "duration": 68,
    "start_time": "2022-05-16T16:40:04.844Z"
   },
   {
    "duration": 2467,
    "start_time": "2022-05-16T16:40:10.136Z"
   },
   {
    "duration": 11,
    "start_time": "2022-05-16T16:40:15.211Z"
   },
   {
    "duration": 6,
    "start_time": "2022-05-16T16:40:17.081Z"
   },
   {
    "duration": 7,
    "start_time": "2022-05-16T16:40:26.743Z"
   },
   {
    "duration": 71,
    "start_time": "2022-05-16T16:43:05.948Z"
   }
  ],
  "kernelspec": {
   "display_name": "Python 3 (ipykernel)",
   "language": "python",
   "name": "python3"
  },
  "language_info": {
   "codemirror_mode": {
    "name": "ipython",
    "version": 3
   },
   "file_extension": ".py",
   "mimetype": "text/x-python",
   "name": "python",
   "nbconvert_exporter": "python",
   "pygments_lexer": "ipython3",
   "version": "3.9.7"
  },
  "toc": {
   "base_numbering": 1,
   "nav_menu": {},
   "number_sections": true,
   "sideBar": true,
   "skip_h1_title": true,
   "title_cell": "Table of Contents",
   "title_sidebar": "Contents",
   "toc_cell": true,
   "toc_position": {
    "height": "calc(100% - 180px)",
    "left": "10px",
    "top": "150px",
    "width": "320px"
   },
   "toc_section_display": true,
   "toc_window_display": false
  }
 },
 "nbformat": 4,
 "nbformat_minor": 5
}
